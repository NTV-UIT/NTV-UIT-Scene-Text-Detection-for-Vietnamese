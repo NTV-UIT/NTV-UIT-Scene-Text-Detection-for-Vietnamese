{
 "cells": [
  {
   "cell_type": "markdown",
   "metadata": {},
   "source": [
    "## Install requirements"
   ]
  },
  {
   "cell_type": "code",
   "execution_count": null,
   "metadata": {
    "execution": {
     "iopub.execute_input": "2024-11-29T07:54:58.188452Z",
     "iopub.status.busy": "2024-11-29T07:54:58.188103Z",
     "iopub.status.idle": "2024-11-29T07:56:45.967584Z",
     "shell.execute_reply": "2024-11-29T07:56:45.966308Z",
     "shell.execute_reply.started": "2024-11-29T07:54:58.188422Z"
    },
    "trusted": true
   },
   "outputs": [],
   "source": [
    "!git clone https://github.com/PaddlePaddle/PaddleOCR\n",
    "!pip install paddlepaddle-gpu pyclipper attrdict -qqq\n",
    "%cd PaddleOCR\n",
    "!pip install -e ."
   ]
  },
  {
   "cell_type": "markdown",
   "metadata": {},
   "source": [
    "# Import library"
   ]
  },
  {
   "cell_type": "code",
   "execution_count": null,
   "metadata": {
    "execution": {
     "iopub.execute_input": "2024-11-29T07:56:45.992321Z",
     "iopub.status.busy": "2024-11-29T07:56:45.992074Z",
     "iopub.status.idle": "2024-11-29T07:56:46.474571Z",
     "shell.execute_reply": "2024-11-29T07:56:46.47385Z",
     "shell.execute_reply.started": "2024-11-29T07:56:45.992298Z"
    },
    "trusted": true
   },
   "outputs": [],
   "source": [
    "import os\n",
    "import matplotlib.pyplot as plt\n",
    "from PIL import Image\n",
    "import cv2\n",
    "import yaml"
   ]
  },
  {
   "cell_type": "markdown",
   "metadata": {},
   "source": [
    "# Config"
   ]
  },
  {
   "cell_type": "code",
   "execution_count": null,
   "metadata": {
    "execution": {
     "iopub.execute_input": "2024-11-29T07:56:46.481295Z",
     "iopub.status.busy": "2024-11-29T07:56:46.481018Z",
     "iopub.status.idle": "2024-11-29T07:56:46.492195Z",
     "shell.execute_reply": "2024-11-29T07:56:46.491287Z",
     "shell.execute_reply.started": "2024-11-29T07:56:46.481271Z"
    },
    "trusted": true
   },
   "outputs": [],
   "source": [
    "%cd PaddleOCR"
   ]
  },
  {
   "cell_type": "code",
   "execution_count": null,
   "metadata": {
    "execution": {
     "iopub.execute_input": "2024-11-29T07:56:46.493759Z",
     "iopub.status.busy": "2024-11-29T07:56:46.493425Z",
     "iopub.status.idle": "2024-11-29T07:56:47.507499Z",
     "shell.execute_reply": "2024-11-29T07:56:47.506343Z",
     "shell.execute_reply.started": "2024-11-29T07:56:46.493723Z"
    },
    "trusted": true
   },
   "outputs": [],
   "source": [
    "%ls"
   ]
  },
  {
   "cell_type": "code",
   "execution_count": null,
   "metadata": {
    "execution": {
     "iopub.execute_input": "2024-11-29T07:56:47.510101Z",
     "iopub.status.busy": "2024-11-29T07:56:47.509206Z",
     "iopub.status.idle": "2024-11-29T07:57:40.181564Z",
     "shell.execute_reply": "2024-11-29T07:57:40.180341Z",
     "shell.execute_reply.started": "2024-11-29T07:56:47.510057Z"
    },
    "trusted": true
   },
   "outputs": [],
   "source": [
    "%cp /kaggle/input/cva-trainning/PaddleOCR/train_data -r /kaggle/working/PaddleOCR"
   ]
  },
  {
   "cell_type": "code",
   "execution_count": null,
   "metadata": {
    "execution": {
     "iopub.execute_input": "2024-11-29T07:57:40.189889Z",
     "iopub.status.busy": "2024-11-29T07:57:40.18965Z",
     "iopub.status.idle": "2024-11-29T07:57:41.824027Z",
     "shell.execute_reply": "2024-11-29T07:57:41.823004Z",
     "shell.execute_reply.started": "2024-11-29T07:57:40.189866Z"
    },
    "trusted": true
   },
   "outputs": [],
   "source": [
    "%cp /kaggle/input/cva-trainning/PaddleOCR/pretrain_models -r /kaggle/working/PaddleOCR"
   ]
  },
  {
   "cell_type": "code",
   "execution_count": null,
   "metadata": {
    "execution": {
     "iopub.execute_input": "2024-11-29T08:11:28.258533Z",
     "iopub.status.busy": "2024-11-29T08:11:28.257632Z",
     "iopub.status.idle": "2024-11-29T08:11:28.26767Z",
     "shell.execute_reply": "2024-11-29T08:11:28.26683Z",
     "shell.execute_reply.started": "2024-11-29T08:11:28.258478Z"
    },
    "trusted": true
   },
   "outputs": [],
   "source": [
    "content = \"\"\"\n",
    "Global:\n",
    "  use_gpu: true\n",
    "  epoch_num: 500\n",
    "  log_smooth_window: 20\n",
    "  print_batch_step: 2\n",
    "  save_model_dir: ./output/db_r50_vd_tt/\n",
    "  save_epoch_step: 1\n",
    "  # evaluation is run every 5000 iterations after the 4000th iteration\n",
    "  eval_batch_step: [4000, 5000]\n",
    "  cal_metric_during_train: False\n",
    "  pretrained_model: ./pretrain_models/ResNet18_vd_pretrained.pdparams\n",
    "  checkpoints: \n",
    "  save_inference_dir: ./output/db_r50_vd_tt/\n",
    "  use_visualdl: False\n",
    "  infer_img: ./train_data/total_text/test_images/img1.jpg\n",
    "  save_res_path: ./output/db_r50_vd_tt/predicts_db_tt.txt\n",
    "  distributed: true\n",
    "\n",
    "Architecture:\n",
    "  model_type: det\n",
    "  algorithm: DB\n",
    "  Transform:\n",
    "  Backbone:\n",
    "    name: ResNet\n",
    "    layers: 50\n",
    "  Neck:\n",
    "    name: DBFPN\n",
    "    out_channels: 256\n",
    "  Head:\n",
    "    name: DBHead\n",
    "    k: 50\n",
    "    \n",
    "Loss:\n",
    "  name: DBLoss\n",
    "  balance_loss: True\n",
    "  main_loss_type: DiceLoss\n",
    "  alpha: 5\n",
    "  beta: 10\n",
    "  ohem_ratio: 3\n",
    "\n",
    "  \n",
    "Optimizer:\n",
    "  name: Adam\n",
    "  beta1: 0.9\n",
    "  beta2: 0.999\n",
    "  lr:\n",
    "  #  name: Cosine\n",
    "    learning_rate: 0.001\n",
    "  #  warmup_epoch: 0\n",
    "  regularizer:\n",
    "    name: 'L2'\n",
    "    factor: 0\n",
    "\n",
    "PostProcess:\n",
    "  name: DBPostProcess\n",
    "  thresh: 0.3\n",
    "  box_thresh: 0.5\n",
    "  max_candidates: 1000\n",
    "  unclip_ratio: 1.5\n",
    "  \n",
    "Metric:\n",
    "  name: DetMetric\n",
    "  main_indicator: hmean\n",
    "\n",
    "Train:\n",
    "  dataset:\n",
    "    name: SimpleDataSet\n",
    "    data_dir: ./train_data/total_text/\n",
    "    label_file_list: \n",
    "        - ./train_data/total_text/train_totaltext_label.txt\n",
    "        - ./train_data/total_text/train_icdar2015_label.txt\n",
    "\n",
    "    ratio_list: [1.0, 1.0]\n",
    "    transforms:\n",
    "      - DecodeImage: # load image\n",
    "          img_mode: BGR\n",
    "          channel_first: False\n",
    "      - DetLabelEncode: # Class handling label\n",
    "      - IaaAugment:\n",
    "          augmenter_args:\n",
    "            - { 'type': Fliplr, 'args': { 'p': 0.5 } }\n",
    "            - { 'type': Affine, 'args': { 'rotate': [-10, 10] } }\n",
    "            - { 'type': Resize, 'args': { 'size': [0.5, 3] } }\n",
    "      - EastRandomCropData:\n",
    "          size: [640, 640]\n",
    "          max_tries: 50\n",
    "          keep_ratio: true\n",
    "      - MakeBorderMap:\n",
    "          shrink_ratio: 0.4\n",
    "          thresh_min: 0.3\n",
    "          thresh_max: 0.7\n",
    "      - MakeShrinkMap:\n",
    "          shrink_ratio: 0.4\n",
    "          min_text_size: 8\n",
    "      - NormalizeImage:\n",
    "          scale: 1./255.\n",
    "          mean: [0.485, 0.456, 0.406]\n",
    "          std: [0.229, 0.224, 0.225]\n",
    "          order: 'hwc'\n",
    "      - ToCHWImage:\n",
    "      - KeepKeys:\n",
    "          keep_keys: ['image', 'threshold_map', 'threshold_mask', 'shrink_map', 'shrink_mask'] # the order of the dataloader list\n",
    "\n",
    "  loader:\n",
    "    shuffle: True\n",
    "    drop_last: False\n",
    "    batch_size_per_card: 4\n",
    "    num_workers: 8\n",
    "\n",
    "Eval:\n",
    "  dataset:\n",
    "    name: SimpleDataSet\n",
    "    data_dir: ./train_data/total_text/\n",
    "    label_file_list: \n",
    "        - ./train_data/total_text/test_totaltext_label.txt\n",
    "        - ./train_data/total_text/test_icdar2015_label.txt\n",
    "    ratio_list: [1.0, 1.0]\n",
    "    transforms:\n",
    "      - DecodeImage: # load image\n",
    "          img_mode: BGR\n",
    "          channel_first: False\n",
    "      - DetLabelEncode: # Class handling label\n",
    "      - DetResizeForTest:\n",
    "          image_shape: [736, 1280]\n",
    "      - NormalizeImage:\n",
    "          scale: 1./255.\n",
    "          mean: [0.485, 0.456, 0.406]\n",
    "          std: [0.229, 0.224, 0.225]\n",
    "          order: 'hwc'\n",
    "      - ToCHWImage:\n",
    "      - KeepKeys:\n",
    "          keep_keys: ['image', 'shape', 'polys', 'ignore_tags']\n",
    "\n",
    "  loader:\n",
    "    shuffle: False\n",
    "    drop_last: False\n",
    "    batch_size_per_card: 1 # must be 1\n",
    "    num_workers: 8\n",
    "\n",
    "\"\"\""
   ]
  },
  {
   "cell_type": "code",
   "execution_count": null,
   "metadata": {
    "execution": {
     "iopub.execute_input": "2024-11-29T08:11:29.168414Z",
     "iopub.status.busy": "2024-11-29T08:11:29.167346Z",
     "iopub.status.idle": "2024-11-29T08:11:29.174466Z",
     "shell.execute_reply": "2024-11-29T08:11:29.173551Z",
     "shell.execute_reply.started": "2024-11-29T08:11:29.168361Z"
    },
    "trusted": true
   },
   "outputs": [],
   "source": [
    "# Specify the path where you want to save the YAML file\n",
    "file_path = \"/kaggle/working/PaddleOCR/configs/det/det_r50_db_totaltext.yml\"\n",
    "\n",
    "# Open the file in write mode and save the content\n",
    "with open(file_path, \"w\") as file:\n",
    "    file.write(content)\n",
    "\n",
    "print(f\"Configuration saved to {file_path}\")"
   ]
  },
  {
   "cell_type": "code",
   "execution_count": null,
   "metadata": {
    "execution": {
     "iopub.execute_input": "2024-11-29T08:11:29.747606Z",
     "iopub.status.busy": "2024-11-29T08:11:29.74688Z",
     "iopub.status.idle": "2024-11-29T08:11:29.777844Z",
     "shell.execute_reply": "2024-11-29T08:11:29.776788Z",
     "shell.execute_reply.started": "2024-11-29T08:11:29.747564Z"
    },
    "trusted": true
   },
   "outputs": [],
   "source": [
    "os.rename(\"/kaggle/working/PaddleOCR/train_data/total_text/icdar_c4_test_imgs\", \"/kaggle/working/PaddleOCR/train_data/total_text/ch4_test_images\")"
   ]
  },
  {
   "cell_type": "code",
   "execution_count": null,
   "metadata": {
    "execution": {
     "iopub.execute_input": "2024-11-29T08:11:34.453759Z",
     "iopub.status.busy": "2024-11-29T08:11:34.452986Z",
     "iopub.status.idle": "2024-11-29T08:11:35.590028Z",
     "shell.execute_reply": "2024-11-29T08:11:35.588703Z",
     "shell.execute_reply.started": "2024-11-29T08:11:34.453717Z"
    },
    "trusted": true
   },
   "outputs": [],
   "source": [
    "!cd train_data && ls && cd total_text && ls"
   ]
  },
  {
   "cell_type": "markdown",
   "metadata": {},
   "source": [
    "# Run training"
   ]
  },
  {
   "cell_type": "code",
   "execution_count": null,
   "metadata": {
    "trusted": true
   },
   "outputs": [],
   "source": [
    "!python3 -m paddle.distributed.launch --gpus '0,1' tools/train.py -c configs/det/det_r50_db_totaltext.yml -o Optimizer.base_lr=0.001 Global.epoch_num=500"
   ]
  },
  {
   "cell_type": "code",
   "execution_count": null,
   "metadata": {
    "trusted": true
   },
   "outputs": [],
   "source": []
  }
 ],
 "metadata": {
  "kaggle": {
   "accelerator": "nvidiaTeslaT4",
   "dataSources": [
    {
     "datasetId": 6178211,
     "sourceId": 10031239,
     "sourceType": "datasetVersion"
    },
    {
     "datasetId": 6188835,
     "sourceId": 10045741,
     "sourceType": "datasetVersion"
    },
    {
     "datasetId": 6313647,
     "sourceId": 10214781,
     "sourceType": "datasetVersion"
    },
    {
     "datasetId": 6276983,
     "sourceId": 10221739,
     "sourceType": "datasetVersion"
    }
   ],
   "dockerImageVersionId": 30787,
   "isGpuEnabled": true,
   "isInternetEnabled": true,
   "language": "python",
   "sourceType": "notebook"
  },
  "kernelspec": {
   "display_name": "Python 3",
   "language": "python",
   "name": "python3"
  },
  "language_info": {
   "codemirror_mode": {
    "name": "ipython",
    "version": 3
   },
   "file_extension": ".py",
   "mimetype": "text/x-python",
   "name": "python",
   "nbconvert_exporter": "python",
   "pygments_lexer": "ipython3",
   "version": "3.10.14"
  }
 },
 "nbformat": 4,
 "nbformat_minor": 4
}
