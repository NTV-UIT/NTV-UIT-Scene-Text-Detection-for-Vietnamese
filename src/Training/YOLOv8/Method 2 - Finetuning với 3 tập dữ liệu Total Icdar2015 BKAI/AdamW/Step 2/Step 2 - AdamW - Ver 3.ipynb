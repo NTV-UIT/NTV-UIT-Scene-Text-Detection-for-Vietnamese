{
 "cells": [
  {
   "cell_type": "code",
   "execution_count": 1,
   "id": "eebe761b",
   "metadata": {
    "execution": {
     "iopub.execute_input": "2025-01-02T17:35:32.279429Z",
     "iopub.status.busy": "2025-01-02T17:35:32.279160Z",
     "iopub.status.idle": "2025-01-02T17:35:42.955402Z",
     "shell.execute_reply": "2025-01-02T17:35:42.954315Z"
    },
    "papermill": {
     "duration": 10.683218,
     "end_time": "2025-01-02T17:35:42.957555",
     "exception": false,
     "start_time": "2025-01-02T17:35:32.274337",
     "status": "completed"
    },
    "tags": []
   },
   "outputs": [
    {
     "name": "stdout",
     "output_type": "stream",
     "text": [
      "Collecting ultralytics\r\n",
      "  Downloading ultralytics-8.3.56-py3-none-any.whl.metadata (35 kB)\r\n",
      "Requirement already satisfied: numpy>=1.23.0 in /opt/conda/lib/python3.10/site-packages (from ultralytics) (1.26.4)\r\n",
      "Requirement already satisfied: matplotlib>=3.3.0 in /opt/conda/lib/python3.10/site-packages (from ultralytics) (3.7.5)\r\n",
      "Requirement already satisfied: opencv-python>=4.6.0 in /opt/conda/lib/python3.10/site-packages (from ultralytics) (4.10.0.84)\r\n",
      "Requirement already satisfied: pillow>=7.1.2 in /opt/conda/lib/python3.10/site-packages (from ultralytics) (10.3.0)\r\n",
      "Requirement already satisfied: pyyaml>=5.3.1 in /opt/conda/lib/python3.10/site-packages (from ultralytics) (6.0.2)\r\n",
      "Requirement already satisfied: requests>=2.23.0 in /opt/conda/lib/python3.10/site-packages (from ultralytics) (2.32.3)\r\n",
      "Requirement already satisfied: scipy>=1.4.1 in /opt/conda/lib/python3.10/site-packages (from ultralytics) (1.14.1)\r\n",
      "Requirement already satisfied: torch>=1.8.0 in /opt/conda/lib/python3.10/site-packages (from ultralytics) (2.4.0)\r\n",
      "Requirement already satisfied: torchvision>=0.9.0 in /opt/conda/lib/python3.10/site-packages (from ultralytics) (0.19.0)\r\n",
      "Requirement already satisfied: tqdm>=4.64.0 in /opt/conda/lib/python3.10/site-packages (from ultralytics) (4.66.4)\r\n",
      "Requirement already satisfied: psutil in /opt/conda/lib/python3.10/site-packages (from ultralytics) (5.9.3)\r\n",
      "Requirement already satisfied: py-cpuinfo in /opt/conda/lib/python3.10/site-packages (from ultralytics) (9.0.0)\r\n",
      "Requirement already satisfied: pandas>=1.1.4 in /opt/conda/lib/python3.10/site-packages (from ultralytics) (2.2.3)\r\n",
      "Requirement already satisfied: seaborn>=0.11.0 in /opt/conda/lib/python3.10/site-packages (from ultralytics) (0.12.2)\r\n",
      "Collecting ultralytics-thop>=2.0.0 (from ultralytics)\r\n",
      "  Downloading ultralytics_thop-2.0.13-py3-none-any.whl.metadata (9.4 kB)\r\n",
      "Requirement already satisfied: contourpy>=1.0.1 in /opt/conda/lib/python3.10/site-packages (from matplotlib>=3.3.0->ultralytics) (1.2.1)\r\n",
      "Requirement already satisfied: cycler>=0.10 in /opt/conda/lib/python3.10/site-packages (from matplotlib>=3.3.0->ultralytics) (0.12.1)\r\n",
      "Requirement already satisfied: fonttools>=4.22.0 in /opt/conda/lib/python3.10/site-packages (from matplotlib>=3.3.0->ultralytics) (4.53.0)\r\n",
      "Requirement already satisfied: kiwisolver>=1.0.1 in /opt/conda/lib/python3.10/site-packages (from matplotlib>=3.3.0->ultralytics) (1.4.5)\r\n",
      "Requirement already satisfied: packaging>=20.0 in /opt/conda/lib/python3.10/site-packages (from matplotlib>=3.3.0->ultralytics) (21.3)\r\n",
      "Requirement already satisfied: pyparsing>=2.3.1 in /opt/conda/lib/python3.10/site-packages (from matplotlib>=3.3.0->ultralytics) (3.1.2)\r\n",
      "Requirement already satisfied: python-dateutil>=2.7 in /opt/conda/lib/python3.10/site-packages (from matplotlib>=3.3.0->ultralytics) (2.9.0.post0)\r\n",
      "Requirement already satisfied: pytz>=2020.1 in /opt/conda/lib/python3.10/site-packages (from pandas>=1.1.4->ultralytics) (2024.1)\r\n",
      "Requirement already satisfied: tzdata>=2022.7 in /opt/conda/lib/python3.10/site-packages (from pandas>=1.1.4->ultralytics) (2024.1)\r\n",
      "Requirement already satisfied: charset-normalizer<4,>=2 in /opt/conda/lib/python3.10/site-packages (from requests>=2.23.0->ultralytics) (3.3.2)\r\n",
      "Requirement already satisfied: idna<4,>=2.5 in /opt/conda/lib/python3.10/site-packages (from requests>=2.23.0->ultralytics) (3.7)\r\n",
      "Requirement already satisfied: urllib3<3,>=1.21.1 in /opt/conda/lib/python3.10/site-packages (from requests>=2.23.0->ultralytics) (1.26.18)\r\n",
      "Requirement already satisfied: certifi>=2017.4.17 in /opt/conda/lib/python3.10/site-packages (from requests>=2.23.0->ultralytics) (2024.6.2)\r\n",
      "Requirement already satisfied: filelock in /opt/conda/lib/python3.10/site-packages (from torch>=1.8.0->ultralytics) (3.15.1)\r\n",
      "Requirement already satisfied: typing-extensions>=4.8.0 in /opt/conda/lib/python3.10/site-packages (from torch>=1.8.0->ultralytics) (4.12.2)\r\n",
      "Requirement already satisfied: sympy in /opt/conda/lib/python3.10/site-packages (from torch>=1.8.0->ultralytics) (1.13.3)\r\n",
      "Requirement already satisfied: networkx in /opt/conda/lib/python3.10/site-packages (from torch>=1.8.0->ultralytics) (3.3)\r\n",
      "Requirement already satisfied: jinja2 in /opt/conda/lib/python3.10/site-packages (from torch>=1.8.0->ultralytics) (3.1.4)\r\n",
      "Requirement already satisfied: fsspec in /opt/conda/lib/python3.10/site-packages (from torch>=1.8.0->ultralytics) (2024.6.0)\r\n",
      "Requirement already satisfied: six>=1.5 in /opt/conda/lib/python3.10/site-packages (from python-dateutil>=2.7->matplotlib>=3.3.0->ultralytics) (1.16.0)\r\n",
      "Requirement already satisfied: MarkupSafe>=2.0 in /opt/conda/lib/python3.10/site-packages (from jinja2->torch>=1.8.0->ultralytics) (2.1.5)\r\n",
      "Requirement already satisfied: mpmath<1.4,>=1.1.0 in /opt/conda/lib/python3.10/site-packages (from sympy->torch>=1.8.0->ultralytics) (1.3.0)\r\n",
      "Downloading ultralytics-8.3.56-py3-none-any.whl (904 kB)\r\n",
      "\u001b[2K   \u001b[90m━━━━━━━━━━━━━━━━━━━━━━━━━━━━━━━━━━━━━━━━\u001b[0m \u001b[32m904.4/904.4 kB\u001b[0m \u001b[31m16.7 MB/s\u001b[0m eta \u001b[36m0:00:00\u001b[0m\r\n",
      "\u001b[?25hDownloading ultralytics_thop-2.0.13-py3-none-any.whl (26 kB)\r\n",
      "Installing collected packages: ultralytics-thop, ultralytics\r\n",
      "Successfully installed ultralytics-8.3.56 ultralytics-thop-2.0.13\r\n"
     ]
    }
   ],
   "source": [
    "!pip install ultralytics"
   ]
  },
  {
   "cell_type": "code",
   "execution_count": 2,
   "id": "19e7a426",
   "metadata": {
    "_cell_guid": "b1076dfc-b9ad-4769-8c92-a6c4dae69d19",
    "_uuid": "8f2839f25d086af736a60e9eeb907d3b93b6e0e5",
    "execution": {
     "iopub.execute_input": "2025-01-02T17:35:42.967180Z",
     "iopub.status.busy": "2025-01-02T17:35:42.966848Z",
     "iopub.status.idle": "2025-01-02T17:35:47.890892Z",
     "shell.execute_reply": "2025-01-02T17:35:47.890160Z"
    },
    "papermill": {
     "duration": 4.931092,
     "end_time": "2025-01-02T17:35:47.893050",
     "exception": false,
     "start_time": "2025-01-02T17:35:42.961958",
     "status": "completed"
    },
    "tags": []
   },
   "outputs": [
    {
     "name": "stdout",
     "output_type": "stream",
     "text": [
      "Creating new Ultralytics Settings v0.0.6 file ✅ \n",
      "View Ultralytics Settings with 'yolo settings' or at '/root/.config/Ultralytics/settings.json'\n",
      "Update Settings with 'yolo settings key=value', i.e. 'yolo settings runs_dir=path/to/dir'. For help see https://docs.ultralytics.com/quickstart/#ultralytics-settings.\n"
     ]
    }
   ],
   "source": [
    "import os\n",
    "import glob\n",
    "from PIL import Image\n",
    "from ultralytics import YOLO"
   ]
  },
  {
   "cell_type": "code",
   "execution_count": 3,
   "id": "a69ce95c",
   "metadata": {
    "execution": {
     "iopub.execute_input": "2025-01-02T17:35:47.901828Z",
     "iopub.status.busy": "2025-01-02T17:35:47.901480Z",
     "iopub.status.idle": "2025-01-02T17:35:47.906109Z",
     "shell.execute_reply": "2025-01-02T17:35:47.905452Z"
    },
    "papermill": {
     "duration": 0.010526,
     "end_time": "2025-01-02T17:35:47.907631",
     "exception": false,
     "start_time": "2025-01-02T17:35:47.897105",
     "status": "completed"
    },
    "tags": []
   },
   "outputs": [],
   "source": [
    "# Example usage:\n",
    "BKAI_train_images_folder = '/kaggle/input/bkai-dataset2/vietnamese/train_images'\n",
    "BKAI_labels_folder = '/kaggle/input/bkai-dataset2/vietnamese/labels'\n",
    "\n",
    "BKAI_val_images_folder = '/kaggle/input/bkai-dataset2/vietnamese/test_image'\n",
    "\n",
    "BKAI_test_images_folder = '/kaggle/input/bkai-dataset2/vietnamese/unseen_test_images'\n",
    "\n",
    "BKAI_train_output_images_folder = \"/kaggle/working/train/images\"\n",
    "BKAI_train_output_labels_folder = \"/kaggle/working/train/labels\"\n",
    "\n",
    "BKAI_val_output_images_folder = \"/kaggle/working/val/images\"\n",
    "BKAI_val_output_labels_folder = \"/kaggle/working/val/labels\"\n",
    "\n",
    "BKAI_test_output_images_folder = \"/kaggle/working/test/images\"\n",
    "BKAI_test_output_labels_folder = \"/kaggle/working/test/labels\"\n",
    "\n",
    "# Define paths\n",
    "BKAI1_train_images_folder = '/kaggle/input/bkai-dataset-1/train_imgs/training_img'\n",
    "BKAI1_train_labels_folder = '/kaggle/input/bkai-dataset-1/train_gt/training_gt'\n",
    "BKAI1_train_output_images_folder = \"/kaggle/working/train/images\"\n",
    "BKAI1_train_output_labels_folder = \"/kaggle/working/train/labels\""
   ]
  },
  {
   "cell_type": "code",
   "execution_count": 4,
   "id": "6e3d12bc",
   "metadata": {
    "execution": {
     "iopub.execute_input": "2025-01-02T17:35:47.916128Z",
     "iopub.status.busy": "2025-01-02T17:35:47.915756Z",
     "iopub.status.idle": "2025-01-02T17:35:47.928124Z",
     "shell.execute_reply": "2025-01-02T17:35:47.927445Z"
    },
    "papermill": {
     "duration": 0.018358,
     "end_time": "2025-01-02T17:35:47.929571",
     "exception": false,
     "start_time": "2025-01-02T17:35:47.911213",
     "status": "completed"
    },
    "tags": []
   },
   "outputs": [],
   "source": [
    "import os\n",
    "import shutil\n",
    "from PIL import Image\n",
    "\n",
    "def is_image_valid(image_path):\n",
    "    \"\"\"\n",
    "    Kiểm tra ảnh có hợp lệ không (có thể mở được).\n",
    "    \"\"\"\n",
    "    try:\n",
    "        with Image.open(image_path) as img:\n",
    "            img.verify()  # Kiểm tra tính toàn vẹn của ảnh\n",
    "        return True\n",
    "    except Exception as e:\n",
    "        print(f\"Invalid image: {image_path}, Error: {e}\")\n",
    "        return False\n",
    "\n",
    "def is_bbox_valid(x_min, y_min, x_max, y_max, img_width, img_height):\n",
    "    \"\"\"\n",
    "    Kiểm tra xem bbox có nằm trong giới hạn của ảnh không và có hợp lệ không.\n",
    "    \"\"\"\n",
    "    return 0 <= x_min < x_max <= img_width and 0 <= y_min < y_max <= img_height\n",
    "\n",
    "def convert_to_yolo_format(input_labels_folder, input_images_folder, \n",
    "                           output_labels_folder, output_images_folder):\n",
    "    if not os.path.exists(output_labels_folder):\n",
    "        os.makedirs(output_labels_folder)\n",
    "    if not os.path.exists(output_images_folder):\n",
    "        os.makedirs(output_images_folder)\n",
    "\n",
    "    for label_file in os.listdir(input_labels_folder):\n",
    "        if label_file.endswith('.txt'):\n",
    "            label_path = os.path.join(input_labels_folder, label_file)\n",
    "            output_label_path = os.path.join(output_labels_folder, label_file)\n",
    "\n",
    "            # Lấy file ảnh tương ứng để xác định kích thước\n",
    "            image_file = label_file.replace('gt_', '').replace('.txt', '.jpg')\n",
    "            new_label_name = image_file.replace('.jpg', '.txt')\n",
    "            image_path = os.path.join(input_images_folder, image_file)\n",
    "\n",
    "            if not os.path.exists(image_path) or not is_image_valid(image_path):\n",
    "                continue\n",
    "\n",
    "            with Image.open(image_path) as img:\n",
    "                image_width, image_height = img.size\n",
    "\n",
    "            yolo_labels = []  # Lưu các bbox hợp lệ\n",
    "            with open(label_path, 'r', encoding='utf-8') as f:\n",
    "                lines = f.readlines()\n",
    "\n",
    "            for line in lines:\n",
    "                parts = line.strip().split(',')\n",
    "\n",
    "                # Đảm bảo đủ tọa độ bbox (ít nhất 8 giá trị)\n",
    "                if len(parts) < 8:\n",
    "                    continue\n",
    "\n",
    "                try:\n",
    "                    # Lấy tọa độ bbox\n",
    "                    x1, y1, x2, y2, x3, y3, x4, y4 = map(float, parts[:8])\n",
    "                    x_min = min(x1, x2, x3, x4)\n",
    "                    y_min = min(y1, y2, y3, y4)\n",
    "                    x_max = max(x1, x2, x3, x4)\n",
    "                    y_max = max(y1, y2, y3, y4)\n",
    "\n",
    "                    # Kiểm tra bbox hợp lệ\n",
    "                    if not is_bbox_valid(x_min, y_min, x_max, y_max, image_width, image_height):\n",
    "                        continue\n",
    "\n",
    "                    # Tính tọa độ YOLO format\n",
    "                    bbox_width = (x_max - x_min) / image_width\n",
    "                    bbox_height = (y_max - y_min) / image_height\n",
    "                    x_center = (x_min + x_max) / 2 / image_width\n",
    "                    y_center = (y_min + y_max) / 2 / image_height\n",
    "\n",
    "                    # Gán class_id là 0\n",
    "                    class_id = 0\n",
    "\n",
    "                    yolo_labels.append(f\"{class_id} {x_center:.6f} {y_center:.6f} {bbox_width:.6f} {bbox_height:.6f}\")\n",
    "                except ValueError:\n",
    "                    continue  # Bỏ qua dòng không hợp lệ\n",
    "\n",
    "            # Lưu bbox nếu có bbox hợp lệ\n",
    "            if yolo_labels:\n",
    "                with open(os.path.join(output_labels_folder, new_label_name), 'w') as out_f:\n",
    "                    out_f.write(\"\\n\".join(yolo_labels))\n",
    "\n",
    "                # Sao chép ảnh sang thư mục đầu ra\n",
    "                shutil.copy(image_path, os.path.join(output_images_folder, image_file))"
   ]
  },
  {
   "cell_type": "code",
   "execution_count": 5,
   "id": "5519bd8c",
   "metadata": {
    "execution": {
     "iopub.execute_input": "2025-01-02T17:35:47.938504Z",
     "iopub.status.busy": "2025-01-02T17:35:47.938287Z",
     "iopub.status.idle": "2025-01-02T17:35:54.790120Z",
     "shell.execute_reply": "2025-01-02T17:35:54.789183Z"
    },
    "papermill": {
     "duration": 6.857996,
     "end_time": "2025-01-02T17:35:54.792102",
     "exception": false,
     "start_time": "2025-01-02T17:35:47.934106",
     "status": "completed"
    },
    "tags": []
   },
   "outputs": [],
   "source": [
    "# Call the function\n",
    "convert_to_yolo_format(BKAI1_train_labels_folder, BKAI1_train_images_folder, \n",
    "                       BKAI1_train_output_labels_folder, BKAI1_train_output_images_folder)"
   ]
  },
  {
   "cell_type": "markdown",
   "id": "891f5b51",
   "metadata": {
    "papermill": {
     "duration": 0.003786,
     "end_time": "2025-01-02T17:35:54.800271",
     "exception": false,
     "start_time": "2025-01-02T17:35:54.796485",
     "status": "completed"
    },
    "tags": []
   },
   "source": [
    "# BKAI 2\n"
   ]
  },
  {
   "cell_type": "code",
   "execution_count": 6,
   "id": "10b6a476",
   "metadata": {
    "execution": {
     "iopub.execute_input": "2025-01-02T17:35:54.808608Z",
     "iopub.status.busy": "2025-01-02T17:35:54.808325Z",
     "iopub.status.idle": "2025-01-02T17:35:54.820919Z",
     "shell.execute_reply": "2025-01-02T17:35:54.820106Z"
    },
    "papermill": {
     "duration": 0.018833,
     "end_time": "2025-01-02T17:35:54.822651",
     "exception": false,
     "start_time": "2025-01-02T17:35:54.803818",
     "status": "completed"
    },
    "tags": []
   },
   "outputs": [],
   "source": [
    "import os\n",
    "import shutil\n",
    "import cv2\n",
    "from PIL import Image\n",
    "\n",
    "def ensure_directories_exist(directories):\n",
    "    \"\"\"\n",
    "    Ensure that all directories in the given list exist.\n",
    "    \"\"\"\n",
    "    for directory in directories:\n",
    "        os.makedirs(directory, exist_ok=True)\n",
    "\n",
    "def convert_bbox_to_yolo(bbox, img_width, img_height):\n",
    "    \"\"\"\n",
    "    Convert bounding box from absolute coordinates to YOLO format.\n",
    "    bbox: [x1, y1, x2, y2, x3, y3, x4, y4]\n",
    "    \"\"\"\n",
    "    x_coords = bbox[0::2]  # [x1, x2, x3, x4]\n",
    "    y_coords = bbox[1::2]  # [y1, y2, y3, y4]\n",
    "    x_min, x_max = min(x_coords), max(x_coords)\n",
    "    y_min, y_max = min(y_coords), max(y_coords)\n",
    "    \n",
    "    x_center = (x_min + x_max) / 2.0 / img_width\n",
    "    y_center = (y_min + y_max) / 2.0 / img_height\n",
    "    width = (x_max - x_min) / img_width\n",
    "    height = (y_max - y_min) / img_height\n",
    "    \n",
    "    return x_center, y_center, width, height\n",
    "\n",
    "def is_bbox_valid(bbox, img_width, img_height):\n",
    "    \"\"\"\n",
    "    Check if the bounding box is within the image boundaries and has valid dimensions.\n",
    "    bbox: [x1, y1, x2, y2, x3, y3, x4, y4]\n",
    "    \"\"\"\n",
    "    x_coords = bbox[0::2]\n",
    "    y_coords = bbox[1::2]\n",
    "    \n",
    "    x_min, x_max = min(x_coords), max(x_coords)\n",
    "    y_min, y_max = min(y_coords), max(y_coords)\n",
    "    \n",
    "    # Check if the bbox is within the image boundaries\n",
    "    return 0 <= x_min < x_max <= img_width and 0 <= y_min < y_max <= img_height\n",
    "\n",
    "def is_image_valid(image_path):\n",
    "    \"\"\"\n",
    "    Check if the image is valid (can be opened).\n",
    "    \"\"\"\n",
    "    try:\n",
    "        # Use OpenCV to check if the image can be read\n",
    "        img = cv2.imread(image_path)\n",
    "        if img is None:\n",
    "            raise ValueError(\"Image could not be read with OpenCV\")\n",
    "        \n",
    "        # Alternatively, use PIL to ensure the image is not corrupt\n",
    "        img_pil = Image.open(image_path)\n",
    "        img_pil.verify()  # Verify the image integrity\n",
    "        return True\n",
    "    except Exception as e:\n",
    "        print(f\"Error with image {image_path}: {e}\")\n",
    "        return False\n",
    "\n",
    "def process_labels_and_images(\n",
    "    images_folder, labels_folder, output_images_folder, output_labels_folder\n",
    "):\n",
    "    \"\"\"\n",
    "    Process images and their corresponding label files, converting bounding boxes to YOLO format.\n",
    "    \"\"\"\n",
    "    ensure_directories_exist([output_images_folder, output_labels_folder])\n",
    "    \n",
    "    for image_name in os.listdir(images_folder):\n",
    "        if not image_name.endswith('.jpg'):\n",
    "            continue\n",
    "\n",
    "        # Map image to label\n",
    "        image_id = str(int(image_name.split('.')[0].replace(\"im\", \"\")))  # e.g., im0001 -> 1\n",
    "        label_file = os.path.join(labels_folder, f\"gt_{image_id}.txt\")\n",
    "        if not os.path.exists(label_file):\n",
    "            continue\n",
    "\n",
    "        # Read image dimensions\n",
    "        image_path = os.path.join(images_folder, image_name)\n",
    "        \n",
    "        # Check if image is valid\n",
    "        if not is_image_valid(image_path):\n",
    "            continue  # Skip the image if it's corrupt\n",
    "\n",
    "        img = cv2.imread(image_path)\n",
    "        img_height, img_width = img.shape[:2]\n",
    "\n",
    "        # Process label file\n",
    "        yolo_labels = []\n",
    "        for line in open(label_file, 'r', encoding='utf-8'):\n",
    "            parts = line.strip().split(',')\n",
    "            bbox = list(map(int, parts[:8]))  # First 8 values are bbox\n",
    "            label = parts[8]  # Last value is the text/label\n",
    "\n",
    "            # Check if the bbox is valid\n",
    "            if is_bbox_valid(bbox, img_width, img_height):\n",
    "                # Convert bbox to YOLO format\n",
    "                x_center, y_center, width, height = convert_bbox_to_yolo(bbox, img_width, img_height)\n",
    "                yolo_labels.append(f\"0 {x_center} {y_center} {width} {height}\")\n",
    "        \n",
    "        if not yolo_labels:  # Skip image if no valid bbox\n",
    "            continue\n",
    "        \n",
    "        # Save image to output folder\n",
    "        new_image_name = f\"{image_id}.jpg\"\n",
    "        shutil.copy(image_path, os.path.join(output_images_folder, new_image_name))\n",
    "\n",
    "        # Save YOLO labels to output folder\n",
    "        output_label_file = os.path.join(output_labels_folder, f\"{image_id}.txt\")\n",
    "        with open(output_label_file, 'w') as f:\n",
    "            f.write(\"\\n\".join(yolo_labels))"
   ]
  },
  {
   "cell_type": "code",
   "execution_count": 7,
   "id": "cda52896",
   "metadata": {
    "execution": {
     "iopub.execute_input": "2025-01-02T17:35:54.831120Z",
     "iopub.status.busy": "2025-01-02T17:35:54.830827Z",
     "iopub.status.idle": "2025-01-02T17:36:54.128200Z",
     "shell.execute_reply": "2025-01-02T17:36:54.127462Z"
    },
    "papermill": {
     "duration": 59.303786,
     "end_time": "2025-01-02T17:36:54.130237",
     "exception": false,
     "start_time": "2025-01-02T17:35:54.826451",
     "status": "completed"
    },
    "tags": []
   },
   "outputs": [],
   "source": [
    "process_labels_and_images(\n",
    "    BKAI_train_images_folder, \n",
    "    BKAI_labels_folder, \n",
    "    BKAI_train_output_images_folder, \n",
    "    BKAI_train_output_labels_folder\n",
    ")"
   ]
  },
  {
   "cell_type": "code",
   "execution_count": 8,
   "id": "273b6119",
   "metadata": {
    "execution": {
     "iopub.execute_input": "2025-01-02T17:36:54.139495Z",
     "iopub.status.busy": "2025-01-02T17:36:54.138819Z",
     "iopub.status.idle": "2025-01-02T17:37:07.243053Z",
     "shell.execute_reply": "2025-01-02T17:37:07.242077Z"
    },
    "papermill": {
     "duration": 13.110931,
     "end_time": "2025-01-02T17:37:07.245259",
     "exception": false,
     "start_time": "2025-01-02T17:36:54.134328",
     "status": "completed"
    },
    "tags": []
   },
   "outputs": [],
   "source": [
    "process_labels_and_images(\n",
    "    BKAI_val_images_folder, \n",
    "    BKAI_labels_folder, \n",
    "    BKAI_val_output_images_folder, \n",
    "    BKAI_val_output_labels_folder\n",
    ")"
   ]
  },
  {
   "cell_type": "code",
   "execution_count": 9,
   "id": "5eebaac3",
   "metadata": {
    "execution": {
     "iopub.execute_input": "2025-01-02T17:37:07.255171Z",
     "iopub.status.busy": "2025-01-02T17:37:07.254378Z",
     "iopub.status.idle": "2025-01-02T17:37:32.744586Z",
     "shell.execute_reply": "2025-01-02T17:37:32.743683Z"
    },
    "papermill": {
     "duration": 25.496966,
     "end_time": "2025-01-02T17:37:32.746565",
     "exception": false,
     "start_time": "2025-01-02T17:37:07.249599",
     "status": "completed"
    },
    "tags": []
   },
   "outputs": [],
   "source": [
    "process_labels_and_images(\n",
    "    BKAI_test_images_folder, \n",
    "    BKAI_labels_folder, \n",
    "    BKAI_test_output_images_folder, \n",
    "    BKAI_test_output_labels_folder\n",
    ")"
   ]
  },
  {
   "cell_type": "code",
   "execution_count": 10,
   "id": "7d2756a5",
   "metadata": {
    "execution": {
     "iopub.execute_input": "2025-01-02T17:37:32.755541Z",
     "iopub.status.busy": "2025-01-02T17:37:32.755266Z",
     "iopub.status.idle": "2025-01-02T17:37:32.761253Z",
     "shell.execute_reply": "2025-01-02T17:37:32.760483Z"
    },
    "papermill": {
     "duration": 0.012042,
     "end_time": "2025-01-02T17:37:32.762822",
     "exception": false,
     "start_time": "2025-01-02T17:37:32.750780",
     "status": "completed"
    },
    "tags": []
   },
   "outputs": [
    {
     "name": "stdout",
     "output_type": "stream",
     "text": [
      "File 'data.yaml' đã được tạo tại: /kaggle/working/data.yaml\n"
     ]
    }
   ],
   "source": [
    "# Tạo đường dẫn tới file YAML\n",
    "dataset_dir = \"/kaggle/working\"\n",
    "os.makedirs(dataset_dir, exist_ok=True)\n",
    "yaml_file = os.path.join(dataset_dir, \"data.yaml\")\n",
    "\n",
    "# Nội dung file YAML\n",
    "yaml_content = \"\"\"\n",
    "train: /kaggle/working/train/images\n",
    "val: /kaggle/working/val/images\n",
    "\n",
    "nc: 1  # Số nhãn (với OCR chỉ là 1 lớp văn bản)\n",
    "names: ['text']\n",
    "\"\"\"\n",
    "\n",
    "# Ghi nội dung vào file YAML\n",
    "with open(yaml_file, \"w\") as f:\n",
    "    f.write(yaml_content.strip())\n",
    "\n",
    "print(f\"File 'data.yaml' đã được tạo tại: {yaml_file}\")"
   ]
  },
  {
   "cell_type": "code",
   "execution_count": 11,
   "id": "83fa8570",
   "metadata": {
    "execution": {
     "iopub.execute_input": "2025-01-02T17:37:32.771025Z",
     "iopub.status.busy": "2025-01-02T17:37:32.770771Z",
     "iopub.status.idle": "2025-01-02T17:37:34.508153Z",
     "shell.execute_reply": "2025-01-02T17:37:34.507293Z"
    },
    "papermill": {
     "duration": 1.743259,
     "end_time": "2025-01-02T17:37:34.509801",
     "exception": false,
     "start_time": "2025-01-02T17:37:32.766542",
     "status": "completed"
    },
    "tags": []
   },
   "outputs": [
    {
     "name": "stdout",
     "output_type": "stream",
     "text": [
      "Model summary: 365 layers, 68,153,571 parameters, 0 gradients, 258.1 GFLOPs\n"
     ]
    },
    {
     "data": {
      "text/plain": [
       "(365, 68153571, 0, 258.1225472)"
      ]
     },
     "execution_count": 11,
     "metadata": {},
     "output_type": "execute_result"
    }
   ],
   "source": [
    "# Load a COCO-pretrained YOLOv8n model\n",
    "model = YOLO(\"/kaggle/input/train-lai-step-1-uit-ver-2/pytorch/default/1/best.pt\")\n",
    "\n",
    "# Display model information (optional)\n",
    "model.info()"
   ]
  },
  {
   "cell_type": "code",
   "execution_count": 12,
   "id": "4adcd54c",
   "metadata": {
    "execution": {
     "iopub.execute_input": "2025-01-02T17:37:34.520117Z",
     "iopub.status.busy": "2025-01-02T17:37:34.519809Z",
     "iopub.status.idle": "2025-01-02T19:07:02.013452Z",
     "shell.execute_reply": "2025-01-02T19:07:02.012615Z"
    },
    "papermill": {
     "duration": 5367.501438,
     "end_time": "2025-01-02T19:07:02.015663",
     "exception": false,
     "start_time": "2025-01-02T17:37:34.514225",
     "status": "completed"
    },
    "tags": []
   },
   "outputs": [
    {
     "name": "stdout",
     "output_type": "stream",
     "text": [
      "Ultralytics 8.3.56 🚀 Python-3.10.14 torch-2.4.0 CUDA:0 (Tesla T4, 15095MiB)\n",
      "                                                 CUDA:1 (Tesla T4, 15095MiB)\n",
      "\u001b[34m\u001b[1mengine/trainer: \u001b[0mtask=detect, mode=train, model=/kaggle/input/train-lai-step-1-uit-ver-2/pytorch/default/1/best.pt, data=/kaggle/working/data.yaml, epochs=150, time=None, patience=15, batch=32, imgsz=640, save=True, save_period=-1, cache=False, device=[0, 1], workers=8, project=YOLOv8 - Step 2 - AdamW, name=Optimizer with conf 1, exist_ok=False, pretrained=True, optimizer=AdamW, verbose=True, seed=42, deterministic=True, single_cls=False, rect=False, cos_lr=True, close_mosaic=10, resume=False, amp=True, fraction=1.0, profile=False, freeze=None, multi_scale=False, overlap_mask=True, mask_ratio=4, dropout=0.0, val=True, split=val, save_json=False, save_hybrid=False, conf=None, iou=0.7, max_det=300, half=False, dnn=False, plots=True, source=None, vid_stride=1, stream_buffer=False, visualize=False, augment=False, agnostic_nms=False, classes=None, retina_masks=False, embed=None, show=False, save_frames=False, save_txt=False, save_conf=False, save_crop=False, show_labels=True, show_conf=True, show_boxes=True, line_width=None, format=torchscript, keras=False, optimize=False, int8=False, dynamic=False, simplify=True, opset=None, workspace=None, nms=False, lr0=1e-05, lrf=0.01, momentum=0.85, weight_decay=0.0002, warmup_epochs=10, warmup_momentum=0.8, warmup_bias_lr=0.1, box=7.5, cls=0.5, dfl=1.5, pose=12.0, kobj=1.0, nbs=64, hsv_h=0.015, hsv_s=0.7, hsv_v=0.4, degrees=0.0, translate=0.1, scale=0.5, shear=0.0, perspective=0.0, flipud=0.0, fliplr=0.5, bgr=0.0, mosaic=1.0, mixup=0.0, copy_paste=0.0, copy_paste_mode=flip, auto_augment=randaugment, erasing=0.4, crop_fraction=1.0, cfg=None, tracker=botsort.yaml, save_dir=YOLOv8 - Step 2 - AdamW/Optimizer with conf 1\n",
      "Downloading https://ultralytics.com/assets/Arial.ttf to '/root/.config/Ultralytics/Arial.ttf'...\n"
     ]
    },
    {
     "name": "stderr",
     "output_type": "stream",
     "text": [
      "100%|██████████| 755k/755k [00:00<00:00, 16.5MB/s]\n"
     ]
    },
    {
     "name": "stdout",
     "output_type": "stream",
     "text": [
      "\n",
      "                   from  n    params  module                                       arguments                     \n",
      "  0                  -1  1      2320  ultralytics.nn.modules.conv.Conv             [3, 80, 3, 2]                 \n",
      "  1                  -1  1    115520  ultralytics.nn.modules.conv.Conv             [80, 160, 3, 2]               \n",
      "  2                  -1  3    436800  ultralytics.nn.modules.block.C2f             [160, 160, 3, True]           \n",
      "  3                  -1  1    461440  ultralytics.nn.modules.conv.Conv             [160, 320, 3, 2]              \n",
      "  4                  -1  6   3281920  ultralytics.nn.modules.block.C2f             [320, 320, 6, True]           \n",
      "  5                  -1  1   1844480  ultralytics.nn.modules.conv.Conv             [320, 640, 3, 2]              \n",
      "  6                  -1  6  13117440  ultralytics.nn.modules.block.C2f             [640, 640, 6, True]           \n",
      "  7                  -1  1   3687680  ultralytics.nn.modules.conv.Conv             [640, 640, 3, 2]              \n",
      "  8                  -1  3   6969600  ultralytics.nn.modules.block.C2f             [640, 640, 3, True]           \n",
      "  9                  -1  1   1025920  ultralytics.nn.modules.block.SPPF            [640, 640, 5]                 \n",
      " 10                  -1  1         0  torch.nn.modules.upsampling.Upsample         [None, 2, 'nearest']          \n",
      " 11             [-1, 6]  1         0  ultralytics.nn.modules.conv.Concat           [1]                           \n",
      " 12                  -1  3   7379200  ultralytics.nn.modules.block.C2f             [1280, 640, 3]                \n",
      " 13                  -1  1         0  torch.nn.modules.upsampling.Upsample         [None, 2, 'nearest']          \n",
      " 14             [-1, 4]  1         0  ultralytics.nn.modules.conv.Concat           [1]                           \n",
      " 15                  -1  3   1948800  ultralytics.nn.modules.block.C2f             [960, 320, 3]                 \n",
      " 16                  -1  1    922240  ultralytics.nn.modules.conv.Conv             [320, 320, 3, 2]              \n",
      " 17            [-1, 12]  1         0  ultralytics.nn.modules.conv.Concat           [1]                           \n",
      " 18                  -1  3   7174400  ultralytics.nn.modules.block.C2f             [960, 640, 3]                 \n",
      " 19                  -1  1   3687680  ultralytics.nn.modules.conv.Conv             [640, 640, 3, 2]              \n",
      " 20             [-1, 9]  1         0  ultralytics.nn.modules.conv.Concat           [1]                           \n",
      " 21                  -1  3   7379200  ultralytics.nn.modules.block.C2f             [1280, 640, 3]                \n",
      " 22        [15, 18, 21]  1   8718931  ultralytics.nn.modules.head.Detect           [1, [320, 640, 640]]          \n",
      "Model summary: 365 layers, 68,153,571 parameters, 68,153,555 gradients, 258.1 GFLOPs\n",
      "\n",
      "Transferred 595/595 items from pretrained weights\n",
      "\u001b[34m\u001b[1mDDP:\u001b[0m debug command /opt/conda/bin/python -m torch.distributed.run --nproc_per_node 2 --master_port 50841 /root/.config/Ultralytics/DDP/_temp_c418sk73140333104126976.py\n",
      "Ultralytics 8.3.56 🚀 Python-3.10.14 torch-2.4.0 CUDA:0 (Tesla T4, 15095MiB)\n",
      "                                                 CUDA:1 (Tesla T4, 15095MiB)\n",
      "\u001b[34m\u001b[1mTensorBoard: \u001b[0mStart with 'tensorboard --logdir YOLOv8 - Step 2 - AdamW/Optimizer with conf 1', view at http://localhost:6006/\n",
      "Transferred 595/595 items from pretrained weights\n",
      "Freezing layer 'model.22.dfl.conv.weight'\n",
      "\u001b[34m\u001b[1mAMP: \u001b[0mrunning Automatic Mixed Precision (AMP) checks...\n",
      "Downloading https://github.com/ultralytics/assets/releases/download/v8.3.0/yolo11n.pt to 'yolo11n.pt'...\n"
     ]
    },
    {
     "name": "stderr",
     "output_type": "stream",
     "text": [
      "100%|██████████| 5.35M/5.35M [00:00<00:00, 75.2MB/s]\n"
     ]
    },
    {
     "name": "stdout",
     "output_type": "stream",
     "text": [
      "\u001b[34m\u001b[1mAMP: \u001b[0mchecks passed ✅\n"
     ]
    },
    {
     "name": "stderr",
     "output_type": "stream",
     "text": [
      "\u001b[34m\u001b[1mtrain: \u001b[0mScanning /kaggle/working/train/labels... 1700 images, 0 backgrounds, 0 corrupt: 100%|██████████| 1700/1700 [00:04<00:00, 380.03it/s]\n"
     ]
    },
    {
     "name": "stdout",
     "output_type": "stream",
     "text": [
      "\u001b[34m\u001b[1mtrain: \u001b[0mWARNING ⚠️ /kaggle/working/train/images/101.jpg: corrupt JPEG restored and saved\n",
      "\u001b[34m\u001b[1mtrain: \u001b[0mWARNING ⚠️ /kaggle/working/train/images/1014.jpg: corrupt JPEG restored and saved\n",
      "\u001b[34m\u001b[1mtrain: \u001b[0mWARNING ⚠️ /kaggle/working/train/images/1063.jpg: corrupt JPEG restored and saved\n",
      "\u001b[34m\u001b[1mtrain: \u001b[0mWARNING ⚠️ /kaggle/working/train/images/1081.jpg: corrupt JPEG restored and saved\n",
      "\u001b[34m\u001b[1mtrain: \u001b[0mWARNING ⚠️ /kaggle/working/train/images/1085.jpg: corrupt JPEG restored and saved\n",
      "\u001b[34m\u001b[1mtrain: \u001b[0mWARNING ⚠️ /kaggle/working/train/images/111.jpg: corrupt JPEG restored and saved\n",
      "\u001b[34m\u001b[1mtrain: \u001b[0mWARNING ⚠️ /kaggle/working/train/images/1131.jpg: corrupt JPEG restored and saved\n",
      "\u001b[34m\u001b[1mtrain: \u001b[0mWARNING ⚠️ /kaggle/working/train/images/1134.jpg: corrupt JPEG restored and saved\n",
      "\u001b[34m\u001b[1mtrain: \u001b[0mWARNING ⚠️ /kaggle/working/train/images/1194.jpg: corrupt JPEG restored and saved\n",
      "\u001b[34m\u001b[1mtrain: \u001b[0mWARNING ⚠️ /kaggle/working/train/images/12.jpg: corrupt JPEG restored and saved\n",
      "\u001b[34m\u001b[1mtrain: \u001b[0mWARNING ⚠️ /kaggle/working/train/images/173.jpg: corrupt JPEG restored and saved\n",
      "\u001b[34m\u001b[1mtrain: \u001b[0mWARNING ⚠️ /kaggle/working/train/images/235.jpg: corrupt JPEG restored and saved\n",
      "\u001b[34m\u001b[1mtrain: \u001b[0mWARNING ⚠️ /kaggle/working/train/images/243.jpg: corrupt JPEG restored and saved\n",
      "\u001b[34m\u001b[1mtrain: \u001b[0mWARNING ⚠️ /kaggle/working/train/images/294.jpg: corrupt JPEG restored and saved\n",
      "\u001b[34m\u001b[1mtrain: \u001b[0mWARNING ⚠️ /kaggle/working/train/images/305.jpg: corrupt JPEG restored and saved\n",
      "\u001b[34m\u001b[1mtrain: \u001b[0mWARNING ⚠️ /kaggle/working/train/images/40.jpg: corrupt JPEG restored and saved\n",
      "\u001b[34m\u001b[1mtrain: \u001b[0mWARNING ⚠️ /kaggle/working/train/images/413.jpg: 1 duplicate labels removed\n",
      "\u001b[34m\u001b[1mtrain: \u001b[0mWARNING ⚠️ /kaggle/working/train/images/482.jpg: corrupt JPEG restored and saved\n",
      "\u001b[34m\u001b[1mtrain: \u001b[0mWARNING ⚠️ /kaggle/working/train/images/500.jpg: corrupt JPEG restored and saved\n",
      "\u001b[34m\u001b[1mtrain: \u001b[0mWARNING ⚠️ /kaggle/working/train/images/577.jpg: corrupt JPEG restored and saved\n",
      "\u001b[34m\u001b[1mtrain: \u001b[0mWARNING ⚠️ /kaggle/working/train/images/666.jpg: corrupt JPEG restored and saved\n",
      "\u001b[34m\u001b[1mtrain: \u001b[0mWARNING ⚠️ /kaggle/working/train/images/676.jpg: corrupt JPEG restored and saved\n",
      "\u001b[34m\u001b[1mtrain: \u001b[0mWARNING ⚠️ /kaggle/working/train/images/698.jpg: corrupt JPEG restored and saved\n",
      "\u001b[34m\u001b[1mtrain: \u001b[0mWARNING ⚠️ /kaggle/working/train/images/708.jpg: corrupt JPEG restored and saved\n",
      "\u001b[34m\u001b[1mtrain: \u001b[0mWARNING ⚠️ /kaggle/working/train/images/714.jpg: corrupt JPEG restored and saved\n",
      "\u001b[34m\u001b[1mtrain: \u001b[0mWARNING ⚠️ /kaggle/working/train/images/716.jpg: corrupt JPEG restored and saved\n",
      "\u001b[34m\u001b[1mtrain: \u001b[0mWARNING ⚠️ /kaggle/working/train/images/738.jpg: corrupt JPEG restored and saved\n",
      "\u001b[34m\u001b[1mtrain: \u001b[0mWARNING ⚠️ /kaggle/working/train/images/8.jpg: corrupt JPEG restored and saved\n",
      "\u001b[34m\u001b[1mtrain: \u001b[0mWARNING ⚠️ /kaggle/working/train/images/878.jpg: corrupt JPEG restored and saved\n",
      "\u001b[34m\u001b[1mtrain: \u001b[0mWARNING ⚠️ /kaggle/working/train/images/908.jpg: corrupt JPEG restored and saved\n",
      "\u001b[34m\u001b[1mtrain: \u001b[0mWARNING ⚠️ /kaggle/working/train/images/969.jpg: corrupt JPEG restored and saved\n",
      "\u001b[34m\u001b[1mtrain: \u001b[0mNew cache created: /kaggle/working/train/labels.cache\n"
     ]
    },
    {
     "name": "stderr",
     "output_type": "stream",
     "text": [
      "/opt/conda/lib/python3.10/site-packages/albumentations/__init__.py:24: UserWarning: A new version of Albumentations is available: 1.4.24 (you have 1.4.21). Upgrade using: pip install -U albumentations. To disable automatic update checks, set the environment variable NO_ALBUMENTATIONS_UPDATE to 1.\n",
      "  check_for_updates()\n",
      "/opt/conda/lib/python3.10/multiprocessing/popen_fork.py:66: RuntimeWarning: os.fork() was called. os.fork() is incompatible with multithreaded code, and JAX is multithreaded, so this will likely lead to a deadlock.\n",
      "  self.pid = os.fork()\n",
      "\u001b[34m\u001b[1mval: \u001b[0mScanning /kaggle/working/val/labels...:   0%|          | 0/300 [00:00<?, ?it/s]"
     ]
    },
    {
     "name": "stdout",
     "output_type": "stream",
     "text": [
      "\u001b[34m\u001b[1malbumentations: \u001b[0mBlur(p=0.01, blur_limit=(3, 7)), MedianBlur(p=0.01, blur_limit=(3, 7)), ToGray(p=0.01, num_output_channels=3, method='weighted_average'), CLAHE(p=0.01, clip_limit=(1.0, 4.0), tile_grid_size=(8, 8))\n"
     ]
    },
    {
     "name": "stderr",
     "output_type": "stream",
     "text": [
      "\u001b[34m\u001b[1mval: \u001b[0mScanning /kaggle/working/val/labels... 300 images, 0 backgrounds, 0 corrupt: 100%|██████████| 300/300 [00:00<00:00, 439.56it/s]\n"
     ]
    },
    {
     "name": "stdout",
     "output_type": "stream",
     "text": [
      "\u001b[34m\u001b[1mval: \u001b[0mWARNING ⚠️ /kaggle/working/val/images/1238.jpg: corrupt JPEG restored and saved\n",
      "\u001b[34m\u001b[1mval: \u001b[0mNew cache created: /kaggle/working/val/labels.cache\n"
     ]
    },
    {
     "name": "stderr",
     "output_type": "stream",
     "text": [
      "/opt/conda/lib/python3.10/site-packages/albumentations/__init__.py:24: UserWarning: A new version of Albumentations is available: 1.4.24 (you have 1.4.21). Upgrade using: pip install -U albumentations. To disable automatic update checks, set the environment variable NO_ALBUMENTATIONS_UPDATE to 1.\n",
      "  check_for_updates()\n"
     ]
    },
    {
     "name": "stdout",
     "output_type": "stream",
     "text": [
      "Plotting labels to YOLOv8 - Step 2 - AdamW/Optimizer with conf 1/labels.jpg... \n",
      "\u001b[34m\u001b[1moptimizer:\u001b[0m AdamW(lr=1e-05, momentum=0.85) with parameter groups 97 weight(decay=0.0), 104 weight(decay=0.0002), 103 bias(decay=0.0)\n",
      "\u001b[34m\u001b[1mTensorBoard: \u001b[0mmodel graph visualization added ✅\n",
      "Image sizes 640 train, 640 val\n",
      "Using 4 dataloader workers\n",
      "Logging results to \u001b[1mYOLOv8 - Step 2 - AdamW/Optimizer with conf 1\u001b[0m\n",
      "Starting training for 150 epochs...\n",
      "\n",
      "      Epoch    GPU_mem   box_loss   cls_loss   dfl_loss  Instances       Size\n"
     ]
    },
    {
     "name": "stderr",
     "output_type": "stream",
     "text": [
      "      1/150      14.6G       1.22     0.6434      1.074         57        640: 100%|██████████| 54/54 [01:08<00:00,  1.27s/it]\n",
      "                 Class     Images  Instances      Box(P          R      mAP50  mAP50-95): 100%|██████████| 10/10 [00:08<00:00,  1.11it/s]\n"
     ]
    },
    {
     "name": "stdout",
     "output_type": "stream",
     "text": [
      "                   all        300       8649      0.836      0.618       0.68      0.451\n",
      "\n",
      "      Epoch    GPU_mem   box_loss   cls_loss   dfl_loss  Instances       Size\n"
     ]
    },
    {
     "name": "stderr",
     "output_type": "stream",
     "text": [
      "      2/150      13.9G      1.142     0.6057      1.034         47        640: 100%|██████████| 54/54 [01:16<00:00,  1.41s/it]\n",
      "                 Class     Images  Instances      Box(P          R      mAP50  mAP50-95): 100%|██████████| 10/10 [00:08<00:00,  1.23it/s]\n"
     ]
    },
    {
     "name": "stdout",
     "output_type": "stream",
     "text": [
      "                   all        300       8649      0.847      0.619       0.68      0.458\n",
      "\n",
      "      Epoch    GPU_mem   box_loss   cls_loss   dfl_loss  Instances       Size\n"
     ]
    },
    {
     "name": "stderr",
     "output_type": "stream",
     "text": [
      "      3/150      13.9G      1.115      0.569      1.017         79        640: 100%|██████████| 54/54 [01:16<00:00,  1.42s/it]\n",
      "                 Class     Images  Instances      Box(P          R      mAP50  mAP50-95): 100%|██████████| 10/10 [00:07<00:00,  1.26it/s]\n"
     ]
    },
    {
     "name": "stdout",
     "output_type": "stream",
     "text": [
      "                   all        300       8649      0.819      0.607      0.677      0.452\n",
      "\n",
      "      Epoch    GPU_mem   box_loss   cls_loss   dfl_loss  Instances       Size\n"
     ]
    },
    {
     "name": "stderr",
     "output_type": "stream",
     "text": [
      "      4/150      14.5G      1.117     0.5888      1.018         40        640: 100%|██████████| 54/54 [01:16<00:00,  1.42s/it]\n",
      "                 Class     Images  Instances      Box(P          R      mAP50  mAP50-95): 100%|██████████| 10/10 [00:07<00:00,  1.25it/s]\n"
     ]
    },
    {
     "name": "stdout",
     "output_type": "stream",
     "text": [
      "                   all        300       8649      0.843      0.624      0.695      0.474\n",
      "\n",
      "      Epoch    GPU_mem   box_loss   cls_loss   dfl_loss  Instances       Size\n"
     ]
    },
    {
     "name": "stderr",
     "output_type": "stream",
     "text": [
      "      5/150      13.9G      1.103     0.5717      1.012        121        640: 100%|██████████| 54/54 [01:16<00:00,  1.42s/it]\n",
      "                 Class     Images  Instances      Box(P          R      mAP50  mAP50-95): 100%|██████████| 10/10 [00:07<00:00,  1.25it/s]\n"
     ]
    },
    {
     "name": "stdout",
     "output_type": "stream",
     "text": [
      "                   all        300       8649      0.838      0.633      0.694      0.472\n",
      "\n",
      "      Epoch    GPU_mem   box_loss   cls_loss   dfl_loss  Instances       Size\n"
     ]
    },
    {
     "name": "stderr",
     "output_type": "stream",
     "text": [
      "      6/150      13.9G      1.109     0.5528      1.019         39        640: 100%|██████████| 54/54 [01:14<00:00,  1.39s/it]\n",
      "                 Class     Images  Instances      Box(P          R      mAP50  mAP50-95): 100%|██████████| 10/10 [00:07<00:00,  1.26it/s]\n"
     ]
    },
    {
     "name": "stdout",
     "output_type": "stream",
     "text": [
      "                   all        300       8649      0.839      0.634      0.701      0.469\n",
      "\n",
      "      Epoch    GPU_mem   box_loss   cls_loss   dfl_loss  Instances       Size\n"
     ]
    },
    {
     "name": "stderr",
     "output_type": "stream",
     "text": [
      "      7/150      13.7G      1.113     0.5608      1.018         54        640: 100%|██████████| 54/54 [01:14<00:00,  1.39s/it]\n",
      "                 Class     Images  Instances      Box(P          R      mAP50  mAP50-95): 100%|██████████| 10/10 [00:07<00:00,  1.26it/s]\n"
     ]
    },
    {
     "name": "stdout",
     "output_type": "stream",
     "text": [
      "                   all        300       8649      0.843      0.639      0.703      0.473\n",
      "\n",
      "      Epoch    GPU_mem   box_loss   cls_loss   dfl_loss  Instances       Size\n"
     ]
    },
    {
     "name": "stderr",
     "output_type": "stream",
     "text": [
      "      8/150      13.8G      1.112     0.5587      1.005        116        640: 100%|██████████| 54/54 [01:15<00:00,  1.40s/it]\n",
      "                 Class     Images  Instances      Box(P          R      mAP50  mAP50-95): 100%|██████████| 10/10 [00:07<00:00,  1.29it/s]\n"
     ]
    },
    {
     "name": "stdout",
     "output_type": "stream",
     "text": [
      "                   all        300       8649      0.834      0.642      0.711      0.482\n",
      "\n",
      "      Epoch    GPU_mem   box_loss   cls_loss   dfl_loss  Instances       Size\n"
     ]
    },
    {
     "name": "stderr",
     "output_type": "stream",
     "text": [
      "      9/150      13.3G      1.086     0.5383      1.002        101        640: 100%|██████████| 54/54 [01:15<00:00,  1.40s/it]\n",
      "                 Class     Images  Instances      Box(P          R      mAP50  mAP50-95): 100%|██████████| 10/10 [00:07<00:00,  1.25it/s]\n"
     ]
    },
    {
     "name": "stdout",
     "output_type": "stream",
     "text": [
      "                   all        300       8649      0.837      0.647      0.711      0.489\n",
      "\n",
      "      Epoch    GPU_mem   box_loss   cls_loss   dfl_loss  Instances       Size\n"
     ]
    },
    {
     "name": "stderr",
     "output_type": "stream",
     "text": [
      "     10/150      13.8G      1.099     0.5577      1.003        142        640: 100%|██████████| 54/54 [01:15<00:00,  1.41s/it]\n",
      "                 Class     Images  Instances      Box(P          R      mAP50  mAP50-95): 100%|██████████| 10/10 [00:07<00:00,  1.26it/s]\n"
     ]
    },
    {
     "name": "stdout",
     "output_type": "stream",
     "text": [
      "                   all        300       8649      0.829      0.651      0.712       0.49\n",
      "\n",
      "      Epoch    GPU_mem   box_loss   cls_loss   dfl_loss  Instances       Size\n"
     ]
    },
    {
     "name": "stderr",
     "output_type": "stream",
     "text": [
      "     11/150      14.1G       1.08     0.5363          1        141        640: 100%|██████████| 54/54 [01:16<00:00,  1.41s/it]\n",
      "                 Class     Images  Instances      Box(P          R      mAP50  mAP50-95): 100%|██████████| 10/10 [00:07<00:00,  1.26it/s]\n"
     ]
    },
    {
     "name": "stdout",
     "output_type": "stream",
     "text": [
      "                   all        300       8649      0.832      0.652      0.714      0.491\n",
      "\n",
      "      Epoch    GPU_mem   box_loss   cls_loss   dfl_loss  Instances       Size\n"
     ]
    },
    {
     "name": "stderr",
     "output_type": "stream",
     "text": [
      "     12/150        14G       1.09     0.5405     0.9966         84        640: 100%|██████████| 54/54 [01:16<00:00,  1.41s/it]\n",
      "                 Class     Images  Instances      Box(P          R      mAP50  mAP50-95): 100%|██████████| 10/10 [00:08<00:00,  1.25it/s]\n"
     ]
    },
    {
     "name": "stdout",
     "output_type": "stream",
     "text": [
      "                   all        300       8649      0.831      0.653      0.714       0.49\n",
      "\n",
      "      Epoch    GPU_mem   box_loss   cls_loss   dfl_loss  Instances       Size\n"
     ]
    },
    {
     "name": "stderr",
     "output_type": "stream",
     "text": [
      "     13/150      14.6G      1.091     0.5381          1         65        640: 100%|██████████| 54/54 [01:16<00:00,  1.41s/it]\n",
      "                 Class     Images  Instances      Box(P          R      mAP50  mAP50-95): 100%|██████████| 10/10 [00:07<00:00,  1.26it/s]\n"
     ]
    },
    {
     "name": "stdout",
     "output_type": "stream",
     "text": [
      "                   all        300       8649      0.833      0.653      0.714      0.492\n",
      "\n",
      "      Epoch    GPU_mem   box_loss   cls_loss   dfl_loss  Instances       Size\n"
     ]
    },
    {
     "name": "stderr",
     "output_type": "stream",
     "text": [
      "     14/150      14.3G      1.085     0.5401     0.9974         44        640: 100%|██████████| 54/54 [01:16<00:00,  1.41s/it]\n",
      "                 Class     Images  Instances      Box(P          R      mAP50  mAP50-95): 100%|██████████| 10/10 [00:07<00:00,  1.26it/s]\n"
     ]
    },
    {
     "name": "stdout",
     "output_type": "stream",
     "text": [
      "                   all        300       8649      0.837      0.651      0.715      0.492\n",
      "\n",
      "      Epoch    GPU_mem   box_loss   cls_loss   dfl_loss  Instances       Size\n"
     ]
    },
    {
     "name": "stderr",
     "output_type": "stream",
     "text": [
      "     15/150      14.5G      1.068     0.5261     0.9947         63        640: 100%|██████████| 54/54 [01:16<00:00,  1.41s/it]\n",
      "                 Class     Images  Instances      Box(P          R      mAP50  mAP50-95): 100%|██████████| 10/10 [00:07<00:00,  1.26it/s]\n"
     ]
    },
    {
     "name": "stdout",
     "output_type": "stream",
     "text": [
      "                   all        300       8649      0.837      0.652      0.717      0.493\n",
      "\n",
      "      Epoch    GPU_mem   box_loss   cls_loss   dfl_loss  Instances       Size\n"
     ]
    },
    {
     "name": "stderr",
     "output_type": "stream",
     "text": [
      "     16/150      13.6G      1.081     0.5278      1.002         17        640: 100%|██████████| 54/54 [01:16<00:00,  1.41s/it]\n",
      "                 Class     Images  Instances      Box(P          R      mAP50  mAP50-95): 100%|██████████| 10/10 [00:08<00:00,  1.24it/s]\n"
     ]
    },
    {
     "name": "stdout",
     "output_type": "stream",
     "text": [
      "                   all        300       8649      0.839       0.65      0.717      0.496\n",
      "\n",
      "      Epoch    GPU_mem   box_loss   cls_loss   dfl_loss  Instances       Size\n"
     ]
    },
    {
     "name": "stderr",
     "output_type": "stream",
     "text": [
      "     17/150      15.4G      1.068     0.5421     0.9992         29        640: 100%|██████████| 54/54 [01:16<00:00,  1.41s/it]\n",
      "                 Class     Images  Instances      Box(P          R      mAP50  mAP50-95): 100%|██████████| 10/10 [00:07<00:00,  1.25it/s]\n"
     ]
    },
    {
     "name": "stdout",
     "output_type": "stream",
     "text": [
      "                   all        300       8649      0.832      0.655      0.717      0.495\n",
      "\n",
      "      Epoch    GPU_mem   box_loss   cls_loss   dfl_loss  Instances       Size\n"
     ]
    },
    {
     "name": "stderr",
     "output_type": "stream",
     "text": [
      "     18/150      14.3G      1.086     0.5368      1.005        179        640: 100%|██████████| 54/54 [01:15<00:00,  1.40s/it]\n",
      "                 Class     Images  Instances      Box(P          R      mAP50  mAP50-95): 100%|██████████| 10/10 [00:07<00:00,  1.25it/s]\n"
     ]
    },
    {
     "name": "stdout",
     "output_type": "stream",
     "text": [
      "                   all        300       8649      0.831      0.656      0.718      0.498\n",
      "\n",
      "      Epoch    GPU_mem   box_loss   cls_loss   dfl_loss  Instances       Size\n"
     ]
    },
    {
     "name": "stderr",
     "output_type": "stream",
     "text": [
      "     19/150      14.5G      1.062     0.5317     0.9982         89        640: 100%|██████████| 54/54 [01:15<00:00,  1.40s/it]\n",
      "                 Class     Images  Instances      Box(P          R      mAP50  mAP50-95): 100%|██████████| 10/10 [00:07<00:00,  1.25it/s]\n"
     ]
    },
    {
     "name": "stdout",
     "output_type": "stream",
     "text": [
      "                   all        300       8649      0.834      0.656       0.72      0.496\n",
      "\n",
      "      Epoch    GPU_mem   box_loss   cls_loss   dfl_loss  Instances       Size\n"
     ]
    },
    {
     "name": "stderr",
     "output_type": "stream",
     "text": [
      "     20/150      14.7G      1.075     0.5235     0.9991         44        640: 100%|██████████| 54/54 [01:14<00:00,  1.39s/it]\n",
      "                 Class     Images  Instances      Box(P          R      mAP50  mAP50-95): 100%|██████████| 10/10 [00:07<00:00,  1.25it/s]\n"
     ]
    },
    {
     "name": "stdout",
     "output_type": "stream",
     "text": [
      "                   all        300       8649      0.836      0.654       0.72      0.499\n",
      "\n",
      "      Epoch    GPU_mem   box_loss   cls_loss   dfl_loss  Instances       Size\n"
     ]
    },
    {
     "name": "stderr",
     "output_type": "stream",
     "text": [
      "     21/150      14.7G      1.064      0.539      1.001        116        640: 100%|██████████| 54/54 [01:15<00:00,  1.39s/it]\n",
      "                 Class     Images  Instances      Box(P          R      mAP50  mAP50-95): 100%|██████████| 10/10 [00:08<00:00,  1.25it/s]\n"
     ]
    },
    {
     "name": "stdout",
     "output_type": "stream",
     "text": [
      "                   all        300       8649      0.837      0.655      0.719      0.497\n",
      "\n",
      "      Epoch    GPU_mem   box_loss   cls_loss   dfl_loss  Instances       Size\n"
     ]
    },
    {
     "name": "stderr",
     "output_type": "stream",
     "text": [
      "     22/150      14.4G      1.057     0.5135     0.9929         63        640: 100%|██████████| 54/54 [01:14<00:00,  1.39s/it]\n",
      "                 Class     Images  Instances      Box(P          R      mAP50  mAP50-95): 100%|██████████| 10/10 [00:07<00:00,  1.25it/s]\n"
     ]
    },
    {
     "name": "stdout",
     "output_type": "stream",
     "text": [
      "                   all        300       8649       0.84      0.653      0.719      0.497\n",
      "\n",
      "      Epoch    GPU_mem   box_loss   cls_loss   dfl_loss  Instances       Size\n"
     ]
    },
    {
     "name": "stderr",
     "output_type": "stream",
     "text": [
      "     23/150      13.8G      1.055     0.5222     0.9879         59        640: 100%|██████████| 54/54 [01:14<00:00,  1.39s/it]\n",
      "                 Class     Images  Instances      Box(P          R      mAP50  mAP50-95): 100%|██████████| 10/10 [00:07<00:00,  1.26it/s]\n"
     ]
    },
    {
     "name": "stdout",
     "output_type": "stream",
     "text": [
      "                   all        300       8649      0.847      0.649      0.721      0.498\n",
      "\n",
      "      Epoch    GPU_mem   box_loss   cls_loss   dfl_loss  Instances       Size\n"
     ]
    },
    {
     "name": "stderr",
     "output_type": "stream",
     "text": [
      "     24/150      14.5G      1.047     0.5166      0.988         20        640: 100%|██████████| 54/54 [01:14<00:00,  1.38s/it]\n",
      "                 Class     Images  Instances      Box(P          R      mAP50  mAP50-95): 100%|██████████| 10/10 [00:07<00:00,  1.25it/s]\n"
     ]
    },
    {
     "name": "stdout",
     "output_type": "stream",
     "text": [
      "                   all        300       8649      0.842       0.65       0.72      0.496\n",
      "\n",
      "      Epoch    GPU_mem   box_loss   cls_loss   dfl_loss  Instances       Size\n"
     ]
    },
    {
     "name": "stderr",
     "output_type": "stream",
     "text": [
      "     25/150      13.8G      1.059     0.5142     0.9863         54        640: 100%|██████████| 54/54 [01:14<00:00,  1.39s/it]\n",
      "                 Class     Images  Instances      Box(P          R      mAP50  mAP50-95): 100%|██████████| 10/10 [00:08<00:00,  1.25it/s]\n"
     ]
    },
    {
     "name": "stdout",
     "output_type": "stream",
     "text": [
      "                   all        300       8649      0.851      0.649      0.722        0.5\n",
      "\n",
      "      Epoch    GPU_mem   box_loss   cls_loss   dfl_loss  Instances       Size\n"
     ]
    },
    {
     "name": "stderr",
     "output_type": "stream",
     "text": [
      "     26/150      13.9G      1.039     0.5083     0.9762         94        640: 100%|██████████| 54/54 [01:14<00:00,  1.38s/it]\n",
      "                 Class     Images  Instances      Box(P          R      mAP50  mAP50-95): 100%|██████████| 10/10 [00:07<00:00,  1.26it/s]\n"
     ]
    },
    {
     "name": "stdout",
     "output_type": "stream",
     "text": [
      "                   all        300       8649      0.849      0.649       0.72        0.5\n",
      "\n",
      "      Epoch    GPU_mem   box_loss   cls_loss   dfl_loss  Instances       Size\n"
     ]
    },
    {
     "name": "stderr",
     "output_type": "stream",
     "text": [
      "     27/150      14.1G      1.036     0.4977     0.9818         69        640: 100%|██████████| 54/54 [01:14<00:00,  1.39s/it]\n",
      "                 Class     Images  Instances      Box(P          R      mAP50  mAP50-95): 100%|██████████| 10/10 [00:07<00:00,  1.26it/s]\n"
     ]
    },
    {
     "name": "stdout",
     "output_type": "stream",
     "text": [
      "                   all        300       8649      0.849      0.649      0.722      0.501\n",
      "\n",
      "      Epoch    GPU_mem   box_loss   cls_loss   dfl_loss  Instances       Size\n"
     ]
    },
    {
     "name": "stderr",
     "output_type": "stream",
     "text": [
      "     28/150        14G      1.032     0.5046     0.9906         35        640: 100%|██████████| 54/54 [01:15<00:00,  1.39s/it]\n",
      "                 Class     Images  Instances      Box(P          R      mAP50  mAP50-95): 100%|██████████| 10/10 [00:07<00:00,  1.25it/s]\n"
     ]
    },
    {
     "name": "stdout",
     "output_type": "stream",
     "text": [
      "                   all        300       8649      0.844      0.653      0.722      0.501\n",
      "\n",
      "      Epoch    GPU_mem   box_loss   cls_loss   dfl_loss  Instances       Size\n"
     ]
    },
    {
     "name": "stderr",
     "output_type": "stream",
     "text": [
      "     29/150      14.1G      1.044     0.5152     0.9882         34        640: 100%|██████████| 54/54 [01:14<00:00,  1.39s/it]\n",
      "                 Class     Images  Instances      Box(P          R      mAP50  mAP50-95): 100%|██████████| 10/10 [00:08<00:00,  1.25it/s]\n"
     ]
    },
    {
     "name": "stdout",
     "output_type": "stream",
     "text": [
      "                   all        300       8649      0.845      0.653      0.721        0.5\n",
      "\n",
      "      Epoch    GPU_mem   box_loss   cls_loss   dfl_loss  Instances       Size\n"
     ]
    },
    {
     "name": "stderr",
     "output_type": "stream",
     "text": [
      "     30/150      15.4G      1.046     0.5145     0.9863         73        640: 100%|██████████| 54/54 [01:14<00:00,  1.39s/it]\n",
      "                 Class     Images  Instances      Box(P          R      mAP50  mAP50-95): 100%|██████████| 10/10 [00:07<00:00,  1.26it/s]\n"
     ]
    },
    {
     "name": "stdout",
     "output_type": "stream",
     "text": [
      "                   all        300       8649      0.853      0.649      0.723      0.502\n",
      "\n",
      "      Epoch    GPU_mem   box_loss   cls_loss   dfl_loss  Instances       Size\n"
     ]
    },
    {
     "name": "stderr",
     "output_type": "stream",
     "text": [
      "     31/150      14.3G      1.044     0.5146     0.9794         44        640: 100%|██████████| 54/54 [01:14<00:00,  1.39s/it]\n",
      "                 Class     Images  Instances      Box(P          R      mAP50  mAP50-95): 100%|██████████| 10/10 [00:07<00:00,  1.26it/s]\n"
     ]
    },
    {
     "name": "stdout",
     "output_type": "stream",
     "text": [
      "                   all        300       8649      0.842      0.654      0.723      0.502\n",
      "\n",
      "      Epoch    GPU_mem   box_loss   cls_loss   dfl_loss  Instances       Size\n"
     ]
    },
    {
     "name": "stderr",
     "output_type": "stream",
     "text": [
      "     32/150      14.2G      1.047     0.5092     0.9843        164        640: 100%|██████████| 54/54 [01:14<00:00,  1.39s/it]\n",
      "                 Class     Images  Instances      Box(P          R      mAP50  mAP50-95): 100%|██████████| 10/10 [00:08<00:00,  1.25it/s]\n"
     ]
    },
    {
     "name": "stdout",
     "output_type": "stream",
     "text": [
      "                   all        300       8649      0.846      0.654      0.724        0.5\n",
      "\n",
      "      Epoch    GPU_mem   box_loss   cls_loss   dfl_loss  Instances       Size\n"
     ]
    },
    {
     "name": "stderr",
     "output_type": "stream",
     "text": [
      "     33/150        14G      1.016     0.5044     0.9791         36        640: 100%|██████████| 54/54 [01:14<00:00,  1.39s/it]\n",
      "                 Class     Images  Instances      Box(P          R      mAP50  mAP50-95): 100%|██████████| 10/10 [00:07<00:00,  1.25it/s]\n"
     ]
    },
    {
     "name": "stdout",
     "output_type": "stream",
     "text": [
      "                   all        300       8649      0.841      0.655      0.722      0.501\n",
      "\n",
      "      Epoch    GPU_mem   box_loss   cls_loss   dfl_loss  Instances       Size\n"
     ]
    },
    {
     "name": "stderr",
     "output_type": "stream",
     "text": [
      "     34/150        14G       1.05     0.5111     0.9894         42        640: 100%|██████████| 54/54 [01:14<00:00,  1.38s/it]\n",
      "                 Class     Images  Instances      Box(P          R      mAP50  mAP50-95): 100%|██████████| 10/10 [00:07<00:00,  1.26it/s]\n"
     ]
    },
    {
     "name": "stdout",
     "output_type": "stream",
     "text": [
      "                   all        300       8649      0.845      0.654      0.722      0.502\n",
      "\n",
      "      Epoch    GPU_mem   box_loss   cls_loss   dfl_loss  Instances       Size\n"
     ]
    },
    {
     "name": "stderr",
     "output_type": "stream",
     "text": [
      "     35/150      13.8G      1.019     0.4865     0.9803         31        640: 100%|██████████| 54/54 [01:14<00:00,  1.38s/it]\n",
      "                 Class     Images  Instances      Box(P          R      mAP50  mAP50-95): 100%|██████████| 10/10 [00:08<00:00,  1.24it/s]\n"
     ]
    },
    {
     "name": "stdout",
     "output_type": "stream",
     "text": [
      "                   all        300       8649      0.858      0.646      0.723      0.502\n",
      "\n",
      "      Epoch    GPU_mem   box_loss   cls_loss   dfl_loss  Instances       Size\n"
     ]
    },
    {
     "name": "stderr",
     "output_type": "stream",
     "text": [
      "     36/150      15.1G       1.02     0.4908     0.9733        162        640: 100%|██████████| 54/54 [01:14<00:00,  1.39s/it]\n",
      "                 Class     Images  Instances      Box(P          R      mAP50  mAP50-95): 100%|██████████| 10/10 [00:07<00:00,  1.25it/s]\n"
     ]
    },
    {
     "name": "stdout",
     "output_type": "stream",
     "text": [
      "                   all        300       8649      0.848      0.652      0.722      0.499\n",
      "\n",
      "      Epoch    GPU_mem   box_loss   cls_loss   dfl_loss  Instances       Size\n"
     ]
    },
    {
     "name": "stderr",
     "output_type": "stream",
     "text": [
      "     37/150      13.8G      1.038     0.4947     0.9748         98        640: 100%|██████████| 54/54 [01:14<00:00,  1.38s/it]\n",
      "                 Class     Images  Instances      Box(P          R      mAP50  mAP50-95): 100%|██████████| 10/10 [00:07<00:00,  1.25it/s]\n"
     ]
    },
    {
     "name": "stdout",
     "output_type": "stream",
     "text": [
      "                   all        300       8649      0.852      0.649      0.723      0.504\n",
      "\n",
      "      Epoch    GPU_mem   box_loss   cls_loss   dfl_loss  Instances       Size\n"
     ]
    },
    {
     "name": "stderr",
     "output_type": "stream",
     "text": [
      "     38/150      13.9G      1.015     0.5011     0.9785         62        640: 100%|██████████| 54/54 [01:14<00:00,  1.38s/it]\n",
      "                 Class     Images  Instances      Box(P          R      mAP50  mAP50-95): 100%|██████████| 10/10 [00:07<00:00,  1.25it/s]\n"
     ]
    },
    {
     "name": "stdout",
     "output_type": "stream",
     "text": [
      "                   all        300       8649      0.844      0.653      0.723      0.504\n",
      "\n",
      "      Epoch    GPU_mem   box_loss   cls_loss   dfl_loss  Instances       Size\n"
     ]
    },
    {
     "name": "stderr",
     "output_type": "stream",
     "text": [
      "     39/150      13.9G      1.034     0.4993     0.9784         89        640: 100%|██████████| 54/54 [01:15<00:00,  1.39s/it]\n",
      "                 Class     Images  Instances      Box(P          R      mAP50  mAP50-95): 100%|██████████| 10/10 [00:07<00:00,  1.26it/s]\n"
     ]
    },
    {
     "name": "stdout",
     "output_type": "stream",
     "text": [
      "                   all        300       8649      0.849      0.651      0.723      0.504\n",
      "\n",
      "      Epoch    GPU_mem   box_loss   cls_loss   dfl_loss  Instances       Size\n"
     ]
    },
    {
     "name": "stderr",
     "output_type": "stream",
     "text": [
      "     40/150      14.4G      1.035     0.5061     0.9771         48        640: 100%|██████████| 54/54 [01:14<00:00,  1.39s/it]\n",
      "                 Class     Images  Instances      Box(P          R      mAP50  mAP50-95): 100%|██████████| 10/10 [00:07<00:00,  1.26it/s]\n"
     ]
    },
    {
     "name": "stdout",
     "output_type": "stream",
     "text": [
      "                   all        300       8649      0.846      0.654      0.722      0.503\n",
      "\n",
      "      Epoch    GPU_mem   box_loss   cls_loss   dfl_loss  Instances       Size\n"
     ]
    },
    {
     "name": "stderr",
     "output_type": "stream",
     "text": [
      "     41/150      14.7G       1.02     0.4933     0.9762         37        640: 100%|██████████| 54/54 [01:14<00:00,  1.38s/it]\n",
      "                 Class     Images  Instances      Box(P          R      mAP50  mAP50-95): 100%|██████████| 10/10 [00:07<00:00,  1.25it/s]\n"
     ]
    },
    {
     "name": "stdout",
     "output_type": "stream",
     "text": [
      "                   all        300       8649      0.847      0.653      0.723      0.503\n",
      "\n",
      "      Epoch    GPU_mem   box_loss   cls_loss   dfl_loss  Instances       Size\n"
     ]
    },
    {
     "name": "stderr",
     "output_type": "stream",
     "text": [
      "     42/150      13.7G      1.015     0.4965     0.9853         41        640: 100%|██████████| 54/54 [01:14<00:00,  1.39s/it]\n",
      "                 Class     Images  Instances      Box(P          R      mAP50  mAP50-95): 100%|██████████| 10/10 [00:07<00:00,  1.25it/s]\n"
     ]
    },
    {
     "name": "stdout",
     "output_type": "stream",
     "text": [
      "                   all        300       8649      0.851      0.651      0.723      0.501\n",
      "\n",
      "      Epoch    GPU_mem   box_loss   cls_loss   dfl_loss  Instances       Size\n"
     ]
    },
    {
     "name": "stderr",
     "output_type": "stream",
     "text": [
      "     43/150        14G      1.017     0.4928     0.9696        117        640: 100%|██████████| 54/54 [01:14<00:00,  1.38s/it]\n",
      "                 Class     Images  Instances      Box(P          R      mAP50  mAP50-95): 100%|██████████| 10/10 [00:07<00:00,  1.25it/s]\n"
     ]
    },
    {
     "name": "stdout",
     "output_type": "stream",
     "text": [
      "                   all        300       8649      0.848      0.655      0.724      0.504\n",
      "\n",
      "      Epoch    GPU_mem   box_loss   cls_loss   dfl_loss  Instances       Size\n"
     ]
    },
    {
     "name": "stderr",
     "output_type": "stream",
     "text": [
      "     44/150      13.9G       1.02     0.4892     0.9805         19        640: 100%|██████████| 54/54 [01:14<00:00,  1.38s/it]\n",
      "                 Class     Images  Instances      Box(P          R      mAP50  mAP50-95): 100%|██████████| 10/10 [00:08<00:00,  1.24it/s]\n"
     ]
    },
    {
     "name": "stdout",
     "output_type": "stream",
     "text": [
      "                   all        300       8649      0.853      0.652      0.724      0.503\n",
      "\n",
      "      Epoch    GPU_mem   box_loss   cls_loss   dfl_loss  Instances       Size\n"
     ]
    },
    {
     "name": "stderr",
     "output_type": "stream",
     "text": [
      "     45/150        14G      1.026     0.4978     0.9751         56        640: 100%|██████████| 54/54 [01:14<00:00,  1.38s/it]\n",
      "                 Class     Images  Instances      Box(P          R      mAP50  mAP50-95): 100%|██████████| 10/10 [00:07<00:00,  1.26it/s]\n"
     ]
    },
    {
     "name": "stdout",
     "output_type": "stream",
     "text": [
      "                   all        300       8649      0.851      0.653      0.724      0.505\n",
      "\n",
      "      Epoch    GPU_mem   box_loss   cls_loss   dfl_loss  Instances       Size\n"
     ]
    },
    {
     "name": "stderr",
     "output_type": "stream",
     "text": [
      "     46/150      13.6G      1.009     0.4828     0.9756         31        640: 100%|██████████| 54/54 [01:15<00:00,  1.39s/it]\n",
      "                 Class     Images  Instances      Box(P          R      mAP50  mAP50-95): 100%|██████████| 10/10 [00:07<00:00,  1.26it/s]\n"
     ]
    },
    {
     "name": "stdout",
     "output_type": "stream",
     "text": [
      "                   all        300       8649      0.854      0.654      0.726      0.504\n",
      "\n",
      "      Epoch    GPU_mem   box_loss   cls_loss   dfl_loss  Instances       Size\n"
     ]
    },
    {
     "name": "stderr",
     "output_type": "stream",
     "text": [
      "     47/150      14.8G      1.007     0.4844     0.9801         15        640: 100%|██████████| 54/54 [01:14<00:00,  1.39s/it]\n",
      "                 Class     Images  Instances      Box(P          R      mAP50  mAP50-95): 100%|██████████| 10/10 [00:07<00:00,  1.25it/s]\n"
     ]
    },
    {
     "name": "stdout",
     "output_type": "stream",
     "text": [
      "                   all        300       8649      0.856      0.653      0.725      0.508\n",
      "\n",
      "      Epoch    GPU_mem   box_loss   cls_loss   dfl_loss  Instances       Size\n"
     ]
    },
    {
     "name": "stderr",
     "output_type": "stream",
     "text": [
      "     48/150      14.7G      1.026      0.508     0.9771        155        640: 100%|██████████| 54/54 [01:14<00:00,  1.39s/it]\n",
      "                 Class     Images  Instances      Box(P          R      mAP50  mAP50-95): 100%|██████████| 10/10 [00:07<00:00,  1.25it/s]\n"
     ]
    },
    {
     "name": "stdout",
     "output_type": "stream",
     "text": [
      "                   all        300       8649      0.852      0.653      0.724      0.505\n",
      "\n",
      "      Epoch    GPU_mem   box_loss   cls_loss   dfl_loss  Instances       Size\n"
     ]
    },
    {
     "name": "stderr",
     "output_type": "stream",
     "text": [
      "     49/150      14.5G      1.019     0.4975     0.9726         87        640: 100%|██████████| 54/54 [01:14<00:00,  1.39s/it]\n",
      "                 Class     Images  Instances      Box(P          R      mAP50  mAP50-95): 100%|██████████| 10/10 [00:07<00:00,  1.25it/s]\n"
     ]
    },
    {
     "name": "stdout",
     "output_type": "stream",
     "text": [
      "                   all        300       8649      0.852      0.654      0.724      0.502\n",
      "\n",
      "      Epoch    GPU_mem   box_loss   cls_loss   dfl_loss  Instances       Size\n"
     ]
    },
    {
     "name": "stderr",
     "output_type": "stream",
     "text": [
      "     50/150      13.8G      1.023     0.5027     0.9788         60        640: 100%|██████████| 54/54 [01:15<00:00,  1.40s/it]\n",
      "                 Class     Images  Instances      Box(P          R      mAP50  mAP50-95): 100%|██████████| 10/10 [00:07<00:00,  1.26it/s]\n"
     ]
    },
    {
     "name": "stdout",
     "output_type": "stream",
     "text": [
      "                   all        300       8649       0.85      0.653      0.724      0.504\n",
      "\n",
      "      Epoch    GPU_mem   box_loss   cls_loss   dfl_loss  Instances       Size\n"
     ]
    },
    {
     "name": "stderr",
     "output_type": "stream",
     "text": [
      "     51/150      14.1G      1.015     0.4867     0.9738         50        640: 100%|██████████| 54/54 [01:15<00:00,  1.40s/it]\n",
      "                 Class     Images  Instances      Box(P          R      mAP50  mAP50-95): 100%|██████████| 10/10 [00:07<00:00,  1.26it/s]\n"
     ]
    },
    {
     "name": "stdout",
     "output_type": "stream",
     "text": [
      "                   all        300       8649      0.859       0.65      0.725      0.503\n",
      "\n",
      "      Epoch    GPU_mem   box_loss   cls_loss   dfl_loss  Instances       Size\n"
     ]
    },
    {
     "name": "stderr",
     "output_type": "stream",
     "text": [
      "     52/150      14.2G     0.9927     0.4886     0.9739        168        640: 100%|██████████| 54/54 [01:15<00:00,  1.41s/it]\n",
      "                 Class     Images  Instances      Box(P          R      mAP50  mAP50-95): 100%|██████████| 10/10 [00:08<00:00,  1.25it/s]\n"
     ]
    },
    {
     "name": "stdout",
     "output_type": "stream",
     "text": [
      "                   all        300       8649      0.855      0.653      0.724      0.506\n",
      "\n",
      "      Epoch    GPU_mem   box_loss   cls_loss   dfl_loss  Instances       Size\n"
     ]
    },
    {
     "name": "stderr",
     "output_type": "stream",
     "text": [
      "     53/150        14G      1.015     0.4948     0.9731        105        640: 100%|██████████| 54/54 [01:15<00:00,  1.41s/it]\n",
      "                 Class     Images  Instances      Box(P          R      mAP50  mAP50-95): 100%|██████████| 10/10 [00:07<00:00,  1.26it/s]\n"
     ]
    },
    {
     "name": "stdout",
     "output_type": "stream",
     "text": [
      "                   all        300       8649      0.864      0.648      0.725      0.505\n",
      "\n",
      "      Epoch    GPU_mem   box_loss   cls_loss   dfl_loss  Instances       Size\n"
     ]
    },
    {
     "name": "stderr",
     "output_type": "stream",
     "text": [
      "     54/150      13.7G      1.025     0.5079     0.9884         41        640: 100%|██████████| 54/54 [01:16<00:00,  1.41s/it]\n",
      "                 Class     Images  Instances      Box(P          R      mAP50  mAP50-95): 100%|██████████| 10/10 [00:07<00:00,  1.26it/s]\n"
     ]
    },
    {
     "name": "stdout",
     "output_type": "stream",
     "text": [
      "                   all        300       8649      0.857      0.652      0.725      0.505\n",
      "\n",
      "      Epoch    GPU_mem   box_loss   cls_loss   dfl_loss  Instances       Size\n"
     ]
    },
    {
     "name": "stderr",
     "output_type": "stream",
     "text": [
      "     55/150      14.5G      1.018     0.4974     0.9773         55        640: 100%|██████████| 54/54 [01:15<00:00,  1.41s/it]\n",
      "                 Class     Images  Instances      Box(P          R      mAP50  mAP50-95): 100%|██████████| 10/10 [00:07<00:00,  1.25it/s]\n"
     ]
    },
    {
     "name": "stdout",
     "output_type": "stream",
     "text": [
      "                   all        300       8649      0.856      0.654      0.726      0.507\n",
      "\n",
      "      Epoch    GPU_mem   box_loss   cls_loss   dfl_loss  Instances       Size\n"
     ]
    },
    {
     "name": "stderr",
     "output_type": "stream",
     "text": [
      "     56/150      13.9G      1.009     0.4906     0.9754         49        640: 100%|██████████| 54/54 [01:15<00:00,  1.41s/it]\n",
      "                 Class     Images  Instances      Box(P          R      mAP50  mAP50-95): 100%|██████████| 10/10 [00:07<00:00,  1.26it/s]\n"
     ]
    },
    {
     "name": "stdout",
     "output_type": "stream",
     "text": [
      "                   all        300       8649      0.856      0.653      0.725      0.506\n",
      "\n",
      "      Epoch    GPU_mem   box_loss   cls_loss   dfl_loss  Instances       Size\n"
     ]
    },
    {
     "name": "stderr",
     "output_type": "stream",
     "text": [
      "     57/150      14.2G       1.01     0.4849     0.9691        115        640: 100%|██████████| 54/54 [01:16<00:00,  1.41s/it]\n",
      "                 Class     Images  Instances      Box(P          R      mAP50  mAP50-95): 100%|██████████| 10/10 [00:07<00:00,  1.26it/s]\n"
     ]
    },
    {
     "name": "stdout",
     "output_type": "stream",
     "text": [
      "                   all        300       8649       0.85      0.656      0.726      0.503\n",
      "\n",
      "      Epoch    GPU_mem   box_loss   cls_loss   dfl_loss  Instances       Size\n"
     ]
    },
    {
     "name": "stderr",
     "output_type": "stream",
     "text": [
      "     58/150      13.9G      1.011     0.4928     0.9728        125        640: 100%|██████████| 54/54 [01:15<00:00,  1.41s/it]\n",
      "                 Class     Images  Instances      Box(P          R      mAP50  mAP50-95): 100%|██████████| 10/10 [00:07<00:00,  1.26it/s]\n"
     ]
    },
    {
     "name": "stdout",
     "output_type": "stream",
     "text": [
      "                   all        300       8649      0.852      0.656      0.726      0.505\n",
      "\n",
      "      Epoch    GPU_mem   box_loss   cls_loss   dfl_loss  Instances       Size\n"
     ]
    },
    {
     "name": "stderr",
     "output_type": "stream",
     "text": [
      "     59/150      14.7G      1.033      0.504     0.9741         33        640: 100%|██████████| 54/54 [01:15<00:00,  1.41s/it]\n",
      "                 Class     Images  Instances      Box(P          R      mAP50  mAP50-95): 100%|██████████| 10/10 [00:07<00:00,  1.26it/s]\n"
     ]
    },
    {
     "name": "stdout",
     "output_type": "stream",
     "text": [
      "                   all        300       8649      0.855      0.654      0.725      0.501\n",
      "\n",
      "      Epoch    GPU_mem   box_loss   cls_loss   dfl_loss  Instances       Size\n"
     ]
    },
    {
     "name": "stderr",
     "output_type": "stream",
     "text": [
      "     60/150      14.3G     0.9934     0.4846     0.9697         22        640: 100%|██████████| 54/54 [01:15<00:00,  1.40s/it]\n",
      "                 Class     Images  Instances      Box(P          R      mAP50  mAP50-95): 100%|██████████| 10/10 [00:07<00:00,  1.26it/s]\n"
     ]
    },
    {
     "name": "stdout",
     "output_type": "stream",
     "text": [
      "                   all        300       8649      0.855      0.654      0.726      0.506\n",
      "\n",
      "      Epoch    GPU_mem   box_loss   cls_loss   dfl_loss  Instances       Size\n"
     ]
    },
    {
     "name": "stderr",
     "output_type": "stream",
     "text": [
      "     61/150      14.4G      1.017     0.4883     0.9818         41        640: 100%|██████████| 54/54 [01:15<00:00,  1.39s/it]\n",
      "                 Class     Images  Instances      Box(P          R      mAP50  mAP50-95): 100%|██████████| 10/10 [00:07<00:00,  1.26it/s]\n"
     ]
    },
    {
     "name": "stdout",
     "output_type": "stream",
     "text": [
      "                   all        300       8649      0.852      0.653      0.724      0.501\n",
      "\n",
      "      Epoch    GPU_mem   box_loss   cls_loss   dfl_loss  Instances       Size\n"
     ]
    },
    {
     "name": "stderr",
     "output_type": "stream",
     "text": [
      "     62/150      14.2G      1.015     0.4872     0.9709        110        640: 100%|██████████| 54/54 [01:14<00:00,  1.39s/it]\n",
      "                 Class     Images  Instances      Box(P          R      mAP50  mAP50-95): 100%|██████████| 10/10 [00:07<00:00,  1.25it/s]\n"
     ]
    },
    {
     "name": "stdout",
     "output_type": "stream",
     "text": [
      "                   all        300       8649      0.853      0.653      0.725      0.506\n",
      "\u001b[34m\u001b[1mEarlyStopping: \u001b[0mTraining stopped early as no improvement observed in last 15 epochs. Best results observed at epoch 47, best model saved as best.pt.\n",
      "To update EarlyStopping(patience=15) pass a new patience value, i.e. `patience=300` or use `patience=0` to disable EarlyStopping.\n",
      "\n",
      "62 epochs completed in 1.473 hours.\n",
      "Optimizer stripped from YOLOv8 - Step 2 - AdamW/Optimizer with conf 1/weights/last.pt, 136.7MB\n",
      "Optimizer stripped from YOLOv8 - Step 2 - AdamW/Optimizer with conf 1/weights/best.pt, 136.7MB\n",
      "\n",
      "Validating YOLOv8 - Step 2 - AdamW/Optimizer with conf 1/weights/best.pt...\n",
      "Ultralytics 8.3.56 🚀 Python-3.10.14 torch-2.4.0 CUDA:0 (Tesla T4, 15095MiB)\n",
      "                                                 CUDA:1 (Tesla T4, 15095MiB)\n",
      "Model summary (fused): 268 layers, 68,124,531 parameters, 0 gradients, 257.4 GFLOPs\n"
     ]
    },
    {
     "name": "stderr",
     "output_type": "stream",
     "text": [
      "                 Class     Images  Instances      Box(P          R      mAP50  mAP50-95): 100%|██████████| 10/10 [00:09<00:00,  1.05it/s]\n"
     ]
    },
    {
     "name": "stdout",
     "output_type": "stream",
     "text": [
      "                   all        300       8649      0.856      0.653      0.725      0.508\n",
      "Speed: 0.1ms preprocess, 20.7ms inference, 0.0ms loss, 1.0ms postprocess per image\n",
      "Results saved to \u001b[1mYOLOv8 - Step 2 - AdamW/Optimizer with conf 1\u001b[0m\n"
     ]
    }
   ],
   "source": [
    "results = model.train(\n",
    "    data=\"/kaggle/working/data.yaml\",  \n",
    "    epochs=150,                        \n",
    "    imgsz=640,                         \n",
    "    optimizer=\"AdamW\",                 \n",
    "    patience=15,                       \n",
    "    project=\"YOLOv8 - Step 2 - AdamW\", \n",
    "    name=\"Optimizer with conf 1\",                 \n",
    "    batch=32,   \n",
    "    momentum=0.85,\n",
    "    lr0=0.00001,                       \n",
    "    lrf=0.01,                          \n",
    "    weight_decay=0.0002,               \n",
    "    seed=42,                           \n",
    "    device=[0, 1],                     \n",
    "    cos_lr=True,\n",
    "    warmup_epochs = 10\n",
    ")"
   ]
  },
  {
   "cell_type": "code",
   "execution_count": null,
   "id": "a7cbef84",
   "metadata": {
    "papermill": {
     "duration": 0.201786,
     "end_time": "2025-01-02T19:07:02.420853",
     "exception": false,
     "start_time": "2025-01-02T19:07:02.219067",
     "status": "completed"
    },
    "tags": []
   },
   "outputs": [],
   "source": []
  }
 ],
 "metadata": {
  "kaggle": {
   "accelerator": "nvidiaTeslaT4",
   "dataSources": [
    {
     "datasetId": 6300099,
     "sourceId": 10196256,
     "sourceType": "datasetVersion"
    },
    {
     "datasetId": 6307047,
     "sourceId": 10205822,
     "sourceType": "datasetVersion"
    },
    {
     "modelId": 192655,
     "modelInstanceId": 170338,
     "sourceId": 199695,
     "sourceType": "modelInstanceVersion"
    },
    {
     "modelId": 192927,
     "modelInstanceId": 170613,
     "sourceId": 200009,
     "sourceType": "modelInstanceVersion"
    },
    {
     "modelId": 193306,
     "modelInstanceId": 170991,
     "sourceId": 200431,
     "sourceType": "modelInstanceVersion"
    },
    {
     "isSourceIdPinned": true,
     "modelId": 207253,
     "modelInstanceId": 185107,
     "sourceId": 217091,
     "sourceType": "modelInstanceVersion"
    }
   ],
   "dockerImageVersionId": 30805,
   "isGpuEnabled": true,
   "isInternetEnabled": true,
   "language": "python",
   "sourceType": "notebook"
  },
  "kernelspec": {
   "display_name": "Python 3",
   "language": "python",
   "name": "python3"
  },
  "language_info": {
   "codemirror_mode": {
    "name": "ipython",
    "version": 3
   },
   "file_extension": ".py",
   "mimetype": "text/x-python",
   "name": "python",
   "nbconvert_exporter": "python",
   "pygments_lexer": "ipython3",
   "version": "3.10.14"
  },
  "papermill": {
   "default_parameters": {},
   "duration": 5495.782668,
   "end_time": "2025-01-02T19:07:05.404783",
   "environment_variables": {},
   "exception": null,
   "input_path": "__notebook__.ipynb",
   "output_path": "__notebook__.ipynb",
   "parameters": {},
   "start_time": "2025-01-02T17:35:29.622115",
   "version": "2.6.0"
  }
 },
 "nbformat": 4,
 "nbformat_minor": 5
}
