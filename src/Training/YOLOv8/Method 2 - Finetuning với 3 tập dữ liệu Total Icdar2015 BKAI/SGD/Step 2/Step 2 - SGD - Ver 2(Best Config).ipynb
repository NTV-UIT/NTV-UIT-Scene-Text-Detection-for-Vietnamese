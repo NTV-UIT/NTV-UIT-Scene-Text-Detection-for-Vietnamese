{
 "cells": [
  {
   "cell_type": "code",
   "execution_count": 1,
   "id": "715f0c8d",
   "metadata": {
    "execution": {
     "iopub.execute_input": "2025-01-02T16:14:09.054092Z",
     "iopub.status.busy": "2025-01-02T16:14:09.053367Z",
     "iopub.status.idle": "2025-01-02T16:14:19.249189Z",
     "shell.execute_reply": "2025-01-02T16:14:19.248307Z"
    },
    "papermill": {
     "duration": 10.202479,
     "end_time": "2025-01-02T16:14:19.251179",
     "exception": false,
     "start_time": "2025-01-02T16:14:09.048700",
     "status": "completed"
    },
    "tags": []
   },
   "outputs": [
    {
     "name": "stdout",
     "output_type": "stream",
     "text": [
      "Collecting ultralytics\r\n",
      "  Downloading ultralytics-8.3.56-py3-none-any.whl.metadata (35 kB)\r\n",
      "Requirement already satisfied: numpy>=1.23.0 in /opt/conda/lib/python3.10/site-packages (from ultralytics) (1.26.4)\r\n",
      "Requirement already satisfied: matplotlib>=3.3.0 in /opt/conda/lib/python3.10/site-packages (from ultralytics) (3.7.5)\r\n",
      "Requirement already satisfied: opencv-python>=4.6.0 in /opt/conda/lib/python3.10/site-packages (from ultralytics) (4.10.0.84)\r\n",
      "Requirement already satisfied: pillow>=7.1.2 in /opt/conda/lib/python3.10/site-packages (from ultralytics) (10.3.0)\r\n",
      "Requirement already satisfied: pyyaml>=5.3.1 in /opt/conda/lib/python3.10/site-packages (from ultralytics) (6.0.2)\r\n",
      "Requirement already satisfied: requests>=2.23.0 in /opt/conda/lib/python3.10/site-packages (from ultralytics) (2.32.3)\r\n",
      "Requirement already satisfied: scipy>=1.4.1 in /opt/conda/lib/python3.10/site-packages (from ultralytics) (1.14.1)\r\n",
      "Requirement already satisfied: torch>=1.8.0 in /opt/conda/lib/python3.10/site-packages (from ultralytics) (2.4.0)\r\n",
      "Requirement already satisfied: torchvision>=0.9.0 in /opt/conda/lib/python3.10/site-packages (from ultralytics) (0.19.0)\r\n",
      "Requirement already satisfied: tqdm>=4.64.0 in /opt/conda/lib/python3.10/site-packages (from ultralytics) (4.66.4)\r\n",
      "Requirement already satisfied: psutil in /opt/conda/lib/python3.10/site-packages (from ultralytics) (5.9.3)\r\n",
      "Requirement already satisfied: py-cpuinfo in /opt/conda/lib/python3.10/site-packages (from ultralytics) (9.0.0)\r\n",
      "Requirement already satisfied: pandas>=1.1.4 in /opt/conda/lib/python3.10/site-packages (from ultralytics) (2.2.3)\r\n",
      "Requirement already satisfied: seaborn>=0.11.0 in /opt/conda/lib/python3.10/site-packages (from ultralytics) (0.12.2)\r\n",
      "Collecting ultralytics-thop>=2.0.0 (from ultralytics)\r\n",
      "  Downloading ultralytics_thop-2.0.13-py3-none-any.whl.metadata (9.4 kB)\r\n",
      "Requirement already satisfied: contourpy>=1.0.1 in /opt/conda/lib/python3.10/site-packages (from matplotlib>=3.3.0->ultralytics) (1.2.1)\r\n",
      "Requirement already satisfied: cycler>=0.10 in /opt/conda/lib/python3.10/site-packages (from matplotlib>=3.3.0->ultralytics) (0.12.1)\r\n",
      "Requirement already satisfied: fonttools>=4.22.0 in /opt/conda/lib/python3.10/site-packages (from matplotlib>=3.3.0->ultralytics) (4.53.0)\r\n",
      "Requirement already satisfied: kiwisolver>=1.0.1 in /opt/conda/lib/python3.10/site-packages (from matplotlib>=3.3.0->ultralytics) (1.4.5)\r\n",
      "Requirement already satisfied: packaging>=20.0 in /opt/conda/lib/python3.10/site-packages (from matplotlib>=3.3.0->ultralytics) (21.3)\r\n",
      "Requirement already satisfied: pyparsing>=2.3.1 in /opt/conda/lib/python3.10/site-packages (from matplotlib>=3.3.0->ultralytics) (3.1.2)\r\n",
      "Requirement already satisfied: python-dateutil>=2.7 in /opt/conda/lib/python3.10/site-packages (from matplotlib>=3.3.0->ultralytics) (2.9.0.post0)\r\n",
      "Requirement already satisfied: pytz>=2020.1 in /opt/conda/lib/python3.10/site-packages (from pandas>=1.1.4->ultralytics) (2024.1)\r\n",
      "Requirement already satisfied: tzdata>=2022.7 in /opt/conda/lib/python3.10/site-packages (from pandas>=1.1.4->ultralytics) (2024.1)\r\n",
      "Requirement already satisfied: charset-normalizer<4,>=2 in /opt/conda/lib/python3.10/site-packages (from requests>=2.23.0->ultralytics) (3.3.2)\r\n",
      "Requirement already satisfied: idna<4,>=2.5 in /opt/conda/lib/python3.10/site-packages (from requests>=2.23.0->ultralytics) (3.7)\r\n",
      "Requirement already satisfied: urllib3<3,>=1.21.1 in /opt/conda/lib/python3.10/site-packages (from requests>=2.23.0->ultralytics) (1.26.18)\r\n",
      "Requirement already satisfied: certifi>=2017.4.17 in /opt/conda/lib/python3.10/site-packages (from requests>=2.23.0->ultralytics) (2024.6.2)\r\n",
      "Requirement already satisfied: filelock in /opt/conda/lib/python3.10/site-packages (from torch>=1.8.0->ultralytics) (3.15.1)\r\n",
      "Requirement already satisfied: typing-extensions>=4.8.0 in /opt/conda/lib/python3.10/site-packages (from torch>=1.8.0->ultralytics) (4.12.2)\r\n",
      "Requirement already satisfied: sympy in /opt/conda/lib/python3.10/site-packages (from torch>=1.8.0->ultralytics) (1.13.3)\r\n",
      "Requirement already satisfied: networkx in /opt/conda/lib/python3.10/site-packages (from torch>=1.8.0->ultralytics) (3.3)\r\n",
      "Requirement already satisfied: jinja2 in /opt/conda/lib/python3.10/site-packages (from torch>=1.8.0->ultralytics) (3.1.4)\r\n",
      "Requirement already satisfied: fsspec in /opt/conda/lib/python3.10/site-packages (from torch>=1.8.0->ultralytics) (2024.6.0)\r\n",
      "Requirement already satisfied: six>=1.5 in /opt/conda/lib/python3.10/site-packages (from python-dateutil>=2.7->matplotlib>=3.3.0->ultralytics) (1.16.0)\r\n",
      "Requirement already satisfied: MarkupSafe>=2.0 in /opt/conda/lib/python3.10/site-packages (from jinja2->torch>=1.8.0->ultralytics) (2.1.5)\r\n",
      "Requirement already satisfied: mpmath<1.4,>=1.1.0 in /opt/conda/lib/python3.10/site-packages (from sympy->torch>=1.8.0->ultralytics) (1.3.0)\r\n",
      "Downloading ultralytics-8.3.56-py3-none-any.whl (904 kB)\r\n",
      "\u001b[2K   \u001b[90m━━━━━━━━━━━━━━━━━━━━━━━━━━━━━━━━━━━━━━━━\u001b[0m \u001b[32m904.4/904.4 kB\u001b[0m \u001b[31m15.9 MB/s\u001b[0m eta \u001b[36m0:00:00\u001b[0m\r\n",
      "\u001b[?25hDownloading ultralytics_thop-2.0.13-py3-none-any.whl (26 kB)\r\n",
      "Installing collected packages: ultralytics-thop, ultralytics\r\n",
      "Successfully installed ultralytics-8.3.56 ultralytics-thop-2.0.13\r\n"
     ]
    }
   ],
   "source": [
    "!pip install ultralytics"
   ]
  },
  {
   "cell_type": "code",
   "execution_count": 2,
   "id": "6a225fb0",
   "metadata": {
    "_cell_guid": "b1076dfc-b9ad-4769-8c92-a6c4dae69d19",
    "_uuid": "8f2839f25d086af736a60e9eeb907d3b93b6e0e5",
    "execution": {
     "iopub.execute_input": "2025-01-02T16:14:19.260373Z",
     "iopub.status.busy": "2025-01-02T16:14:19.260063Z",
     "iopub.status.idle": "2025-01-02T16:14:23.374266Z",
     "shell.execute_reply": "2025-01-02T16:14:23.373575Z"
    },
    "papermill": {
     "duration": 4.120881,
     "end_time": "2025-01-02T16:14:23.376214",
     "exception": false,
     "start_time": "2025-01-02T16:14:19.255333",
     "status": "completed"
    },
    "tags": []
   },
   "outputs": [
    {
     "name": "stdout",
     "output_type": "stream",
     "text": [
      "Creating new Ultralytics Settings v0.0.6 file ✅ \n",
      "View Ultralytics Settings with 'yolo settings' or at '/root/.config/Ultralytics/settings.json'\n",
      "Update Settings with 'yolo settings key=value', i.e. 'yolo settings runs_dir=path/to/dir'. For help see https://docs.ultralytics.com/quickstart/#ultralytics-settings.\n"
     ]
    }
   ],
   "source": [
    "import os\n",
    "import glob\n",
    "from PIL import Image\n",
    "from ultralytics import YOLO"
   ]
  },
  {
   "cell_type": "code",
   "execution_count": 3,
   "id": "c1097ccd",
   "metadata": {
    "execution": {
     "iopub.execute_input": "2025-01-02T16:14:23.385416Z",
     "iopub.status.busy": "2025-01-02T16:14:23.385012Z",
     "iopub.status.idle": "2025-01-02T16:14:23.389721Z",
     "shell.execute_reply": "2025-01-02T16:14:23.389090Z"
    },
    "papermill": {
     "duration": 0.010944,
     "end_time": "2025-01-02T16:14:23.391332",
     "exception": false,
     "start_time": "2025-01-02T16:14:23.380388",
     "status": "completed"
    },
    "tags": []
   },
   "outputs": [],
   "source": [
    "# Example usage:\n",
    "BKAI_train_images_folder = '/kaggle/input/bkai-dataset2/vietnamese/train_images'\n",
    "BKAI_labels_folder = '/kaggle/input/bkai-dataset2/vietnamese/labels'\n",
    "\n",
    "BKAI_val_images_folder = '/kaggle/input/bkai-dataset2/vietnamese/test_image'\n",
    "\n",
    "BKAI_test_images_folder = '/kaggle/input/bkai-dataset2/vietnamese/unseen_test_images'\n",
    "\n",
    "BKAI_train_output_images_folder = \"/kaggle/working/train/images\"\n",
    "BKAI_train_output_labels_folder = \"/kaggle/working/train/labels\"\n",
    "\n",
    "BKAI_val_output_images_folder = \"/kaggle/working/val/images\"\n",
    "BKAI_val_output_labels_folder = \"/kaggle/working/val/labels\"\n",
    "\n",
    "BKAI_test_output_images_folder = \"/kaggle/working/test/images\"\n",
    "BKAI_test_output_labels_folder = \"/kaggle/working/test/labels\"\n",
    "\n",
    "# Define paths\n",
    "BKAI1_train_images_folder = '/kaggle/input/bkai-dataset-1/train_imgs/training_img'\n",
    "BKAI1_train_labels_folder = '/kaggle/input/bkai-dataset-1/train_gt/training_gt'\n",
    "BKAI1_train_output_images_folder = \"/kaggle/working/train/images\"\n",
    "BKAI1_train_output_labels_folder = \"/kaggle/working/train/labels\""
   ]
  },
  {
   "cell_type": "code",
   "execution_count": 4,
   "id": "2ba05ec8",
   "metadata": {
    "execution": {
     "iopub.execute_input": "2025-01-02T16:14:23.399939Z",
     "iopub.status.busy": "2025-01-02T16:14:23.399685Z",
     "iopub.status.idle": "2025-01-02T16:14:23.411996Z",
     "shell.execute_reply": "2025-01-02T16:14:23.411284Z"
    },
    "papermill": {
     "duration": 0.018369,
     "end_time": "2025-01-02T16:14:23.413473",
     "exception": false,
     "start_time": "2025-01-02T16:14:23.395104",
     "status": "completed"
    },
    "tags": []
   },
   "outputs": [],
   "source": [
    "import os\n",
    "import shutil\n",
    "from PIL import Image\n",
    "\n",
    "def is_image_valid(image_path):\n",
    "    \"\"\"\n",
    "    Kiểm tra ảnh có hợp lệ không (có thể mở được).\n",
    "    \"\"\"\n",
    "    try:\n",
    "        with Image.open(image_path) as img:\n",
    "            img.verify()  # Kiểm tra tính toàn vẹn của ảnh\n",
    "        return True\n",
    "    except Exception as e:\n",
    "        print(f\"Invalid image: {image_path}, Error: {e}\")\n",
    "        return False\n",
    "\n",
    "def is_bbox_valid(x_min, y_min, x_max, y_max, img_width, img_height):\n",
    "    \"\"\"\n",
    "    Kiểm tra xem bbox có nằm trong giới hạn của ảnh không và có hợp lệ không.\n",
    "    \"\"\"\n",
    "    return 0 <= x_min < x_max <= img_width and 0 <= y_min < y_max <= img_height\n",
    "\n",
    "def convert_to_yolo_format(input_labels_folder, input_images_folder, \n",
    "                           output_labels_folder, output_images_folder):\n",
    "    if not os.path.exists(output_labels_folder):\n",
    "        os.makedirs(output_labels_folder)\n",
    "    if not os.path.exists(output_images_folder):\n",
    "        os.makedirs(output_images_folder)\n",
    "\n",
    "    for label_file in os.listdir(input_labels_folder):\n",
    "        if label_file.endswith('.txt'):\n",
    "            label_path = os.path.join(input_labels_folder, label_file)\n",
    "            output_label_path = os.path.join(output_labels_folder, label_file)\n",
    "\n",
    "            # Lấy file ảnh tương ứng để xác định kích thước\n",
    "            image_file = label_file.replace('gt_', '').replace('.txt', '.jpg')\n",
    "            new_label_name = image_file.replace('.jpg', '.txt')\n",
    "            image_path = os.path.join(input_images_folder, image_file)\n",
    "\n",
    "            if not os.path.exists(image_path) or not is_image_valid(image_path):\n",
    "                continue\n",
    "\n",
    "            with Image.open(image_path) as img:\n",
    "                image_width, image_height = img.size\n",
    "\n",
    "            yolo_labels = []  # Lưu các bbox hợp lệ\n",
    "            with open(label_path, 'r', encoding='utf-8') as f:\n",
    "                lines = f.readlines()\n",
    "\n",
    "            for line in lines:\n",
    "                parts = line.strip().split(',')\n",
    "\n",
    "                # Đảm bảo đủ tọa độ bbox (ít nhất 8 giá trị)\n",
    "                if len(parts) < 8:\n",
    "                    continue\n",
    "\n",
    "                try:\n",
    "                    # Lấy tọa độ bbox\n",
    "                    x1, y1, x2, y2, x3, y3, x4, y4 = map(float, parts[:8])\n",
    "                    x_min = min(x1, x2, x3, x4)\n",
    "                    y_min = min(y1, y2, y3, y4)\n",
    "                    x_max = max(x1, x2, x3, x4)\n",
    "                    y_max = max(y1, y2, y3, y4)\n",
    "\n",
    "                    # Kiểm tra bbox hợp lệ\n",
    "                    if not is_bbox_valid(x_min, y_min, x_max, y_max, image_width, image_height):\n",
    "                        continue\n",
    "\n",
    "                    # Tính tọa độ YOLO format\n",
    "                    bbox_width = (x_max - x_min) / image_width\n",
    "                    bbox_height = (y_max - y_min) / image_height\n",
    "                    x_center = (x_min + x_max) / 2 / image_width\n",
    "                    y_center = (y_min + y_max) / 2 / image_height\n",
    "\n",
    "                    # Gán class_id là 0\n",
    "                    class_id = 0\n",
    "\n",
    "                    yolo_labels.append(f\"{class_id} {x_center:.6f} {y_center:.6f} {bbox_width:.6f} {bbox_height:.6f}\")\n",
    "                except ValueError:\n",
    "                    continue  # Bỏ qua dòng không hợp lệ\n",
    "\n",
    "            # Lưu bbox nếu có bbox hợp lệ\n",
    "            if yolo_labels:\n",
    "                with open(os.path.join(output_labels_folder, new_label_name), 'w') as out_f:\n",
    "                    out_f.write(\"\\n\".join(yolo_labels))\n",
    "\n",
    "                # Sao chép ảnh sang thư mục đầu ra\n",
    "                shutil.copy(image_path, os.path.join(output_images_folder, image_file))"
   ]
  },
  {
   "cell_type": "code",
   "execution_count": 5,
   "id": "9e6f242c",
   "metadata": {
    "execution": {
     "iopub.execute_input": "2025-01-02T16:14:23.422761Z",
     "iopub.status.busy": "2025-01-02T16:14:23.422508Z",
     "iopub.status.idle": "2025-01-02T16:14:30.661273Z",
     "shell.execute_reply": "2025-01-02T16:14:30.660246Z"
    },
    "papermill": {
     "duration": 7.245178,
     "end_time": "2025-01-02T16:14:30.663350",
     "exception": false,
     "start_time": "2025-01-02T16:14:23.418172",
     "status": "completed"
    },
    "tags": []
   },
   "outputs": [],
   "source": [
    "# Call the function\n",
    "convert_to_yolo_format(BKAI1_train_labels_folder, BKAI1_train_images_folder, \n",
    "                       BKAI1_train_output_labels_folder, BKAI1_train_output_images_folder)"
   ]
  },
  {
   "cell_type": "markdown",
   "id": "d126a40a",
   "metadata": {
    "papermill": {
     "duration": 0.003533,
     "end_time": "2025-01-02T16:14:30.670950",
     "exception": false,
     "start_time": "2025-01-02T16:14:30.667417",
     "status": "completed"
    },
    "tags": []
   },
   "source": [
    "# BKAI 2\n"
   ]
  },
  {
   "cell_type": "code",
   "execution_count": 6,
   "id": "69a65b6c",
   "metadata": {
    "execution": {
     "iopub.execute_input": "2025-01-02T16:14:30.679688Z",
     "iopub.status.busy": "2025-01-02T16:14:30.679381Z",
     "iopub.status.idle": "2025-01-02T16:14:30.691333Z",
     "shell.execute_reply": "2025-01-02T16:14:30.690588Z"
    },
    "papermill": {
     "duration": 0.018214,
     "end_time": "2025-01-02T16:14:30.692827",
     "exception": false,
     "start_time": "2025-01-02T16:14:30.674613",
     "status": "completed"
    },
    "tags": []
   },
   "outputs": [],
   "source": [
    "import os\n",
    "import shutil\n",
    "import cv2\n",
    "from PIL import Image\n",
    "\n",
    "def ensure_directories_exist(directories):\n",
    "    \"\"\"\n",
    "    Ensure that all directories in the given list exist.\n",
    "    \"\"\"\n",
    "    for directory in directories:\n",
    "        os.makedirs(directory, exist_ok=True)\n",
    "\n",
    "def convert_bbox_to_yolo(bbox, img_width, img_height):\n",
    "    \"\"\"\n",
    "    Convert bounding box from absolute coordinates to YOLO format.\n",
    "    bbox: [x1, y1, x2, y2, x3, y3, x4, y4]\n",
    "    \"\"\"\n",
    "    x_coords = bbox[0::2]  # [x1, x2, x3, x4]\n",
    "    y_coords = bbox[1::2]  # [y1, y2, y3, y4]\n",
    "    x_min, x_max = min(x_coords), max(x_coords)\n",
    "    y_min, y_max = min(y_coords), max(y_coords)\n",
    "    \n",
    "    x_center = (x_min + x_max) / 2.0 / img_width\n",
    "    y_center = (y_min + y_max) / 2.0 / img_height\n",
    "    width = (x_max - x_min) / img_width\n",
    "    height = (y_max - y_min) / img_height\n",
    "    \n",
    "    return x_center, y_center, width, height\n",
    "\n",
    "def is_bbox_valid(bbox, img_width, img_height):\n",
    "    \"\"\"\n",
    "    Check if the bounding box is within the image boundaries and has valid dimensions.\n",
    "    bbox: [x1, y1, x2, y2, x3, y3, x4, y4]\n",
    "    \"\"\"\n",
    "    x_coords = bbox[0::2]\n",
    "    y_coords = bbox[1::2]\n",
    "    \n",
    "    x_min, x_max = min(x_coords), max(x_coords)\n",
    "    y_min, y_max = min(y_coords), max(y_coords)\n",
    "    \n",
    "    # Check if the bbox is within the image boundaries\n",
    "    return 0 <= x_min < x_max <= img_width and 0 <= y_min < y_max <= img_height\n",
    "\n",
    "def is_image_valid(image_path):\n",
    "    \"\"\"\n",
    "    Check if the image is valid (can be opened).\n",
    "    \"\"\"\n",
    "    try:\n",
    "        # Use OpenCV to check if the image can be read\n",
    "        img = cv2.imread(image_path)\n",
    "        if img is None:\n",
    "            raise ValueError(\"Image could not be read with OpenCV\")\n",
    "        \n",
    "        # Alternatively, use PIL to ensure the image is not corrupt\n",
    "        img_pil = Image.open(image_path)\n",
    "        img_pil.verify()  # Verify the image integrity\n",
    "        return True\n",
    "    except Exception as e:\n",
    "        print(f\"Error with image {image_path}: {e}\")\n",
    "        return False\n",
    "\n",
    "def process_labels_and_images(\n",
    "    images_folder, labels_folder, output_images_folder, output_labels_folder\n",
    "):\n",
    "    \"\"\"\n",
    "    Process images and their corresponding label files, converting bounding boxes to YOLO format.\n",
    "    \"\"\"\n",
    "    ensure_directories_exist([output_images_folder, output_labels_folder])\n",
    "    \n",
    "    for image_name in os.listdir(images_folder):\n",
    "        if not image_name.endswith('.jpg'):\n",
    "            continue\n",
    "\n",
    "        # Map image to label\n",
    "        image_id = str(int(image_name.split('.')[0].replace(\"im\", \"\")))  # e.g., im0001 -> 1\n",
    "        label_file = os.path.join(labels_folder, f\"gt_{image_id}.txt\")\n",
    "        if not os.path.exists(label_file):\n",
    "            continue\n",
    "\n",
    "        # Read image dimensions\n",
    "        image_path = os.path.join(images_folder, image_name)\n",
    "        \n",
    "        # Check if image is valid\n",
    "        if not is_image_valid(image_path):\n",
    "            continue  # Skip the image if it's corrupt\n",
    "\n",
    "        img = cv2.imread(image_path)\n",
    "        img_height, img_width = img.shape[:2]\n",
    "\n",
    "        # Process label file\n",
    "        yolo_labels = []\n",
    "        for line in open(label_file, 'r', encoding='utf-8'):\n",
    "            parts = line.strip().split(',')\n",
    "            bbox = list(map(int, parts[:8]))  # First 8 values are bbox\n",
    "            label = parts[8]  # Last value is the text/label\n",
    "\n",
    "            # Check if the bbox is valid\n",
    "            if is_bbox_valid(bbox, img_width, img_height):\n",
    "                # Convert bbox to YOLO format\n",
    "                x_center, y_center, width, height = convert_bbox_to_yolo(bbox, img_width, img_height)\n",
    "                yolo_labels.append(f\"0 {x_center} {y_center} {width} {height}\")\n",
    "        \n",
    "        if not yolo_labels:  # Skip image if no valid bbox\n",
    "            continue\n",
    "        \n",
    "        # Save image to output folder\n",
    "        new_image_name = f\"{image_id}.jpg\"\n",
    "        shutil.copy(image_path, os.path.join(output_images_folder, new_image_name))\n",
    "\n",
    "        # Save YOLO labels to output folder\n",
    "        output_label_file = os.path.join(output_labels_folder, f\"{image_id}.txt\")\n",
    "        with open(output_label_file, 'w') as f:\n",
    "            f.write(\"\\n\".join(yolo_labels))"
   ]
  },
  {
   "cell_type": "code",
   "execution_count": 7,
   "id": "97e770ba",
   "metadata": {
    "execution": {
     "iopub.execute_input": "2025-01-02T16:14:30.701445Z",
     "iopub.status.busy": "2025-01-02T16:14:30.700942Z",
     "iopub.status.idle": "2025-01-02T16:15:32.088925Z",
     "shell.execute_reply": "2025-01-02T16:15:32.087993Z"
    },
    "papermill": {
     "duration": 61.394648,
     "end_time": "2025-01-02T16:15:32.091151",
     "exception": false,
     "start_time": "2025-01-02T16:14:30.696503",
     "status": "completed"
    },
    "tags": []
   },
   "outputs": [],
   "source": [
    "process_labels_and_images(\n",
    "    BKAI_train_images_folder, \n",
    "    BKAI_labels_folder, \n",
    "    BKAI_train_output_images_folder, \n",
    "    BKAI_train_output_labels_folder\n",
    ")"
   ]
  },
  {
   "cell_type": "code",
   "execution_count": 8,
   "id": "07a7d6eb",
   "metadata": {
    "execution": {
     "iopub.execute_input": "2025-01-02T16:15:32.100436Z",
     "iopub.status.busy": "2025-01-02T16:15:32.100137Z",
     "iopub.status.idle": "2025-01-02T16:15:46.479056Z",
     "shell.execute_reply": "2025-01-02T16:15:46.478095Z"
    },
    "papermill": {
     "duration": 14.385854,
     "end_time": "2025-01-02T16:15:46.481171",
     "exception": false,
     "start_time": "2025-01-02T16:15:32.095317",
     "status": "completed"
    },
    "tags": []
   },
   "outputs": [],
   "source": [
    "process_labels_and_images(\n",
    "    BKAI_val_images_folder, \n",
    "    BKAI_labels_folder, \n",
    "    BKAI_val_output_images_folder, \n",
    "    BKAI_val_output_labels_folder\n",
    ")"
   ]
  },
  {
   "cell_type": "code",
   "execution_count": 9,
   "id": "4313ae86",
   "metadata": {
    "execution": {
     "iopub.execute_input": "2025-01-02T16:15:46.490605Z",
     "iopub.status.busy": "2025-01-02T16:15:46.489832Z",
     "iopub.status.idle": "2025-01-02T16:16:11.907679Z",
     "shell.execute_reply": "2025-01-02T16:16:11.906960Z"
    },
    "papermill": {
     "duration": 25.424443,
     "end_time": "2025-01-02T16:16:11.909700",
     "exception": false,
     "start_time": "2025-01-02T16:15:46.485257",
     "status": "completed"
    },
    "tags": []
   },
   "outputs": [],
   "source": [
    "process_labels_and_images(\n",
    "    BKAI_test_images_folder, \n",
    "    BKAI_labels_folder, \n",
    "    BKAI_test_output_images_folder, \n",
    "    BKAI_test_output_labels_folder\n",
    ")"
   ]
  },
  {
   "cell_type": "code",
   "execution_count": 10,
   "id": "2479aea9",
   "metadata": {
    "execution": {
     "iopub.execute_input": "2025-01-02T16:16:11.918920Z",
     "iopub.status.busy": "2025-01-02T16:16:11.918647Z",
     "iopub.status.idle": "2025-01-02T16:16:11.924577Z",
     "shell.execute_reply": "2025-01-02T16:16:11.923676Z"
    },
    "papermill": {
     "duration": 0.012357,
     "end_time": "2025-01-02T16:16:11.926263",
     "exception": false,
     "start_time": "2025-01-02T16:16:11.913906",
     "status": "completed"
    },
    "tags": []
   },
   "outputs": [
    {
     "name": "stdout",
     "output_type": "stream",
     "text": [
      "File 'data.yaml' đã được tạo tại: /kaggle/working/data.yaml\n"
     ]
    }
   ],
   "source": [
    "# Tạo đường dẫn tới file YAML\n",
    "dataset_dir = \"/kaggle/working\"\n",
    "os.makedirs(dataset_dir, exist_ok=True)\n",
    "yaml_file = os.path.join(dataset_dir, \"data.yaml\")\n",
    "\n",
    "# Nội dung file YAML\n",
    "yaml_content = \"\"\"\n",
    "train: /kaggle/working/train/images\n",
    "val: /kaggle/working/val/images\n",
    "\n",
    "nc: 1  # Số nhãn (với OCR chỉ là 1 lớp văn bản)\n",
    "names: ['text']\n",
    "\"\"\"\n",
    "\n",
    "# Ghi nội dung vào file YAML\n",
    "with open(yaml_file, \"w\") as f:\n",
    "    f.write(yaml_content.strip())\n",
    "\n",
    "print(f\"File 'data.yaml' đã được tạo tại: {yaml_file}\")"
   ]
  },
  {
   "cell_type": "code",
   "execution_count": 11,
   "id": "8f68b20d",
   "metadata": {
    "execution": {
     "iopub.execute_input": "2025-01-02T16:16:11.934856Z",
     "iopub.status.busy": "2025-01-02T16:16:11.934346Z",
     "iopub.status.idle": "2025-01-02T16:16:13.451913Z",
     "shell.execute_reply": "2025-01-02T16:16:13.451059Z"
    },
    "papermill": {
     "duration": 1.523619,
     "end_time": "2025-01-02T16:16:13.453540",
     "exception": false,
     "start_time": "2025-01-02T16:16:11.929921",
     "status": "completed"
    },
    "tags": []
   },
   "outputs": [
    {
     "name": "stdout",
     "output_type": "stream",
     "text": [
      "Model summary: 365 layers, 68,153,571 parameters, 0 gradients, 258.1 GFLOPs\n"
     ]
    },
    {
     "data": {
      "text/plain": [
       "(365, 68153571, 0, 258.1225472)"
      ]
     },
     "execution_count": 11,
     "metadata": {},
     "output_type": "execute_result"
    }
   ],
   "source": [
    "# Load a COCO-pretrained YOLOv8n model\n",
    "model = YOLO(\"/kaggle/input/train-li-step-1-vinhx-ver-4/pytorch/default/1/best (1).pt\")\n",
    "\n",
    "# Display model information (optional)\n",
    "model.info()"
   ]
  },
  {
   "cell_type": "code",
   "execution_count": 12,
   "id": "fc472ca6",
   "metadata": {
    "execution": {
     "iopub.execute_input": "2025-01-02T16:16:13.463192Z",
     "iopub.status.busy": "2025-01-02T16:16:13.462616Z",
     "iopub.status.idle": "2025-01-02T17:46:35.273763Z",
     "shell.execute_reply": "2025-01-02T17:46:35.272615Z"
    },
    "papermill": {
     "duration": 5421.818604,
     "end_time": "2025-01-02T17:46:35.276380",
     "exception": false,
     "start_time": "2025-01-02T16:16:13.457776",
     "status": "completed"
    },
    "tags": []
   },
   "outputs": [
    {
     "name": "stdout",
     "output_type": "stream",
     "text": [
      "Ultralytics 8.3.56 🚀 Python-3.10.14 torch-2.4.0 CUDA:0 (Tesla T4, 15095MiB)\n",
      "                                                 CUDA:1 (Tesla T4, 15095MiB)\n",
      "\u001b[34m\u001b[1mengine/trainer: \u001b[0mtask=detect, mode=train, model=/kaggle/input/train-li-step-1-vinhx-ver-4/pytorch/default/1/best (1).pt, data=/kaggle/working/data.yaml, epochs=200, time=None, patience=15, batch=32, imgsz=640, save=True, save_period=-1, cache=False, device=[0, 1], workers=8, project=YOLOv8 - Step 1 - SGD, name=Step 2 Vinhx ver 1, exist_ok=False, pretrained=True, optimizer=SGD, verbose=True, seed=42, deterministic=True, single_cls=False, rect=False, cos_lr=True, close_mosaic=10, resume=False, amp=True, fraction=1.0, profile=False, freeze=None, multi_scale=False, overlap_mask=True, mask_ratio=4, dropout=0.0, val=True, split=val, save_json=False, save_hybrid=False, conf=None, iou=0.7, max_det=300, half=False, dnn=False, plots=True, source=None, vid_stride=1, stream_buffer=False, visualize=False, augment=False, agnostic_nms=False, classes=None, retina_masks=False, embed=None, show=False, save_frames=False, save_txt=False, save_conf=False, save_crop=False, show_labels=True, show_conf=True, show_boxes=True, line_width=None, format=torchscript, keras=False, optimize=False, int8=False, dynamic=False, simplify=True, opset=None, workspace=None, nms=False, lr0=0.0001, lrf=0.01, momentum=0.9, weight_decay=0.005, warmup_epochs=10, warmup_momentum=0.8, warmup_bias_lr=0.1, box=7.5, cls=0.5, dfl=1.5, pose=12.0, kobj=1.0, nbs=64, hsv_h=0.015, hsv_s=0.7, hsv_v=0.4, degrees=0.0, translate=0.1, scale=0.5, shear=0.0, perspective=0.0, flipud=0.0, fliplr=0.5, bgr=0.0, mosaic=1.0, mixup=0.0, copy_paste=0.0, copy_paste_mode=flip, auto_augment=randaugment, erasing=0.4, crop_fraction=1.0, cfg=None, tracker=botsort.yaml, save_dir=YOLOv8 - Step 1 - SGD/Step 2 Vinhx ver 1\n",
      "Downloading https://ultralytics.com/assets/Arial.ttf to '/root/.config/Ultralytics/Arial.ttf'...\n"
     ]
    },
    {
     "name": "stderr",
     "output_type": "stream",
     "text": [
      "100%|██████████| 755k/755k [00:00<00:00, 18.0MB/s]\n"
     ]
    },
    {
     "name": "stdout",
     "output_type": "stream",
     "text": [
      "\n",
      "                   from  n    params  module                                       arguments                     \n",
      "  0                  -1  1      2320  ultralytics.nn.modules.conv.Conv             [3, 80, 3, 2]                 \n",
      "  1                  -1  1    115520  ultralytics.nn.modules.conv.Conv             [80, 160, 3, 2]               \n",
      "  2                  -1  3    436800  ultralytics.nn.modules.block.C2f             [160, 160, 3, True]           \n",
      "  3                  -1  1    461440  ultralytics.nn.modules.conv.Conv             [160, 320, 3, 2]              \n",
      "  4                  -1  6   3281920  ultralytics.nn.modules.block.C2f             [320, 320, 6, True]           \n",
      "  5                  -1  1   1844480  ultralytics.nn.modules.conv.Conv             [320, 640, 3, 2]              \n",
      "  6                  -1  6  13117440  ultralytics.nn.modules.block.C2f             [640, 640, 6, True]           \n",
      "  7                  -1  1   3687680  ultralytics.nn.modules.conv.Conv             [640, 640, 3, 2]              \n",
      "  8                  -1  3   6969600  ultralytics.nn.modules.block.C2f             [640, 640, 3, True]           \n",
      "  9                  -1  1   1025920  ultralytics.nn.modules.block.SPPF            [640, 640, 5]                 \n",
      " 10                  -1  1         0  torch.nn.modules.upsampling.Upsample         [None, 2, 'nearest']          \n",
      " 11             [-1, 6]  1         0  ultralytics.nn.modules.conv.Concat           [1]                           \n",
      " 12                  -1  3   7379200  ultralytics.nn.modules.block.C2f             [1280, 640, 3]                \n",
      " 13                  -1  1         0  torch.nn.modules.upsampling.Upsample         [None, 2, 'nearest']          \n",
      " 14             [-1, 4]  1         0  ultralytics.nn.modules.conv.Concat           [1]                           \n",
      " 15                  -1  3   1948800  ultralytics.nn.modules.block.C2f             [960, 320, 3]                 \n",
      " 16                  -1  1    922240  ultralytics.nn.modules.conv.Conv             [320, 320, 3, 2]              \n",
      " 17            [-1, 12]  1         0  ultralytics.nn.modules.conv.Concat           [1]                           \n",
      " 18                  -1  3   7174400  ultralytics.nn.modules.block.C2f             [960, 640, 3]                 \n",
      " 19                  -1  1   3687680  ultralytics.nn.modules.conv.Conv             [640, 640, 3, 2]              \n",
      " 20             [-1, 9]  1         0  ultralytics.nn.modules.conv.Concat           [1]                           \n",
      " 21                  -1  3   7379200  ultralytics.nn.modules.block.C2f             [1280, 640, 3]                \n",
      " 22        [15, 18, 21]  1   8718931  ultralytics.nn.modules.head.Detect           [1, [320, 640, 640]]          \n",
      "Model summary: 365 layers, 68,153,571 parameters, 68,153,555 gradients, 258.1 GFLOPs\n",
      "\n",
      "Transferred 595/595 items from pretrained weights\n",
      "\u001b[34m\u001b[1mDDP:\u001b[0m debug command /opt/conda/bin/python -m torch.distributed.run --nproc_per_node 2 --master_port 47673 /root/.config/Ultralytics/DDP/_temp_c96tjkhf134214654910400.py\n",
      "Ultralytics 8.3.56 🚀 Python-3.10.14 torch-2.4.0 CUDA:0 (Tesla T4, 15095MiB)\n",
      "                                                 CUDA:1 (Tesla T4, 15095MiB)\n",
      "\u001b[34m\u001b[1mTensorBoard: \u001b[0mStart with 'tensorboard --logdir YOLOv8 - Step 1 - SGD/Step 2 Vinhx ver 1', view at http://localhost:6006/\n",
      "Transferred 595/595 items from pretrained weights\n",
      "Freezing layer 'model.22.dfl.conv.weight'\n",
      "\u001b[34m\u001b[1mAMP: \u001b[0mrunning Automatic Mixed Precision (AMP) checks...\n",
      "Downloading https://github.com/ultralytics/assets/releases/download/v8.3.0/yolo11n.pt to 'yolo11n.pt'...\n"
     ]
    },
    {
     "name": "stderr",
     "output_type": "stream",
     "text": [
      "100%|██████████| 5.35M/5.35M [00:00<00:00, 75.2MB/s]\n"
     ]
    },
    {
     "name": "stdout",
     "output_type": "stream",
     "text": [
      "\u001b[34m\u001b[1mAMP: \u001b[0mchecks passed ✅\n"
     ]
    },
    {
     "name": "stderr",
     "output_type": "stream",
     "text": [
      "\u001b[34m\u001b[1mtrain: \u001b[0mScanning /kaggle/working/train/labels... 1700 images, 0 backgrounds, 0 corrupt: 100%|██████████| 1700/1700 [00:04<00:00, 393.30it/s]\n"
     ]
    },
    {
     "name": "stdout",
     "output_type": "stream",
     "text": [
      "\u001b[34m\u001b[1mtrain: \u001b[0mWARNING ⚠️ /kaggle/working/train/images/101.jpg: corrupt JPEG restored and saved\n",
      "\u001b[34m\u001b[1mtrain: \u001b[0mWARNING ⚠️ /kaggle/working/train/images/1014.jpg: corrupt JPEG restored and saved\n",
      "\u001b[34m\u001b[1mtrain: \u001b[0mWARNING ⚠️ /kaggle/working/train/images/1063.jpg: corrupt JPEG restored and saved\n",
      "\u001b[34m\u001b[1mtrain: \u001b[0mWARNING ⚠️ /kaggle/working/train/images/1081.jpg: corrupt JPEG restored and saved\n",
      "\u001b[34m\u001b[1mtrain: \u001b[0mWARNING ⚠️ /kaggle/working/train/images/1085.jpg: corrupt JPEG restored and saved\n",
      "\u001b[34m\u001b[1mtrain: \u001b[0mWARNING ⚠️ /kaggle/working/train/images/111.jpg: corrupt JPEG restored and saved\n",
      "\u001b[34m\u001b[1mtrain: \u001b[0mWARNING ⚠️ /kaggle/working/train/images/1131.jpg: corrupt JPEG restored and saved\n",
      "\u001b[34m\u001b[1mtrain: \u001b[0mWARNING ⚠️ /kaggle/working/train/images/1134.jpg: corrupt JPEG restored and saved\n",
      "\u001b[34m\u001b[1mtrain: \u001b[0mWARNING ⚠️ /kaggle/working/train/images/1194.jpg: corrupt JPEG restored and saved\n",
      "\u001b[34m\u001b[1mtrain: \u001b[0mWARNING ⚠️ /kaggle/working/train/images/12.jpg: corrupt JPEG restored and saved\n",
      "\u001b[34m\u001b[1mtrain: \u001b[0mWARNING ⚠️ /kaggle/working/train/images/173.jpg: corrupt JPEG restored and saved\n",
      "\u001b[34m\u001b[1mtrain: \u001b[0mWARNING ⚠️ /kaggle/working/train/images/235.jpg: corrupt JPEG restored and saved\n",
      "\u001b[34m\u001b[1mtrain: \u001b[0mWARNING ⚠️ /kaggle/working/train/images/243.jpg: corrupt JPEG restored and saved\n",
      "\u001b[34m\u001b[1mtrain: \u001b[0mWARNING ⚠️ /kaggle/working/train/images/294.jpg: corrupt JPEG restored and saved\n",
      "\u001b[34m\u001b[1mtrain: \u001b[0mWARNING ⚠️ /kaggle/working/train/images/305.jpg: corrupt JPEG restored and saved\n",
      "\u001b[34m\u001b[1mtrain: \u001b[0mWARNING ⚠️ /kaggle/working/train/images/40.jpg: corrupt JPEG restored and saved\n",
      "\u001b[34m\u001b[1mtrain: \u001b[0mWARNING ⚠️ /kaggle/working/train/images/413.jpg: 1 duplicate labels removed\n",
      "\u001b[34m\u001b[1mtrain: \u001b[0mWARNING ⚠️ /kaggle/working/train/images/482.jpg: corrupt JPEG restored and saved\n",
      "\u001b[34m\u001b[1mtrain: \u001b[0mWARNING ⚠️ /kaggle/working/train/images/500.jpg: corrupt JPEG restored and saved\n",
      "\u001b[34m\u001b[1mtrain: \u001b[0mWARNING ⚠️ /kaggle/working/train/images/577.jpg: corrupt JPEG restored and saved\n",
      "\u001b[34m\u001b[1mtrain: \u001b[0mWARNING ⚠️ /kaggle/working/train/images/666.jpg: corrupt JPEG restored and saved\n",
      "\u001b[34m\u001b[1mtrain: \u001b[0mWARNING ⚠️ /kaggle/working/train/images/676.jpg: corrupt JPEG restored and saved\n",
      "\u001b[34m\u001b[1mtrain: \u001b[0mWARNING ⚠️ /kaggle/working/train/images/698.jpg: corrupt JPEG restored and saved\n",
      "\u001b[34m\u001b[1mtrain: \u001b[0mWARNING ⚠️ /kaggle/working/train/images/708.jpg: corrupt JPEG restored and saved\n",
      "\u001b[34m\u001b[1mtrain: \u001b[0mWARNING ⚠️ /kaggle/working/train/images/714.jpg: corrupt JPEG restored and saved\n",
      "\u001b[34m\u001b[1mtrain: \u001b[0mWARNING ⚠️ /kaggle/working/train/images/716.jpg: corrupt JPEG restored and saved\n",
      "\u001b[34m\u001b[1mtrain: \u001b[0mWARNING ⚠️ /kaggle/working/train/images/738.jpg: corrupt JPEG restored and saved\n",
      "\u001b[34m\u001b[1mtrain: \u001b[0mWARNING ⚠️ /kaggle/working/train/images/8.jpg: corrupt JPEG restored and saved\n",
      "\u001b[34m\u001b[1mtrain: \u001b[0mWARNING ⚠️ /kaggle/working/train/images/878.jpg: corrupt JPEG restored and saved\n",
      "\u001b[34m\u001b[1mtrain: \u001b[0mWARNING ⚠️ /kaggle/working/train/images/908.jpg: corrupt JPEG restored and saved\n",
      "\u001b[34m\u001b[1mtrain: \u001b[0mWARNING ⚠️ /kaggle/working/train/images/969.jpg: corrupt JPEG restored and saved\n",
      "\u001b[34m\u001b[1mtrain: \u001b[0mNew cache created: /kaggle/working/train/labels.cache\n"
     ]
    },
    {
     "name": "stderr",
     "output_type": "stream",
     "text": [
      "/opt/conda/lib/python3.10/site-packages/albumentations/__init__.py:24: UserWarning: A new version of Albumentations is available: 1.4.24 (you have 1.4.21). Upgrade using: pip install -U albumentations. To disable automatic update checks, set the environment variable NO_ALBUMENTATIONS_UPDATE to 1.\n",
      "  check_for_updates()\n",
      "/opt/conda/lib/python3.10/multiprocessing/popen_fork.py:66: RuntimeWarning: os.fork() was called. os.fork() is incompatible with multithreaded code, and JAX is multithreaded, so this will likely lead to a deadlock.\n",
      "  self.pid = os.fork()\n",
      "\u001b[34m\u001b[1mval: \u001b[0mScanning /kaggle/working/val/labels...:   0%|          | 0/300 [00:00<?, ?it/s]"
     ]
    },
    {
     "name": "stdout",
     "output_type": "stream",
     "text": [
      "\u001b[34m\u001b[1malbumentations: \u001b[0mBlur(p=0.01, blur_limit=(3, 7)), MedianBlur(p=0.01, blur_limit=(3, 7)), ToGray(p=0.01, num_output_channels=3, method='weighted_average'), CLAHE(p=0.01, clip_limit=(1.0, 4.0), tile_grid_size=(8, 8))\n"
     ]
    },
    {
     "name": "stderr",
     "output_type": "stream",
     "text": [
      "\u001b[34m\u001b[1mval: \u001b[0mScanning /kaggle/working/val/labels... 300 images, 0 backgrounds, 0 corrupt: 100%|██████████| 300/300 [00:00<00:00, 396.55it/s]\n"
     ]
    },
    {
     "name": "stdout",
     "output_type": "stream",
     "text": [
      "\u001b[34m\u001b[1mval: \u001b[0mWARNING ⚠️ /kaggle/working/val/images/1238.jpg: corrupt JPEG restored and saved\n",
      "\u001b[34m\u001b[1mval: \u001b[0mNew cache created: /kaggle/working/val/labels.cache\n"
     ]
    },
    {
     "name": "stderr",
     "output_type": "stream",
     "text": [
      "/opt/conda/lib/python3.10/site-packages/albumentations/__init__.py:24: UserWarning: A new version of Albumentations is available: 1.4.24 (you have 1.4.21). Upgrade using: pip install -U albumentations. To disable automatic update checks, set the environment variable NO_ALBUMENTATIONS_UPDATE to 1.\n",
      "  check_for_updates()\n"
     ]
    },
    {
     "name": "stdout",
     "output_type": "stream",
     "text": [
      "Plotting labels to YOLOv8 - Step 1 - SGD/Step 2 Vinhx ver 1/labels.jpg... \n",
      "\u001b[34m\u001b[1moptimizer:\u001b[0m SGD(lr=0.0001, momentum=0.9) with parameter groups 97 weight(decay=0.0), 104 weight(decay=0.005), 103 bias(decay=0.0)\n",
      "\u001b[34m\u001b[1mTensorBoard: \u001b[0mmodel graph visualization added ✅\n",
      "Image sizes 640 train, 640 val\n",
      "Using 4 dataloader workers\n",
      "Logging results to \u001b[1mYOLOv8 - Step 1 - SGD/Step 2 Vinhx ver 1\u001b[0m\n",
      "Starting training for 200 epochs...\n",
      "\n",
      "      Epoch    GPU_mem   box_loss   cls_loss   dfl_loss  Instances       Size\n"
     ]
    },
    {
     "name": "stderr",
     "output_type": "stream",
     "text": [
      "      1/200      14.2G      1.402     0.7655      1.151         57        640: 100%|██████████| 54/54 [01:11<00:00,  1.32s/it]\n",
      "                 Class     Images  Instances      Box(P          R      mAP50  mAP50-95): 100%|██████████| 10/10 [00:09<00:00,  1.02it/s]\n"
     ]
    },
    {
     "name": "stdout",
     "output_type": "stream",
     "text": [
      "                   all        300       8649      0.833      0.586      0.656      0.401\n",
      "\n",
      "      Epoch    GPU_mem   box_loss   cls_loss   dfl_loss  Instances       Size\n"
     ]
    },
    {
     "name": "stderr",
     "output_type": "stream",
     "text": [
      "      2/200      13.6G      1.292     0.7072      1.087         47        640: 100%|██████████| 54/54 [01:18<00:00,  1.46s/it]\n",
      "                 Class     Images  Instances      Box(P          R      mAP50  mAP50-95): 100%|██████████| 10/10 [00:08<00:00,  1.13it/s]\n"
     ]
    },
    {
     "name": "stdout",
     "output_type": "stream",
     "text": [
      "                   all        300       8649      0.818       0.61      0.662      0.413\n",
      "\n",
      "      Epoch    GPU_mem   box_loss   cls_loss   dfl_loss  Instances       Size\n"
     ]
    },
    {
     "name": "stderr",
     "output_type": "stream",
     "text": [
      "      3/200      13.6G      1.226     0.6425      1.048         79        640: 100%|██████████| 54/54 [01:19<00:00,  1.47s/it]\n",
      "                 Class     Images  Instances      Box(P          R      mAP50  mAP50-95): 100%|██████████| 10/10 [00:08<00:00,  1.12it/s]\n"
     ]
    },
    {
     "name": "stdout",
     "output_type": "stream",
     "text": [
      "                   all        300       8649      0.824      0.619       0.67      0.428\n",
      "\n",
      "      Epoch    GPU_mem   box_loss   cls_loss   dfl_loss  Instances       Size\n"
     ]
    },
    {
     "name": "stderr",
     "output_type": "stream",
     "text": [
      "      4/200      14.3G      1.204     0.6518       1.04         40        640: 100%|██████████| 54/54 [01:19<00:00,  1.48s/it]\n",
      "                 Class     Images  Instances      Box(P          R      mAP50  mAP50-95): 100%|██████████| 10/10 [00:08<00:00,  1.11it/s]\n"
     ]
    },
    {
     "name": "stdout",
     "output_type": "stream",
     "text": [
      "                   all        300       8649      0.828      0.622      0.677      0.441\n",
      "\n",
      "      Epoch    GPU_mem   box_loss   cls_loss   dfl_loss  Instances       Size\n"
     ]
    },
    {
     "name": "stderr",
     "output_type": "stream",
     "text": [
      "      5/200      13.6G       1.17     0.6188      1.022        121        640: 100%|██████████| 54/54 [01:19<00:00,  1.48s/it]\n",
      "                 Class     Images  Instances      Box(P          R      mAP50  mAP50-95): 100%|██████████| 10/10 [00:08<00:00,  1.12it/s]\n"
     ]
    },
    {
     "name": "stdout",
     "output_type": "stream",
     "text": [
      "                   all        300       8649      0.833      0.624       0.68      0.445\n",
      "\n",
      "      Epoch    GPU_mem   box_loss   cls_loss   dfl_loss  Instances       Size\n"
     ]
    },
    {
     "name": "stderr",
     "output_type": "stream",
     "text": [
      "      6/200      13.6G      1.168     0.6035      1.027         39        640: 100%|██████████| 54/54 [01:18<00:00,  1.46s/it]\n",
      "                 Class     Images  Instances      Box(P          R      mAP50  mAP50-95): 100%|██████████| 10/10 [00:09<00:00,  1.10it/s]\n"
     ]
    },
    {
     "name": "stdout",
     "output_type": "stream",
     "text": [
      "                   all        300       8649      0.839      0.622      0.684      0.452\n",
      "\n",
      "      Epoch    GPU_mem   box_loss   cls_loss   dfl_loss  Instances       Size\n"
     ]
    },
    {
     "name": "stderr",
     "output_type": "stream",
     "text": [
      "      7/200      13.4G      1.165     0.6071      1.023         54        640: 100%|██████████| 54/54 [01:19<00:00,  1.46s/it]\n",
      "                 Class     Images  Instances      Box(P          R      mAP50  mAP50-95): 100%|██████████| 10/10 [00:08<00:00,  1.14it/s]\n"
     ]
    },
    {
     "name": "stdout",
     "output_type": "stream",
     "text": [
      "                   all        300       8649      0.835      0.629      0.689      0.457\n",
      "\n",
      "      Epoch    GPU_mem   box_loss   cls_loss   dfl_loss  Instances       Size\n"
     ]
    },
    {
     "name": "stderr",
     "output_type": "stream",
     "text": [
      "      8/200      13.5G       1.16     0.6056      1.013        116        640: 100%|██████████| 54/54 [01:19<00:00,  1.47s/it]\n",
      "                 Class     Images  Instances      Box(P          R      mAP50  mAP50-95): 100%|██████████| 10/10 [00:08<00:00,  1.14it/s]\n"
     ]
    },
    {
     "name": "stdout",
     "output_type": "stream",
     "text": [
      "                   all        300       8649      0.833      0.634      0.692      0.461\n",
      "\n",
      "      Epoch    GPU_mem   box_loss   cls_loss   dfl_loss  Instances       Size\n"
     ]
    },
    {
     "name": "stderr",
     "output_type": "stream",
     "text": [
      "      9/200        13G      1.127     0.5786      1.001        101        640: 100%|██████████| 54/54 [01:18<00:00,  1.46s/it]\n",
      "                 Class     Images  Instances      Box(P          R      mAP50  mAP50-95): 100%|██████████| 10/10 [00:08<00:00,  1.11it/s]\n"
     ]
    },
    {
     "name": "stdout",
     "output_type": "stream",
     "text": [
      "                   all        300       8649      0.832      0.638      0.699      0.467\n",
      "\n",
      "      Epoch    GPU_mem   box_loss   cls_loss   dfl_loss  Instances       Size\n"
     ]
    },
    {
     "name": "stderr",
     "output_type": "stream",
     "text": [
      "     10/200      13.5G      1.138     0.5954      1.005        142        640: 100%|██████████| 54/54 [01:18<00:00,  1.46s/it]\n",
      "                 Class     Images  Instances      Box(P          R      mAP50  mAP50-95): 100%|██████████| 10/10 [00:08<00:00,  1.11it/s]\n"
     ]
    },
    {
     "name": "stdout",
     "output_type": "stream",
     "text": [
      "                   all        300       8649      0.833       0.64      0.701      0.472\n",
      "\n",
      "      Epoch    GPU_mem   box_loss   cls_loss   dfl_loss  Instances       Size\n"
     ]
    },
    {
     "name": "stderr",
     "output_type": "stream",
     "text": [
      "     11/200      13.5G       1.11     0.5676     0.9972        141        640: 100%|██████████| 54/54 [01:18<00:00,  1.46s/it]\n",
      "                 Class     Images  Instances      Box(P          R      mAP50  mAP50-95): 100%|██████████| 10/10 [00:08<00:00,  1.14it/s]\n"
     ]
    },
    {
     "name": "stdout",
     "output_type": "stream",
     "text": [
      "                   all        300       8649      0.835       0.64      0.704      0.474\n",
      "\n",
      "      Epoch    GPU_mem   box_loss   cls_loss   dfl_loss  Instances       Size\n"
     ]
    },
    {
     "name": "stderr",
     "output_type": "stream",
     "text": [
      "     12/200      13.7G      1.115     0.5687     0.9921         84        640: 100%|██████████| 54/54 [01:19<00:00,  1.46s/it]\n",
      "                 Class     Images  Instances      Box(P          R      mAP50  mAP50-95): 100%|██████████| 10/10 [00:09<00:00,  1.11it/s]\n"
     ]
    },
    {
     "name": "stdout",
     "output_type": "stream",
     "text": [
      "                   all        300       8649      0.827      0.646      0.706      0.477\n",
      "\n",
      "      Epoch    GPU_mem   box_loss   cls_loss   dfl_loss  Instances       Size\n"
     ]
    },
    {
     "name": "stderr",
     "output_type": "stream",
     "text": [
      "     13/200      14.3G      1.111     0.5617     0.9929         65        640: 100%|██████████| 54/54 [01:18<00:00,  1.46s/it]\n",
      "                 Class     Images  Instances      Box(P          R      mAP50  mAP50-95): 100%|██████████| 10/10 [00:08<00:00,  1.12it/s]\n"
     ]
    },
    {
     "name": "stdout",
     "output_type": "stream",
     "text": [
      "                   all        300       8649      0.835      0.644      0.709      0.483\n",
      "\n",
      "      Epoch    GPU_mem   box_loss   cls_loss   dfl_loss  Instances       Size\n"
     ]
    },
    {
     "name": "stderr",
     "output_type": "stream",
     "text": [
      "     14/200        14G      1.106     0.5667     0.9896         44        640: 100%|██████████| 54/54 [01:19<00:00,  1.46s/it]\n",
      "                 Class     Images  Instances      Box(P          R      mAP50  mAP50-95): 100%|██████████| 10/10 [00:08<00:00,  1.12it/s]\n"
     ]
    },
    {
     "name": "stdout",
     "output_type": "stream",
     "text": [
      "                   all        300       8649      0.838      0.644      0.711      0.483\n",
      "\n",
      "      Epoch    GPU_mem   box_loss   cls_loss   dfl_loss  Instances       Size\n"
     ]
    },
    {
     "name": "stderr",
     "output_type": "stream",
     "text": [
      "     15/200      14.1G      1.084     0.5484     0.9856         63        640: 100%|██████████| 54/54 [01:19<00:00,  1.46s/it]\n",
      "                 Class     Images  Instances      Box(P          R      mAP50  mAP50-95): 100%|██████████| 10/10 [00:08<00:00,  1.12it/s]\n"
     ]
    },
    {
     "name": "stdout",
     "output_type": "stream",
     "text": [
      "                   all        300       8649      0.831      0.648      0.712      0.486\n",
      "\n",
      "      Epoch    GPU_mem   box_loss   cls_loss   dfl_loss  Instances       Size\n"
     ]
    },
    {
     "name": "stderr",
     "output_type": "stream",
     "text": [
      "     16/200      13.3G      1.094     0.5445     0.9878         17        640: 100%|██████████| 54/54 [01:18<00:00,  1.46s/it]\n",
      "                 Class     Images  Instances      Box(P          R      mAP50  mAP50-95): 100%|██████████| 10/10 [00:09<00:00,  1.11it/s]\n"
     ]
    },
    {
     "name": "stdout",
     "output_type": "stream",
     "text": [
      "                   all        300       8649      0.827      0.652      0.714      0.492\n",
      "\n",
      "      Epoch    GPU_mem   box_loss   cls_loss   dfl_loss  Instances       Size\n"
     ]
    },
    {
     "name": "stderr",
     "output_type": "stream",
     "text": [
      "     17/200      15.1G      1.083      0.564     0.9908         29        640: 100%|██████████| 54/54 [01:18<00:00,  1.46s/it]\n",
      "                 Class     Images  Instances      Box(P          R      mAP50  mAP50-95): 100%|██████████| 10/10 [00:08<00:00,  1.12it/s]\n"
     ]
    },
    {
     "name": "stdout",
     "output_type": "stream",
     "text": [
      "                   all        300       8649      0.837      0.647      0.715      0.489\n",
      "\n",
      "      Epoch    GPU_mem   box_loss   cls_loss   dfl_loss  Instances       Size\n"
     ]
    },
    {
     "name": "stderr",
     "output_type": "stream",
     "text": [
      "     18/200        14G      1.099     0.5587     0.9941        179        640: 100%|██████████| 54/54 [01:18<00:00,  1.45s/it]\n",
      "                 Class     Images  Instances      Box(P          R      mAP50  mAP50-95): 100%|██████████| 10/10 [00:08<00:00,  1.14it/s]\n"
     ]
    },
    {
     "name": "stdout",
     "output_type": "stream",
     "text": [
      "                   all        300       8649      0.835      0.651      0.717      0.495\n",
      "\n",
      "      Epoch    GPU_mem   box_loss   cls_loss   dfl_loss  Instances       Size\n"
     ]
    },
    {
     "name": "stderr",
     "output_type": "stream",
     "text": [
      "     19/200      14.2G      1.071     0.5464     0.9851         89        640: 100%|██████████| 54/54 [01:18<00:00,  1.45s/it]\n",
      "                 Class     Images  Instances      Box(P          R      mAP50  mAP50-95): 100%|██████████| 10/10 [00:08<00:00,  1.11it/s]\n"
     ]
    },
    {
     "name": "stdout",
     "output_type": "stream",
     "text": [
      "                   all        300       8649      0.838      0.648      0.716      0.494\n",
      "\n",
      "      Epoch    GPU_mem   box_loss   cls_loss   dfl_loss  Instances       Size\n"
     ]
    },
    {
     "name": "stderr",
     "output_type": "stream",
     "text": [
      "     20/200      14.4G      1.078      0.538     0.9852         44        640: 100%|██████████| 54/54 [01:18<00:00,  1.46s/it]\n",
      "                 Class     Images  Instances      Box(P          R      mAP50  mAP50-95): 100%|██████████| 10/10 [00:08<00:00,  1.11it/s]\n"
     ]
    },
    {
     "name": "stdout",
     "output_type": "stream",
     "text": [
      "                   all        300       8649      0.836      0.651      0.719      0.496\n",
      "\n",
      "      Epoch    GPU_mem   box_loss   cls_loss   dfl_loss  Instances       Size\n"
     ]
    },
    {
     "name": "stderr",
     "output_type": "stream",
     "text": [
      "     21/200      14.4G      1.069     0.5486     0.9855        116        640: 100%|██████████| 54/54 [01:18<00:00,  1.46s/it]\n",
      "                 Class     Images  Instances      Box(P          R      mAP50  mAP50-95): 100%|██████████| 10/10 [00:09<00:00,  1.11it/s]\n"
     ]
    },
    {
     "name": "stdout",
     "output_type": "stream",
     "text": [
      "                   all        300       8649      0.831      0.654      0.718      0.496\n",
      "\n",
      "      Epoch    GPU_mem   box_loss   cls_loss   dfl_loss  Instances       Size\n"
     ]
    },
    {
     "name": "stderr",
     "output_type": "stream",
     "text": [
      "     22/200      14.1G      1.057     0.5246     0.9755         63        640: 100%|██████████| 54/54 [01:18<00:00,  1.46s/it]\n",
      "                 Class     Images  Instances      Box(P          R      mAP50  mAP50-95): 100%|██████████| 10/10 [00:08<00:00,  1.12it/s]\n"
     ]
    },
    {
     "name": "stdout",
     "output_type": "stream",
     "text": [
      "                   all        300       8649      0.835      0.654      0.719      0.493\n",
      "\n",
      "      Epoch    GPU_mem   box_loss   cls_loss   dfl_loss  Instances       Size\n"
     ]
    },
    {
     "name": "stderr",
     "output_type": "stream",
     "text": [
      "     23/200      13.5G       1.06     0.5333     0.9756         59        640: 100%|██████████| 54/54 [01:18<00:00,  1.46s/it]\n",
      "                 Class     Images  Instances      Box(P          R      mAP50  mAP50-95): 100%|██████████| 10/10 [00:08<00:00,  1.12it/s]\n"
     ]
    },
    {
     "name": "stdout",
     "output_type": "stream",
     "text": [
      "                   all        300       8649      0.836      0.655       0.72      0.497\n",
      "\n",
      "      Epoch    GPU_mem   box_loss   cls_loss   dfl_loss  Instances       Size\n"
     ]
    },
    {
     "name": "stderr",
     "output_type": "stream",
     "text": [
      "     24/200      14.2G      1.047      0.525     0.9731         20        640: 100%|██████████| 54/54 [01:18<00:00,  1.46s/it]\n",
      "                 Class     Images  Instances      Box(P          R      mAP50  mAP50-95): 100%|██████████| 10/10 [00:08<00:00,  1.12it/s]\n"
     ]
    },
    {
     "name": "stdout",
     "output_type": "stream",
     "text": [
      "                   all        300       8649      0.836      0.656      0.721      0.498\n",
      "\n",
      "      Epoch    GPU_mem   box_loss   cls_loss   dfl_loss  Instances       Size\n"
     ]
    },
    {
     "name": "stderr",
     "output_type": "stream",
     "text": [
      "     25/200      15.4G      1.059      0.523     0.9732         54        640: 100%|██████████| 54/54 [01:19<00:00,  1.46s/it]\n",
      "                 Class     Images  Instances      Box(P          R      mAP50  mAP50-95): 100%|██████████| 10/10 [00:08<00:00,  1.12it/s]\n"
     ]
    },
    {
     "name": "stdout",
     "output_type": "stream",
     "text": [
      "                   all        300       8649      0.839      0.652      0.721      0.499\n",
      "\n",
      "      Epoch    GPU_mem   box_loss   cls_loss   dfl_loss  Instances       Size\n"
     ]
    },
    {
     "name": "stderr",
     "output_type": "stream",
     "text": [
      "     26/200      13.6G      1.045     0.5167     0.9638         94        640: 100%|██████████| 54/54 [01:19<00:00,  1.46s/it]\n",
      "                 Class     Images  Instances      Box(P          R      mAP50  mAP50-95): 100%|██████████| 10/10 [00:08<00:00,  1.11it/s]\n"
     ]
    },
    {
     "name": "stdout",
     "output_type": "stream",
     "text": [
      "                   all        300       8649      0.835      0.658      0.724        0.5\n",
      "\n",
      "      Epoch    GPU_mem   box_loss   cls_loss   dfl_loss  Instances       Size\n"
     ]
    },
    {
     "name": "stderr",
     "output_type": "stream",
     "text": [
      "     27/200      13.8G      1.035     0.5048     0.9671         69        640: 100%|██████████| 54/54 [01:18<00:00,  1.46s/it]\n",
      "                 Class     Images  Instances      Box(P          R      mAP50  mAP50-95): 100%|██████████| 10/10 [00:08<00:00,  1.12it/s]\n"
     ]
    },
    {
     "name": "stdout",
     "output_type": "stream",
     "text": [
      "                   all        300       8649      0.837      0.657      0.724      0.502\n",
      "\n",
      "      Epoch    GPU_mem   box_loss   cls_loss   dfl_loss  Instances       Size\n"
     ]
    },
    {
     "name": "stderr",
     "output_type": "stream",
     "text": [
      "     28/200      13.7G      1.038     0.5126     0.9764         35        640: 100%|██████████| 54/54 [01:18<00:00,  1.46s/it]\n",
      "                 Class     Images  Instances      Box(P          R      mAP50  mAP50-95): 100%|██████████| 10/10 [00:08<00:00,  1.11it/s]\n"
     ]
    },
    {
     "name": "stdout",
     "output_type": "stream",
     "text": [
      "                   all        300       8649      0.838      0.656      0.725      0.504\n",
      "\n",
      "      Epoch    GPU_mem   box_loss   cls_loss   dfl_loss  Instances       Size\n"
     ]
    },
    {
     "name": "stderr",
     "output_type": "stream",
     "text": [
      "     29/200      13.8G      1.043     0.5235     0.9721         34        640: 100%|██████████| 54/54 [01:18<00:00,  1.46s/it]\n",
      "                 Class     Images  Instances      Box(P          R      mAP50  mAP50-95): 100%|██████████| 10/10 [00:08<00:00,  1.11it/s]\n"
     ]
    },
    {
     "name": "stdout",
     "output_type": "stream",
     "text": [
      "                   all        300       8649      0.834      0.659      0.724      0.502\n",
      "\n",
      "      Epoch    GPU_mem   box_loss   cls_loss   dfl_loss  Instances       Size\n"
     ]
    },
    {
     "name": "stderr",
     "output_type": "stream",
     "text": [
      "     30/200        15G      1.046     0.5222     0.9687         73        640: 100%|██████████| 54/54 [01:18<00:00,  1.46s/it]\n",
      "                 Class     Images  Instances      Box(P          R      mAP50  mAP50-95): 100%|██████████| 10/10 [00:08<00:00,  1.11it/s]\n"
     ]
    },
    {
     "name": "stdout",
     "output_type": "stream",
     "text": [
      "                   all        300       8649      0.841      0.657      0.725      0.504\n",
      "\n",
      "      Epoch    GPU_mem   box_loss   cls_loss   dfl_loss  Instances       Size\n"
     ]
    },
    {
     "name": "stderr",
     "output_type": "stream",
     "text": [
      "     31/200        14G      1.046     0.5225     0.9668         44        640: 100%|██████████| 54/54 [01:18<00:00,  1.46s/it]\n",
      "                 Class     Images  Instances      Box(P          R      mAP50  mAP50-95): 100%|██████████| 10/10 [00:08<00:00,  1.11it/s]\n"
     ]
    },
    {
     "name": "stdout",
     "output_type": "stream",
     "text": [
      "                   all        300       8649       0.84      0.657      0.724      0.502\n",
      "\n",
      "      Epoch    GPU_mem   box_loss   cls_loss   dfl_loss  Instances       Size\n"
     ]
    },
    {
     "name": "stderr",
     "output_type": "stream",
     "text": [
      "     32/200      13.9G      1.048     0.5149     0.9696        164        640: 100%|██████████| 54/54 [01:18<00:00,  1.46s/it]\n",
      "                 Class     Images  Instances      Box(P          R      mAP50  mAP50-95): 100%|██████████| 10/10 [00:08<00:00,  1.11it/s]\n"
     ]
    },
    {
     "name": "stdout",
     "output_type": "stream",
     "text": [
      "                   all        300       8649       0.84      0.661      0.727      0.503\n",
      "\n",
      "      Epoch    GPU_mem   box_loss   cls_loss   dfl_loss  Instances       Size\n"
     ]
    },
    {
     "name": "stderr",
     "output_type": "stream",
     "text": [
      "     33/200      13.7G      1.011     0.5055     0.9612         36        640: 100%|██████████| 54/54 [01:18<00:00,  1.46s/it]\n",
      "                 Class     Images  Instances      Box(P          R      mAP50  mAP50-95): 100%|██████████| 10/10 [00:09<00:00,  1.11it/s]\n"
     ]
    },
    {
     "name": "stdout",
     "output_type": "stream",
     "text": [
      "                   all        300       8649      0.842       0.66      0.727      0.505\n",
      "\n",
      "      Epoch    GPU_mem   box_loss   cls_loss   dfl_loss  Instances       Size\n"
     ]
    },
    {
     "name": "stderr",
     "output_type": "stream",
     "text": [
      "     34/200      13.7G      1.046     0.5174     0.9725         42        640: 100%|██████████| 54/54 [01:19<00:00,  1.47s/it]\n",
      "                 Class     Images  Instances      Box(P          R      mAP50  mAP50-95): 100%|██████████| 10/10 [00:08<00:00,  1.11it/s]\n"
     ]
    },
    {
     "name": "stdout",
     "output_type": "stream",
     "text": [
      "                   all        300       8649       0.84       0.66      0.726      0.505\n",
      "\n",
      "      Epoch    GPU_mem   box_loss   cls_loss   dfl_loss  Instances       Size\n"
     ]
    },
    {
     "name": "stderr",
     "output_type": "stream",
     "text": [
      "     35/200      13.5G      1.011     0.4901     0.9624         31        640: 100%|██████████| 54/54 [01:18<00:00,  1.46s/it]\n",
      "                 Class     Images  Instances      Box(P          R      mAP50  mAP50-95): 100%|██████████| 10/10 [00:08<00:00,  1.14it/s]\n"
     ]
    },
    {
     "name": "stdout",
     "output_type": "stream",
     "text": [
      "                   all        300       8649      0.834      0.663      0.728      0.506\n",
      "\n",
      "      Epoch    GPU_mem   box_loss   cls_loss   dfl_loss  Instances       Size\n"
     ]
    },
    {
     "name": "stderr",
     "output_type": "stream",
     "text": [
      "     36/200      14.8G      1.017     0.4962     0.9561        162        640: 100%|██████████| 54/54 [01:18<00:00,  1.46s/it]\n",
      "                 Class     Images  Instances      Box(P          R      mAP50  mAP50-95): 100%|██████████| 10/10 [00:08<00:00,  1.12it/s]\n"
     ]
    },
    {
     "name": "stdout",
     "output_type": "stream",
     "text": [
      "                   all        300       8649      0.839      0.663      0.727      0.503\n",
      "\n",
      "      Epoch    GPU_mem   box_loss   cls_loss   dfl_loss  Instances       Size\n"
     ]
    },
    {
     "name": "stderr",
     "output_type": "stream",
     "text": [
      "     37/200      13.5G      1.032     0.4995     0.9585         98        640: 100%|██████████| 54/54 [01:18<00:00,  1.46s/it]\n",
      "                 Class     Images  Instances      Box(P          R      mAP50  mAP50-95): 100%|██████████| 10/10 [00:08<00:00,  1.14it/s]\n"
     ]
    },
    {
     "name": "stdout",
     "output_type": "stream",
     "text": [
      "                   all        300       8649      0.839      0.662      0.727      0.507\n",
      "\n",
      "      Epoch    GPU_mem   box_loss   cls_loss   dfl_loss  Instances       Size\n"
     ]
    },
    {
     "name": "stderr",
     "output_type": "stream",
     "text": [
      "     38/200      13.6G      1.007     0.5072     0.9597         62        640: 100%|██████████| 54/54 [01:18<00:00,  1.45s/it]\n",
      "                 Class     Images  Instances      Box(P          R      mAP50  mAP50-95): 100%|██████████| 10/10 [00:09<00:00,  1.10it/s]\n"
     ]
    },
    {
     "name": "stdout",
     "output_type": "stream",
     "text": [
      "                   all        300       8649       0.84      0.663      0.728      0.507\n",
      "\n",
      "      Epoch    GPU_mem   box_loss   cls_loss   dfl_loss  Instances       Size\n"
     ]
    },
    {
     "name": "stderr",
     "output_type": "stream",
     "text": [
      "     39/200      13.6G      1.026     0.4987      0.961         89        640: 100%|██████████| 54/54 [01:18<00:00,  1.45s/it]\n",
      "                 Class     Images  Instances      Box(P          R      mAP50  mAP50-95): 100%|██████████| 10/10 [00:08<00:00,  1.12it/s]\n"
     ]
    },
    {
     "name": "stdout",
     "output_type": "stream",
     "text": [
      "                   all        300       8649      0.837      0.664      0.729      0.507\n",
      "\n",
      "      Epoch    GPU_mem   box_loss   cls_loss   dfl_loss  Instances       Size\n"
     ]
    },
    {
     "name": "stderr",
     "output_type": "stream",
     "text": [
      "     40/200      14.1G      1.026     0.5108      0.961         48        640: 100%|██████████| 54/54 [01:18<00:00,  1.45s/it]\n",
      "                 Class     Images  Instances      Box(P          R      mAP50  mAP50-95): 100%|██████████| 10/10 [00:08<00:00,  1.12it/s]\n"
     ]
    },
    {
     "name": "stdout",
     "output_type": "stream",
     "text": [
      "                   all        300       8649      0.834      0.667      0.728      0.506\n",
      "\n",
      "      Epoch    GPU_mem   box_loss   cls_loss   dfl_loss  Instances       Size\n"
     ]
    },
    {
     "name": "stderr",
     "output_type": "stream",
     "text": [
      "     41/200      14.4G      1.009     0.4952     0.9572         37        640: 100%|██████████| 54/54 [01:18<00:00,  1.45s/it]\n",
      "                 Class     Images  Instances      Box(P          R      mAP50  mAP50-95): 100%|██████████| 10/10 [00:08<00:00,  1.12it/s]\n"
     ]
    },
    {
     "name": "stdout",
     "output_type": "stream",
     "text": [
      "                   all        300       8649      0.838      0.665       0.73      0.507\n",
      "\n",
      "      Epoch    GPU_mem   box_loss   cls_loss   dfl_loss  Instances       Size\n"
     ]
    },
    {
     "name": "stderr",
     "output_type": "stream",
     "text": [
      "     42/200      13.4G      1.008     0.4963     0.9666         41        640: 100%|██████████| 54/54 [01:18<00:00,  1.45s/it]\n",
      "                 Class     Images  Instances      Box(P          R      mAP50  mAP50-95): 100%|██████████| 10/10 [00:08<00:00,  1.12it/s]\n"
     ]
    },
    {
     "name": "stdout",
     "output_type": "stream",
     "text": [
      "                   all        300       8649      0.843      0.662       0.73      0.505\n",
      "\n",
      "      Epoch    GPU_mem   box_loss   cls_loss   dfl_loss  Instances       Size\n"
     ]
    },
    {
     "name": "stderr",
     "output_type": "stream",
     "text": [
      "     43/200      13.7G      1.005     0.4915     0.9521        117        640: 100%|██████████| 54/54 [01:18<00:00,  1.45s/it]\n",
      "                 Class     Images  Instances      Box(P          R      mAP50  mAP50-95): 100%|██████████| 10/10 [00:08<00:00,  1.12it/s]\n"
     ]
    },
    {
     "name": "stdout",
     "output_type": "stream",
     "text": [
      "                   all        300       8649      0.842      0.664      0.731      0.507\n",
      "\n",
      "      Epoch    GPU_mem   box_loss   cls_loss   dfl_loss  Instances       Size\n"
     ]
    },
    {
     "name": "stderr",
     "output_type": "stream",
     "text": [
      "     44/200      13.6G      1.008     0.4923     0.9609         19        640: 100%|██████████| 54/54 [01:18<00:00,  1.45s/it]\n",
      "                 Class     Images  Instances      Box(P          R      mAP50  mAP50-95): 100%|██████████| 10/10 [00:08<00:00,  1.12it/s]\n"
     ]
    },
    {
     "name": "stdout",
     "output_type": "stream",
     "text": [
      "                   all        300       8649       0.84      0.666      0.731      0.508\n",
      "\n",
      "      Epoch    GPU_mem   box_loss   cls_loss   dfl_loss  Instances       Size\n"
     ]
    },
    {
     "name": "stderr",
     "output_type": "stream",
     "text": [
      "     45/200      13.7G      1.011     0.4956     0.9535         56        640: 100%|██████████| 54/54 [01:18<00:00,  1.46s/it]\n",
      "                 Class     Images  Instances      Box(P          R      mAP50  mAP50-95): 100%|██████████| 10/10 [00:08<00:00,  1.12it/s]\n"
     ]
    },
    {
     "name": "stdout",
     "output_type": "stream",
     "text": [
      "                   all        300       8649      0.842      0.664      0.731      0.512\n",
      "\n",
      "      Epoch    GPU_mem   box_loss   cls_loss   dfl_loss  Instances       Size\n"
     ]
    },
    {
     "name": "stderr",
     "output_type": "stream",
     "text": [
      "     46/200      13.3G      1.003     0.4816     0.9565         31        640: 100%|██████████| 54/54 [01:18<00:00,  1.45s/it]\n",
      "                 Class     Images  Instances      Box(P          R      mAP50  mAP50-95): 100%|██████████| 10/10 [00:08<00:00,  1.12it/s]\n"
     ]
    },
    {
     "name": "stdout",
     "output_type": "stream",
     "text": [
      "                   all        300       8649       0.84      0.666      0.731      0.509\n",
      "\n",
      "      Epoch    GPU_mem   box_loss   cls_loss   dfl_loss  Instances       Size\n"
     ]
    },
    {
     "name": "stderr",
     "output_type": "stream",
     "text": [
      "     47/200      14.5G     0.9888     0.4826     0.9572         15        640: 100%|██████████| 54/54 [01:18<00:00,  1.46s/it]\n",
      "                 Class     Images  Instances      Box(P          R      mAP50  mAP50-95): 100%|██████████| 10/10 [00:08<00:00,  1.12it/s]\n"
     ]
    },
    {
     "name": "stdout",
     "output_type": "stream",
     "text": [
      "                   all        300       8649      0.844      0.664      0.732      0.509\n",
      "\n",
      "      Epoch    GPU_mem   box_loss   cls_loss   dfl_loss  Instances       Size\n"
     ]
    },
    {
     "name": "stderr",
     "output_type": "stream",
     "text": [
      "     48/200      14.4G      1.009     0.5043      0.954        155        640: 100%|██████████| 54/54 [01:18<00:00,  1.45s/it]\n",
      "                 Class     Images  Instances      Box(P          R      mAP50  mAP50-95): 100%|██████████| 10/10 [00:08<00:00,  1.12it/s]\n"
     ]
    },
    {
     "name": "stdout",
     "output_type": "stream",
     "text": [
      "                   all        300       8649      0.847      0.664      0.731      0.509\n",
      "\n",
      "      Epoch    GPU_mem   box_loss   cls_loss   dfl_loss  Instances       Size\n"
     ]
    },
    {
     "name": "stderr",
     "output_type": "stream",
     "text": [
      "     49/200      14.2G      1.005     0.4943     0.9537         87        640: 100%|██████████| 54/54 [01:18<00:00,  1.45s/it]\n",
      "                 Class     Images  Instances      Box(P          R      mAP50  mAP50-95): 100%|██████████| 10/10 [00:08<00:00,  1.12it/s]\n"
     ]
    },
    {
     "name": "stdout",
     "output_type": "stream",
     "text": [
      "                   all        300       8649      0.846      0.666      0.731       0.51\n",
      "\n",
      "      Epoch    GPU_mem   box_loss   cls_loss   dfl_loss  Instances       Size\n"
     ]
    },
    {
     "name": "stderr",
     "output_type": "stream",
     "text": [
      "     50/200      13.5G      1.004     0.4948     0.9591         60        640: 100%|██████████| 54/54 [01:18<00:00,  1.45s/it]\n",
      "                 Class     Images  Instances      Box(P          R      mAP50  mAP50-95): 100%|██████████| 10/10 [00:08<00:00,  1.12it/s]\n"
     ]
    },
    {
     "name": "stdout",
     "output_type": "stream",
     "text": [
      "                   all        300       8649      0.846      0.665      0.731      0.508\n",
      "\n",
      "      Epoch    GPU_mem   box_loss   cls_loss   dfl_loss  Instances       Size\n"
     ]
    },
    {
     "name": "stderr",
     "output_type": "stream",
     "text": [
      "     51/200      13.8G     0.9964     0.4848     0.9545         50        640: 100%|██████████| 54/54 [01:18<00:00,  1.45s/it]\n",
      "                 Class     Images  Instances      Box(P          R      mAP50  mAP50-95): 100%|██████████| 10/10 [00:08<00:00,  1.12it/s]\n"
     ]
    },
    {
     "name": "stdout",
     "output_type": "stream",
     "text": [
      "                   all        300       8649      0.837      0.669      0.733      0.509\n",
      "\n",
      "      Epoch    GPU_mem   box_loss   cls_loss   dfl_loss  Instances       Size\n"
     ]
    },
    {
     "name": "stderr",
     "output_type": "stream",
     "text": [
      "     52/200      13.8G     0.9801      0.484     0.9547        168        640: 100%|██████████| 54/54 [01:18<00:00,  1.45s/it]\n",
      "                 Class     Images  Instances      Box(P          R      mAP50  mAP50-95): 100%|██████████| 10/10 [00:08<00:00,  1.12it/s]\n"
     ]
    },
    {
     "name": "stdout",
     "output_type": "stream",
     "text": [
      "                   all        300       8649      0.837      0.669      0.732       0.51\n",
      "\n",
      "      Epoch    GPU_mem   box_loss   cls_loss   dfl_loss  Instances       Size\n"
     ]
    },
    {
     "name": "stderr",
     "output_type": "stream",
     "text": [
      "     53/200      13.7G      1.001     0.4914      0.952        105        640: 100%|██████████| 54/54 [01:18<00:00,  1.45s/it]\n",
      "                 Class     Images  Instances      Box(P          R      mAP50  mAP50-95): 100%|██████████| 10/10 [00:08<00:00,  1.12it/s]\n"
     ]
    },
    {
     "name": "stdout",
     "output_type": "stream",
     "text": [
      "                   all        300       8649      0.841      0.667      0.733      0.511\n",
      "\n",
      "      Epoch    GPU_mem   box_loss   cls_loss   dfl_loss  Instances       Size\n"
     ]
    },
    {
     "name": "stderr",
     "output_type": "stream",
     "text": [
      "     54/200      13.4G      1.008     0.5018     0.9659         41        640: 100%|██████████| 54/54 [01:18<00:00,  1.45s/it]\n",
      "                 Class     Images  Instances      Box(P          R      mAP50  mAP50-95): 100%|██████████| 10/10 [00:08<00:00,  1.13it/s]\n"
     ]
    },
    {
     "name": "stdout",
     "output_type": "stream",
     "text": [
      "                   all        300       8649      0.846      0.665      0.732      0.507\n",
      "\n",
      "      Epoch    GPU_mem   box_loss   cls_loss   dfl_loss  Instances       Size\n"
     ]
    },
    {
     "name": "stderr",
     "output_type": "stream",
     "text": [
      "     55/200      14.2G     0.9986     0.4934     0.9573         55        640: 100%|██████████| 54/54 [01:18<00:00,  1.45s/it]\n",
      "                 Class     Images  Instances      Box(P          R      mAP50  mAP50-95): 100%|██████████| 10/10 [00:08<00:00,  1.12it/s]\n"
     ]
    },
    {
     "name": "stdout",
     "output_type": "stream",
     "text": [
      "                   all        300       8649      0.842      0.667      0.732      0.508\n",
      "\n",
      "      Epoch    GPU_mem   box_loss   cls_loss   dfl_loss  Instances       Size\n"
     ]
    },
    {
     "name": "stderr",
     "output_type": "stream",
     "text": [
      "     56/200      13.6G     0.9947     0.4878     0.9552         49        640: 100%|██████████| 54/54 [01:18<00:00,  1.45s/it]\n",
      "                 Class     Images  Instances      Box(P          R      mAP50  mAP50-95): 100%|██████████| 10/10 [00:08<00:00,  1.12it/s]\n"
     ]
    },
    {
     "name": "stdout",
     "output_type": "stream",
     "text": [
      "                   all        300       8649      0.843      0.666      0.733      0.511\n",
      "\n",
      "      Epoch    GPU_mem   box_loss   cls_loss   dfl_loss  Instances       Size\n"
     ]
    },
    {
     "name": "stderr",
     "output_type": "stream",
     "text": [
      "     57/200      13.8G     0.9938     0.4781     0.9493        115        640: 100%|██████████| 54/54 [01:18<00:00,  1.45s/it]\n",
      "                 Class     Images  Instances      Box(P          R      mAP50  mAP50-95): 100%|██████████| 10/10 [00:08<00:00,  1.12it/s]\n"
     ]
    },
    {
     "name": "stdout",
     "output_type": "stream",
     "text": [
      "                   all        300       8649      0.839       0.67      0.733      0.509\n",
      "\n",
      "      Epoch    GPU_mem   box_loss   cls_loss   dfl_loss  Instances       Size\n"
     ]
    },
    {
     "name": "stderr",
     "output_type": "stream",
     "text": [
      "     58/200      13.6G     0.9919     0.4846     0.9527        125        640: 100%|██████████| 54/54 [01:18<00:00,  1.46s/it]\n",
      "                 Class     Images  Instances      Box(P          R      mAP50  mAP50-95): 100%|██████████| 10/10 [00:08<00:00,  1.13it/s]\n"
     ]
    },
    {
     "name": "stdout",
     "output_type": "stream",
     "text": [
      "                   all        300       8649       0.84       0.67      0.733      0.508\n",
      "\n",
      "      Epoch    GPU_mem   box_loss   cls_loss   dfl_loss  Instances       Size\n"
     ]
    },
    {
     "name": "stderr",
     "output_type": "stream",
     "text": [
      "     59/200      14.4G      1.017     0.4988     0.9547         33        640: 100%|██████████| 54/54 [01:18<00:00,  1.46s/it]\n",
      "                 Class     Images  Instances      Box(P          R      mAP50  mAP50-95): 100%|██████████| 10/10 [00:08<00:00,  1.11it/s]\n"
     ]
    },
    {
     "name": "stdout",
     "output_type": "stream",
     "text": [
      "                   all        300       8649      0.842      0.668      0.733      0.505\n",
      "\n",
      "      Epoch    GPU_mem   box_loss   cls_loss   dfl_loss  Instances       Size\n"
     ]
    },
    {
     "name": "stderr",
     "output_type": "stream",
     "text": [
      "     60/200        14G     0.9815     0.4824     0.9522         22        640: 100%|██████████| 54/54 [01:18<00:00,  1.46s/it]\n",
      "                 Class     Images  Instances      Box(P          R      mAP50  mAP50-95): 100%|██████████| 10/10 [00:08<00:00,  1.12it/s]\n"
     ]
    },
    {
     "name": "stdout",
     "output_type": "stream",
     "text": [
      "                   all        300       8649      0.841      0.668      0.733      0.509\n",
      "\u001b[34m\u001b[1mEarlyStopping: \u001b[0mTraining stopped early as no improvement observed in last 15 epochs. Best results observed at epoch 45, best model saved as best.pt.\n",
      "To update EarlyStopping(patience=15) pass a new patience value, i.e. `patience=300` or use `patience=0` to disable EarlyStopping.\n",
      "\n",
      "60 epochs completed in 1.489 hours.\n",
      "Optimizer stripped from YOLOv8 - Step 1 - SGD/Step 2 Vinhx ver 1/weights/last.pt, 136.7MB\n",
      "Optimizer stripped from YOLOv8 - Step 1 - SGD/Step 2 Vinhx ver 1/weights/best.pt, 136.7MB\n",
      "\n",
      "Validating YOLOv8 - Step 1 - SGD/Step 2 Vinhx ver 1/weights/best.pt...\n",
      "Ultralytics 8.3.56 🚀 Python-3.10.14 torch-2.4.0 CUDA:0 (Tesla T4, 15095MiB)\n",
      "                                                 CUDA:1 (Tesla T4, 15095MiB)\n",
      "Model summary (fused): 268 layers, 68,124,531 parameters, 0 gradients, 257.4 GFLOPs\n"
     ]
    },
    {
     "name": "stderr",
     "output_type": "stream",
     "text": [
      "                 Class     Images  Instances      Box(P          R      mAP50  mAP50-95): 100%|██████████| 10/10 [00:10<00:00,  1.04s/it]\n"
     ]
    },
    {
     "name": "stdout",
     "output_type": "stream",
     "text": [
      "                   all        300       8649      0.842      0.664      0.731      0.512\n",
      "Speed: 0.1ms preprocess, 24.3ms inference, 0.0ms loss, 1.0ms postprocess per image\n",
      "Results saved to \u001b[1mYOLOv8 - Step 1 - SGD/Step 2 Vinhx ver 1\u001b[0m\n"
     ]
    }
   ],
   "source": [
    "results = model.train(\n",
    "    data=\"/kaggle/working/data.yaml\",\n",
    "    epochs=200,\n",
    "    imgsz=640,\n",
    "    optimizer=\"SGD\",          # Thay đổi optimizer thành SGD\n",
    "    patience=15,\n",
    "    project=\"YOLOv8 - Step 1 - SGD\",\n",
    "    name=\"Step 2 Vinhx ver 1\",\n",
    "    batch=32,                 # Giữ nguyên batch size, có thể điều chỉnh nếu cần\n",
    "    lr0=0.0001,                 # Tăng learning rate cho SGD\n",
    "    lrf=0.01,                  # Điều chỉnh learning rate factor cho SGD\n",
    "    weight_decay=0.005,      # Giữ nguyên weight decay\n",
    "    seed=42,\n",
    "    device=[0, 1],\n",
    "    cos_lr=True,\n",
    "    warmup_epochs=10,         # Giữ nguyên warm-up epochs\n",
    "    momentum=0.9              # Thêm thông số momentum cho SGD\n",
    ")"
   ]
  },
  {
   "cell_type": "code",
   "execution_count": null,
   "id": "88df21de",
   "metadata": {
    "papermill": {
     "duration": 0.190709,
     "end_time": "2025-01-02T17:46:35.662334",
     "exception": false,
     "start_time": "2025-01-02T17:46:35.471625",
     "status": "completed"
    },
    "tags": []
   },
   "outputs": [],
   "source": []
  }
 ],
 "metadata": {
  "kaggle": {
   "accelerator": "nvidiaTeslaT4",
   "dataSources": [
    {
     "datasetId": 6300099,
     "sourceId": 10196256,
     "sourceType": "datasetVersion"
    },
    {
     "datasetId": 6307047,
     "sourceId": 10205822,
     "sourceType": "datasetVersion"
    },
    {
     "modelId": 192655,
     "modelInstanceId": 170338,
     "sourceId": 199695,
     "sourceType": "modelInstanceVersion"
    },
    {
     "modelId": 192927,
     "modelInstanceId": 170613,
     "sourceId": 200009,
     "sourceType": "modelInstanceVersion"
    },
    {
     "modelId": 193306,
     "modelInstanceId": 170991,
     "sourceId": 200431,
     "sourceType": "modelInstanceVersion"
    },
    {
     "isSourceIdPinned": true,
     "modelId": 194682,
     "modelInstanceId": 172339,
     "sourceId": 201995,
     "sourceType": "modelInstanceVersion"
    },
    {
     "isSourceIdPinned": true,
     "modelId": 196979,
     "modelInstanceId": 174628,
     "sourceId": 204674,
     "sourceType": "modelInstanceVersion"
    },
    {
     "isSourceIdPinned": true,
     "modelId": 207263,
     "modelInstanceId": 185118,
     "sourceId": 217105,
     "sourceType": "modelInstanceVersion"
    },
    {
     "isSourceIdPinned": true,
     "modelId": 207267,
     "modelInstanceId": 185123,
     "sourceId": 217112,
     "sourceType": "modelInstanceVersion"
    }
   ],
   "dockerImageVersionId": 30805,
   "isGpuEnabled": true,
   "isInternetEnabled": true,
   "language": "python",
   "sourceType": "notebook"
  },
  "kernelspec": {
   "display_name": "Python 3",
   "language": "python",
   "name": "python3"
  },
  "language_info": {
   "codemirror_mode": {
    "name": "ipython",
    "version": 3
   },
   "file_extension": ".py",
   "mimetype": "text/x-python",
   "name": "python",
   "nbconvert_exporter": "python",
   "pygments_lexer": "ipython3",
   "version": "3.10.14"
  },
  "papermill": {
   "default_parameters": {},
   "duration": 5551.529686,
   "end_time": "2025-01-02T17:46:38.200291",
   "environment_variables": {},
   "exception": null,
   "input_path": "__notebook__.ipynb",
   "output_path": "__notebook__.ipynb",
   "parameters": {},
   "start_time": "2025-01-02T16:14:06.670605",
   "version": "2.6.0"
  }
 },
 "nbformat": 4,
 "nbformat_minor": 5
}
