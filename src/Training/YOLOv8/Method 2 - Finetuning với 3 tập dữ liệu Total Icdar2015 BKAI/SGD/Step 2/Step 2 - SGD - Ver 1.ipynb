{
 "cells": [
  {
   "cell_type": "code",
   "execution_count": 1,
   "id": "4727959c",
   "metadata": {
    "execution": {
     "iopub.execute_input": "2025-01-02T14:35:57.063070Z",
     "iopub.status.busy": "2025-01-02T14:35:57.062710Z",
     "iopub.status.idle": "2025-01-02T14:36:07.906258Z",
     "shell.execute_reply": "2025-01-02T14:36:07.905146Z"
    },
    "papermill": {
     "duration": 10.850721,
     "end_time": "2025-01-02T14:36:07.908456",
     "exception": false,
     "start_time": "2025-01-02T14:35:57.057735",
     "status": "completed"
    },
    "tags": []
   },
   "outputs": [
    {
     "name": "stdout",
     "output_type": "stream",
     "text": [
      "Collecting ultralytics\r\n",
      "  Downloading ultralytics-8.3.56-py3-none-any.whl.metadata (35 kB)\r\n",
      "Requirement already satisfied: numpy>=1.23.0 in /opt/conda/lib/python3.10/site-packages (from ultralytics) (1.26.4)\r\n",
      "Requirement already satisfied: matplotlib>=3.3.0 in /opt/conda/lib/python3.10/site-packages (from ultralytics) (3.7.5)\r\n",
      "Requirement already satisfied: opencv-python>=4.6.0 in /opt/conda/lib/python3.10/site-packages (from ultralytics) (4.10.0.84)\r\n",
      "Requirement already satisfied: pillow>=7.1.2 in /opt/conda/lib/python3.10/site-packages (from ultralytics) (10.3.0)\r\n",
      "Requirement already satisfied: pyyaml>=5.3.1 in /opt/conda/lib/python3.10/site-packages (from ultralytics) (6.0.2)\r\n",
      "Requirement already satisfied: requests>=2.23.0 in /opt/conda/lib/python3.10/site-packages (from ultralytics) (2.32.3)\r\n",
      "Requirement already satisfied: scipy>=1.4.1 in /opt/conda/lib/python3.10/site-packages (from ultralytics) (1.14.1)\r\n",
      "Requirement already satisfied: torch>=1.8.0 in /opt/conda/lib/python3.10/site-packages (from ultralytics) (2.4.0)\r\n",
      "Requirement already satisfied: torchvision>=0.9.0 in /opt/conda/lib/python3.10/site-packages (from ultralytics) (0.19.0)\r\n",
      "Requirement already satisfied: tqdm>=4.64.0 in /opt/conda/lib/python3.10/site-packages (from ultralytics) (4.66.4)\r\n",
      "Requirement already satisfied: psutil in /opt/conda/lib/python3.10/site-packages (from ultralytics) (5.9.3)\r\n",
      "Requirement already satisfied: py-cpuinfo in /opt/conda/lib/python3.10/site-packages (from ultralytics) (9.0.0)\r\n",
      "Requirement already satisfied: pandas>=1.1.4 in /opt/conda/lib/python3.10/site-packages (from ultralytics) (2.2.3)\r\n",
      "Requirement already satisfied: seaborn>=0.11.0 in /opt/conda/lib/python3.10/site-packages (from ultralytics) (0.12.2)\r\n",
      "Collecting ultralytics-thop>=2.0.0 (from ultralytics)\r\n",
      "  Downloading ultralytics_thop-2.0.13-py3-none-any.whl.metadata (9.4 kB)\r\n",
      "Requirement already satisfied: contourpy>=1.0.1 in /opt/conda/lib/python3.10/site-packages (from matplotlib>=3.3.0->ultralytics) (1.2.1)\r\n",
      "Requirement already satisfied: cycler>=0.10 in /opt/conda/lib/python3.10/site-packages (from matplotlib>=3.3.0->ultralytics) (0.12.1)\r\n",
      "Requirement already satisfied: fonttools>=4.22.0 in /opt/conda/lib/python3.10/site-packages (from matplotlib>=3.3.0->ultralytics) (4.53.0)\r\n",
      "Requirement already satisfied: kiwisolver>=1.0.1 in /opt/conda/lib/python3.10/site-packages (from matplotlib>=3.3.0->ultralytics) (1.4.5)\r\n",
      "Requirement already satisfied: packaging>=20.0 in /opt/conda/lib/python3.10/site-packages (from matplotlib>=3.3.0->ultralytics) (21.3)\r\n",
      "Requirement already satisfied: pyparsing>=2.3.1 in /opt/conda/lib/python3.10/site-packages (from matplotlib>=3.3.0->ultralytics) (3.1.2)\r\n",
      "Requirement already satisfied: python-dateutil>=2.7 in /opt/conda/lib/python3.10/site-packages (from matplotlib>=3.3.0->ultralytics) (2.9.0.post0)\r\n",
      "Requirement already satisfied: pytz>=2020.1 in /opt/conda/lib/python3.10/site-packages (from pandas>=1.1.4->ultralytics) (2024.1)\r\n",
      "Requirement already satisfied: tzdata>=2022.7 in /opt/conda/lib/python3.10/site-packages (from pandas>=1.1.4->ultralytics) (2024.1)\r\n",
      "Requirement already satisfied: charset-normalizer<4,>=2 in /opt/conda/lib/python3.10/site-packages (from requests>=2.23.0->ultralytics) (3.3.2)\r\n",
      "Requirement already satisfied: idna<4,>=2.5 in /opt/conda/lib/python3.10/site-packages (from requests>=2.23.0->ultralytics) (3.7)\r\n",
      "Requirement already satisfied: urllib3<3,>=1.21.1 in /opt/conda/lib/python3.10/site-packages (from requests>=2.23.0->ultralytics) (1.26.18)\r\n",
      "Requirement already satisfied: certifi>=2017.4.17 in /opt/conda/lib/python3.10/site-packages (from requests>=2.23.0->ultralytics) (2024.6.2)\r\n",
      "Requirement already satisfied: filelock in /opt/conda/lib/python3.10/site-packages (from torch>=1.8.0->ultralytics) (3.15.1)\r\n",
      "Requirement already satisfied: typing-extensions>=4.8.0 in /opt/conda/lib/python3.10/site-packages (from torch>=1.8.0->ultralytics) (4.12.2)\r\n",
      "Requirement already satisfied: sympy in /opt/conda/lib/python3.10/site-packages (from torch>=1.8.0->ultralytics) (1.13.3)\r\n",
      "Requirement already satisfied: networkx in /opt/conda/lib/python3.10/site-packages (from torch>=1.8.0->ultralytics) (3.3)\r\n",
      "Requirement already satisfied: jinja2 in /opt/conda/lib/python3.10/site-packages (from torch>=1.8.0->ultralytics) (3.1.4)\r\n",
      "Requirement already satisfied: fsspec in /opt/conda/lib/python3.10/site-packages (from torch>=1.8.0->ultralytics) (2024.6.0)\r\n",
      "Requirement already satisfied: six>=1.5 in /opt/conda/lib/python3.10/site-packages (from python-dateutil>=2.7->matplotlib>=3.3.0->ultralytics) (1.16.0)\r\n",
      "Requirement already satisfied: MarkupSafe>=2.0 in /opt/conda/lib/python3.10/site-packages (from jinja2->torch>=1.8.0->ultralytics) (2.1.5)\r\n",
      "Requirement already satisfied: mpmath<1.4,>=1.1.0 in /opt/conda/lib/python3.10/site-packages (from sympy->torch>=1.8.0->ultralytics) (1.3.0)\r\n",
      "Downloading ultralytics-8.3.56-py3-none-any.whl (904 kB)\r\n",
      "\u001b[2K   \u001b[90m━━━━━━━━━━━━━━━━━━━━━━━━━━━━━━━━━━━━━━━━\u001b[0m \u001b[32m904.4/904.4 kB\u001b[0m \u001b[31m22.1 MB/s\u001b[0m eta \u001b[36m0:00:00\u001b[0m\r\n",
      "\u001b[?25hDownloading ultralytics_thop-2.0.13-py3-none-any.whl (26 kB)\r\n",
      "Installing collected packages: ultralytics-thop, ultralytics\r\n",
      "Successfully installed ultralytics-8.3.56 ultralytics-thop-2.0.13\r\n"
     ]
    }
   ],
   "source": [
    "!pip install ultralytics"
   ]
  },
  {
   "cell_type": "code",
   "execution_count": 2,
   "id": "525c73c9",
   "metadata": {
    "_cell_guid": "b1076dfc-b9ad-4769-8c92-a6c4dae69d19",
    "_uuid": "8f2839f25d086af736a60e9eeb907d3b93b6e0e5",
    "execution": {
     "iopub.execute_input": "2025-01-02T14:36:07.918444Z",
     "iopub.status.busy": "2025-01-02T14:36:07.918132Z",
     "iopub.status.idle": "2025-01-02T14:36:12.245281Z",
     "shell.execute_reply": "2025-01-02T14:36:12.244317Z"
    },
    "papermill": {
     "duration": 4.334535,
     "end_time": "2025-01-02T14:36:12.247493",
     "exception": false,
     "start_time": "2025-01-02T14:36:07.912958",
     "status": "completed"
    },
    "tags": []
   },
   "outputs": [
    {
     "name": "stdout",
     "output_type": "stream",
     "text": [
      "Creating new Ultralytics Settings v0.0.6 file ✅ \n",
      "View Ultralytics Settings with 'yolo settings' or at '/root/.config/Ultralytics/settings.json'\n",
      "Update Settings with 'yolo settings key=value', i.e. 'yolo settings runs_dir=path/to/dir'. For help see https://docs.ultralytics.com/quickstart/#ultralytics-settings.\n"
     ]
    }
   ],
   "source": [
    "import os\n",
    "import glob\n",
    "from PIL import Image\n",
    "from ultralytics import YOLO"
   ]
  },
  {
   "cell_type": "code",
   "execution_count": 3,
   "id": "0979d194",
   "metadata": {
    "execution": {
     "iopub.execute_input": "2025-01-02T14:36:12.257190Z",
     "iopub.status.busy": "2025-01-02T14:36:12.256769Z",
     "iopub.status.idle": "2025-01-02T14:36:12.261726Z",
     "shell.execute_reply": "2025-01-02T14:36:12.260940Z"
    },
    "papermill": {
     "duration": 0.011448,
     "end_time": "2025-01-02T14:36:12.263366",
     "exception": false,
     "start_time": "2025-01-02T14:36:12.251918",
     "status": "completed"
    },
    "tags": []
   },
   "outputs": [],
   "source": [
    "# Example usage:\n",
    "BKAI_train_images_folder = '/kaggle/input/bkai-dataset2/vietnamese/train_images'\n",
    "BKAI_labels_folder = '/kaggle/input/bkai-dataset2/vietnamese/labels'\n",
    "\n",
    "BKAI_val_images_folder = '/kaggle/input/bkai-dataset2/vietnamese/test_image'\n",
    "\n",
    "BKAI_test_images_folder = '/kaggle/input/bkai-dataset2/vietnamese/unseen_test_images'\n",
    "\n",
    "BKAI_train_output_images_folder = \"/kaggle/working/train/images\"\n",
    "BKAI_train_output_labels_folder = \"/kaggle/working/train/labels\"\n",
    "\n",
    "BKAI_val_output_images_folder = \"/kaggle/working/val/images\"\n",
    "BKAI_val_output_labels_folder = \"/kaggle/working/val/labels\"\n",
    "\n",
    "BKAI_test_output_images_folder = \"/kaggle/working/test/images\"\n",
    "BKAI_test_output_labels_folder = \"/kaggle/working/test/labels\"\n",
    "\n",
    "# Define paths\n",
    "BKAI1_train_images_folder = '/kaggle/input/bkai-dataset-1/train_imgs/training_img'\n",
    "BKAI1_train_labels_folder = '/kaggle/input/bkai-dataset-1/train_gt/training_gt'\n",
    "BKAI1_train_output_images_folder = \"/kaggle/working/train/images\"\n",
    "BKAI1_train_output_labels_folder = \"/kaggle/working/train/labels\""
   ]
  },
  {
   "cell_type": "code",
   "execution_count": 4,
   "id": "933793d6",
   "metadata": {
    "execution": {
     "iopub.execute_input": "2025-01-02T14:36:12.272724Z",
     "iopub.status.busy": "2025-01-02T14:36:12.272465Z",
     "iopub.status.idle": "2025-01-02T14:36:12.286268Z",
     "shell.execute_reply": "2025-01-02T14:36:12.285497Z"
    },
    "papermill": {
     "duration": 0.020558,
     "end_time": "2025-01-02T14:36:12.287934",
     "exception": false,
     "start_time": "2025-01-02T14:36:12.267376",
     "status": "completed"
    },
    "tags": []
   },
   "outputs": [],
   "source": [
    "import os\n",
    "import shutil\n",
    "from PIL import Image\n",
    "\n",
    "def is_image_valid(image_path):\n",
    "    \"\"\"\n",
    "    Kiểm tra ảnh có hợp lệ không (có thể mở được).\n",
    "    \"\"\"\n",
    "    try:\n",
    "        with Image.open(image_path) as img:\n",
    "            img.verify()  # Kiểm tra tính toàn vẹn của ảnh\n",
    "        return True\n",
    "    except Exception as e:\n",
    "        print(f\"Invalid image: {image_path}, Error: {e}\")\n",
    "        return False\n",
    "\n",
    "def is_bbox_valid(x_min, y_min, x_max, y_max, img_width, img_height):\n",
    "    \"\"\"\n",
    "    Kiểm tra xem bbox có nằm trong giới hạn của ảnh không và có hợp lệ không.\n",
    "    \"\"\"\n",
    "    return 0 <= x_min < x_max <= img_width and 0 <= y_min < y_max <= img_height\n",
    "\n",
    "def convert_to_yolo_format(input_labels_folder, input_images_folder, \n",
    "                           output_labels_folder, output_images_folder):\n",
    "    if not os.path.exists(output_labels_folder):\n",
    "        os.makedirs(output_labels_folder)\n",
    "    if not os.path.exists(output_images_folder):\n",
    "        os.makedirs(output_images_folder)\n",
    "\n",
    "    for label_file in os.listdir(input_labels_folder):\n",
    "        if label_file.endswith('.txt'):\n",
    "            label_path = os.path.join(input_labels_folder, label_file)\n",
    "            output_label_path = os.path.join(output_labels_folder, label_file)\n",
    "\n",
    "            # Lấy file ảnh tương ứng để xác định kích thước\n",
    "            image_file = label_file.replace('gt_', '').replace('.txt', '.jpg')\n",
    "            new_label_name = image_file.replace('.jpg', '.txt')\n",
    "            image_path = os.path.join(input_images_folder, image_file)\n",
    "\n",
    "            if not os.path.exists(image_path) or not is_image_valid(image_path):\n",
    "                continue\n",
    "\n",
    "            with Image.open(image_path) as img:\n",
    "                image_width, image_height = img.size\n",
    "\n",
    "            yolo_labels = []  # Lưu các bbox hợp lệ\n",
    "            with open(label_path, 'r', encoding='utf-8') as f:\n",
    "                lines = f.readlines()\n",
    "\n",
    "            for line in lines:\n",
    "                parts = line.strip().split(',')\n",
    "\n",
    "                # Đảm bảo đủ tọa độ bbox (ít nhất 8 giá trị)\n",
    "                if len(parts) < 8:\n",
    "                    continue\n",
    "\n",
    "                try:\n",
    "                    # Lấy tọa độ bbox\n",
    "                    x1, y1, x2, y2, x3, y3, x4, y4 = map(float, parts[:8])\n",
    "                    x_min = min(x1, x2, x3, x4)\n",
    "                    y_min = min(y1, y2, y3, y4)\n",
    "                    x_max = max(x1, x2, x3, x4)\n",
    "                    y_max = max(y1, y2, y3, y4)\n",
    "\n",
    "                    # Kiểm tra bbox hợp lệ\n",
    "                    if not is_bbox_valid(x_min, y_min, x_max, y_max, image_width, image_height):\n",
    "                        continue\n",
    "\n",
    "                    # Tính tọa độ YOLO format\n",
    "                    bbox_width = (x_max - x_min) / image_width\n",
    "                    bbox_height = (y_max - y_min) / image_height\n",
    "                    x_center = (x_min + x_max) / 2 / image_width\n",
    "                    y_center = (y_min + y_max) / 2 / image_height\n",
    "\n",
    "                    # Gán class_id là 0\n",
    "                    class_id = 0\n",
    "\n",
    "                    yolo_labels.append(f\"{class_id} {x_center:.6f} {y_center:.6f} {bbox_width:.6f} {bbox_height:.6f}\")\n",
    "                except ValueError:\n",
    "                    continue  # Bỏ qua dòng không hợp lệ\n",
    "\n",
    "            # Lưu bbox nếu có bbox hợp lệ\n",
    "            if yolo_labels:\n",
    "                with open(os.path.join(output_labels_folder, new_label_name), 'w') as out_f:\n",
    "                    out_f.write(\"\\n\".join(yolo_labels))\n",
    "\n",
    "                # Sao chép ảnh sang thư mục đầu ra\n",
    "                shutil.copy(image_path, os.path.join(output_images_folder, image_file))"
   ]
  },
  {
   "cell_type": "code",
   "execution_count": 5,
   "id": "adbb63bb",
   "metadata": {
    "execution": {
     "iopub.execute_input": "2025-01-02T14:36:12.298138Z",
     "iopub.status.busy": "2025-01-02T14:36:12.297830Z",
     "iopub.status.idle": "2025-01-02T14:36:18.607742Z",
     "shell.execute_reply": "2025-01-02T14:36:18.607024Z"
    },
    "papermill": {
     "duration": 6.316738,
     "end_time": "2025-01-02T14:36:18.609839",
     "exception": false,
     "start_time": "2025-01-02T14:36:12.293101",
     "status": "completed"
    },
    "tags": []
   },
   "outputs": [],
   "source": [
    "# Call the function\n",
    "convert_to_yolo_format(BKAI1_train_labels_folder, BKAI1_train_images_folder, \n",
    "                       BKAI1_train_output_labels_folder, BKAI1_train_output_images_folder)"
   ]
  },
  {
   "cell_type": "markdown",
   "id": "fd5488db",
   "metadata": {
    "papermill": {
     "duration": 0.003847,
     "end_time": "2025-01-02T14:36:18.617996",
     "exception": false,
     "start_time": "2025-01-02T14:36:18.614149",
     "status": "completed"
    },
    "tags": []
   },
   "source": [
    "# BKAI 2\n"
   ]
  },
  {
   "cell_type": "code",
   "execution_count": 6,
   "id": "3c0b8a13",
   "metadata": {
    "execution": {
     "iopub.execute_input": "2025-01-02T14:36:18.627281Z",
     "iopub.status.busy": "2025-01-02T14:36:18.626999Z",
     "iopub.status.idle": "2025-01-02T14:36:18.639107Z",
     "shell.execute_reply": "2025-01-02T14:36:18.638325Z"
    },
    "papermill": {
     "duration": 0.018815,
     "end_time": "2025-01-02T14:36:18.640797",
     "exception": false,
     "start_time": "2025-01-02T14:36:18.621982",
     "status": "completed"
    },
    "tags": []
   },
   "outputs": [],
   "source": [
    "import os\n",
    "import shutil\n",
    "import cv2\n",
    "from PIL import Image\n",
    "\n",
    "def ensure_directories_exist(directories):\n",
    "    \"\"\"\n",
    "    Ensure that all directories in the given list exist.\n",
    "    \"\"\"\n",
    "    for directory in directories:\n",
    "        os.makedirs(directory, exist_ok=True)\n",
    "\n",
    "def convert_bbox_to_yolo(bbox, img_width, img_height):\n",
    "    \"\"\"\n",
    "    Convert bounding box from absolute coordinates to YOLO format.\n",
    "    bbox: [x1, y1, x2, y2, x3, y3, x4, y4]\n",
    "    \"\"\"\n",
    "    x_coords = bbox[0::2]  # [x1, x2, x3, x4]\n",
    "    y_coords = bbox[1::2]  # [y1, y2, y3, y4]\n",
    "    x_min, x_max = min(x_coords), max(x_coords)\n",
    "    y_min, y_max = min(y_coords), max(y_coords)\n",
    "    \n",
    "    x_center = (x_min + x_max) / 2.0 / img_width\n",
    "    y_center = (y_min + y_max) / 2.0 / img_height\n",
    "    width = (x_max - x_min) / img_width\n",
    "    height = (y_max - y_min) / img_height\n",
    "    \n",
    "    return x_center, y_center, width, height\n",
    "\n",
    "def is_bbox_valid(bbox, img_width, img_height):\n",
    "    \"\"\"\n",
    "    Check if the bounding box is within the image boundaries and has valid dimensions.\n",
    "    bbox: [x1, y1, x2, y2, x3, y3, x4, y4]\n",
    "    \"\"\"\n",
    "    x_coords = bbox[0::2]\n",
    "    y_coords = bbox[1::2]\n",
    "    \n",
    "    x_min, x_max = min(x_coords), max(x_coords)\n",
    "    y_min, y_max = min(y_coords), max(y_coords)\n",
    "    \n",
    "    # Check if the bbox is within the image boundaries\n",
    "    return 0 <= x_min < x_max <= img_width and 0 <= y_min < y_max <= img_height\n",
    "\n",
    "def is_image_valid(image_path):\n",
    "    \"\"\"\n",
    "    Check if the image is valid (can be opened).\n",
    "    \"\"\"\n",
    "    try:\n",
    "        # Use OpenCV to check if the image can be read\n",
    "        img = cv2.imread(image_path)\n",
    "        if img is None:\n",
    "            raise ValueError(\"Image could not be read with OpenCV\")\n",
    "        \n",
    "        # Alternatively, use PIL to ensure the image is not corrupt\n",
    "        img_pil = Image.open(image_path)\n",
    "        img_pil.verify()  # Verify the image integrity\n",
    "        return True\n",
    "    except Exception as e:\n",
    "        print(f\"Error with image {image_path}: {e}\")\n",
    "        return False\n",
    "\n",
    "def process_labels_and_images(\n",
    "    images_folder, labels_folder, output_images_folder, output_labels_folder\n",
    "):\n",
    "    \"\"\"\n",
    "    Process images and their corresponding label files, converting bounding boxes to YOLO format.\n",
    "    \"\"\"\n",
    "    ensure_directories_exist([output_images_folder, output_labels_folder])\n",
    "    \n",
    "    for image_name in os.listdir(images_folder):\n",
    "        if not image_name.endswith('.jpg'):\n",
    "            continue\n",
    "\n",
    "        # Map image to label\n",
    "        image_id = str(int(image_name.split('.')[0].replace(\"im\", \"\")))  # e.g., im0001 -> 1\n",
    "        label_file = os.path.join(labels_folder, f\"gt_{image_id}.txt\")\n",
    "        if not os.path.exists(label_file):\n",
    "            continue\n",
    "\n",
    "        # Read image dimensions\n",
    "        image_path = os.path.join(images_folder, image_name)\n",
    "        \n",
    "        # Check if image is valid\n",
    "        if not is_image_valid(image_path):\n",
    "            continue  # Skip the image if it's corrupt\n",
    "\n",
    "        img = cv2.imread(image_path)\n",
    "        img_height, img_width = img.shape[:2]\n",
    "\n",
    "        # Process label file\n",
    "        yolo_labels = []\n",
    "        for line in open(label_file, 'r', encoding='utf-8'):\n",
    "            parts = line.strip().split(',')\n",
    "            bbox = list(map(int, parts[:8]))  # First 8 values are bbox\n",
    "            label = parts[8]  # Last value is the text/label\n",
    "\n",
    "            # Check if the bbox is valid\n",
    "            if is_bbox_valid(bbox, img_width, img_height):\n",
    "                # Convert bbox to YOLO format\n",
    "                x_center, y_center, width, height = convert_bbox_to_yolo(bbox, img_width, img_height)\n",
    "                yolo_labels.append(f\"0 {x_center} {y_center} {width} {height}\")\n",
    "        \n",
    "        if not yolo_labels:  # Skip image if no valid bbox\n",
    "            continue\n",
    "        \n",
    "        # Save image to output folder\n",
    "        new_image_name = f\"{image_id}.jpg\"\n",
    "        shutil.copy(image_path, os.path.join(output_images_folder, new_image_name))\n",
    "\n",
    "        # Save YOLO labels to output folder\n",
    "        output_label_file = os.path.join(output_labels_folder, f\"{image_id}.txt\")\n",
    "        with open(output_label_file, 'w') as f:\n",
    "            f.write(\"\\n\".join(yolo_labels))"
   ]
  },
  {
   "cell_type": "code",
   "execution_count": 7,
   "id": "95338fdb",
   "metadata": {
    "execution": {
     "iopub.execute_input": "2025-01-02T14:36:18.649775Z",
     "iopub.status.busy": "2025-01-02T14:36:18.649513Z",
     "iopub.status.idle": "2025-01-02T14:37:14.428252Z",
     "shell.execute_reply": "2025-01-02T14:37:14.427438Z"
    },
    "papermill": {
     "duration": 55.786082,
     "end_time": "2025-01-02T14:37:14.430730",
     "exception": false,
     "start_time": "2025-01-02T14:36:18.644648",
     "status": "completed"
    },
    "tags": []
   },
   "outputs": [],
   "source": [
    "process_labels_and_images(\n",
    "    BKAI_train_images_folder, \n",
    "    BKAI_labels_folder, \n",
    "    BKAI_train_output_images_folder, \n",
    "    BKAI_train_output_labels_folder\n",
    ")"
   ]
  },
  {
   "cell_type": "code",
   "execution_count": 8,
   "id": "15e307c5",
   "metadata": {
    "execution": {
     "iopub.execute_input": "2025-01-02T14:37:14.440558Z",
     "iopub.status.busy": "2025-01-02T14:37:14.440285Z",
     "iopub.status.idle": "2025-01-02T14:37:27.148916Z",
     "shell.execute_reply": "2025-01-02T14:37:27.148176Z"
    },
    "papermill": {
     "duration": 12.715806,
     "end_time": "2025-01-02T14:37:27.151050",
     "exception": false,
     "start_time": "2025-01-02T14:37:14.435244",
     "status": "completed"
    },
    "tags": []
   },
   "outputs": [],
   "source": [
    "process_labels_and_images(\n",
    "    BKAI_val_images_folder, \n",
    "    BKAI_labels_folder, \n",
    "    BKAI_val_output_images_folder, \n",
    "    BKAI_val_output_labels_folder\n",
    ")"
   ]
  },
  {
   "cell_type": "code",
   "execution_count": 9,
   "id": "a85d3694",
   "metadata": {
    "execution": {
     "iopub.execute_input": "2025-01-02T14:37:27.160945Z",
     "iopub.status.busy": "2025-01-02T14:37:27.160244Z",
     "iopub.status.idle": "2025-01-02T14:37:50.599386Z",
     "shell.execute_reply": "2025-01-02T14:37:50.598079Z"
    },
    "papermill": {
     "duration": 23.44616,
     "end_time": "2025-01-02T14:37:50.601529",
     "exception": false,
     "start_time": "2025-01-02T14:37:27.155369",
     "status": "completed"
    },
    "tags": []
   },
   "outputs": [],
   "source": [
    "process_labels_and_images(\n",
    "    BKAI_test_images_folder, \n",
    "    BKAI_labels_folder, \n",
    "    BKAI_test_output_images_folder, \n",
    "    BKAI_test_output_labels_folder\n",
    ")"
   ]
  },
  {
   "cell_type": "code",
   "execution_count": 10,
   "id": "6f65083e",
   "metadata": {
    "execution": {
     "iopub.execute_input": "2025-01-02T14:37:50.611600Z",
     "iopub.status.busy": "2025-01-02T14:37:50.611017Z",
     "iopub.status.idle": "2025-01-02T14:37:50.617149Z",
     "shell.execute_reply": "2025-01-02T14:37:50.616096Z"
    },
    "papermill": {
     "duration": 0.012844,
     "end_time": "2025-01-02T14:37:50.618723",
     "exception": false,
     "start_time": "2025-01-02T14:37:50.605879",
     "status": "completed"
    },
    "tags": []
   },
   "outputs": [
    {
     "name": "stdout",
     "output_type": "stream",
     "text": [
      "File 'data.yaml' đã được tạo tại: /kaggle/working/data.yaml\n"
     ]
    }
   ],
   "source": [
    "# Tạo đường dẫn tới file YAML\n",
    "dataset_dir = \"/kaggle/working\"\n",
    "os.makedirs(dataset_dir, exist_ok=True)\n",
    "yaml_file = os.path.join(dataset_dir, \"data.yaml\")\n",
    "\n",
    "# Nội dung file YAML\n",
    "yaml_content = \"\"\"\n",
    "train: /kaggle/working/train/images\n",
    "val: /kaggle/working/val/images\n",
    "\n",
    "nc: 1  # Số nhãn (với OCR chỉ là 1 lớp văn bản)\n",
    "names: ['text']\n",
    "\"\"\"\n",
    "\n",
    "# Ghi nội dung vào file YAML\n",
    "with open(yaml_file, \"w\") as f:\n",
    "    f.write(yaml_content.strip())\n",
    "\n",
    "print(f\"File 'data.yaml' đã được tạo tại: {yaml_file}\")"
   ]
  },
  {
   "cell_type": "code",
   "execution_count": 11,
   "id": "8a8bc999",
   "metadata": {
    "execution": {
     "iopub.execute_input": "2025-01-02T14:37:50.627974Z",
     "iopub.status.busy": "2025-01-02T14:37:50.627305Z",
     "iopub.status.idle": "2025-01-02T14:37:52.685680Z",
     "shell.execute_reply": "2025-01-02T14:37:52.684815Z"
    },
    "papermill": {
     "duration": 2.064968,
     "end_time": "2025-01-02T14:37:52.687572",
     "exception": false,
     "start_time": "2025-01-02T14:37:50.622604",
     "status": "completed"
    },
    "tags": []
   },
   "outputs": [
    {
     "name": "stdout",
     "output_type": "stream",
     "text": [
      "Model summary: 365 layers, 68,153,571 parameters, 0 gradients, 258.1 GFLOPs\n"
     ]
    },
    {
     "data": {
      "text/plain": [
       "(365, 68153571, 0, 258.1225472)"
      ]
     },
     "execution_count": 11,
     "metadata": {},
     "output_type": "execute_result"
    }
   ],
   "source": [
    "# Load a COCO-pretrained YOLOv8n model\n",
    "model = YOLO(\"/kaggle/input/train-li-step-1-vinhx-ver-4/pytorch/default/1/best (1).pt\")\n",
    "\n",
    "# Display model information (optional)\n",
    "model.info()"
   ]
  },
  {
   "cell_type": "code",
   "execution_count": 12,
   "id": "1f62d321",
   "metadata": {
    "execution": {
     "iopub.execute_input": "2025-01-02T14:37:52.697377Z",
     "iopub.status.busy": "2025-01-02T14:37:52.697121Z",
     "iopub.status.idle": "2025-01-02T16:04:44.057831Z",
     "shell.execute_reply": "2025-01-02T16:04:44.056923Z"
    },
    "papermill": {
     "duration": 5211.368094,
     "end_time": "2025-01-02T16:04:44.060060",
     "exception": false,
     "start_time": "2025-01-02T14:37:52.691966",
     "status": "completed"
    },
    "tags": []
   },
   "outputs": [
    {
     "name": "stdout",
     "output_type": "stream",
     "text": [
      "Ultralytics 8.3.56 🚀 Python-3.10.14 torch-2.4.0 CUDA:0 (Tesla T4, 15095MiB)\n",
      "                                                 CUDA:1 (Tesla T4, 15095MiB)\n",
      "\u001b[34m\u001b[1mengine/trainer: \u001b[0mtask=detect, mode=train, model=/kaggle/input/train-li-step-1-vinhx-ver-4/pytorch/default/1/best (1).pt, data=/kaggle/working/data.yaml, epochs=200, time=None, patience=15, batch=32, imgsz=640, save=True, save_period=-1, cache=False, device=[0, 1], workers=8, project=YOLOv8 - Step 1 - SGD, name=Step 2 Vinhx ver 1, exist_ok=False, pretrained=True, optimizer=SGD, verbose=True, seed=42, deterministic=True, single_cls=False, rect=False, cos_lr=True, close_mosaic=10, resume=False, amp=True, fraction=1.0, profile=False, freeze=None, multi_scale=False, overlap_mask=True, mask_ratio=4, dropout=0.0, val=True, split=val, save_json=False, save_hybrid=False, conf=None, iou=0.7, max_det=300, half=False, dnn=False, plots=True, source=None, vid_stride=1, stream_buffer=False, visualize=False, augment=False, agnostic_nms=False, classes=None, retina_masks=False, embed=None, show=False, save_frames=False, save_txt=False, save_conf=False, save_crop=False, show_labels=True, show_conf=True, show_boxes=True, line_width=None, format=torchscript, keras=False, optimize=False, int8=False, dynamic=False, simplify=True, opset=None, workspace=None, nms=False, lr0=0.005, lrf=0.01, momentum=0.9, weight_decay=0.001, warmup_epochs=10, warmup_momentum=0.8, warmup_bias_lr=0.1, box=7.5, cls=0.5, dfl=1.5, pose=12.0, kobj=1.0, nbs=64, hsv_h=0.015, hsv_s=0.7, hsv_v=0.4, degrees=0.0, translate=0.1, scale=0.5, shear=0.0, perspective=0.0, flipud=0.0, fliplr=0.5, bgr=0.0, mosaic=1.0, mixup=0.0, copy_paste=0.0, copy_paste_mode=flip, auto_augment=randaugment, erasing=0.4, crop_fraction=1.0, cfg=None, tracker=botsort.yaml, save_dir=YOLOv8 - Step 1 - SGD/Step 2 Vinhx ver 1\n",
      "Downloading https://ultralytics.com/assets/Arial.ttf to '/root/.config/Ultralytics/Arial.ttf'...\n"
     ]
    },
    {
     "name": "stderr",
     "output_type": "stream",
     "text": [
      "100%|██████████| 755k/755k [00:00<00:00, 24.7MB/s]\n"
     ]
    },
    {
     "name": "stdout",
     "output_type": "stream",
     "text": [
      "\n",
      "                   from  n    params  module                                       arguments                     \n",
      "  0                  -1  1      2320  ultralytics.nn.modules.conv.Conv             [3, 80, 3, 2]                 \n",
      "  1                  -1  1    115520  ultralytics.nn.modules.conv.Conv             [80, 160, 3, 2]               \n",
      "  2                  -1  3    436800  ultralytics.nn.modules.block.C2f             [160, 160, 3, True]           \n",
      "  3                  -1  1    461440  ultralytics.nn.modules.conv.Conv             [160, 320, 3, 2]              \n",
      "  4                  -1  6   3281920  ultralytics.nn.modules.block.C2f             [320, 320, 6, True]           \n",
      "  5                  -1  1   1844480  ultralytics.nn.modules.conv.Conv             [320, 640, 3, 2]              \n",
      "  6                  -1  6  13117440  ultralytics.nn.modules.block.C2f             [640, 640, 6, True]           \n",
      "  7                  -1  1   3687680  ultralytics.nn.modules.conv.Conv             [640, 640, 3, 2]              \n",
      "  8                  -1  3   6969600  ultralytics.nn.modules.block.C2f             [640, 640, 3, True]           \n",
      "  9                  -1  1   1025920  ultralytics.nn.modules.block.SPPF            [640, 640, 5]                 \n",
      " 10                  -1  1         0  torch.nn.modules.upsampling.Upsample         [None, 2, 'nearest']          \n",
      " 11             [-1, 6]  1         0  ultralytics.nn.modules.conv.Concat           [1]                           \n",
      " 12                  -1  3   7379200  ultralytics.nn.modules.block.C2f             [1280, 640, 3]                \n",
      " 13                  -1  1         0  torch.nn.modules.upsampling.Upsample         [None, 2, 'nearest']          \n",
      " 14             [-1, 4]  1         0  ultralytics.nn.modules.conv.Concat           [1]                           \n",
      " 15                  -1  3   1948800  ultralytics.nn.modules.block.C2f             [960, 320, 3]                 \n",
      " 16                  -1  1    922240  ultralytics.nn.modules.conv.Conv             [320, 320, 3, 2]              \n",
      " 17            [-1, 12]  1         0  ultralytics.nn.modules.conv.Concat           [1]                           \n",
      " 18                  -1  3   7174400  ultralytics.nn.modules.block.C2f             [960, 640, 3]                 \n",
      " 19                  -1  1   3687680  ultralytics.nn.modules.conv.Conv             [640, 640, 3, 2]              \n",
      " 20             [-1, 9]  1         0  ultralytics.nn.modules.conv.Concat           [1]                           \n",
      " 21                  -1  3   7379200  ultralytics.nn.modules.block.C2f             [1280, 640, 3]                \n",
      " 22        [15, 18, 21]  1   8718931  ultralytics.nn.modules.head.Detect           [1, [320, 640, 640]]          \n",
      "Model summary: 365 layers, 68,153,571 parameters, 68,153,555 gradients, 258.1 GFLOPs\n",
      "\n",
      "Transferred 595/595 items from pretrained weights\n",
      "\u001b[34m\u001b[1mDDP:\u001b[0m debug command /opt/conda/bin/python -m torch.distributed.run --nproc_per_node 2 --master_port 57111 /root/.config/Ultralytics/DDP/_temp_ltmu19vf139840662874256.py\n",
      "Ultralytics 8.3.56 🚀 Python-3.10.14 torch-2.4.0 CUDA:0 (Tesla T4, 15095MiB)\n",
      "                                                 CUDA:1 (Tesla T4, 15095MiB)\n",
      "\u001b[34m\u001b[1mTensorBoard: \u001b[0mStart with 'tensorboard --logdir YOLOv8 - Step 1 - SGD/Step 2 Vinhx ver 1', view at http://localhost:6006/\n",
      "Transferred 595/595 items from pretrained weights\n",
      "Freezing layer 'model.22.dfl.conv.weight'\n",
      "\u001b[34m\u001b[1mAMP: \u001b[0mrunning Automatic Mixed Precision (AMP) checks...\n",
      "Downloading https://github.com/ultralytics/assets/releases/download/v8.3.0/yolo11n.pt to 'yolo11n.pt'...\n"
     ]
    },
    {
     "name": "stderr",
     "output_type": "stream",
     "text": [
      "100%|██████████| 5.35M/5.35M [00:00<00:00, 90.0MB/s]\n"
     ]
    },
    {
     "name": "stdout",
     "output_type": "stream",
     "text": [
      "\u001b[34m\u001b[1mAMP: \u001b[0mchecks passed ✅\n"
     ]
    },
    {
     "name": "stderr",
     "output_type": "stream",
     "text": [
      "\u001b[34m\u001b[1mtrain: \u001b[0mScanning /kaggle/working/train/labels... 1700 images, 0 backgrounds, 0 corrupt: 100%|██████████| 1700/1700 [00:04<00:00, 400.52it/s]\n"
     ]
    },
    {
     "name": "stdout",
     "output_type": "stream",
     "text": [
      "\u001b[34m\u001b[1mtrain: \u001b[0mWARNING ⚠️ /kaggle/working/train/images/101.jpg: corrupt JPEG restored and saved\n",
      "\u001b[34m\u001b[1mtrain: \u001b[0mWARNING ⚠️ /kaggle/working/train/images/1014.jpg: corrupt JPEG restored and saved\n",
      "\u001b[34m\u001b[1mtrain: \u001b[0mWARNING ⚠️ /kaggle/working/train/images/1063.jpg: corrupt JPEG restored and saved\n",
      "\u001b[34m\u001b[1mtrain: \u001b[0mWARNING ⚠️ /kaggle/working/train/images/1081.jpg: corrupt JPEG restored and saved\n",
      "\u001b[34m\u001b[1mtrain: \u001b[0mWARNING ⚠️ /kaggle/working/train/images/1085.jpg: corrupt JPEG restored and saved\n",
      "\u001b[34m\u001b[1mtrain: \u001b[0mWARNING ⚠️ /kaggle/working/train/images/111.jpg: corrupt JPEG restored and saved\n",
      "\u001b[34m\u001b[1mtrain: \u001b[0mWARNING ⚠️ /kaggle/working/train/images/1131.jpg: corrupt JPEG restored and saved\n",
      "\u001b[34m\u001b[1mtrain: \u001b[0mWARNING ⚠️ /kaggle/working/train/images/1134.jpg: corrupt JPEG restored and saved\n",
      "\u001b[34m\u001b[1mtrain: \u001b[0mWARNING ⚠️ /kaggle/working/train/images/1194.jpg: corrupt JPEG restored and saved\n",
      "\u001b[34m\u001b[1mtrain: \u001b[0mWARNING ⚠️ /kaggle/working/train/images/12.jpg: corrupt JPEG restored and saved\n",
      "\u001b[34m\u001b[1mtrain: \u001b[0mWARNING ⚠️ /kaggle/working/train/images/173.jpg: corrupt JPEG restored and saved\n",
      "\u001b[34m\u001b[1mtrain: \u001b[0mWARNING ⚠️ /kaggle/working/train/images/235.jpg: corrupt JPEG restored and saved\n",
      "\u001b[34m\u001b[1mtrain: \u001b[0mWARNING ⚠️ /kaggle/working/train/images/243.jpg: corrupt JPEG restored and saved\n",
      "\u001b[34m\u001b[1mtrain: \u001b[0mWARNING ⚠️ /kaggle/working/train/images/294.jpg: corrupt JPEG restored and saved\n",
      "\u001b[34m\u001b[1mtrain: \u001b[0mWARNING ⚠️ /kaggle/working/train/images/305.jpg: corrupt JPEG restored and saved\n",
      "\u001b[34m\u001b[1mtrain: \u001b[0mWARNING ⚠️ /kaggle/working/train/images/40.jpg: corrupt JPEG restored and saved\n",
      "\u001b[34m\u001b[1mtrain: \u001b[0mWARNING ⚠️ /kaggle/working/train/images/413.jpg: 1 duplicate labels removed\n",
      "\u001b[34m\u001b[1mtrain: \u001b[0mWARNING ⚠️ /kaggle/working/train/images/482.jpg: corrupt JPEG restored and saved\n",
      "\u001b[34m\u001b[1mtrain: \u001b[0mWARNING ⚠️ /kaggle/working/train/images/500.jpg: corrupt JPEG restored and saved\n",
      "\u001b[34m\u001b[1mtrain: \u001b[0mWARNING ⚠️ /kaggle/working/train/images/577.jpg: corrupt JPEG restored and saved\n",
      "\u001b[34m\u001b[1mtrain: \u001b[0mWARNING ⚠️ /kaggle/working/train/images/666.jpg: corrupt JPEG restored and saved\n",
      "\u001b[34m\u001b[1mtrain: \u001b[0mWARNING ⚠️ /kaggle/working/train/images/676.jpg: corrupt JPEG restored and saved\n",
      "\u001b[34m\u001b[1mtrain: \u001b[0mWARNING ⚠️ /kaggle/working/train/images/698.jpg: corrupt JPEG restored and saved\n",
      "\u001b[34m\u001b[1mtrain: \u001b[0mWARNING ⚠️ /kaggle/working/train/images/708.jpg: corrupt JPEG restored and saved\n",
      "\u001b[34m\u001b[1mtrain: \u001b[0mWARNING ⚠️ /kaggle/working/train/images/714.jpg: corrupt JPEG restored and saved\n",
      "\u001b[34m\u001b[1mtrain: \u001b[0mWARNING ⚠️ /kaggle/working/train/images/716.jpg: corrupt JPEG restored and saved\n",
      "\u001b[34m\u001b[1mtrain: \u001b[0mWARNING ⚠️ /kaggle/working/train/images/738.jpg: corrupt JPEG restored and saved\n",
      "\u001b[34m\u001b[1mtrain: \u001b[0mWARNING ⚠️ /kaggle/working/train/images/8.jpg: corrupt JPEG restored and saved\n",
      "\u001b[34m\u001b[1mtrain: \u001b[0mWARNING ⚠️ /kaggle/working/train/images/878.jpg: corrupt JPEG restored and saved\n",
      "\u001b[34m\u001b[1mtrain: \u001b[0mWARNING ⚠️ /kaggle/working/train/images/908.jpg: corrupt JPEG restored and saved\n",
      "\u001b[34m\u001b[1mtrain: \u001b[0mWARNING ⚠️ /kaggle/working/train/images/969.jpg: corrupt JPEG restored and saved\n",
      "\u001b[34m\u001b[1mtrain: \u001b[0mNew cache created: /kaggle/working/train/labels.cache\n"
     ]
    },
    {
     "name": "stderr",
     "output_type": "stream",
     "text": [
      "/opt/conda/lib/python3.10/site-packages/albumentations/__init__.py:24: UserWarning: A new version of Albumentations is available: 1.4.24 (you have 1.4.21). Upgrade using: pip install -U albumentations. To disable automatic update checks, set the environment variable NO_ALBUMENTATIONS_UPDATE to 1.\n",
      "  check_for_updates()\n",
      "/opt/conda/lib/python3.10/multiprocessing/popen_fork.py:66: RuntimeWarning: os.fork() was called. os.fork() is incompatible with multithreaded code, and JAX is multithreaded, so this will likely lead to a deadlock.\n",
      "  self.pid = os.fork()\n",
      "\u001b[34m\u001b[1mval: \u001b[0mScanning /kaggle/working/val/labels...:   0%|          | 0/300 [00:00<?, ?it/s]"
     ]
    },
    {
     "name": "stdout",
     "output_type": "stream",
     "text": [
      "\u001b[34m\u001b[1malbumentations: \u001b[0mBlur(p=0.01, blur_limit=(3, 7)), MedianBlur(p=0.01, blur_limit=(3, 7)), ToGray(p=0.01, num_output_channels=3, method='weighted_average'), CLAHE(p=0.01, clip_limit=(1.0, 4.0), tile_grid_size=(8, 8))\n"
     ]
    },
    {
     "name": "stderr",
     "output_type": "stream",
     "text": [
      "\u001b[34m\u001b[1mval: \u001b[0mScanning /kaggle/working/val/labels... 300 images, 0 backgrounds, 0 corrupt: 100%|██████████| 300/300 [00:00<00:00, 370.07it/s]\n"
     ]
    },
    {
     "name": "stdout",
     "output_type": "stream",
     "text": [
      "\u001b[34m\u001b[1mval: \u001b[0mWARNING ⚠️ /kaggle/working/val/images/1238.jpg: corrupt JPEG restored and saved\n",
      "\u001b[34m\u001b[1mval: \u001b[0mNew cache created: /kaggle/working/val/labels.cache\n"
     ]
    },
    {
     "name": "stderr",
     "output_type": "stream",
     "text": [
      "/opt/conda/lib/python3.10/site-packages/albumentations/__init__.py:24: UserWarning: A new version of Albumentations is available: 1.4.24 (you have 1.4.21). Upgrade using: pip install -U albumentations. To disable automatic update checks, set the environment variable NO_ALBUMENTATIONS_UPDATE to 1.\n",
      "  check_for_updates()\n"
     ]
    },
    {
     "name": "stdout",
     "output_type": "stream",
     "text": [
      "Plotting labels to YOLOv8 - Step 1 - SGD/Step 2 Vinhx ver 1/labels.jpg... \n",
      "\u001b[34m\u001b[1moptimizer:\u001b[0m SGD(lr=0.005, momentum=0.9) with parameter groups 97 weight(decay=0.0), 104 weight(decay=0.001), 103 bias(decay=0.0)\n",
      "\u001b[34m\u001b[1mTensorBoard: \u001b[0mmodel graph visualization added ✅\n",
      "Image sizes 640 train, 640 val\n",
      "Using 4 dataloader workers\n",
      "Logging results to \u001b[1mYOLOv8 - Step 1 - SGD/Step 2 Vinhx ver 1\u001b[0m\n",
      "Starting training for 200 epochs...\n",
      "\n",
      "      Epoch    GPU_mem   box_loss   cls_loss   dfl_loss  Instances       Size\n"
     ]
    },
    {
     "name": "stderr",
     "output_type": "stream",
     "text": [
      "      1/200      14.2G        1.3     0.6973      1.092         57        640: 100%|██████████| 54/54 [01:10<00:00,  1.31s/it]\n",
      "                 Class     Images  Instances      Box(P          R      mAP50  mAP50-95): 100%|██████████| 10/10 [00:09<00:00,  1.04it/s]\n"
     ]
    },
    {
     "name": "stdout",
     "output_type": "stream",
     "text": [
      "                   all        300       8649      0.832      0.626      0.684      0.449\n",
      "\n",
      "      Epoch    GPU_mem   box_loss   cls_loss   dfl_loss  Instances       Size\n"
     ]
    },
    {
     "name": "stderr",
     "output_type": "stream",
     "text": [
      "      2/200      13.6G      1.127     0.5982      1.006         47        640: 100%|██████████| 54/54 [01:21<00:00,  1.51s/it]\n",
      "                 Class     Images  Instances      Box(P          R      mAP50  mAP50-95): 100%|██████████| 10/10 [00:09<00:00,  1.06it/s]\n"
     ]
    },
    {
     "name": "stdout",
     "output_type": "stream",
     "text": [
      "                   all        300       8649      0.827      0.638      0.703      0.475\n",
      "\n",
      "      Epoch    GPU_mem   box_loss   cls_loss   dfl_loss  Instances       Size\n"
     ]
    },
    {
     "name": "stderr",
     "output_type": "stream",
     "text": [
      "      3/200      13.6G      1.071     0.5436     0.9784         79        640: 100%|██████████| 54/54 [01:23<00:00,  1.54s/it]\n",
      "                 Class     Images  Instances      Box(P          R      mAP50  mAP50-95): 100%|██████████| 10/10 [00:09<00:00,  1.05it/s]\n"
     ]
    },
    {
     "name": "stdout",
     "output_type": "stream",
     "text": [
      "                   all        300       8649      0.854      0.631      0.714        0.5\n",
      "\n",
      "      Epoch    GPU_mem   box_loss   cls_loss   dfl_loss  Instances       Size\n"
     ]
    },
    {
     "name": "stderr",
     "output_type": "stream",
     "text": [
      "      4/200      14.3G      1.054     0.5476     0.9737         40        640: 100%|██████████| 54/54 [01:23<00:00,  1.55s/it]\n",
      "                 Class     Images  Instances      Box(P          R      mAP50  mAP50-95): 100%|██████████| 10/10 [00:09<00:00,  1.05it/s]\n"
     ]
    },
    {
     "name": "stdout",
     "output_type": "stream",
     "text": [
      "                   all        300       8649      0.837       0.65       0.72      0.503\n",
      "\n",
      "      Epoch    GPU_mem   box_loss   cls_loss   dfl_loss  Instances       Size\n"
     ]
    },
    {
     "name": "stderr",
     "output_type": "stream",
     "text": [
      "      5/200      13.6G      1.038     0.5283      0.972        121        640: 100%|██████████| 54/54 [01:23<00:00,  1.55s/it]\n",
      "                 Class     Images  Instances      Box(P          R      mAP50  mAP50-95): 100%|██████████| 10/10 [00:09<00:00,  1.05it/s]\n"
     ]
    },
    {
     "name": "stdout",
     "output_type": "stream",
     "text": [
      "                   all        300       8649      0.837       0.65       0.72      0.497\n",
      "\n",
      "      Epoch    GPU_mem   box_loss   cls_loss   dfl_loss  Instances       Size\n"
     ]
    },
    {
     "name": "stderr",
     "output_type": "stream",
     "text": [
      "      6/200      13.6G      1.034     0.5068     0.9748         39        640: 100%|██████████| 54/54 [01:22<00:00,  1.53s/it]\n",
      "                 Class     Images  Instances      Box(P          R      mAP50  mAP50-95): 100%|██████████| 10/10 [00:09<00:00,  1.06it/s]\n"
     ]
    },
    {
     "name": "stdout",
     "output_type": "stream",
     "text": [
      "                   all        300       8649      0.849      0.653      0.723      0.503\n",
      "\n",
      "      Epoch    GPU_mem   box_loss   cls_loss   dfl_loss  Instances       Size\n"
     ]
    },
    {
     "name": "stderr",
     "output_type": "stream",
     "text": [
      "      7/200      13.4G      1.042       0.52     0.9704         54        640: 100%|██████████| 54/54 [01:22<00:00,  1.53s/it]\n",
      "                 Class     Images  Instances      Box(P          R      mAP50  mAP50-95): 100%|██████████| 10/10 [00:09<00:00,  1.07it/s]\n"
     ]
    },
    {
     "name": "stdout",
     "output_type": "stream",
     "text": [
      "                   all        300       8649      0.852      0.654      0.725      0.503\n",
      "\n",
      "      Epoch    GPU_mem   box_loss   cls_loss   dfl_loss  Instances       Size\n"
     ]
    },
    {
     "name": "stderr",
     "output_type": "stream",
     "text": [
      "      8/200      13.5G      1.051     0.5232     0.9626        116        640: 100%|██████████| 54/54 [01:22<00:00,  1.53s/it]\n",
      "                 Class     Images  Instances      Box(P          R      mAP50  mAP50-95): 100%|██████████| 10/10 [00:09<00:00,  1.07it/s]\n"
     ]
    },
    {
     "name": "stdout",
     "output_type": "stream",
     "text": [
      "                   all        300       8649      0.827      0.659      0.723      0.484\n",
      "\n",
      "      Epoch    GPU_mem   box_loss   cls_loss   dfl_loss  Instances       Size\n"
     ]
    },
    {
     "name": "stderr",
     "output_type": "stream",
     "text": [
      "      9/200        13G      1.032     0.5051     0.9596        101        640: 100%|██████████| 54/54 [01:22<00:00,  1.53s/it]\n",
      "                 Class     Images  Instances      Box(P          R      mAP50  mAP50-95): 100%|██████████| 10/10 [00:09<00:00,  1.04it/s]\n"
     ]
    },
    {
     "name": "stdout",
     "output_type": "stream",
     "text": [
      "                   all        300       8649      0.858      0.641      0.721      0.492\n",
      "\n",
      "      Epoch    GPU_mem   box_loss   cls_loss   dfl_loss  Instances       Size\n"
     ]
    },
    {
     "name": "stderr",
     "output_type": "stream",
     "text": [
      "     10/200      13.5G      1.046     0.5287     0.9627        142        640: 100%|██████████| 54/54 [01:22<00:00,  1.53s/it]\n",
      "                 Class     Images  Instances      Box(P          R      mAP50  mAP50-95): 100%|██████████| 10/10 [00:09<00:00,  1.06it/s]\n"
     ]
    },
    {
     "name": "stdout",
     "output_type": "stream",
     "text": [
      "                   all        300       8649      0.847      0.651      0.714      0.485\n",
      "\n",
      "      Epoch    GPU_mem   box_loss   cls_loss   dfl_loss  Instances       Size\n"
     ]
    },
    {
     "name": "stderr",
     "output_type": "stream",
     "text": [
      "     11/200      13.5G      1.031     0.5169     0.9629        141        640: 100%|██████████| 54/54 [01:22<00:00,  1.53s/it]\n",
      "                 Class     Images  Instances      Box(P          R      mAP50  mAP50-95): 100%|██████████| 10/10 [00:09<00:00,  1.07it/s]\n"
     ]
    },
    {
     "name": "stdout",
     "output_type": "stream",
     "text": [
      "                   all        300       8649      0.838      0.639      0.709      0.489\n",
      "\n",
      "      Epoch    GPU_mem   box_loss   cls_loss   dfl_loss  Instances       Size\n"
     ]
    },
    {
     "name": "stderr",
     "output_type": "stream",
     "text": [
      "     12/200      13.7G       1.02     0.5105      0.952         84        640: 100%|██████████| 54/54 [01:22<00:00,  1.53s/it]\n",
      "                 Class     Images  Instances      Box(P          R      mAP50  mAP50-95): 100%|██████████| 10/10 [00:09<00:00,  1.05it/s]\n"
     ]
    },
    {
     "name": "stdout",
     "output_type": "stream",
     "text": [
      "                   all        300       8649      0.854      0.653       0.72      0.504\n",
      "\n",
      "      Epoch    GPU_mem   box_loss   cls_loss   dfl_loss  Instances       Size\n"
     ]
    },
    {
     "name": "stderr",
     "output_type": "stream",
     "text": [
      "     13/200      14.3G      1.026     0.5138     0.9537         65        640: 100%|██████████| 54/54 [01:22<00:00,  1.52s/it]\n",
      "                 Class     Images  Instances      Box(P          R      mAP50  mAP50-95): 100%|██████████| 10/10 [00:09<00:00,  1.06it/s]\n"
     ]
    },
    {
     "name": "stdout",
     "output_type": "stream",
     "text": [
      "                   all        300       8649      0.851      0.641      0.715      0.497\n",
      "\n",
      "      Epoch    GPU_mem   box_loss   cls_loss   dfl_loss  Instances       Size\n"
     ]
    },
    {
     "name": "stderr",
     "output_type": "stream",
     "text": [
      "     14/200        14G      1.007     0.5085     0.9527         44        640: 100%|██████████| 54/54 [01:22<00:00,  1.53s/it]\n",
      "                 Class     Images  Instances      Box(P          R      mAP50  mAP50-95): 100%|██████████| 10/10 [00:09<00:00,  1.04it/s]\n"
     ]
    },
    {
     "name": "stdout",
     "output_type": "stream",
     "text": [
      "                   all        300       8649      0.845      0.658      0.723      0.497\n",
      "\n",
      "      Epoch    GPU_mem   box_loss   cls_loss   dfl_loss  Instances       Size\n"
     ]
    },
    {
     "name": "stderr",
     "output_type": "stream",
     "text": [
      "     15/200      14.2G     0.9883     0.4873     0.9471         63        640: 100%|██████████| 54/54 [01:22<00:00,  1.53s/it]\n",
      "                 Class     Images  Instances      Box(P          R      mAP50  mAP50-95): 100%|██████████| 10/10 [00:09<00:00,  1.06it/s]\n"
     ]
    },
    {
     "name": "stdout",
     "output_type": "stream",
     "text": [
      "                   all        300       8649      0.851      0.651      0.719      0.493\n",
      "\n",
      "      Epoch    GPU_mem   box_loss   cls_loss   dfl_loss  Instances       Size\n"
     ]
    },
    {
     "name": "stderr",
     "output_type": "stream",
     "text": [
      "     16/200      13.3G       1.01     0.4955      0.953         17        640: 100%|██████████| 54/54 [01:22<00:00,  1.53s/it]\n",
      "                 Class     Images  Instances      Box(P          R      mAP50  mAP50-95): 100%|██████████| 10/10 [00:09<00:00,  1.04it/s]\n"
     ]
    },
    {
     "name": "stdout",
     "output_type": "stream",
     "text": [
      "                   all        300       8649      0.861       0.65      0.729      0.508\n",
      "\n",
      "      Epoch    GPU_mem   box_loss   cls_loss   dfl_loss  Instances       Size\n"
     ]
    },
    {
     "name": "stderr",
     "output_type": "stream",
     "text": [
      "     17/200      15.1G     0.9769     0.4901     0.9488         29        640: 100%|██████████| 54/54 [01:22<00:00,  1.53s/it]\n",
      "                 Class     Images  Instances      Box(P          R      mAP50  mAP50-95): 100%|██████████| 10/10 [00:09<00:00,  1.05it/s]\n"
     ]
    },
    {
     "name": "stdout",
     "output_type": "stream",
     "text": [
      "                   all        300       8649      0.849      0.648      0.723      0.497\n",
      "\n",
      "      Epoch    GPU_mem   box_loss   cls_loss   dfl_loss  Instances       Size\n"
     ]
    },
    {
     "name": "stderr",
     "output_type": "stream",
     "text": [
      "     18/200        14G     0.9755      0.477     0.9466        179        640: 100%|██████████| 54/54 [01:22<00:00,  1.53s/it]\n",
      "                 Class     Images  Instances      Box(P          R      mAP50  mAP50-95): 100%|██████████| 10/10 [00:09<00:00,  1.07it/s]\n"
     ]
    },
    {
     "name": "stdout",
     "output_type": "stream",
     "text": [
      "                   all        300       8649      0.847      0.647      0.722      0.497\n",
      "\n",
      "      Epoch    GPU_mem   box_loss   cls_loss   dfl_loss  Instances       Size\n"
     ]
    },
    {
     "name": "stderr",
     "output_type": "stream",
     "text": [
      "     19/200      14.2G     0.9549     0.4732     0.9425         89        640: 100%|██████████| 54/54 [01:22<00:00,  1.53s/it]\n",
      "                 Class     Images  Instances      Box(P          R      mAP50  mAP50-95): 100%|██████████| 10/10 [00:09<00:00,  1.05it/s]\n"
     ]
    },
    {
     "name": "stdout",
     "output_type": "stream",
     "text": [
      "                   all        300       8649       0.85      0.647      0.722       0.51\n",
      "\n",
      "      Epoch    GPU_mem   box_loss   cls_loss   dfl_loss  Instances       Size\n"
     ]
    },
    {
     "name": "stderr",
     "output_type": "stream",
     "text": [
      "     20/200      14.4G     0.9634      0.468      0.944         44        640: 100%|██████████| 54/54 [01:22<00:00,  1.53s/it]\n",
      "                 Class     Images  Instances      Box(P          R      mAP50  mAP50-95): 100%|██████████| 10/10 [00:09<00:00,  1.05it/s]\n"
     ]
    },
    {
     "name": "stdout",
     "output_type": "stream",
     "text": [
      "                   all        300       8649      0.857       0.65      0.724      0.492\n",
      "\n",
      "      Epoch    GPU_mem   box_loss   cls_loss   dfl_loss  Instances       Size\n"
     ]
    },
    {
     "name": "stderr",
     "output_type": "stream",
     "text": [
      "     21/200      14.4G     0.9467     0.4756     0.9392        116        640: 100%|██████████| 54/54 [01:22<00:00,  1.52s/it]\n",
      "                 Class     Images  Instances      Box(P          R      mAP50  mAP50-95): 100%|██████████| 10/10 [00:09<00:00,  1.05it/s]\n"
     ]
    },
    {
     "name": "stdout",
     "output_type": "stream",
     "text": [
      "                   all        300       8649      0.859      0.645      0.721      0.495\n",
      "\n",
      "      Epoch    GPU_mem   box_loss   cls_loss   dfl_loss  Instances       Size\n"
     ]
    },
    {
     "name": "stderr",
     "output_type": "stream",
     "text": [
      "     22/200      14.1G     0.9295     0.4529     0.9214         63        640: 100%|██████████| 54/54 [01:22<00:00,  1.53s/it]\n",
      "                 Class     Images  Instances      Box(P          R      mAP50  mAP50-95): 100%|██████████| 10/10 [00:09<00:00,  1.05it/s]\n"
     ]
    },
    {
     "name": "stdout",
     "output_type": "stream",
     "text": [
      "                   all        300       8649      0.865      0.648      0.729      0.502\n",
      "\n",
      "      Epoch    GPU_mem   box_loss   cls_loss   dfl_loss  Instances       Size\n"
     ]
    },
    {
     "name": "stderr",
     "output_type": "stream",
     "text": [
      "     23/200      13.5G     0.9205     0.4579     0.9188         59        640: 100%|██████████| 54/54 [01:22<00:00,  1.53s/it]\n",
      "                 Class     Images  Instances      Box(P          R      mAP50  mAP50-95): 100%|██████████| 10/10 [00:09<00:00,  1.05it/s]\n"
     ]
    },
    {
     "name": "stdout",
     "output_type": "stream",
     "text": [
      "                   all        300       8649      0.865      0.646      0.728      0.509\n",
      "\n",
      "      Epoch    GPU_mem   box_loss   cls_loss   dfl_loss  Instances       Size\n"
     ]
    },
    {
     "name": "stderr",
     "output_type": "stream",
     "text": [
      "     24/200      14.2G     0.9148     0.4509     0.9198         20        640: 100%|██████████| 54/54 [01:22<00:00,  1.53s/it]\n",
      "                 Class     Images  Instances      Box(P          R      mAP50  mAP50-95): 100%|██████████| 10/10 [00:09<00:00,  1.05it/s]\n"
     ]
    },
    {
     "name": "stdout",
     "output_type": "stream",
     "text": [
      "                   all        300       8649      0.863      0.639      0.714      0.492\n",
      "\n",
      "      Epoch    GPU_mem   box_loss   cls_loss   dfl_loss  Instances       Size\n"
     ]
    },
    {
     "name": "stderr",
     "output_type": "stream",
     "text": [
      "     25/200      15.5G     0.9198     0.4464     0.9123         54        640: 100%|██████████| 54/54 [01:22<00:00,  1.53s/it]\n",
      "                 Class     Images  Instances      Box(P          R      mAP50  mAP50-95): 100%|██████████| 10/10 [00:09<00:00,  1.05it/s]\n"
     ]
    },
    {
     "name": "stdout",
     "output_type": "stream",
     "text": [
      "                   all        300       8649       0.85      0.652      0.726      0.507\n",
      "\n",
      "      Epoch    GPU_mem   box_loss   cls_loss   dfl_loss  Instances       Size\n"
     ]
    },
    {
     "name": "stderr",
     "output_type": "stream",
     "text": [
      "     26/200      13.6G     0.9031     0.4403     0.9078         94        640: 100%|██████████| 54/54 [01:22<00:00,  1.53s/it]\n",
      "                 Class     Images  Instances      Box(P          R      mAP50  mAP50-95): 100%|██████████| 10/10 [00:09<00:00,  1.05it/s]\n"
     ]
    },
    {
     "name": "stdout",
     "output_type": "stream",
     "text": [
      "                   all        300       8649      0.869      0.644      0.724      0.497\n",
      "\n",
      "      Epoch    GPU_mem   box_loss   cls_loss   dfl_loss  Instances       Size\n"
     ]
    },
    {
     "name": "stderr",
     "output_type": "stream",
     "text": [
      "     27/200      13.8G     0.8981     0.4329     0.9174         69        640: 100%|██████████| 54/54 [01:22<00:00,  1.52s/it]\n",
      "                 Class     Images  Instances      Box(P          R      mAP50  mAP50-95): 100%|██████████| 10/10 [00:09<00:00,  1.06it/s]\n"
     ]
    },
    {
     "name": "stdout",
     "output_type": "stream",
     "text": [
      "                   all        300       8649      0.866       0.65      0.728      0.502\n",
      "\n",
      "      Epoch    GPU_mem   box_loss   cls_loss   dfl_loss  Instances       Size\n"
     ]
    },
    {
     "name": "stderr",
     "output_type": "stream",
     "text": [
      "     28/200      13.7G     0.8931     0.4266     0.9145         35        640: 100%|██████████| 54/54 [01:22<00:00,  1.53s/it]\n",
      "                 Class     Images  Instances      Box(P          R      mAP50  mAP50-95): 100%|██████████| 10/10 [00:09<00:00,  1.05it/s]\n"
     ]
    },
    {
     "name": "stdout",
     "output_type": "stream",
     "text": [
      "                   all        300       8649       0.87       0.65      0.729      0.505\n",
      "\n",
      "      Epoch    GPU_mem   box_loss   cls_loss   dfl_loss  Instances       Size\n"
     ]
    },
    {
     "name": "stderr",
     "output_type": "stream",
     "text": [
      "     29/200      13.8G     0.8914     0.4326     0.9109         34        640: 100%|██████████| 54/54 [01:22<00:00,  1.52s/it]\n",
      "                 Class     Images  Instances      Box(P          R      mAP50  mAP50-95): 100%|██████████| 10/10 [00:09<00:00,  1.06it/s]\n"
     ]
    },
    {
     "name": "stdout",
     "output_type": "stream",
     "text": [
      "                   all        300       8649      0.868      0.651      0.728      0.493\n",
      "\n",
      "      Epoch    GPU_mem   box_loss   cls_loss   dfl_loss  Instances       Size\n"
     ]
    },
    {
     "name": "stderr",
     "output_type": "stream",
     "text": [
      "     30/200        15G      0.898     0.4352     0.9153         73        640: 100%|██████████| 54/54 [01:22<00:00,  1.53s/it]\n",
      "                 Class     Images  Instances      Box(P          R      mAP50  mAP50-95): 100%|██████████| 10/10 [00:09<00:00,  1.06it/s]\n"
     ]
    },
    {
     "name": "stdout",
     "output_type": "stream",
     "text": [
      "                   all        300       8649      0.866      0.655      0.728      0.497\n",
      "\n",
      "      Epoch    GPU_mem   box_loss   cls_loss   dfl_loss  Instances       Size\n"
     ]
    },
    {
     "name": "stderr",
     "output_type": "stream",
     "text": [
      "     31/200        14G     0.8948     0.4371     0.9093         44        640: 100%|██████████| 54/54 [01:22<00:00,  1.53s/it]\n",
      "                 Class     Images  Instances      Box(P          R      mAP50  mAP50-95): 100%|██████████| 10/10 [00:09<00:00,  1.06it/s]\n"
     ]
    },
    {
     "name": "stdout",
     "output_type": "stream",
     "text": [
      "                   all        300       8649      0.861      0.646      0.722      0.507\n",
      "\n",
      "      Epoch    GPU_mem   box_loss   cls_loss   dfl_loss  Instances       Size\n"
     ]
    },
    {
     "name": "stderr",
     "output_type": "stream",
     "text": [
      "     32/200      13.9G     0.8811     0.4231     0.9122        164        640: 100%|██████████| 54/54 [01:22<00:00,  1.53s/it]\n",
      "                 Class     Images  Instances      Box(P          R      mAP50  mAP50-95): 100%|██████████| 10/10 [00:09<00:00,  1.06it/s]\n"
     ]
    },
    {
     "name": "stdout",
     "output_type": "stream",
     "text": [
      "                   all        300       8649      0.854      0.655      0.729      0.511\n",
      "\n",
      "      Epoch    GPU_mem   box_loss   cls_loss   dfl_loss  Instances       Size\n"
     ]
    },
    {
     "name": "stderr",
     "output_type": "stream",
     "text": [
      "     33/200      13.7G     0.8607     0.4151     0.9066         36        640: 100%|██████████| 54/54 [01:22<00:00,  1.53s/it]\n",
      "                 Class     Images  Instances      Box(P          R      mAP50  mAP50-95): 100%|██████████| 10/10 [00:09<00:00,  1.06it/s]\n"
     ]
    },
    {
     "name": "stdout",
     "output_type": "stream",
     "text": [
      "                   all        300       8649      0.867       0.65      0.725      0.504\n",
      "\n",
      "      Epoch    GPU_mem   box_loss   cls_loss   dfl_loss  Instances       Size\n"
     ]
    },
    {
     "name": "stderr",
     "output_type": "stream",
     "text": [
      "     34/200      13.7G     0.8726     0.4212     0.9092         42        640: 100%|██████████| 54/54 [01:22<00:00,  1.53s/it]\n",
      "                 Class     Images  Instances      Box(P          R      mAP50  mAP50-95): 100%|██████████| 10/10 [00:09<00:00,  1.05it/s]\n"
     ]
    },
    {
     "name": "stdout",
     "output_type": "stream",
     "text": [
      "                   all        300       8649       0.87       0.65       0.73      0.507\n",
      "\n",
      "      Epoch    GPU_mem   box_loss   cls_loss   dfl_loss  Instances       Size\n"
     ]
    },
    {
     "name": "stderr",
     "output_type": "stream",
     "text": [
      "     35/200      13.5G     0.8396     0.3995      0.899         31        640: 100%|██████████| 54/54 [01:22<00:00,  1.52s/it]\n",
      "                 Class     Images  Instances      Box(P          R      mAP50  mAP50-95): 100%|██████████| 10/10 [00:09<00:00,  1.07it/s]\n"
     ]
    },
    {
     "name": "stdout",
     "output_type": "stream",
     "text": [
      "                   all        300       8649       0.85      0.636      0.713      0.496\n",
      "\n",
      "      Epoch    GPU_mem   box_loss   cls_loss   dfl_loss  Instances       Size\n"
     ]
    },
    {
     "name": "stderr",
     "output_type": "stream",
     "text": [
      "     36/200      14.8G       0.84     0.4031      0.894        162        640: 100%|██████████| 54/54 [01:22<00:00,  1.52s/it]\n",
      "                 Class     Images  Instances      Box(P          R      mAP50  mAP50-95): 100%|██████████| 10/10 [00:09<00:00,  1.05it/s]\n"
     ]
    },
    {
     "name": "stdout",
     "output_type": "stream",
     "text": [
      "                   all        300       8649      0.866      0.644      0.723        0.5\n",
      "\n",
      "      Epoch    GPU_mem   box_loss   cls_loss   dfl_loss  Instances       Size\n"
     ]
    },
    {
     "name": "stderr",
     "output_type": "stream",
     "text": [
      "     37/200      13.5G     0.8562     0.4098     0.9006         98        640: 100%|██████████| 54/54 [01:22<00:00,  1.53s/it]\n",
      "                 Class     Images  Instances      Box(P          R      mAP50  mAP50-95): 100%|██████████| 10/10 [00:09<00:00,  1.07it/s]\n"
     ]
    },
    {
     "name": "stdout",
     "output_type": "stream",
     "text": [
      "                   all        300       8649      0.847      0.657      0.727      0.509\n",
      "\n",
      "      Epoch    GPU_mem   box_loss   cls_loss   dfl_loss  Instances       Size\n"
     ]
    },
    {
     "name": "stderr",
     "output_type": "stream",
     "text": [
      "     38/200      13.6G     0.8357     0.4058     0.8944         62        640: 100%|██████████| 54/54 [01:22<00:00,  1.53s/it]\n",
      "                 Class     Images  Instances      Box(P          R      mAP50  mAP50-95): 100%|██████████| 10/10 [00:09<00:00,  1.04it/s]\n"
     ]
    },
    {
     "name": "stdout",
     "output_type": "stream",
     "text": [
      "                   all        300       8649      0.867      0.648      0.726      0.508\n",
      "\n",
      "      Epoch    GPU_mem   box_loss   cls_loss   dfl_loss  Instances       Size\n"
     ]
    },
    {
     "name": "stderr",
     "output_type": "stream",
     "text": [
      "     39/200      13.6G     0.8407     0.4043     0.8955         89        640: 100%|██████████| 54/54 [01:22<00:00,  1.53s/it]\n",
      "                 Class     Images  Instances      Box(P          R      mAP50  mAP50-95): 100%|██████████| 10/10 [00:09<00:00,  1.05it/s]\n"
     ]
    },
    {
     "name": "stdout",
     "output_type": "stream",
     "text": [
      "                   all        300       8649      0.854      0.655      0.726      0.495\n",
      "\n",
      "      Epoch    GPU_mem   box_loss   cls_loss   dfl_loss  Instances       Size\n"
     ]
    },
    {
     "name": "stderr",
     "output_type": "stream",
     "text": [
      "     40/200      14.1G      0.843     0.4065     0.8947         48        640: 100%|██████████| 54/54 [01:22<00:00,  1.53s/it]\n",
      "                 Class     Images  Instances      Box(P          R      mAP50  mAP50-95): 100%|██████████| 10/10 [00:09<00:00,  1.06it/s]\n"
     ]
    },
    {
     "name": "stdout",
     "output_type": "stream",
     "text": [
      "                   all        300       8649      0.851      0.656      0.733      0.518\n",
      "\n",
      "      Epoch    GPU_mem   box_loss   cls_loss   dfl_loss  Instances       Size\n"
     ]
    },
    {
     "name": "stderr",
     "output_type": "stream",
     "text": [
      "     41/200      14.4G     0.8309     0.4021     0.8925         37        640: 100%|██████████| 54/54 [01:22<00:00,  1.53s/it]\n",
      "                 Class     Images  Instances      Box(P          R      mAP50  mAP50-95): 100%|██████████| 10/10 [00:09<00:00,  1.06it/s]\n"
     ]
    },
    {
     "name": "stdout",
     "output_type": "stream",
     "text": [
      "                   all        300       8649      0.858      0.646      0.719        0.5\n",
      "\n",
      "      Epoch    GPU_mem   box_loss   cls_loss   dfl_loss  Instances       Size\n"
     ]
    },
    {
     "name": "stderr",
     "output_type": "stream",
     "text": [
      "     42/200      13.4G     0.8164     0.3956     0.8949         41        640: 100%|██████████| 54/54 [01:22<00:00,  1.52s/it]\n",
      "                 Class     Images  Instances      Box(P          R      mAP50  mAP50-95): 100%|██████████| 10/10 [00:09<00:00,  1.06it/s]\n"
     ]
    },
    {
     "name": "stdout",
     "output_type": "stream",
     "text": [
      "                   all        300       8649      0.859       0.65      0.722      0.494\n",
      "\n",
      "      Epoch    GPU_mem   box_loss   cls_loss   dfl_loss  Instances       Size\n"
     ]
    },
    {
     "name": "stderr",
     "output_type": "stream",
     "text": [
      "     43/200      13.7G     0.8266     0.3998     0.8907        117        640: 100%|██████████| 54/54 [01:22<00:00,  1.53s/it]\n",
      "                 Class     Images  Instances      Box(P          R      mAP50  mAP50-95): 100%|██████████| 10/10 [00:09<00:00,  1.05it/s]\n"
     ]
    },
    {
     "name": "stdout",
     "output_type": "stream",
     "text": [
      "                   all        300       8649      0.858      0.652      0.723      0.502\n",
      "\n",
      "      Epoch    GPU_mem   box_loss   cls_loss   dfl_loss  Instances       Size\n"
     ]
    },
    {
     "name": "stderr",
     "output_type": "stream",
     "text": [
      "     44/200      13.6G     0.8136     0.3844     0.8934         19        640: 100%|██████████| 54/54 [01:22<00:00,  1.53s/it]\n",
      "                 Class     Images  Instances      Box(P          R      mAP50  mAP50-95): 100%|██████████| 10/10 [00:09<00:00,  1.06it/s]\n"
     ]
    },
    {
     "name": "stdout",
     "output_type": "stream",
     "text": [
      "                   all        300       8649      0.862      0.658      0.732      0.509\n",
      "\n",
      "      Epoch    GPU_mem   box_loss   cls_loss   dfl_loss  Instances       Size\n"
     ]
    },
    {
     "name": "stderr",
     "output_type": "stream",
     "text": [
      "     45/200      13.7G      0.817      0.394     0.8863         56        640: 100%|██████████| 54/54 [01:22<00:00,  1.53s/it]\n",
      "                 Class     Images  Instances      Box(P          R      mAP50  mAP50-95): 100%|██████████| 10/10 [00:09<00:00,  1.06it/s]\n"
     ]
    },
    {
     "name": "stdout",
     "output_type": "stream",
     "text": [
      "                   all        300       8649       0.86      0.658      0.733      0.506\n",
      "\n",
      "      Epoch    GPU_mem   box_loss   cls_loss   dfl_loss  Instances       Size\n"
     ]
    },
    {
     "name": "stderr",
     "output_type": "stream",
     "text": [
      "     46/200      13.3G     0.8123     0.3886     0.8875         31        640: 100%|██████████| 54/54 [01:22<00:00,  1.53s/it]\n",
      "                 Class     Images  Instances      Box(P          R      mAP50  mAP50-95): 100%|██████████| 10/10 [00:09<00:00,  1.05it/s]\n"
     ]
    },
    {
     "name": "stdout",
     "output_type": "stream",
     "text": [
      "                   all        300       8649       0.86      0.656      0.725      0.505\n",
      "\n",
      "      Epoch    GPU_mem   box_loss   cls_loss   dfl_loss  Instances       Size\n"
     ]
    },
    {
     "name": "stderr",
     "output_type": "stream",
     "text": [
      "     47/200      14.5G     0.7955     0.3858     0.8861         15        640: 100%|██████████| 54/54 [01:22<00:00,  1.53s/it]\n",
      "                 Class     Images  Instances      Box(P          R      mAP50  mAP50-95): 100%|██████████| 10/10 [00:09<00:00,  1.05it/s]\n"
     ]
    },
    {
     "name": "stdout",
     "output_type": "stream",
     "text": [
      "                   all        300       8649      0.859      0.647      0.727      0.502\n",
      "\n",
      "      Epoch    GPU_mem   box_loss   cls_loss   dfl_loss  Instances       Size\n"
     ]
    },
    {
     "name": "stderr",
     "output_type": "stream",
     "text": [
      "     48/200      14.4G     0.8133     0.3883     0.8827        155        640: 100%|██████████| 54/54 [01:22<00:00,  1.53s/it]\n",
      "                 Class     Images  Instances      Box(P          R      mAP50  mAP50-95): 100%|██████████| 10/10 [00:09<00:00,  1.06it/s]\n"
     ]
    },
    {
     "name": "stdout",
     "output_type": "stream",
     "text": [
      "                   all        300       8649      0.871      0.651       0.73       0.51\n",
      "\n",
      "      Epoch    GPU_mem   box_loss   cls_loss   dfl_loss  Instances       Size\n"
     ]
    },
    {
     "name": "stderr",
     "output_type": "stream",
     "text": [
      "     49/200      14.2G     0.8027     0.3896     0.8818         87        640: 100%|██████████| 54/54 [01:22<00:00,  1.53s/it]\n",
      "                 Class     Images  Instances      Box(P          R      mAP50  mAP50-95): 100%|██████████| 10/10 [00:09<00:00,  1.05it/s]\n"
     ]
    },
    {
     "name": "stdout",
     "output_type": "stream",
     "text": [
      "                   all        300       8649      0.877       0.65      0.733      0.509\n",
      "\n",
      "      Epoch    GPU_mem   box_loss   cls_loss   dfl_loss  Instances       Size\n"
     ]
    },
    {
     "name": "stderr",
     "output_type": "stream",
     "text": [
      "     50/200      13.5G     0.7926     0.3789     0.8804         60        640: 100%|██████████| 54/54 [01:22<00:00,  1.52s/it]\n",
      "                 Class     Images  Instances      Box(P          R      mAP50  mAP50-95): 100%|██████████| 10/10 [00:09<00:00,  1.05it/s]\n"
     ]
    },
    {
     "name": "stdout",
     "output_type": "stream",
     "text": [
      "                   all        300       8649      0.867      0.659      0.732        0.5\n",
      "\n",
      "      Epoch    GPU_mem   box_loss   cls_loss   dfl_loss  Instances       Size\n"
     ]
    },
    {
     "name": "stderr",
     "output_type": "stream",
     "text": [
      "     51/200      13.8G     0.7835     0.3797     0.8787         50        640: 100%|██████████| 54/54 [01:22<00:00,  1.52s/it]\n",
      "                 Class     Images  Instances      Box(P          R      mAP50  mAP50-95): 100%|██████████| 10/10 [00:09<00:00,  1.06it/s]\n"
     ]
    },
    {
     "name": "stdout",
     "output_type": "stream",
     "text": [
      "                   all        300       8649       0.88      0.646       0.73      0.506\n",
      "\n",
      "      Epoch    GPU_mem   box_loss   cls_loss   dfl_loss  Instances       Size\n"
     ]
    },
    {
     "name": "stderr",
     "output_type": "stream",
     "text": [
      "     52/200      13.8G     0.7649     0.3694     0.8811        168        640: 100%|██████████| 54/54 [01:22<00:00,  1.52s/it]\n",
      "                 Class     Images  Instances      Box(P          R      mAP50  mAP50-95): 100%|██████████| 10/10 [00:09<00:00,  1.06it/s]\n"
     ]
    },
    {
     "name": "stdout",
     "output_type": "stream",
     "text": [
      "                   all        300       8649      0.875      0.649      0.731      0.501\n",
      "\n",
      "      Epoch    GPU_mem   box_loss   cls_loss   dfl_loss  Instances       Size\n"
     ]
    },
    {
     "name": "stderr",
     "output_type": "stream",
     "text": [
      "     53/200      13.7G     0.7682     0.3733     0.8783        105        640: 100%|██████████| 54/54 [01:22<00:00,  1.53s/it]\n",
      "                 Class     Images  Instances      Box(P          R      mAP50  mAP50-95): 100%|██████████| 10/10 [00:09<00:00,  1.05it/s]\n"
     ]
    },
    {
     "name": "stdout",
     "output_type": "stream",
     "text": [
      "                   all        300       8649      0.867      0.646       0.73      0.504\n",
      "\n",
      "      Epoch    GPU_mem   box_loss   cls_loss   dfl_loss  Instances       Size\n"
     ]
    },
    {
     "name": "stderr",
     "output_type": "stream",
     "text": [
      "     54/200      13.4G     0.7726     0.3732     0.8825         41        640: 100%|██████████| 54/54 [01:22<00:00,  1.53s/it]\n",
      "                 Class     Images  Instances      Box(P          R      mAP50  mAP50-95): 100%|██████████| 10/10 [00:09<00:00,  1.06it/s]\n"
     ]
    },
    {
     "name": "stdout",
     "output_type": "stream",
     "text": [
      "                   all        300       8649      0.866      0.655      0.729      0.508\n",
      "\n",
      "      Epoch    GPU_mem   box_loss   cls_loss   dfl_loss  Instances       Size\n"
     ]
    },
    {
     "name": "stderr",
     "output_type": "stream",
     "text": [
      "     55/200      14.2G     0.7756     0.3725      0.881         55        640: 100%|██████████| 54/54 [01:22<00:00,  1.52s/it]\n",
      "                 Class     Images  Instances      Box(P          R      mAP50  mAP50-95): 100%|██████████| 10/10 [00:09<00:00,  1.06it/s]\n"
     ]
    },
    {
     "name": "stdout",
     "output_type": "stream",
     "text": [
      "                   all        300       8649      0.869       0.65      0.724      0.496\n",
      "\u001b[34m\u001b[1mEarlyStopping: \u001b[0mTraining stopped early as no improvement observed in last 15 epochs. Best results observed at epoch 40, best model saved as best.pt.\n",
      "To update EarlyStopping(patience=15) pass a new patience value, i.e. `patience=300` or use `patience=0` to disable EarlyStopping.\n",
      "\n",
      "55 epochs completed in 1.430 hours.\n",
      "Optimizer stripped from YOLOv8 - Step 1 - SGD/Step 2 Vinhx ver 1/weights/last.pt, 136.7MB\n",
      "Optimizer stripped from YOLOv8 - Step 1 - SGD/Step 2 Vinhx ver 1/weights/best.pt, 136.7MB\n",
      "\n",
      "Validating YOLOv8 - Step 1 - SGD/Step 2 Vinhx ver 1/weights/best.pt...\n",
      "Ultralytics 8.3.56 🚀 Python-3.10.14 torch-2.4.0 CUDA:0 (Tesla T4, 15095MiB)\n",
      "                                                 CUDA:1 (Tesla T4, 15095MiB)\n",
      "Model summary (fused): 268 layers, 68,124,531 parameters, 0 gradients, 257.4 GFLOPs\n"
     ]
    },
    {
     "name": "stderr",
     "output_type": "stream",
     "text": [
      "                 Class     Images  Instances      Box(P          R      mAP50  mAP50-95): 100%|██████████| 10/10 [00:11<00:00,  1.12s/it]\n"
     ]
    },
    {
     "name": "stdout",
     "output_type": "stream",
     "text": [
      "                   all        300       8649      0.852      0.656      0.733      0.518\n",
      "Speed: 0.1ms preprocess, 25.6ms inference, 0.0ms loss, 1.0ms postprocess per image\n",
      "Results saved to \u001b[1mYOLOv8 - Step 1 - SGD/Step 2 Vinhx ver 1\u001b[0m\n"
     ]
    }
   ],
   "source": [
    "results = model.train(\n",
    "    data=\"/kaggle/working/data.yaml\",\n",
    "    epochs=200,\n",
    "    imgsz=640,\n",
    "    optimizer=\"SGD\",          # Thay đổi optimizer thành SGD\n",
    "    patience=15,\n",
    "    project=\"YOLOv8 - Step 1 - SGD\",\n",
    "    name=\"Step 2 Vinhx ver 1\",\n",
    "    batch=32,                 # Giữ nguyên batch size, có thể điều chỉnh nếu cần\n",
    "    lr0=0.005,                 # Tăng learning rate cho SGD\n",
    "    lrf=0.01,                  # Điều chỉnh learning rate factor cho SGD\n",
    "    weight_decay=0.001,      # Giữ nguyên weight decay\n",
    "    seed=42,\n",
    "    device=[0, 1],\n",
    "    cos_lr=True,\n",
    "    warmup_epochs=10,         # Giữ nguyên warm-up epochs\n",
    "    momentum=0.9              # Thêm thông số momentum cho SGD\n",
    ")"
   ]
  },
  {
   "cell_type": "code",
   "execution_count": null,
   "id": "b4734028",
   "metadata": {
    "papermill": {
     "duration": 0.188355,
     "end_time": "2025-01-02T16:04:44.438946",
     "exception": false,
     "start_time": "2025-01-02T16:04:44.250591",
     "status": "completed"
    },
    "tags": []
   },
   "outputs": [],
   "source": []
  }
 ],
 "metadata": {
  "kaggle": {
   "accelerator": "nvidiaTeslaT4",
   "dataSources": [
    {
     "datasetId": 6300099,
     "sourceId": 10196256,
     "sourceType": "datasetVersion"
    },
    {
     "datasetId": 6307047,
     "sourceId": 10205822,
     "sourceType": "datasetVersion"
    },
    {
     "modelId": 192655,
     "modelInstanceId": 170338,
     "sourceId": 199695,
     "sourceType": "modelInstanceVersion"
    },
    {
     "modelId": 192927,
     "modelInstanceId": 170613,
     "sourceId": 200009,
     "sourceType": "modelInstanceVersion"
    },
    {
     "modelId": 193306,
     "modelInstanceId": 170991,
     "sourceId": 200431,
     "sourceType": "modelInstanceVersion"
    },
    {
     "isSourceIdPinned": true,
     "modelId": 194682,
     "modelInstanceId": 172339,
     "sourceId": 201995,
     "sourceType": "modelInstanceVersion"
    },
    {
     "isSourceIdPinned": true,
     "modelId": 196979,
     "modelInstanceId": 174628,
     "sourceId": 204674,
     "sourceType": "modelInstanceVersion"
    },
    {
     "isSourceIdPinned": true,
     "modelId": 207263,
     "modelInstanceId": 185118,
     "sourceId": 217105,
     "sourceType": "modelInstanceVersion"
    },
    {
     "isSourceIdPinned": true,
     "modelId": 207267,
     "modelInstanceId": 185123,
     "sourceId": 217112,
     "sourceType": "modelInstanceVersion"
    }
   ],
   "dockerImageVersionId": 30805,
   "isGpuEnabled": true,
   "isInternetEnabled": true,
   "language": "python",
   "sourceType": "notebook"
  },
  "kernelspec": {
   "display_name": "Python 3",
   "language": "python",
   "name": "python3"
  },
  "language_info": {
   "codemirror_mode": {
    "name": "ipython",
    "version": 3
   },
   "file_extension": ".py",
   "mimetype": "text/x-python",
   "name": "python",
   "nbconvert_exporter": "python",
   "pygments_lexer": "ipython3",
   "version": "3.10.14"
  },
  "papermill": {
   "default_parameters": {},
   "duration": 5332.114668,
   "end_time": "2025-01-02T16:04:46.599081",
   "environment_variables": {},
   "exception": null,
   "input_path": "__notebook__.ipynb",
   "output_path": "__notebook__.ipynb",
   "parameters": {},
   "start_time": "2025-01-02T14:35:54.484413",
   "version": "2.6.0"
  }
 },
 "nbformat": 4,
 "nbformat_minor": 5
}
