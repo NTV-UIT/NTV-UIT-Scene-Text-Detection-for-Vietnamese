{
 "cells": [
  {
   "cell_type": "code",
   "execution_count": 1,
   "id": "cac6adf6",
   "metadata": {
    "_cell_guid": "b1076dfc-b9ad-4769-8c92-a6c4dae69d19",
    "_uuid": "8f2839f25d086af736a60e9eeb907d3b93b6e0e5",
    "execution": {
     "iopub.execute_input": "2024-12-14T08:13:48.470968Z",
     "iopub.status.busy": "2024-12-14T08:13:48.470569Z",
     "iopub.status.idle": "2024-12-14T08:13:48.479382Z",
     "shell.execute_reply": "2024-12-14T08:13:48.478601Z"
    },
    "papermill": {
     "duration": 0.014922,
     "end_time": "2024-12-14T08:13:48.481289",
     "exception": false,
     "start_time": "2024-12-14T08:13:48.466367",
     "status": "completed"
    },
    "tags": []
   },
   "outputs": [],
   "source": [
    "import os\n",
    "import glob\n",
    "from PIL import Image\n",
    "# from ultralytics import YOLO\n"
   ]
  },
  {
   "cell_type": "code",
   "execution_count": 2,
   "id": "4f171a6f",
   "metadata": {
    "execution": {
     "iopub.execute_input": "2024-12-14T08:13:48.487444Z",
     "iopub.status.busy": "2024-12-14T08:13:48.486572Z",
     "iopub.status.idle": "2024-12-14T08:13:48.491525Z",
     "shell.execute_reply": "2024-12-14T08:13:48.490635Z"
    },
    "papermill": {
     "duration": 0.009851,
     "end_time": "2024-12-14T08:13:48.493410",
     "exception": false,
     "start_time": "2024-12-14T08:13:48.483559",
     "status": "completed"
    },
    "tags": []
   },
   "outputs": [],
   "source": [
    "# Total\n",
    "total_train_images_folder = \"/kaggle/input/totaltextstr/Total-Text/Train\"\n",
    "total_train_labels_folder = \"/kaggle/input/totaltextstr/Total-Text/Annotation/groundtruth_polygonal_annotation/Train\"\n",
    "\n",
    "total_test_images_folder = \"/kaggle/input/totaltextstr/Total-Text/Test\"\n",
    "total_test_labels_folder = \"/kaggle/input/totaltextstr/Total-Text/Annotation/groundtruth_polygonal_annotation/Test\"\n",
    "\n",
    "total_train_output_images_folder = \"/kaggle/working/train/images\"\n",
    "total_train_output_labels_folder = \"/kaggle/working/train/labels\"\n",
    "\n",
    "total_test_output_images_folder = \"/kaggle/working/test_total/images\"\n",
    "total_test_output_labels_folder = \"/kaggle/working/test_total/labels\""
   ]
  },
  {
   "cell_type": "code",
   "execution_count": 3,
   "id": "fd529492",
   "metadata": {
    "execution": {
     "iopub.execute_input": "2024-12-14T08:13:48.499092Z",
     "iopub.status.busy": "2024-12-14T08:13:48.498760Z",
     "iopub.status.idle": "2024-12-14T08:13:48.512525Z",
     "shell.execute_reply": "2024-12-14T08:13:48.511416Z"
    },
    "papermill": {
     "duration": 0.019099,
     "end_time": "2024-12-14T08:13:48.514591",
     "exception": false,
     "start_time": "2024-12-14T08:13:48.495492",
     "status": "completed"
    },
    "tags": []
   },
   "outputs": [],
   "source": [
    "def Total_process_annotations(train_images_folder, train_labels_folder, train_output_images_folder, train_output_labels_folder):\n",
    "    # Tạo các thư mục đầu ra nếu chưa tồn tại\n",
    "    os.makedirs(train_output_images_folder, exist_ok=True)\n",
    "    os.makedirs(train_output_labels_folder, exist_ok=True)\n",
    "\n",
    "    # Hàm chuyển đổi tọa độ polygon sang YOLO bounding box\n",
    "    def polygon_to_yolo_bbox(x, y, width_img, height_img):\n",
    "        x_min, x_max = min(x), max(x)\n",
    "        y_min, y_max = min(y), max(y)\n",
    "        x_center = (x_min + x_max) / 2 / width_img\n",
    "        y_center = (y_min + y_max) / 2 / height_img\n",
    "        bbox_width = (x_max - x_min) / width_img\n",
    "        bbox_height = (y_max - y_min) / height_img\n",
    "        return x_center, y_center, bbox_width, bbox_height\n",
    "\n",
    "    # Duyệt qua các file annotation\n",
    "    annotation_files = glob.glob(os.path.join(train_labels_folder, \"*.txt\"))\n",
    "\n",
    "    for anno_file in annotation_files:\n",
    "        base_name = os.path.basename(anno_file).replace(\"poly_gt_\", \"\").replace(\".txt\", \"\")\n",
    "        image_path = os.path.join(train_images_folder, f\"{base_name}.jpg\")\n",
    "        \n",
    "        try:\n",
    "            # Mở ảnh để lấy kích thước\n",
    "            img = Image.open(image_path)\n",
    "            width_img, height_img = img.size\n",
    "\n",
    "            # Lưu ảnh vào thư mục đầu ra\n",
    "            output_image_path = os.path.join(train_output_images_folder, f\"{base_name}.jpg\")\n",
    "            \n",
    "            # Biến kiểm tra xem có bounding box hợp lệ không\n",
    "            valid_boxes = False\n",
    "            \n",
    "            # Lưu file annotation mới vào thư mục đầu ra\n",
    "            output_label_file = os.path.join(train_output_labels_folder, f\"{base_name}.txt\")\n",
    "            \n",
    "            with open(anno_file, \"r\") as f, open(output_label_file, \"w\") as out_f:\n",
    "                for line in f:\n",
    "                    try:\n",
    "                        # Tách các phần tử trong dòng annotation và bỏ qua các phần không cần thiết\n",
    "                        line = line.strip()\n",
    "                        if \"x: [[\" not in line or \"y: [[\" not in line:\n",
    "                            continue\n",
    "\n",
    "                        # Lấy phần tọa độ x và y\n",
    "                        x_part = line[line.index(\"x: [[\") + 5: line.index(\"]], y:\")]\n",
    "                        y_part = line[line.index(\"y: [[\") + 5: line.index(\"]], ornt:\")]\n",
    "\n",
    "                        # Chuyển đổi tọa độ x và y thành danh sách số\n",
    "                        x = list(map(int, x_part.split()))\n",
    "                        y = list(map(int, y_part.split()))\n",
    "\n",
    "                        # Bỏ qua nếu số điểm không đủ\n",
    "                        if len(x) < 4 or len(y) < 4:\n",
    "                            continue\n",
    "                        \n",
    "                        # Tính toán bounding box YOLO\n",
    "                        x_center, y_center, bbox_width, bbox_height = polygon_to_yolo_bbox(x, y, width_img, height_img)\n",
    "                        \n",
    "                        # Nếu bounding box hợp lệ, đánh dấu\n",
    "                        if bbox_width > 0 and bbox_height > 0:\n",
    "                            valid_boxes = True\n",
    "                        \n",
    "                        # Gán class_id (ví dụ: 0 cho tất cả các lớp trong OCR)\n",
    "                        class_id = 0\n",
    "                        \n",
    "                        # Ghi vào file annotation\n",
    "                        out_f.write(f\"{class_id} {x_center} {y_center} {bbox_width} {bbox_height}\\n\")\n",
    "                    except Exception as e:\n",
    "                        print(f\"Lỗi xử lý dòng trong file {anno_file}: {line}\\nChi tiết lỗi: {e}\")\n",
    "            \n",
    "            # Chỉ lưu ảnh và file annotation nếu có ít nhất một bounding box hợp lệ\n",
    "            if valid_boxes:\n",
    "                img.save(output_image_path)  # Lưu ảnh vào thư mục output\n",
    "            else:\n",
    "                os.remove(output_label_file)  # Xóa file label nếu không có bounding box hợp lệ\n",
    "                print(f\"Không có bounding box hợp lệ cho ảnh {base_name}.jpg, file annotation không được lưu.\")\n",
    "                \n",
    "        except Exception as e:\n",
    "            print(f\"Lỗi xử lý file: {anno_file}\\nChi tiết lỗi: {e}\")"
   ]
  },
  {
   "cell_type": "code",
   "execution_count": 4,
   "id": "46735b24",
   "metadata": {
    "execution": {
     "iopub.execute_input": "2024-12-14T08:13:48.520023Z",
     "iopub.status.busy": "2024-12-14T08:13:48.519646Z",
     "iopub.status.idle": "2024-12-14T08:14:46.490875Z",
     "shell.execute_reply": "2024-12-14T08:14:46.489771Z"
    },
    "papermill": {
     "duration": 57.976616,
     "end_time": "2024-12-14T08:14:46.493296",
     "exception": false,
     "start_time": "2024-12-14T08:13:48.516680",
     "status": "completed"
    },
    "tags": []
   },
   "outputs": [
    {
     "name": "stdout",
     "output_type": "stream",
     "text": [
      "Lỗi xử lý file: /kaggle/input/totaltextstr/Total-Text/Annotation/groundtruth_polygonal_annotation/Train/poly_gt_img61.txt\n",
      "Chi tiết lỗi: [Errno 2] No such file or directory: '/kaggle/input/totaltextstr/Total-Text/Train/img61.jpg'\n"
     ]
    }
   ],
   "source": [
    "Total_process_annotations(total_train_images_folder, total_train_labels_folder, total_train_output_images_folder, total_train_output_labels_folder)\n",
    "Total_process_annotations(total_test_images_folder, total_test_labels_folder, total_test_output_images_folder, total_test_output_labels_folder)\n"
   ]
  },
  {
   "cell_type": "code",
   "execution_count": null,
   "id": "9b8f85da",
   "metadata": {
    "papermill": {
     "duration": 0.001867,
     "end_time": "2024-12-14T08:14:46.497433",
     "exception": false,
     "start_time": "2024-12-14T08:14:46.495566",
     "status": "completed"
    },
    "tags": []
   },
   "outputs": [],
   "source": []
  }
 ],
 "metadata": {
  "kaggle": {
   "accelerator": "none",
   "dataSources": [
    {
     "datasetId": 726627,
     "sourceId": 1262344,
     "sourceType": "datasetVersion"
    }
   ],
   "dockerImageVersionId": 30804,
   "isGpuEnabled": false,
   "isInternetEnabled": true,
   "language": "python",
   "sourceType": "notebook"
  },
  "kernelspec": {
   "display_name": "Python 3",
   "language": "python",
   "name": "python3"
  },
  "language_info": {
   "codemirror_mode": {
    "name": "ipython",
    "version": 3
   },
   "file_extension": ".py",
   "mimetype": "text/x-python",
   "name": "python",
   "nbconvert_exporter": "python",
   "pygments_lexer": "ipython3",
   "version": "3.10.14"
  },
  "papermill": {
   "default_parameters": {},
   "duration": 60.86425,
   "end_time": "2024-12-14T08:14:46.819394",
   "environment_variables": {},
   "exception": null,
   "input_path": "__notebook__.ipynb",
   "output_path": "__notebook__.ipynb",
   "parameters": {},
   "start_time": "2024-12-14T08:13:45.955144",
   "version": "2.6.0"
  }
 },
 "nbformat": 4,
 "nbformat_minor": 5
}
