{
 "cells": [
  {
   "cell_type": "code",
   "execution_count": 1,
   "id": "60434ef3",
   "metadata": {
    "_cell_guid": "b1076dfc-b9ad-4769-8c92-a6c4dae69d19",
    "_uuid": "8f2839f25d086af736a60e9eeb907d3b93b6e0e5",
    "execution": {
     "iopub.execute_input": "2024-12-14T08:16:03.332392Z",
     "iopub.status.busy": "2024-12-14T08:16:03.331988Z",
     "iopub.status.idle": "2024-12-14T08:16:03.341498Z",
     "shell.execute_reply": "2024-12-14T08:16:03.340532Z"
    },
    "papermill": {
     "duration": 0.016014,
     "end_time": "2024-12-14T08:16:03.343769",
     "exception": false,
     "start_time": "2024-12-14T08:16:03.327755",
     "status": "completed"
    },
    "tags": []
   },
   "outputs": [],
   "source": [
    "import os\n",
    "import glob\n",
    "from PIL import Image\n",
    "# from ultralytics import YOLO\n"
   ]
  },
  {
   "cell_type": "code",
   "execution_count": 2,
   "id": "25eb04b5",
   "metadata": {
    "execution": {
     "iopub.execute_input": "2024-12-14T08:16:03.349985Z",
     "iopub.status.busy": "2024-12-14T08:16:03.349580Z",
     "iopub.status.idle": "2024-12-14T08:16:03.354951Z",
     "shell.execute_reply": "2024-12-14T08:16:03.353915Z"
    },
    "papermill": {
     "duration": 0.010738,
     "end_time": "2024-12-14T08:16:03.357050",
     "exception": false,
     "start_time": "2024-12-14T08:16:03.346312",
     "status": "completed"
    },
    "tags": []
   },
   "outputs": [],
   "source": [
    "# ICDAR2015\n",
    "icdar2015_train_images_folder = \"/kaggle/input/icdar2015/ch4_training_images\"\n",
    "icdar2015_train_labels_folder = \"/kaggle/input/icdar2015/ch4_training_localization_transcription_gt\"\n",
    "\n",
    "icdar2015_test_images_folder = \"/kaggle/input/icdar2015/ch4_test_images\"\n",
    "icdar2015_test_labels_folder = \"/kaggle/input/icdar2015/ch4_test_localization_transcription_gt\"\n",
    "\n",
    "icdar2015_train_output_images_folder = \"/kaggle/working/train/images\"\n",
    "icdar2015_train_output_labels_folder = \"/kaggle/working/train/labels\"\n",
    "\n",
    "icdar2015_test_output_images_folder = \"/kaggle/working/test_icdar2015/images\"\n",
    "icdar2015_test_output_labels_folder = \"/kaggle/working/test_icdar2015/labels\""
   ]
  },
  {
   "cell_type": "code",
   "execution_count": 3,
   "id": "d579702d",
   "metadata": {
    "execution": {
     "iopub.execute_input": "2024-12-14T08:16:03.362911Z",
     "iopub.status.busy": "2024-12-14T08:16:03.362538Z",
     "iopub.status.idle": "2024-12-14T08:16:03.376357Z",
     "shell.execute_reply": "2024-12-14T08:16:03.375290Z"
    },
    "papermill": {
     "duration": 0.01911,
     "end_time": "2024-12-14T08:16:03.378395",
     "exception": false,
     "start_time": "2024-12-14T08:16:03.359285",
     "status": "completed"
    },
    "tags": []
   },
   "outputs": [],
   "source": [
    "def Icidar2015_process_annotations(train_images_folder, train_labels_folder, train_output_images_folder, train_output_labels_folder):\n",
    "    # Tạo các thư mục đầu ra nếu chưa tồn tại\n",
    "    os.makedirs(train_output_images_folder, exist_ok=True)\n",
    "    os.makedirs(train_output_labels_folder, exist_ok=True)\n",
    "\n",
    "    # Hàm chuyển đổi tọa độ polygon sang YOLO bounding box\n",
    "    def polygon_to_yolo_bbox(x, y, width_img, height_img):\n",
    "        x_min, x_max = min(x), max(x)\n",
    "        y_min, y_max = min(y), max(y)\n",
    "        x_center = (x_min + x_max) / 2 / width_img\n",
    "        y_center = (y_min + y_max) / 2 / height_img\n",
    "        bbox_width = (x_max - x_min) / width_img\n",
    "        bbox_height = (y_max - y_min) / height_img\n",
    "        return x_center, y_center, bbox_width, bbox_height\n",
    "\n",
    "    # Duyệt qua các file annotation\n",
    "    annotation_files = glob.glob(os.path.join(train_labels_folder, \"*.txt\"))\n",
    "\n",
    "    for anno_file in annotation_files:\n",
    "        base_name = os.path.basename(anno_file).replace(\"gt_\", \"\").replace(\".txt\", \"\")\n",
    "        image_path = os.path.join(train_images_folder, f\"{base_name}.jpg\")\n",
    "        \n",
    "        try:\n",
    "            # Mở ảnh để lấy kích thước\n",
    "            img = Image.open(image_path)\n",
    "            width_img, height_img = img.size\n",
    "\n",
    "            # Lưu ảnh vào thư mục đầu ra\n",
    "            output_image_path = os.path.join(train_output_images_folder, f\"{base_name}.jpg\")\n",
    "            \n",
    "            # Biến kiểm tra xem có bounding box hợp lệ không\n",
    "            valid_boxes = False\n",
    "            \n",
    "            # Lưu file annotation mới vào thư mục đầu ra\n",
    "            output_label_file = os.path.join(train_output_labels_folder, f\"{base_name}.txt\")\n",
    "            \n",
    "            with open(anno_file, \"r\", encoding=\"utf-8-sig\") as f, open(output_label_file, \"w\") as out_f:\n",
    "                for line in f:\n",
    "                    try:\n",
    "                        # Loại bỏ ký tự BOM nếu có\n",
    "                        line = line.lstrip('\\ufeff')\n",
    "\n",
    "                        # Tách các phần tử trong dòng annotation\n",
    "                        parts = line.strip().split(',')\n",
    "                        if len(parts) < 8:  # Nếu số phần tử không đủ, bỏ qua\n",
    "                            continue\n",
    "\n",
    "                        # Tách tọa độ x, y và văn bản\n",
    "                        x = list(map(int, parts[:8:2]))  # Tọa độ x\n",
    "                        y = list(map(int, parts[1:8:2]))  # Tọa độ y\n",
    "                        transcription = parts[8]  # Văn bản\n",
    "\n",
    "                        # # Nếu văn bản là '###', bỏ qua\n",
    "                        # if transcription == '###':\n",
    "                        #     continue\n",
    "                        \n",
    "                        # Tính toán bounding box YOLO\n",
    "                        x_center, y_center, bbox_width, bbox_height = polygon_to_yolo_bbox(x, y, width_img, height_img)\n",
    "                        \n",
    "                        # Nếu bounding box hợp lệ, đánh dấu\n",
    "                        if bbox_width > 0 and bbox_height > 0:\n",
    "                            valid_boxes = True\n",
    "                        \n",
    "                        # Gán class_id (ví dụ: 0 cho tất cả các lớp trong OCR)\n",
    "                        class_id = 0\n",
    "                        \n",
    "                        # Ghi vào file annotation\n",
    "                        out_f.write(f\"{class_id} {x_center} {y_center} {bbox_width} {bbox_height}\\n\")\n",
    "                    except Exception as e:\n",
    "                        print(f\"Lỗi xử lý dòng trong file {anno_file}: {line}\\nChi tiết lỗi: {e}\")\n",
    "            \n",
    "            # Chỉ lưu ảnh và file annotation nếu có ít nhất một bounding box hợp lệ\n",
    "            if valid_boxes:\n",
    "                img.save(output_image_path)  # Lưu ảnh vào thư mục output\n",
    "            else:\n",
    "                os.remove(output_label_file)  # Xóa file label nếu không có bounding box hợp lệ\n",
    "                print(f\"Không có bounding box hợp lệ cho ảnh {base_name}.jpg, file annotation không được lưu.\")\n",
    "                \n",
    "        except Exception as e:\n",
    "            print(f\"Lỗi xử lý file: {anno_file}\\nChi tiết lỗi: {e}\")"
   ]
  },
  {
   "cell_type": "code",
   "execution_count": 4,
   "id": "996f6758",
   "metadata": {
    "execution": {
     "iopub.execute_input": "2024-12-14T08:16:03.384177Z",
     "iopub.status.busy": "2024-12-14T08:16:03.383832Z",
     "iopub.status.idle": "2024-12-14T08:16:46.575772Z",
     "shell.execute_reply": "2024-12-14T08:16:46.574639Z"
    },
    "papermill": {
     "duration": 43.197606,
     "end_time": "2024-12-14T08:16:46.578227",
     "exception": false,
     "start_time": "2024-12-14T08:16:03.380621",
     "status": "completed"
    },
    "tags": []
   },
   "outputs": [],
   "source": [
    "Icidar2015_process_annotations(icdar2015_train_images_folder, icdar2015_train_labels_folder, icdar2015_train_output_images_folder, icdar2015_train_output_labels_folder)\n",
    "Icidar2015_process_annotations(icdar2015_test_images_folder, icdar2015_test_labels_folder, icdar2015_test_output_images_folder, icdar2015_test_output_labels_folder)"
   ]
  },
  {
   "cell_type": "code",
   "execution_count": null,
   "id": "98a65fde",
   "metadata": {
    "papermill": {
     "duration": 0.001824,
     "end_time": "2024-12-14T08:16:46.582333",
     "exception": false,
     "start_time": "2024-12-14T08:16:46.580509",
     "status": "completed"
    },
    "tags": []
   },
   "outputs": [],
   "source": []
  }
 ],
 "metadata": {
  "kaggle": {
   "accelerator": "none",
   "dataSources": [
    {
     "datasetId": 1150310,
     "sourceId": 1928836,
     "sourceType": "datasetVersion"
    }
   ],
   "dockerImageVersionId": 30804,
   "isGpuEnabled": false,
   "isInternetEnabled": true,
   "language": "python",
   "sourceType": "notebook"
  },
  "kernelspec": {
   "display_name": "Python 3",
   "language": "python",
   "name": "python3"
  },
  "language_info": {
   "codemirror_mode": {
    "name": "ipython",
    "version": 3
   },
   "file_extension": ".py",
   "mimetype": "text/x-python",
   "name": "python",
   "nbconvert_exporter": "python",
   "pygments_lexer": "ipython3",
   "version": "3.10.14"
  },
  "papermill": {
   "default_parameters": {},
   "duration": 46.251495,
   "end_time": "2024-12-14T08:16:46.904399",
   "environment_variables": {},
   "exception": null,
   "input_path": "__notebook__.ipynb",
   "output_path": "__notebook__.ipynb",
   "parameters": {},
   "start_time": "2024-12-14T08:16:00.652904",
   "version": "2.6.0"
  }
 },
 "nbformat": 4,
 "nbformat_minor": 5
}
