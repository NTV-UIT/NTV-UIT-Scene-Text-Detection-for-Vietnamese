{
 "cells": [
  {
   "cell_type": "code",
   "execution_count": 1,
   "id": "d27ae76e",
   "metadata": {
    "_cell_guid": "b1076dfc-b9ad-4769-8c92-a6c4dae69d19",
    "_uuid": "8f2839f25d086af736a60e9eeb907d3b93b6e0e5",
    "execution": {
     "iopub.execute_input": "2024-12-15T11:56:20.125329Z",
     "iopub.status.busy": "2024-12-15T11:56:20.124921Z",
     "iopub.status.idle": "2024-12-15T11:56:20.134595Z",
     "shell.execute_reply": "2024-12-15T11:56:20.133545Z"
    },
    "papermill": {
     "duration": 0.016535,
     "end_time": "2024-12-15T11:56:20.136844",
     "exception": false,
     "start_time": "2024-12-15T11:56:20.120309",
     "status": "completed"
    },
    "tags": []
   },
   "outputs": [],
   "source": [
    "import os\n",
    "import glob\n",
    "from PIL import Image\n",
    "# from ultralytics import YOLO"
   ]
  },
  {
   "cell_type": "code",
   "execution_count": 2,
   "id": "454e07bc",
   "metadata": {
    "execution": {
     "iopub.execute_input": "2024-12-15T11:56:20.143789Z",
     "iopub.status.busy": "2024-12-15T11:56:20.143403Z",
     "iopub.status.idle": "2024-12-15T11:56:20.148556Z",
     "shell.execute_reply": "2024-12-15T11:56:20.147683Z"
    },
    "papermill": {
     "duration": 0.010641,
     "end_time": "2024-12-15T11:56:20.150411",
     "exception": false,
     "start_time": "2024-12-15T11:56:20.139770",
     "status": "completed"
    },
    "tags": []
   },
   "outputs": [],
   "source": [
    "# Example usage:\n",
    "BKAI_train_images_folder = '/kaggle/input/bkai-dataset2/vietnamese/train_images'\n",
    "BKAI_labels_folder = '/kaggle/input/bkai-dataset2/vietnamese/labels'\n",
    "\n",
    "BKAI_test_images_folder = '/kaggle/input/bkai-dataset2/vietnamese/test_image'\n",
    "\n",
    "BKAI_train_output_images_folder = \"/kaggle/working/images/train\"\n",
    "BKAI_train_output_labels_folder = \"/kaggle/working/labels/train\"\n",
    "\n",
    "BKAI_val_output_images_folder = \"/kaggle/working/images/val\"\n",
    "BKAI_val_output_labels_folder = \"/kaggle/working/labels/val\""
   ]
  },
  {
   "cell_type": "code",
   "execution_count": 3,
   "id": "111f5e4e",
   "metadata": {
    "execution": {
     "iopub.execute_input": "2024-12-15T11:56:20.157016Z",
     "iopub.status.busy": "2024-12-15T11:56:20.156645Z",
     "iopub.status.idle": "2024-12-15T11:56:20.373263Z",
     "shell.execute_reply": "2024-12-15T11:56:20.372122Z"
    },
    "papermill": {
     "duration": 0.222664,
     "end_time": "2024-12-15T11:56:20.375731",
     "exception": false,
     "start_time": "2024-12-15T11:56:20.153067",
     "status": "completed"
    },
    "tags": []
   },
   "outputs": [],
   "source": [
    "import os\n",
    "import shutil\n",
    "import cv2\n",
    "\n",
    "def ensure_directories_exist(directories):\n",
    "    \"\"\"\n",
    "    Ensure that all directories in the given list exist.\n",
    "    \"\"\"\n",
    "    for directory in directories:\n",
    "        os.makedirs(directory, exist_ok=True)\n",
    "\n",
    "def convert_bbox_to_yolo(bbox, img_width, img_height):\n",
    "    \"\"\"\n",
    "    Convert bounding box from absolute coordinates to YOLO format.\n",
    "    bbox: [x1, y1, x2, y2, x3, y3, x4, y4]\n",
    "    \"\"\"\n",
    "    x_coords = bbox[0::2]  # [x1, x2, x3, x4]\n",
    "    y_coords = bbox[1::2]  # [y1, y2, y3, y4]\n",
    "    x_min, x_max = min(x_coords), max(x_coords)\n",
    "    y_min, y_max = min(y_coords), max(y_coords)\n",
    "    \n",
    "    x_center = (x_min + x_max) / 2.0 / img_width\n",
    "    y_center = (y_min + y_max) / 2.0 / img_height\n",
    "    width = (x_max - x_min) / img_width\n",
    "    height = (y_max - y_min) / img_height\n",
    "    \n",
    "    return x_center, y_center, width, height\n",
    "\n",
    "def process_labels_and_images(\n",
    "    images_folder, labels_folder, output_images_folder, output_labels_folder\n",
    "):\n",
    "    \"\"\"\n",
    "    Process images and their corresponding label files, converting bounding boxes to YOLO format.\n",
    "    \"\"\"\n",
    "    ensure_directories_exist([output_images_folder, output_labels_folder])\n",
    "    \n",
    "    for image_name in os.listdir(images_folder):\n",
    "        if not image_name.endswith('.jpg'):\n",
    "            continue\n",
    "\n",
    "        # Map image to label\n",
    "        image_id = str(int(image_name.split('.')[0].replace(\"im\", \"\")))  # e.g., im0001 -> 1\n",
    "        label_file = os.path.join(labels_folder, f\"gt_{image_id}.txt\")\n",
    "        if not os.path.exists(label_file):\n",
    "            continue\n",
    "\n",
    "        # Read image dimensions\n",
    "        image_path = os.path.join(images_folder, image_name)\n",
    "        img = cv2.imread(image_path)\n",
    "        img_height, img_width = img.shape[:2]\n",
    "\n",
    "        # Process label file\n",
    "        yolo_labels = []\n",
    "        with open(label_file, 'r', encoding='utf-8') as file:\n",
    "            for line in file:\n",
    "                parts = line.strip().split(',')\n",
    "                bbox = list(map(int, parts[:8]))  # First 8 values are bbox\n",
    "                label = parts[8]  # Last value is the text/label\n",
    "\n",
    "                # Convert bbox to YOLO format\n",
    "                x_center, y_center, width, height = convert_bbox_to_yolo(bbox, img_width, img_height)\n",
    "                yolo_labels.append(f\"0 {x_center} {y_center} {width} {height}\")\n",
    "\n",
    "        # Save image to output folder\n",
    "        shutil.copy(image_path, os.path.join(output_images_folder, image_name))\n",
    "\n",
    "        # Save YOLO labels to output folder\n",
    "        output_label_file = os.path.join(output_labels_folder, f\"{image_id}.txt\")\n",
    "        with open(output_label_file, 'w') as f:\n",
    "            f.write(\"\\n\".join(yolo_labels))\n",
    "\n",
    "\n",
    "\n",
    "\n"
   ]
  },
  {
   "cell_type": "code",
   "execution_count": 4,
   "id": "b96b440e",
   "metadata": {
    "execution": {
     "iopub.execute_input": "2024-12-15T11:56:20.382698Z",
     "iopub.status.busy": "2024-12-15T11:56:20.382311Z",
     "iopub.status.idle": "2024-12-15T11:56:20.388038Z",
     "shell.execute_reply": "2024-12-15T11:56:20.386634Z"
    },
    "papermill": {
     "duration": 0.011816,
     "end_time": "2024-12-15T11:56:20.390333",
     "exception": false,
     "start_time": "2024-12-15T11:56:20.378517",
     "status": "completed"
    },
    "tags": []
   },
   "outputs": [],
   "source": [
    "# Example usage:\n",
    "BKAI_train_images_folder = '/kaggle/input/bkai-dataset2/vietnamese/train_images'\n",
    "BKAI_labels_folder = '/kaggle/input/bkai-dataset2/vietnamese/labels'\n",
    "\n",
    "BKAI_val_images_folder = '/kaggle/input/bkai-dataset2/vietnamese/test_image'\n",
    "\n",
    "BKAI_test_images_folder = '/kaggle/input/bkai-dataset2/vietnamese/unseen_test_images'\n",
    "\n",
    "BKAI_train_output_images_folder = \"/kaggle/working/train/images\"\n",
    "BKAI_train_output_labels_folder = \"/kaggle/working/train/labels\"\n",
    "\n",
    "BKAI_val_output_images_folder = \"/kaggle/working/val/images\"\n",
    "BKAI_val_output_labels_folder = \"/kaggle/working/val/labels\"\n",
    "\n",
    "BKAI_test_output_images_folder = \"/kaggle/working/test/images\"\n",
    "BKAI_test_output_labels_folder = \"/kaggle/working/test/labels\""
   ]
  },
  {
   "cell_type": "code",
   "execution_count": 5,
   "id": "9f1c743d",
   "metadata": {
    "execution": {
     "iopub.execute_input": "2024-12-15T11:56:20.397109Z",
     "iopub.status.busy": "2024-12-15T11:56:20.396713Z",
     "iopub.status.idle": "2024-12-15T11:57:01.197399Z",
     "shell.execute_reply": "2024-12-15T11:57:01.196318Z"
    },
    "papermill": {
     "duration": 40.807115,
     "end_time": "2024-12-15T11:57:01.200066",
     "exception": false,
     "start_time": "2024-12-15T11:56:20.392951",
     "status": "completed"
    },
    "tags": []
   },
   "outputs": [],
   "source": [
    "process_labels_and_images(\n",
    "    BKAI_train_images_folder, \n",
    "    BKAI_labels_folder, \n",
    "    BKAI_train_output_images_folder, \n",
    "    BKAI_train_output_labels_folder\n",
    ")"
   ]
  },
  {
   "cell_type": "code",
   "execution_count": 6,
   "id": "383c2316",
   "metadata": {
    "execution": {
     "iopub.execute_input": "2024-12-15T11:57:01.207026Z",
     "iopub.status.busy": "2024-12-15T11:57:01.206653Z",
     "iopub.status.idle": "2024-12-15T11:57:10.166396Z",
     "shell.execute_reply": "2024-12-15T11:57:10.165563Z"
    },
    "papermill": {
     "duration": 8.965817,
     "end_time": "2024-12-15T11:57:10.168671",
     "exception": false,
     "start_time": "2024-12-15T11:57:01.202854",
     "status": "completed"
    },
    "tags": []
   },
   "outputs": [],
   "source": [
    "process_labels_and_images(\n",
    "    BKAI_val_images_folder, \n",
    "    BKAI_labels_folder, \n",
    "    BKAI_val_output_images_folder, \n",
    "    BKAI_val_output_labels_folder\n",
    ")"
   ]
  },
  {
   "cell_type": "code",
   "execution_count": 7,
   "id": "581cdb6f",
   "metadata": {
    "execution": {
     "iopub.execute_input": "2024-12-15T11:57:10.175172Z",
     "iopub.status.busy": "2024-12-15T11:57:10.174825Z",
     "iopub.status.idle": "2024-12-15T11:57:26.674615Z",
     "shell.execute_reply": "2024-12-15T11:57:26.673584Z"
    },
    "papermill": {
     "duration": 16.506092,
     "end_time": "2024-12-15T11:57:26.677339",
     "exception": false,
     "start_time": "2024-12-15T11:57:10.171247",
     "status": "completed"
    },
    "tags": []
   },
   "outputs": [],
   "source": [
    "process_labels_and_images(\n",
    "    BKAI_test_images_folder, \n",
    "    BKAI_labels_folder, \n",
    "    BKAI_test_output_images_folder, \n",
    "    BKAI_test_output_labels_folder\n",
    ")"
   ]
  },
  {
   "cell_type": "code",
   "execution_count": null,
   "id": "8aed285d",
   "metadata": {
    "papermill": {
     "duration": 0.002276,
     "end_time": "2024-12-15T11:57:26.682305",
     "exception": false,
     "start_time": "2024-12-15T11:57:26.680029",
     "status": "completed"
    },
    "tags": []
   },
   "outputs": [],
   "source": []
  }
 ],
 "metadata": {
  "kaggle": {
   "accelerator": "none",
   "dataSources": [
    {
     "datasetId": 6307047,
     "sourceId": 10205822,
     "sourceType": "datasetVersion"
    }
   ],
   "dockerImageVersionId": 30804,
   "isGpuEnabled": false,
   "isInternetEnabled": true,
   "language": "python",
   "sourceType": "notebook"
  },
  "kernelspec": {
   "display_name": "Python 3",
   "language": "python",
   "name": "python3"
  },
  "language_info": {
   "codemirror_mode": {
    "name": "ipython",
    "version": 3
   },
   "file_extension": ".py",
   "mimetype": "text/x-python",
   "name": "python",
   "nbconvert_exporter": "python",
   "pygments_lexer": "ipython3",
   "version": "3.10.14"
  },
  "papermill": {
   "default_parameters": {},
   "duration": 69.565382,
   "end_time": "2024-12-15T11:57:27.104830",
   "environment_variables": {},
   "exception": null,
   "input_path": "__notebook__.ipynb",
   "output_path": "__notebook__.ipynb",
   "parameters": {},
   "start_time": "2024-12-15T11:56:17.539448",
   "version": "2.6.0"
  }
 },
 "nbformat": 4,
 "nbformat_minor": 5
}
