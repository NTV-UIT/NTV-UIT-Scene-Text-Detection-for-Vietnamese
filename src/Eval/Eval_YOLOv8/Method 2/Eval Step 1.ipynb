{
 "cells": [
  {
   "cell_type": "code",
   "execution_count": 1,
   "id": "172b9bfd",
   "metadata": {
    "_cell_guid": "b1076dfc-b9ad-4769-8c92-a6c4dae69d19",
    "_uuid": "8f2839f25d086af736a60e9eeb907d3b93b6e0e5",
    "execution": {
     "iopub.execute_input": "2025-01-05T02:48:10.865061Z",
     "iopub.status.busy": "2025-01-05T02:48:10.864730Z",
     "iopub.status.idle": "2025-01-05T02:48:16.644770Z",
     "shell.execute_reply": "2025-01-05T02:48:16.643846Z"
    },
    "papermill": {
     "duration": 5.791478,
     "end_time": "2025-01-05T02:48:16.646516",
     "exception": false,
     "start_time": "2025-01-05T02:48:10.855038",
     "status": "completed"
    },
    "tags": []
   },
   "outputs": [
    {
     "name": "stdout",
     "output_type": "stream",
     "text": [
      "Collecting ultralytics\r\n",
      "  Downloading ultralytics-8.3.57-py3-none-any.whl.metadata (35 kB)\r\n",
      "Requirement already satisfied: numpy>=1.23.0 in /usr/local/lib/python3.10/dist-packages (from ultralytics) (1.26.4)\r\n",
      "Requirement already satisfied: matplotlib>=3.3.0 in /usr/local/lib/python3.10/dist-packages (from ultralytics) (3.7.1)\r\n",
      "Requirement already satisfied: opencv-python>=4.6.0 in /usr/local/lib/python3.10/dist-packages (from ultralytics) (4.10.0.84)\r\n",
      "Requirement already satisfied: pillow>=7.1.2 in /usr/local/lib/python3.10/dist-packages (from ultralytics) (10.4.0)\r\n",
      "Requirement already satisfied: pyyaml>=5.3.1 in /usr/local/lib/python3.10/dist-packages (from ultralytics) (6.0.2)\r\n",
      "Requirement already satisfied: requests>=2.23.0 in /usr/local/lib/python3.10/dist-packages (from ultralytics) (2.32.3)\r\n",
      "Requirement already satisfied: scipy>=1.4.1 in /usr/local/lib/python3.10/dist-packages (from ultralytics) (1.13.1)\r\n",
      "Requirement already satisfied: torch>=1.8.0 in /usr/local/lib/python3.10/dist-packages (from ultralytics) (2.4.1+cu121)\r\n",
      "Requirement already satisfied: torchvision>=0.9.0 in /usr/local/lib/python3.10/dist-packages (from ultralytics) (0.19.1+cu121)\r\n",
      "Requirement already satisfied: tqdm>=4.64.0 in /usr/local/lib/python3.10/dist-packages (from ultralytics) (4.66.5)\r\n",
      "Requirement already satisfied: psutil in /usr/local/lib/python3.10/dist-packages (from ultralytics) (5.9.5)\r\n",
      "Requirement already satisfied: py-cpuinfo in /usr/local/lib/python3.10/dist-packages (from ultralytics) (9.0.0)\r\n",
      "Requirement already satisfied: pandas>=1.1.4 in /usr/local/lib/python3.10/dist-packages (from ultralytics) (2.1.4)\r\n",
      "Requirement already satisfied: seaborn>=0.11.0 in /usr/local/lib/python3.10/dist-packages (from ultralytics) (0.12.2)\r\n",
      "Collecting ultralytics-thop>=2.0.0 (from ultralytics)\r\n",
      "  Downloading ultralytics_thop-2.0.13-py3-none-any.whl.metadata (9.4 kB)\r\n",
      "Requirement already satisfied: contourpy>=1.0.1 in /usr/local/lib/python3.10/dist-packages (from matplotlib>=3.3.0->ultralytics) (1.3.0)\r\n",
      "Requirement already satisfied: cycler>=0.10 in /usr/local/lib/python3.10/dist-packages (from matplotlib>=3.3.0->ultralytics) (0.12.1)\r\n",
      "Requirement already satisfied: fonttools>=4.22.0 in /usr/local/lib/python3.10/dist-packages (from matplotlib>=3.3.0->ultralytics) (4.53.1)\r\n",
      "Requirement already satisfied: kiwisolver>=1.0.1 in /usr/local/lib/python3.10/dist-packages (from matplotlib>=3.3.0->ultralytics) (1.4.7)\r\n",
      "Requirement already satisfied: packaging>=20.0 in /usr/local/lib/python3.10/dist-packages (from matplotlib>=3.3.0->ultralytics) (24.1)\r\n",
      "Requirement already satisfied: pyparsing>=2.3.1 in /usr/local/lib/python3.10/dist-packages (from matplotlib>=3.3.0->ultralytics) (3.1.4)\r\n",
      "Requirement already satisfied: python-dateutil>=2.7 in /usr/local/lib/python3.10/dist-packages (from matplotlib>=3.3.0->ultralytics) (2.8.2)\r\n",
      "Requirement already satisfied: pytz>=2020.1 in /usr/local/lib/python3.10/dist-packages (from pandas>=1.1.4->ultralytics) (2024.2)\r\n",
      "Requirement already satisfied: tzdata>=2022.1 in /usr/local/lib/python3.10/dist-packages (from pandas>=1.1.4->ultralytics) (2024.1)\r\n",
      "Requirement already satisfied: charset-normalizer<4,>=2 in /usr/local/lib/python3.10/dist-packages (from requests>=2.23.0->ultralytics) (3.3.2)\r\n",
      "Requirement already satisfied: idna<4,>=2.5 in /usr/local/lib/python3.10/dist-packages (from requests>=2.23.0->ultralytics) (3.10)\r\n",
      "Requirement already satisfied: urllib3<3,>=1.21.1 in /usr/local/lib/python3.10/dist-packages (from requests>=2.23.0->ultralytics) (2.2.3)\r\n",
      "Requirement already satisfied: certifi>=2017.4.17 in /usr/local/lib/python3.10/dist-packages (from requests>=2.23.0->ultralytics) (2024.8.30)\r\n",
      "Requirement already satisfied: filelock in /usr/local/lib/python3.10/dist-packages (from torch>=1.8.0->ultralytics) (3.16.1)\r\n",
      "Requirement already satisfied: typing-extensions>=4.8.0 in /usr/local/lib/python3.10/dist-packages (from torch>=1.8.0->ultralytics) (4.12.2)\r\n",
      "Requirement already satisfied: sympy in /usr/local/lib/python3.10/dist-packages (from torch>=1.8.0->ultralytics) (1.13.3)\r\n",
      "Requirement already satisfied: networkx in /usr/local/lib/python3.10/dist-packages (from torch>=1.8.0->ultralytics) (3.3)\r\n",
      "Requirement already satisfied: jinja2 in /usr/local/lib/python3.10/dist-packages (from torch>=1.8.0->ultralytics) (3.1.4)\r\n",
      "Requirement already satisfied: fsspec in /usr/local/lib/python3.10/dist-packages (from torch>=1.8.0->ultralytics) (2024.6.1)\r\n",
      "Requirement already satisfied: six>=1.5 in /usr/local/lib/python3.10/dist-packages (from python-dateutil>=2.7->matplotlib>=3.3.0->ultralytics) (1.16.0)\r\n",
      "Requirement already satisfied: MarkupSafe>=2.0 in /usr/local/lib/python3.10/dist-packages (from jinja2->torch>=1.8.0->ultralytics) (2.1.5)\r\n",
      "Requirement already satisfied: mpmath<1.4,>=1.1.0 in /usr/local/lib/python3.10/dist-packages (from sympy->torch>=1.8.0->ultralytics) (1.3.0)\r\n",
      "Downloading ultralytics-8.3.57-py3-none-any.whl (905 kB)\r\n",
      "\u001b[2K   \u001b[90m━━━━━━━━━━━━━━━━━━━━━━━━━━━━━━━━━━━━━━━━\u001b[0m \u001b[32m905.3/905.3 kB\u001b[0m \u001b[31m19.3 MB/s\u001b[0m eta \u001b[36m0:00:00\u001b[0m\r\n",
      "\u001b[?25hDownloading ultralytics_thop-2.0.13-py3-none-any.whl (26 kB)\r\n",
      "Installing collected packages: ultralytics-thop, ultralytics\r\n",
      "Successfully installed ultralytics-8.3.57 ultralytics-thop-2.0.13\r\n"
     ]
    }
   ],
   "source": [
    "!pip install ultralytics"
   ]
  },
  {
   "cell_type": "code",
   "execution_count": 2,
   "id": "b6180994",
   "metadata": {
    "execution": {
     "iopub.execute_input": "2025-01-05T02:48:16.665566Z",
     "iopub.status.busy": "2025-01-05T02:48:16.665198Z",
     "iopub.status.idle": "2025-01-05T02:48:21.023819Z",
     "shell.execute_reply": "2025-01-05T02:48:21.022815Z"
    },
    "papermill": {
     "duration": 4.369814,
     "end_time": "2025-01-05T02:48:21.025573",
     "exception": false,
     "start_time": "2025-01-05T02:48:16.655759",
     "status": "completed"
    },
    "tags": []
   },
   "outputs": [
    {
     "name": "stdout",
     "output_type": "stream",
     "text": [
      "Creating new Ultralytics Settings v0.0.6 file ✅ \n",
      "View Ultralytics Settings with 'yolo settings' or at '/root/.config/Ultralytics/settings.json'\n",
      "Update Settings with 'yolo settings key=value', i.e. 'yolo settings runs_dir=path/to/dir'. For help see https://docs.ultralytics.com/quickstart/#ultralytics-settings.\n"
     ]
    }
   ],
   "source": [
    "import torch\n",
    "import os\n",
    "import glob\n",
    "from PIL import Image\n",
    "from ultralytics import YOLO"
   ]
  },
  {
   "cell_type": "code",
   "execution_count": 3,
   "id": "e6652985",
   "metadata": {
    "execution": {
     "iopub.execute_input": "2025-01-05T02:48:21.043689Z",
     "iopub.status.busy": "2025-01-05T02:48:21.043233Z",
     "iopub.status.idle": "2025-01-05T02:48:21.047519Z",
     "shell.execute_reply": "2025-01-05T02:48:21.046850Z"
    },
    "papermill": {
     "duration": 0.014578,
     "end_time": "2025-01-05T02:48:21.048795",
     "exception": false,
     "start_time": "2025-01-05T02:48:21.034217",
     "status": "completed"
    },
    "tags": []
   },
   "outputs": [],
   "source": [
    "# Example usage:\n",
    "BKAI_train_images_folder = '/kaggle/input/bkai-dataset2/vietnamese/train_images'\n",
    "BKAI_labels_folder = '/kaggle/input/bkai-dataset2/vietnamese/labels'\n",
    "\n",
    "BKAI_val_images_folder = '/kaggle/input/bkai-dataset2/vietnamese/test_image'\n",
    "\n",
    "BKAI_test_images_folder = '/kaggle/input/bkai-dataset2/vietnamese/unseen_test_images'\n",
    "\n",
    "BKAI_train_output_images_folder = \"/kaggle/working/train/images\"\n",
    "BKAI_train_output_labels_folder = \"/kaggle/working/train/labels\"\n",
    "\n",
    "BKAI_val_output_images_folder = \"/kaggle/working/val/images\"\n",
    "BKAI_val_output_labels_folder = \"/kaggle/working/val/labels\"\n",
    "\n",
    "BKAI_test_output_images_folder = \"/kaggle/working/test/images\"\n",
    "BKAI_test_output_labels_folder = \"/kaggle/working/test/labels\"\n",
    "\n",
    "# Define paths\n",
    "BKAI1_train_images_folder = '/kaggle/input/bkai-dataset-1/train_imgs/training_img'\n",
    "BKAI1_train_labels_folder = '/kaggle/input/bkai-dataset-1/train_gt/training_gt'\n",
    "BKAI1_train_output_images_folder = \"/kaggle/working/train/images\"\n",
    "BKAI1_train_output_labels_folder = \"/kaggle/working/train/labels\""
   ]
  },
  {
   "cell_type": "code",
   "execution_count": 4,
   "id": "e044fd5b",
   "metadata": {
    "execution": {
     "iopub.execute_input": "2025-01-05T02:48:21.065993Z",
     "iopub.status.busy": "2025-01-05T02:48:21.065716Z",
     "iopub.status.idle": "2025-01-05T02:48:21.069074Z",
     "shell.execute_reply": "2025-01-05T02:48:21.068459Z"
    },
    "papermill": {
     "duration": 0.01339,
     "end_time": "2025-01-05T02:48:21.070358",
     "exception": false,
     "start_time": "2025-01-05T02:48:21.056968",
     "status": "completed"
    },
    "tags": []
   },
   "outputs": [],
   "source": [
    "# Total\n",
    "\n",
    "\n",
    "total_test_images_folder = \"/kaggle/input/totaltextstr/Total-Text/Test\"\n",
    "total_test_labels_folder = \"/kaggle/input/totaltextstr/Total-Text/Annotation/groundtruth_polygonal_annotation/Test\"\n",
    "\n",
    "total_test_output_images_folder = \"/kaggle/working/test_total/images\"\n",
    "total_test_output_labels_folder = \"/kaggle/working/test_total/labels\""
   ]
  },
  {
   "cell_type": "code",
   "execution_count": 5,
   "id": "848988fe",
   "metadata": {
    "execution": {
     "iopub.execute_input": "2025-01-05T02:48:21.087559Z",
     "iopub.status.busy": "2025-01-05T02:48:21.087282Z",
     "iopub.status.idle": "2025-01-05T02:48:21.090513Z",
     "shell.execute_reply": "2025-01-05T02:48:21.089883Z"
    },
    "papermill": {
     "duration": 0.013214,
     "end_time": "2025-01-05T02:48:21.091846",
     "exception": false,
     "start_time": "2025-01-05T02:48:21.078632",
     "status": "completed"
    },
    "tags": []
   },
   "outputs": [],
   "source": [
    "# ICDAR2015\n",
    "icdar2015_test_images_folder = \"/kaggle/input/icdar2015/ch4_test_images\"\n",
    "icdar2015_test_labels_folder = \"/kaggle/input/icdar2015/ch4_test_localization_transcription_gt\"\n",
    "\n",
    "icdar2015_test_output_images_folder = \"/kaggle/working/test_icdar2015/images\"\n",
    "icdar2015_test_output_labels_folder = \"/kaggle/working/test_icdar2015/labels\""
   ]
  },
  {
   "cell_type": "markdown",
   "id": "2fe3c202",
   "metadata": {
    "papermill": {
     "duration": 0.007717,
     "end_time": "2025-01-05T02:48:21.107964",
     "exception": false,
     "start_time": "2025-01-05T02:48:21.100247",
     "status": "completed"
    },
    "tags": []
   },
   "source": [
    "# Icdar2015 Dataset Test\n"
   ]
  },
  {
   "cell_type": "code",
   "execution_count": 6,
   "id": "855fad57",
   "metadata": {
    "execution": {
     "iopub.execute_input": "2025-01-05T02:48:21.125162Z",
     "iopub.status.busy": "2025-01-05T02:48:21.124887Z",
     "iopub.status.idle": "2025-01-05T02:48:21.134281Z",
     "shell.execute_reply": "2025-01-05T02:48:21.133610Z"
    },
    "papermill": {
     "duration": 0.019545,
     "end_time": "2025-01-05T02:48:21.135577",
     "exception": false,
     "start_time": "2025-01-05T02:48:21.116032",
     "status": "completed"
    },
    "tags": []
   },
   "outputs": [],
   "source": [
    "def Icidar2015_process_annotations(train_images_folder, train_labels_folder, train_output_images_folder, train_output_labels_folder):\n",
    "    # Tạo các thư mục đầu ra nếu chưa tồn tại\n",
    "    os.makedirs(train_output_images_folder, exist_ok=True)\n",
    "    os.makedirs(train_output_labels_folder, exist_ok=True)\n",
    "\n",
    "    # Hàm chuyển đổi tọa độ polygon sang YOLO bounding box\n",
    "    def polygon_to_yolo_bbox(x, y, width_img, height_img):\n",
    "        x_min, x_max = min(x), max(x)\n",
    "        y_min, y_max = min(y), max(y)\n",
    "        x_center = (x_min + x_max) / 2 / width_img\n",
    "        y_center = (y_min + y_max) / 2 / height_img\n",
    "        bbox_width = (x_max - x_min) / width_img\n",
    "        bbox_height = (y_max - y_min) / height_img\n",
    "        return x_center, y_center, bbox_width, bbox_height\n",
    "\n",
    "    # Duyệt qua các file annotation\n",
    "    annotation_files = glob.glob(os.path.join(train_labels_folder, \"*.txt\"))\n",
    "\n",
    "    for anno_file in annotation_files:\n",
    "        base_name = os.path.basename(anno_file).replace(\"gt_\", \"\").replace(\".txt\", \"\")\n",
    "        image_path = os.path.join(train_images_folder, f\"{base_name}.jpg\")\n",
    "        \n",
    "        try:\n",
    "            # Mở ảnh để lấy kích thước\n",
    "            img = Image.open(image_path)\n",
    "            width_img, height_img = img.size\n",
    "\n",
    "            # Lưu ảnh vào thư mục đầu ra\n",
    "            output_image_path = os.path.join(train_output_images_folder, f\"{base_name}.jpg\")\n",
    "            \n",
    "            # Biến kiểm tra xem có bounding box hợp lệ không\n",
    "            valid_boxes = False\n",
    "            \n",
    "            # Lưu file annotation mới vào thư mục đầu ra\n",
    "            output_label_file = os.path.join(train_output_labels_folder, f\"{base_name}.txt\")\n",
    "            \n",
    "            with open(anno_file, \"r\", encoding=\"utf-8-sig\") as f, open(output_label_file, \"w\") as out_f:\n",
    "                for line in f:\n",
    "                    try:\n",
    "                        # Loại bỏ ký tự BOM nếu có\n",
    "                        line = line.lstrip('\\ufeff')\n",
    "\n",
    "                        # Tách các phần tử trong dòng annotation\n",
    "                        parts = line.strip().split(',')\n",
    "                        if len(parts) < 8:  # Nếu số phần tử không đủ, bỏ qua\n",
    "                            continue\n",
    "\n",
    "                        # Tách tọa độ x, y và văn bản\n",
    "                        x = list(map(int, parts[:8:2]))  # Tọa độ x\n",
    "                        y = list(map(int, parts[1:8:2]))  # Tọa độ y\n",
    "                        transcription = parts[8]  # Văn bản\n",
    "\n",
    "                        # # Nếu văn bản là '###', bỏ qua\n",
    "                        # if transcription == '###':\n",
    "                        #     continue\n",
    "                        \n",
    "                        # Tính toán bounding box YOLO\n",
    "                        x_center, y_center, bbox_width, bbox_height = polygon_to_yolo_bbox(x, y, width_img, height_img)\n",
    "                        \n",
    "                        # Nếu bounding box hợp lệ, đánh dấu\n",
    "                        if bbox_width > 0 and bbox_height > 0:\n",
    "                            valid_boxes = True\n",
    "                        \n",
    "                        # Gán class_id (ví dụ: 0 cho tất cả các lớp trong OCR)\n",
    "                        class_id = 0\n",
    "                        \n",
    "                        # Ghi vào file annotation\n",
    "                        out_f.write(f\"{class_id} {x_center} {y_center} {bbox_width} {bbox_height}\\n\")\n",
    "                    except Exception as e:\n",
    "                        print(f\"Lỗi xử lý dòng trong file {anno_file}: {line}\\nChi tiết lỗi: {e}\")\n",
    "            \n",
    "            # Chỉ lưu ảnh và file annotation nếu có ít nhất một bounding box hợp lệ\n",
    "            if valid_boxes:\n",
    "                img.save(output_image_path)  # Lưu ảnh vào thư mục output\n",
    "            else:\n",
    "                os.remove(output_label_file)  # Xóa file label nếu không có bounding box hợp lệ\n",
    "                print(f\"Không có bounding box hợp lệ cho ảnh {base_name}.jpg, file annotation không được lưu.\")\n",
    "                \n",
    "        except Exception as e:\n",
    "            print(f\"Lỗi xử lý file: {anno_file}\\nChi tiết lỗi: {e}\")"
   ]
  },
  {
   "cell_type": "code",
   "execution_count": 7,
   "id": "2d1a6105",
   "metadata": {
    "execution": {
     "iopub.execute_input": "2025-01-05T02:48:21.152912Z",
     "iopub.status.busy": "2025-01-05T02:48:21.152645Z",
     "iopub.status.idle": "2025-01-05T02:48:34.488907Z",
     "shell.execute_reply": "2025-01-05T02:48:34.487918Z"
    },
    "papermill": {
     "duration": 13.346825,
     "end_time": "2025-01-05T02:48:34.490670",
     "exception": false,
     "start_time": "2025-01-05T02:48:21.143845",
     "status": "completed"
    },
    "tags": []
   },
   "outputs": [],
   "source": [
    "Icidar2015_process_annotations(icdar2015_test_images_folder, icdar2015_test_labels_folder, icdar2015_test_output_images_folder, icdar2015_test_output_labels_folder)"
   ]
  },
  {
   "cell_type": "markdown",
   "id": "8f842a10",
   "metadata": {
    "papermill": {
     "duration": 0.008062,
     "end_time": "2025-01-05T02:48:34.507466",
     "exception": false,
     "start_time": "2025-01-05T02:48:34.499404",
     "status": "completed"
    },
    "tags": []
   },
   "source": [
    "# Total Dataset test\n"
   ]
  },
  {
   "cell_type": "code",
   "execution_count": 8,
   "id": "8c48790c",
   "metadata": {
    "execution": {
     "iopub.execute_input": "2025-01-05T02:48:34.525041Z",
     "iopub.status.busy": "2025-01-05T02:48:34.524747Z",
     "iopub.status.idle": "2025-01-05T02:48:34.534182Z",
     "shell.execute_reply": "2025-01-05T02:48:34.533505Z"
    },
    "papermill": {
     "duration": 0.0198,
     "end_time": "2025-01-05T02:48:34.535475",
     "exception": false,
     "start_time": "2025-01-05T02:48:34.515675",
     "status": "completed"
    },
    "tags": []
   },
   "outputs": [],
   "source": [
    "def Total_process_annotations(train_images_folder, train_labels_folder, train_output_images_folder, train_output_labels_folder):\n",
    "    # Tạo các thư mục đầu ra nếu chưa tồn tại\n",
    "    os.makedirs(train_output_images_folder, exist_ok=True)\n",
    "    os.makedirs(train_output_labels_folder, exist_ok=True)\n",
    "\n",
    "    # Hàm chuyển đổi tọa độ polygon sang YOLO bounding box\n",
    "    def polygon_to_yolo_bbox(x, y, width_img, height_img):\n",
    "        x_min, x_max = min(x), max(x)\n",
    "        y_min, y_max = min(y), max(y)\n",
    "        x_center = (x_min + x_max) / 2 / width_img\n",
    "        y_center = (y_min + y_max) / 2 / height_img\n",
    "        bbox_width = (x_max - x_min) / width_img\n",
    "        bbox_height = (y_max - y_min) / height_img\n",
    "        return x_center, y_center, bbox_width, bbox_height\n",
    "\n",
    "    # Duyệt qua các file annotation\n",
    "    annotation_files = glob.glob(os.path.join(train_labels_folder, \"*.txt\"))\n",
    "\n",
    "    for anno_file in annotation_files:\n",
    "        base_name = os.path.basename(anno_file).replace(\"poly_gt_\", \"\").replace(\".txt\", \"\")\n",
    "        image_path = os.path.join(train_images_folder, f\"{base_name}.jpg\")\n",
    "        \n",
    "        try:\n",
    "            # Mở ảnh để lấy kích thước\n",
    "            img = Image.open(image_path)\n",
    "            width_img, height_img = img.size\n",
    "\n",
    "            # Lưu ảnh vào thư mục đầu ra\n",
    "            output_image_path = os.path.join(train_output_images_folder, f\"{base_name}.jpg\")\n",
    "            \n",
    "            # Biến kiểm tra xem có bounding box hợp lệ không\n",
    "            valid_boxes = False\n",
    "            \n",
    "            # Lưu file annotation mới vào thư mục đầu ra\n",
    "            output_label_file = os.path.join(train_output_labels_folder, f\"{base_name}.txt\")\n",
    "            \n",
    "            with open(anno_file, \"r\") as f, open(output_label_file, \"w\") as out_f:\n",
    "                for line in f:\n",
    "                    try:\n",
    "                        # Tách các phần tử trong dòng annotation và bỏ qua các phần không cần thiết\n",
    "                        line = line.strip()\n",
    "                        if \"x: [[\" not in line or \"y: [[\" not in line:\n",
    "                            continue\n",
    "\n",
    "                        # Lấy phần tọa độ x và y\n",
    "                        x_part = line[line.index(\"x: [[\") + 5: line.index(\"]], y:\")]\n",
    "                        y_part = line[line.index(\"y: [[\") + 5: line.index(\"]], ornt:\")]\n",
    "\n",
    "                        # Chuyển đổi tọa độ x và y thành danh sách số\n",
    "                        x = list(map(int, x_part.split()))\n",
    "                        y = list(map(int, y_part.split()))\n",
    "\n",
    "                        # Bỏ qua nếu số điểm không đủ\n",
    "                        if len(x) < 4 or len(y) < 4:\n",
    "                            continue\n",
    "                        \n",
    "                        # Tính toán bounding box YOLO\n",
    "                        x_center, y_center, bbox_width, bbox_height = polygon_to_yolo_bbox(x, y, width_img, height_img)\n",
    "                        \n",
    "                        # Nếu bounding box hợp lệ, đánh dấu\n",
    "                        if bbox_width > 0 and bbox_height > 0:\n",
    "                            valid_boxes = True\n",
    "                        \n",
    "                        # Gán class_id (ví dụ: 0 cho tất cả các lớp trong OCR)\n",
    "                        class_id = 0\n",
    "                        \n",
    "                        # Ghi vào file annotation\n",
    "                        out_f.write(f\"{class_id} {x_center} {y_center} {bbox_width} {bbox_height}\\n\")\n",
    "                    except Exception as e:\n",
    "                        print(f\"Lỗi xử lý dòng trong file {anno_file}: {line}\\nChi tiết lỗi: {e}\")\n",
    "            \n",
    "            # Chỉ lưu ảnh và file annotation nếu có ít nhất một bounding box hợp lệ\n",
    "            if valid_boxes:\n",
    "                img.save(output_image_path)  # Lưu ảnh vào thư mục output\n",
    "            else:\n",
    "                os.remove(output_label_file)  # Xóa file label nếu không có bounding box hợp lệ\n",
    "                print(f\"Không có bounding box hợp lệ cho ảnh {base_name}.jpg, file annotation không được lưu.\")\n",
    "                \n",
    "        except Exception as e:\n",
    "            print(f\"Lỗi xử lý file: {anno_file}\\nChi tiết lỗi: {e}\")"
   ]
  },
  {
   "cell_type": "code",
   "execution_count": 9,
   "id": "6efe6899",
   "metadata": {
    "execution": {
     "iopub.execute_input": "2025-01-05T02:48:34.552927Z",
     "iopub.status.busy": "2025-01-05T02:48:34.552649Z",
     "iopub.status.idle": "2025-01-05T02:48:47.260581Z",
     "shell.execute_reply": "2025-01-05T02:48:47.259854Z"
    },
    "papermill": {
     "duration": 12.718264,
     "end_time": "2025-01-05T02:48:47.262108",
     "exception": false,
     "start_time": "2025-01-05T02:48:34.543844",
     "status": "completed"
    },
    "tags": []
   },
   "outputs": [],
   "source": [
    "Total_process_annotations(total_test_images_folder, total_test_labels_folder, total_test_output_images_folder, total_test_output_labels_folder)\n"
   ]
  },
  {
   "cell_type": "markdown",
   "id": "89c4d9f7",
   "metadata": {
    "papermill": {
     "duration": 0.007859,
     "end_time": "2025-01-05T02:48:47.278623",
     "exception": false,
     "start_time": "2025-01-05T02:48:47.270764",
     "status": "completed"
    },
    "tags": []
   },
   "source": [
    "# BKAI DATASET TEST\n"
   ]
  },
  {
   "cell_type": "code",
   "execution_count": 10,
   "id": "60c2df94",
   "metadata": {
    "execution": {
     "iopub.execute_input": "2025-01-05T02:48:47.295797Z",
     "iopub.status.busy": "2025-01-05T02:48:47.295488Z",
     "iopub.status.idle": "2025-01-05T02:48:47.305573Z",
     "shell.execute_reply": "2025-01-05T02:48:47.304644Z"
    },
    "papermill": {
     "duration": 0.020443,
     "end_time": "2025-01-05T02:48:47.306970",
     "exception": false,
     "start_time": "2025-01-05T02:48:47.286527",
     "status": "completed"
    },
    "tags": []
   },
   "outputs": [],
   "source": [
    "import os\n",
    "import glob\n",
    "from PIL import Image\n",
    "\n",
    "def test_process_annotations(train_images_folder, train_labels_folder, train_output_images_folder, train_output_labels_folder):\n",
    "    # Tạo các thư mục đầu ra nếu chưa tồn tại\n",
    "    os.makedirs(train_output_images_folder, exist_ok=True)\n",
    "    os.makedirs(train_output_labels_folder, exist_ok=True)\n",
    "\n",
    "    # Hàm chuyển đổi tọa độ polygon sang YOLO bounding box\n",
    "    def polygon_to_yolo_bbox(x, y, width_img, height_img):\n",
    "        x_min, x_max = min(x), max(x)\n",
    "        y_min, y_max = min(y), max(y)\n",
    "        x_center = (x_min + x_max) / 2 / width_img\n",
    "        y_center = (y_min + y_max) / 2 / height_img\n",
    "        bbox_width = (x_max - x_min) / width_img\n",
    "        bbox_height = (y_max - y_min) / height_img\n",
    "        return x_center, y_center, bbox_width, bbox_height\n",
    "\n",
    "    # Duyệt qua các file annotation\n",
    "    annotation_files = glob.glob(os.path.join(train_labels_folder, \"*.txt\"))\n",
    "\n",
    "    for anno_file in annotation_files:\n",
    "        base_name = os.path.basename(anno_file).replace(\"gt_\", \"\").replace(\".txt\", \"\")\n",
    "        image_path = os.path.join(train_images_folder, f\"{base_name}.jpg\")\n",
    "        \n",
    "        try:\n",
    "            # Mở ảnh để lấy kích thước\n",
    "            img = Image.open(image_path)\n",
    "            width_img, height_img = img.size\n",
    "\n",
    "            # Lưu ảnh vào thư mục đầu ra\n",
    "            output_image_path = os.path.join(train_output_images_folder, f\"{base_name}.jpg\")\n",
    "            \n",
    "            # Biến kiểm tra xem có bounding box hợp lệ không\n",
    "            valid_boxes = False\n",
    "            \n",
    "            # Lưu file annotation mới vào thư mục đầu ra\n",
    "            output_label_file = os.path.join(train_output_labels_folder, f\"{base_name}.txt\")\n",
    "            \n",
    "            with open(anno_file, \"r\", encoding=\"utf-8-sig\") as f, open(output_label_file, \"w\") as out_f:\n",
    "                for line in f:\n",
    "                    try:\n",
    "                        # Loại bỏ ký tự BOM nếu có\n",
    "                        line = line.lstrip('\\ufeff')\n",
    "\n",
    "                        # Tách các phần tử trong dòng annotation\n",
    "                        parts = line.strip().split(',')\n",
    "                        if len(parts) < 8:  # Nếu số phần tử không đủ, bỏ qua\n",
    "                            continue\n",
    "\n",
    "                        # Tách tọa độ x, y và văn bản\n",
    "                        x = list(map(int, parts[:8:2]))  # Tọa độ x\n",
    "                        y = list(map(int, parts[1:8:2]))  # Tọa độ y\n",
    "                        transcription = parts[8]  # Văn bản\n",
    "\n",
    "                        # Nếu bounding box không hợp lệ, bỏ qua\n",
    "                        x_center, y_center, bbox_width, bbox_height = polygon_to_yolo_bbox(x, y, width_img, height_img)\n",
    "                        if bbox_width > 0 and bbox_height > 0:\n",
    "                            valid_boxes = True\n",
    "                        \n",
    "                        # Gán class_id (ví dụ: 0 cho tất cả các lớp trong OCR)\n",
    "                        class_id = 0\n",
    "                        \n",
    "                        # Ghi vào file annotation\n",
    "                        out_f.write(f\"{class_id} {x_center} {y_center} {bbox_width} {bbox_height}\\n\")\n",
    "                    except Exception as e:\n",
    "                        print(f\"Lỗi xử lý dòng trong file {anno_file}: {line}\\nChi tiết lỗi: {e}\")\n",
    "            \n",
    "            # Chỉ lưu ảnh và file annotation nếu có ít nhất một bounding box hợp lệ\n",
    "            if valid_boxes:\n",
    "                # Chuyển đổi chế độ ảnh nếu cần thiết\n",
    "                if img.mode == \"RGBA\" or img.mode == \"P\":\n",
    "                    img = img.convert(\"RGB\")\n",
    "                img.save(output_image_path, \"JPEG\",quality=95)  # Lưu ảnh vào thư mục output\n",
    "            else:\n",
    "                os.remove(output_label_file)  # Xóa file label nếu không có bounding box hợp lệ\n",
    "                print(f\"Không có bounding box hợp lệ cho ảnh {base_name}.jpg, file annotation không được lưu.\")\n",
    "                \n",
    "        except Exception as e:\n",
    "            print(f\"Lỗi xử lý file: {anno_file}\\nChi tiết lỗi: {e}\")"
   ]
  },
  {
   "cell_type": "code",
   "execution_count": 11,
   "id": "2b05acfb",
   "metadata": {
    "execution": {
     "iopub.execute_input": "2025-01-05T02:48:47.324407Z",
     "iopub.status.busy": "2025-01-05T02:48:47.324088Z",
     "iopub.status.idle": "2025-01-05T02:48:53.628111Z",
     "shell.execute_reply": "2025-01-05T02:48:53.627160Z"
    },
    "papermill": {
     "duration": 6.314465,
     "end_time": "2025-01-05T02:48:53.629788",
     "exception": false,
     "start_time": "2025-01-05T02:48:47.315323",
     "status": "completed"
    },
    "tags": []
   },
   "outputs": [],
   "source": [
    "test_images_folder = \"/kaggle/input/test-bkai/private_test_imgs\"\n",
    "test_labels_folder = \"/kaggle/input/test-bkai/groundtruth\"\n",
    "test_output_images_folder = \"/kaggle/working/test/images\"\n",
    "test_output_labels_folder = \"/kaggle/working/test/labels\"\n",
    "\n",
    "test_process_annotations(test_images_folder, test_labels_folder, test_output_images_folder, test_output_labels_folder)"
   ]
  },
  {
   "cell_type": "markdown",
   "id": "4cec613c",
   "metadata": {
    "papermill": {
     "duration": 0.008197,
     "end_time": "2025-01-05T02:48:53.647078",
     "exception": false,
     "start_time": "2025-01-05T02:48:53.638881",
     "status": "completed"
    },
    "tags": []
   },
   "source": [
    "# Data yaml"
   ]
  },
  {
   "cell_type": "code",
   "execution_count": 12,
   "id": "1df8bd64",
   "metadata": {
    "execution": {
     "iopub.execute_input": "2025-01-05T02:48:53.665066Z",
     "iopub.status.busy": "2025-01-05T02:48:53.664718Z",
     "iopub.status.idle": "2025-01-05T02:48:53.670437Z",
     "shell.execute_reply": "2025-01-05T02:48:53.669608Z"
    },
    "papermill": {
     "duration": 0.016275,
     "end_time": "2025-01-05T02:48:53.671752",
     "exception": false,
     "start_time": "2025-01-05T02:48:53.655477",
     "status": "completed"
    },
    "tags": []
   },
   "outputs": [
    {
     "name": "stdout",
     "output_type": "stream",
     "text": [
      "File 'data_BKAI.yaml' đã được tạo tại: /kaggle/working/data_BKAI.yaml\n"
     ]
    }
   ],
   "source": [
    "# Tạo đường dẫn tới file YAML\n",
    "dataset_dir = \"/kaggle/working\"\n",
    "os.makedirs(dataset_dir, exist_ok=True)\n",
    "yaml_file = os.path.join(dataset_dir, \"data_BKAI.yaml\")\n",
    "\n",
    "# Nội dung file YAML\n",
    "yaml_content = \"\"\"\n",
    "train: /kaggle/input/yolov8x-ocr/train/images\n",
    "val: /kaggle/working/test/images\n",
    "nc: 1\n",
    "names: ['text']  # Cập nhật nếu bạn có nhiều lớp\n",
    "\n",
    "\"\"\"\n",
    "\n",
    "# Ghi nội dung vào file YAML\n",
    "with open(yaml_file, \"w\") as f:\n",
    "    f.write(yaml_content.strip())\n",
    "\n",
    "print(f\"File 'data_BKAI.yaml' đã được tạo tại: {yaml_file}\")"
   ]
  },
  {
   "cell_type": "code",
   "execution_count": 13,
   "id": "af558ad5",
   "metadata": {
    "execution": {
     "iopub.execute_input": "2025-01-05T02:48:53.689692Z",
     "iopub.status.busy": "2025-01-05T02:48:53.689403Z",
     "iopub.status.idle": "2025-01-05T02:48:53.695072Z",
     "shell.execute_reply": "2025-01-05T02:48:53.694248Z"
    },
    "papermill": {
     "duration": 0.016022,
     "end_time": "2025-01-05T02:48:53.696265",
     "exception": false,
     "start_time": "2025-01-05T02:48:53.680243",
     "status": "completed"
    },
    "tags": []
   },
   "outputs": [
    {
     "name": "stdout",
     "output_type": "stream",
     "text": [
      "File 'data_Total.yaml' đã được tạo tại: /kaggle/working/data_Total.yaml\n"
     ]
    }
   ],
   "source": [
    "# Tạo đường dẫn tới file YAML\n",
    "dataset_dir = \"/kaggle/working\"\n",
    "os.makedirs(dataset_dir, exist_ok=True)\n",
    "yaml_file = os.path.join(dataset_dir, \"data_Total.yaml\")\n",
    "\n",
    "# Nội dung file YAML\n",
    "yaml_content = \"\"\"\n",
    "train: /kaggle/input/yolov8x-ocr/train/images\n",
    "val: /kaggle/working/test_total/images\n",
    "nc: 1\n",
    "names: ['text']  # Cập nhật nếu bạn có nhiều lớp\n",
    "\n",
    "\"\"\"\n",
    "\n",
    "# Ghi nội dung vào file YAML\n",
    "with open(yaml_file, \"w\") as f:\n",
    "    f.write(yaml_content.strip())\n",
    "\n",
    "print(f\"File 'data_Total.yaml' đã được tạo tại: {yaml_file}\")"
   ]
  },
  {
   "cell_type": "code",
   "execution_count": 14,
   "id": "cd47f641",
   "metadata": {
    "execution": {
     "iopub.execute_input": "2025-01-05T02:48:53.714798Z",
     "iopub.status.busy": "2025-01-05T02:48:53.714485Z",
     "iopub.status.idle": "2025-01-05T02:48:53.720011Z",
     "shell.execute_reply": "2025-01-05T02:48:53.719242Z"
    },
    "papermill": {
     "duration": 0.016299,
     "end_time": "2025-01-05T02:48:53.721185",
     "exception": false,
     "start_time": "2025-01-05T02:48:53.704886",
     "status": "completed"
    },
    "tags": []
   },
   "outputs": [
    {
     "name": "stdout",
     "output_type": "stream",
     "text": [
      "File 'data_Icdar2015.yaml' đã được tạo tại: /kaggle/working/data_Icdar2015.yaml\n"
     ]
    }
   ],
   "source": [
    "# Tạo đường dẫn tới file YAML\n",
    "dataset_dir = \"/kaggle/working\"\n",
    "os.makedirs(dataset_dir, exist_ok=True)\n",
    "yaml_file = os.path.join(dataset_dir, \"data_Icdar2015.yaml\")\n",
    "\n",
    "# Nội dung file YAML\n",
    "yaml_content = \"\"\"\n",
    "train: /kaggle/input/yolov8x-ocr/train/images\n",
    "val: /kaggle/working/test_icdar2015/images\n",
    "nc: 1\n",
    "names: ['text']  # Cập nhật nếu bạn có nhiều lớp\n",
    "\n",
    "\"\"\"\n",
    "\n",
    "# Ghi nội dung vào file YAML\n",
    "with open(yaml_file, \"w\") as f:\n",
    "    f.write(yaml_content.strip())\n",
    "\n",
    "print(f\"File 'data_Icdar2015.yaml' đã được tạo tại: {yaml_file}\")"
   ]
  },
  {
   "cell_type": "markdown",
   "id": "19f4df2b",
   "metadata": {
    "papermill": {
     "duration": 0.008306,
     "end_time": "2025-01-05T02:48:53.738607",
     "exception": false,
     "start_time": "2025-01-05T02:48:53.730301",
     "status": "completed"
    },
    "tags": []
   },
   "source": [
    "# Train lai - Step 1 - SGD ver 1\n",
    "\n"
   ]
  },
  {
   "cell_type": "code",
   "execution_count": 15,
   "id": "4453578a",
   "metadata": {
    "execution": {
     "iopub.execute_input": "2025-01-05T02:48:53.756621Z",
     "iopub.status.busy": "2025-01-05T02:48:53.756298Z",
     "iopub.status.idle": "2025-01-05T02:49:12.618244Z",
     "shell.execute_reply": "2025-01-05T02:49:12.617198Z"
    },
    "papermill": {
     "duration": 18.872879,
     "end_time": "2025-01-05T02:49:12.619853",
     "exception": false,
     "start_time": "2025-01-05T02:48:53.746974",
     "status": "completed"
    },
    "tags": []
   },
   "outputs": [
    {
     "name": "stdout",
     "output_type": "stream",
     "text": [
      "Ultralytics 8.3.57 🚀 Python-3.10.12 torch-2.4.1+cu121 CUDA:0 (Tesla P100-PCIE-16GB, 16269MiB)\n",
      "Model summary (fused): 268 layers, 68,124,531 parameters, 0 gradients, 257.4 GFLOPs\n",
      "Downloading https://ultralytics.com/assets/Arial.ttf to '/root/.config/Ultralytics/Arial.ttf'...\n"
     ]
    },
    {
     "name": "stderr",
     "output_type": "stream",
     "text": [
      "100%|██████████| 755k/755k [00:00<00:00, 26.1MB/s]\n",
      "\u001b[34m\u001b[1mval: \u001b[0mScanning /kaggle/working/test/labels... 300 images, 0 backgrounds, 1 corrupt: 100%|██████████| 300/300 [00:00<00:00, 1246.88it/s]"
     ]
    },
    {
     "name": "stdout",
     "output_type": "stream",
     "text": [
      "\u001b[34m\u001b[1mval: \u001b[0mWARNING ⚠️ /kaggle/working/test/images/img_238.jpg: ignoring corrupt image/label: non-normalized or out of bounds coordinates [     1.1983]\n",
      "\u001b[34m\u001b[1mval: \u001b[0mNew cache created: /kaggle/working/test/labels.cache\n"
     ]
    },
    {
     "name": "stderr",
     "output_type": "stream",
     "text": [
      "\n",
      "                 Class     Images  Instances      Box(P          R      mAP50  mAP50-95): 100%|██████████| 19/19 [00:07<00:00,  2.45it/s]\n"
     ]
    },
    {
     "name": "stdout",
     "output_type": "stream",
     "text": [
      "                   all        299        866      0.841      0.688       0.76      0.416\n",
      "Speed: 0.4ms preprocess, 16.7ms inference, 0.0ms loss, 1.5ms postprocess per image\n",
      "Results saved to \u001b[1mruns/detect/val\u001b[0m\n",
      "Overall Metrics:\n",
      "Average Precision: 0.8413\n",
      "Average Recall: 0.6882\n",
      "Average F1-Score: 0.7571\n",
      "mAP50: 0.7603\n",
      "mAP50-95: 0.4157\n"
     ]
    }
   ],
   "source": [
    "from ultralytics import YOLO\n",
    "import os\n",
    "import cv2\n",
    "\n",
    "# Đường dẫn thư mục chứa các ảnh và mô hình YOLOv8\n",
    "image_path = '/kaggle/input/test-bkai/private_test_imgs'\n",
    "model_path = '/kaggle/input/train-lai-step-1-vinhx-ver-1/pytorch/default/1/best (9).pt'\n",
    "\n",
    "# Load mô hình YOLOv8 từ đường dẫn\n",
    "model = YOLO(model_path)\n",
    "results = model.val(data='/kaggle/working/data_BKAI.yaml', imgsz=640)  # Đảm bảo rằng file data.yaml đúng với cấu trúc dữ liệu của bạn\n",
    "\n",
    "# Lấy các chỉ số từ kết quả\n",
    "precision = results.results_dict['metrics/precision(B)']\n",
    "recall = results.results_dict['metrics/recall(B)']\n",
    "mAP50 = results.results_dict['metrics/mAP50(B)']\n",
    "mAP50_95 = results.results_dict['metrics/mAP50-95(B)']\n",
    "\n",
    "# Tính F1-Score\n",
    "f1_score = 2 * (precision * recall) / (precision + recall) if (precision + recall) != 0 else 0\n",
    "\n",
    "# Hiển thị các chỉ số\n",
    "print(\"Overall Metrics:\")\n",
    "print(f\"Average Precision: {precision:.4f}\")\n",
    "print(f\"Average Recall: {recall:.4f}\")\n",
    "print(f\"Average F1-Score: {f1_score:.4f}\")\n",
    "print(f\"mAP50: {mAP50:.4f}\")\n",
    "print(f\"mAP50-95: {mAP50_95:.4f}\")"
   ]
  },
  {
   "cell_type": "code",
   "execution_count": 16,
   "id": "9d4e885c",
   "metadata": {
    "execution": {
     "iopub.execute_input": "2025-01-05T02:49:12.641574Z",
     "iopub.status.busy": "2025-01-05T02:49:12.641054Z",
     "iopub.status.idle": "2025-01-05T02:49:27.866631Z",
     "shell.execute_reply": "2025-01-05T02:49:27.865584Z"
    },
    "papermill": {
     "duration": 15.238075,
     "end_time": "2025-01-05T02:49:27.868297",
     "exception": false,
     "start_time": "2025-01-05T02:49:12.630222",
     "status": "completed"
    },
    "tags": []
   },
   "outputs": [
    {
     "name": "stdout",
     "output_type": "stream",
     "text": [
      "Ultralytics 8.3.57 🚀 Python-3.10.12 torch-2.4.1+cu121 CUDA:0 (Tesla P100-PCIE-16GB, 16269MiB)\n"
     ]
    },
    {
     "name": "stderr",
     "output_type": "stream",
     "text": [
      "\u001b[34m\u001b[1mval: \u001b[0mScanning /kaggle/working/test_icdar2015/labels... 500 images, 0 backgrounds, 0 corrupt: 100%|██████████| 500/500 [00:00<00:00, 1110.45it/s]"
     ]
    },
    {
     "name": "stdout",
     "output_type": "stream",
     "text": [
      "\u001b[34m\u001b[1mval: \u001b[0mNew cache created: /kaggle/working/test_icdar2015/labels.cache\n"
     ]
    },
    {
     "name": "stderr",
     "output_type": "stream",
     "text": [
      "\n",
      "                 Class     Images  Instances      Box(P          R      mAP50  mAP50-95): 100%|██████████| 32/32 [00:11<00:00,  2.80it/s]\n"
     ]
    },
    {
     "name": "stdout",
     "output_type": "stream",
     "text": [
      "                   all        500       5230      0.685      0.525      0.589      0.318\n",
      "Speed: 0.5ms preprocess, 16.1ms inference, 0.0ms loss, 1.9ms postprocess per image\n",
      "Results saved to \u001b[1mruns/detect/val2\u001b[0m\n",
      "Overall Metrics:\n",
      "Average Precision: 0.6851\n",
      "Average Recall: 0.5252\n",
      "Average F1-Score: 0.5946\n",
      "mAP50: 0.5894\n",
      "mAP50-95: 0.3185\n"
     ]
    }
   ],
   "source": [
    "results = model.val(data='/kaggle/working/data_Icdar2015.yaml', imgsz=640)  # Đảm bảo rằng file data.yaml đúng với cấu trúc dữ liệu của bạn\n",
    "\n",
    "# Lấy các chỉ số từ kết quả\n",
    "precision = results.results_dict['metrics/precision(B)']\n",
    "recall = results.results_dict['metrics/recall(B)']\n",
    "mAP50 = results.results_dict['metrics/mAP50(B)']\n",
    "mAP50_95 = results.results_dict['metrics/mAP50-95(B)']\n",
    "\n",
    "# Tính F1-Score\n",
    "f1_score = 2 * (precision * recall) / (precision + recall) if (precision + recall) != 0 else 0\n",
    "\n",
    "# Hiển thị các chỉ số\n",
    "print(\"Overall Metrics:\")\n",
    "print(f\"Average Precision: {precision:.4f}\")\n",
    "print(f\"Average Recall: {recall:.4f}\")\n",
    "print(f\"Average F1-Score: {f1_score:.4f}\")\n",
    "print(f\"mAP50: {mAP50:.4f}\")\n",
    "print(f\"mAP50-95: {mAP50_95:.4f}\")"
   ]
  },
  {
   "cell_type": "code",
   "execution_count": 17,
   "id": "59cf2272",
   "metadata": {
    "execution": {
     "iopub.execute_input": "2025-01-05T02:49:27.895294Z",
     "iopub.status.busy": "2025-01-05T02:49:27.894968Z",
     "iopub.status.idle": "2025-01-05T02:49:40.077801Z",
     "shell.execute_reply": "2025-01-05T02:49:40.076784Z"
    },
    "papermill": {
     "duration": 12.197552,
     "end_time": "2025-01-05T02:49:40.079203",
     "exception": false,
     "start_time": "2025-01-05T02:49:27.881651",
     "status": "completed"
    },
    "tags": []
   },
   "outputs": [
    {
     "name": "stdout",
     "output_type": "stream",
     "text": [
      "Ultralytics 8.3.57 🚀 Python-3.10.12 torch-2.4.1+cu121 CUDA:0 (Tesla P100-PCIE-16GB, 16269MiB)\n"
     ]
    },
    {
     "name": "stderr",
     "output_type": "stream",
     "text": [
      "\u001b[34m\u001b[1mval: \u001b[0mScanning /kaggle/working/test_total/labels... 300 images, 0 backgrounds, 0 corrupt: 100%|██████████| 300/300 [00:00<00:00, 1173.12it/s]"
     ]
    },
    {
     "name": "stdout",
     "output_type": "stream",
     "text": [
      "\u001b[34m\u001b[1mval: \u001b[0mNew cache created: /kaggle/working/test_total/labels.cache\n"
     ]
    },
    {
     "name": "stderr",
     "output_type": "stream",
     "text": [
      "\n",
      "                 Class     Images  Instances      Box(P          R      mAP50  mAP50-95): 100%|██████████| 19/19 [00:09<00:00,  2.09it/s]\n"
     ]
    },
    {
     "name": "stdout",
     "output_type": "stream",
     "text": [
      "                   all        300       2540       0.82      0.734      0.811      0.542\n",
      "Speed: 0.8ms preprocess, 21.2ms inference, 0.0ms loss, 3.2ms postprocess per image\n",
      "Results saved to \u001b[1mruns/detect/val3\u001b[0m\n",
      "Overall Metrics:\n",
      "Average Precision: 0.8201\n",
      "Average Recall: 0.7340\n",
      "Average F1-Score: 0.7746\n",
      "mAP50: 0.8106\n",
      "mAP50-95: 0.5421\n"
     ]
    }
   ],
   "source": [
    "results = model.val(data='/kaggle/working/data_Total.yaml', imgsz=640)  # Đảm bảo rằng file data.yaml đúng với cấu trúc dữ liệu của bạn\n",
    "\n",
    "# Lấy các chỉ số từ kết quả\n",
    "precision = results.results_dict['metrics/precision(B)']\n",
    "recall = results.results_dict['metrics/recall(B)']\n",
    "mAP50 = results.results_dict['metrics/mAP50(B)']\n",
    "mAP50_95 = results.results_dict['metrics/mAP50-95(B)']\n",
    "\n",
    "# Tính F1-Score\n",
    "f1_score = 2 * (precision * recall) / (precision + recall) if (precision + recall) != 0 else 0\n",
    "\n",
    "# Hiển thị các chỉ số\n",
    "print(\"Overall Metrics:\")\n",
    "print(f\"Average Precision: {precision:.4f}\")\n",
    "print(f\"Average Recall: {recall:.4f}\")\n",
    "print(f\"Average F1-Score: {f1_score:.4f}\")\n",
    "print(f\"mAP50: {mAP50:.4f}\")\n",
    "print(f\"mAP50-95: {mAP50_95:.4f}\")"
   ]
  },
  {
   "cell_type": "markdown",
   "id": "c345c314",
   "metadata": {
    "papermill": {
     "duration": 0.013133,
     "end_time": "2025-01-05T02:49:40.106529",
     "exception": false,
     "start_time": "2025-01-05T02:49:40.093396",
     "status": "completed"
    },
    "tags": []
   },
   "source": [
    "# Train lai - Step 1 - SGD ver 2\n",
    "\n"
   ]
  },
  {
   "cell_type": "code",
   "execution_count": 18,
   "id": "5d0fcaa9",
   "metadata": {
    "execution": {
     "iopub.execute_input": "2025-01-05T02:49:40.135830Z",
     "iopub.status.busy": "2025-01-05T02:49:40.135458Z",
     "iopub.status.idle": "2025-01-05T02:50:12.811828Z",
     "shell.execute_reply": "2025-01-05T02:50:12.810615Z"
    },
    "papermill": {
     "duration": 32.693117,
     "end_time": "2025-01-05T02:50:12.813453",
     "exception": false,
     "start_time": "2025-01-05T02:49:40.120336",
     "status": "completed"
    },
    "tags": []
   },
   "outputs": [
    {
     "name": "stdout",
     "output_type": "stream",
     "text": [
      "Ultralytics 8.3.57 🚀 Python-3.10.12 torch-2.4.1+cu121 CUDA:0 (Tesla P100-PCIE-16GB, 16269MiB)\n",
      "Model summary (fused): 268 layers, 68,124,531 parameters, 0 gradients, 257.4 GFLOPs\n"
     ]
    },
    {
     "name": "stderr",
     "output_type": "stream",
     "text": [
      "\u001b[34m\u001b[1mval: \u001b[0mScanning /kaggle/working/test/labels.cache... 300 images, 0 backgrounds, 1 corrupt: 100%|██████████| 300/300 [00:00<?, ?it/s]"
     ]
    },
    {
     "name": "stdout",
     "output_type": "stream",
     "text": [
      "\u001b[34m\u001b[1mval: \u001b[0mWARNING ⚠️ /kaggle/working/test/images/img_238.jpg: ignoring corrupt image/label: non-normalized or out of bounds coordinates [     1.1983]\n"
     ]
    },
    {
     "name": "stderr",
     "output_type": "stream",
     "text": [
      "\n",
      "                 Class     Images  Instances      Box(P          R      mAP50  mAP50-95): 100%|██████████| 19/19 [00:06<00:00,  2.98it/s]\n"
     ]
    },
    {
     "name": "stdout",
     "output_type": "stream",
     "text": [
      "                   all        299        866       0.88      0.693      0.787      0.452\n",
      "Speed: 0.5ms preprocess, 16.7ms inference, 0.0ms loss, 0.7ms postprocess per image\n",
      "Results saved to \u001b[1mruns/detect/val4\u001b[0m\n",
      "Overall Metrics:\n",
      "Average Precision: 0.8797\n",
      "Average Recall: 0.6928\n",
      "Average F1-Score: 0.7752\n",
      "mAP50: 0.7866\n",
      "mAP50-95: 0.4517\n"
     ]
    }
   ],
   "source": [
    "from ultralytics import YOLO\n",
    "import os\n",
    "import cv2\n",
    "\n",
    "# Đường dẫn thư mục chứa các ảnh và mô hình YOLOv8\n",
    "image_path = '/kaggle/input/test-bkai/private_test_imgs'\n",
    "model_path = '/kaggle/input/train-lai-step-1-vinhx-ver-2/pytorch/default/1/best.pt'\n",
    "\n",
    "# Load mô hình YOLOv8 từ đường dẫn\n",
    "model = YOLO(model_path)\n",
    "results = model.val(data='/kaggle/working/data_BKAI.yaml', imgsz=640)  # Đảm bảo rằng file data.yaml đúng với cấu trúc dữ liệu của bạn\n",
    "\n",
    "# Lấy các chỉ số từ kết quả\n",
    "precision = results.results_dict['metrics/precision(B)']\n",
    "recall = results.results_dict['metrics/recall(B)']\n",
    "mAP50 = results.results_dict['metrics/mAP50(B)']\n",
    "mAP50_95 = results.results_dict['metrics/mAP50-95(B)']\n",
    "\n",
    "# Tính F1-Score\n",
    "f1_score = 2 * (precision * recall) / (precision + recall) if (precision + recall) != 0 else 0\n",
    "\n",
    "# Hiển thị các chỉ số\n",
    "print(\"Overall Metrics:\")\n",
    "print(f\"Average Precision: {precision:.4f}\")\n",
    "print(f\"Average Recall: {recall:.4f}\")\n",
    "print(f\"Average F1-Score: {f1_score:.4f}\")\n",
    "print(f\"mAP50: {mAP50:.4f}\")\n",
    "print(f\"mAP50-95: {mAP50_95:.4f}\")"
   ]
  },
  {
   "cell_type": "code",
   "execution_count": 19,
   "id": "649bb11f",
   "metadata": {
    "execution": {
     "iopub.execute_input": "2025-01-05T02:50:12.845020Z",
     "iopub.status.busy": "2025-01-05T02:50:12.844712Z",
     "iopub.status.idle": "2025-01-05T02:50:39.733362Z",
     "shell.execute_reply": "2025-01-05T02:50:39.732408Z"
    },
    "papermill": {
     "duration": 26.906179,
     "end_time": "2025-01-05T02:50:39.734796",
     "exception": false,
     "start_time": "2025-01-05T02:50:12.828617",
     "status": "completed"
    },
    "tags": []
   },
   "outputs": [
    {
     "name": "stdout",
     "output_type": "stream",
     "text": [
      "Ultralytics 8.3.57 🚀 Python-3.10.12 torch-2.4.1+cu121 CUDA:0 (Tesla P100-PCIE-16GB, 16269MiB)\n"
     ]
    },
    {
     "name": "stderr",
     "output_type": "stream",
     "text": [
      "\u001b[34m\u001b[1mval: \u001b[0mScanning /kaggle/working/test_icdar2015/labels.cache... 500 images, 0 backgrounds, 0 corrupt: 100%|██████████| 500/500 [00:00<?, ?it/s]\n",
      "                 Class     Images  Instances      Box(P          R      mAP50  mAP50-95): 100%|██████████| 32/32 [00:11<00:00,  2.81it/s]\n"
     ]
    },
    {
     "name": "stdout",
     "output_type": "stream",
     "text": [
      "                   all        500       5230      0.685      0.551      0.613      0.352\n",
      "Speed: 0.4ms preprocess, 15.6ms inference, 0.1ms loss, 2.3ms postprocess per image\n",
      "Results saved to \u001b[1mruns/detect/val5\u001b[0m\n",
      "Overall Metrics:\n",
      "Average Precision: 0.6849\n",
      "Average Recall: 0.5511\n",
      "Average F1-Score: 0.6107\n",
      "mAP50: 0.6128\n",
      "mAP50-95: 0.3518\n"
     ]
    }
   ],
   "source": [
    "results = model.val(data='/kaggle/working/data_Icdar2015.yaml', imgsz=640)  # Đảm bảo rằng file data.yaml đúng với cấu trúc dữ liệu của bạn\n",
    "\n",
    "# Lấy các chỉ số từ kết quả\n",
    "precision = results.results_dict['metrics/precision(B)']\n",
    "recall = results.results_dict['metrics/recall(B)']\n",
    "mAP50 = results.results_dict['metrics/mAP50(B)']\n",
    "mAP50_95 = results.results_dict['metrics/mAP50-95(B)']\n",
    "\n",
    "# Tính F1-Score\n",
    "f1_score = 2 * (precision * recall) / (precision + recall) if (precision + recall) != 0 else 0\n",
    "\n",
    "# Hiển thị các chỉ số\n",
    "print(\"Overall Metrics:\")\n",
    "print(f\"Average Precision: {precision:.4f}\")\n",
    "print(f\"Average Recall: {recall:.4f}\")\n",
    "print(f\"Average F1-Score: {f1_score:.4f}\")\n",
    "print(f\"mAP50: {mAP50:.4f}\")\n",
    "print(f\"mAP50-95: {mAP50_95:.4f}\")"
   ]
  },
  {
   "cell_type": "code",
   "execution_count": 20,
   "id": "1f9c55cd",
   "metadata": {
    "execution": {
     "iopub.execute_input": "2025-01-05T02:50:39.770719Z",
     "iopub.status.busy": "2025-01-05T02:50:39.770343Z",
     "iopub.status.idle": "2025-01-05T02:50:51.817554Z",
     "shell.execute_reply": "2025-01-05T02:50:51.816577Z"
    },
    "papermill": {
     "duration": 12.066646,
     "end_time": "2025-01-05T02:50:51.818925",
     "exception": false,
     "start_time": "2025-01-05T02:50:39.752279",
     "status": "completed"
    },
    "tags": []
   },
   "outputs": [
    {
     "name": "stdout",
     "output_type": "stream",
     "text": [
      "Ultralytics 8.3.57 🚀 Python-3.10.12 torch-2.4.1+cu121 CUDA:0 (Tesla P100-PCIE-16GB, 16269MiB)\n"
     ]
    },
    {
     "name": "stderr",
     "output_type": "stream",
     "text": [
      "\u001b[34m\u001b[1mval: \u001b[0mScanning /kaggle/working/test_total/labels.cache... 300 images, 0 backgrounds, 0 corrupt: 100%|██████████| 300/300 [00:00<?, ?it/s]\n",
      "                 Class     Images  Instances      Box(P          R      mAP50  mAP50-95): 100%|██████████| 19/19 [00:08<00:00,  2.15it/s]\n"
     ]
    },
    {
     "name": "stdout",
     "output_type": "stream",
     "text": [
      "                   all        300       2540      0.819      0.762      0.816      0.565\n",
      "Speed: 1.0ms preprocess, 21.9ms inference, 0.0ms loss, 1.6ms postprocess per image\n",
      "Results saved to \u001b[1mruns/detect/val6\u001b[0m\n",
      "Overall Metrics:\n",
      "Average Precision: 0.8191\n",
      "Average Recall: 0.7618\n",
      "Average F1-Score: 0.7894\n",
      "mAP50: 0.8160\n",
      "mAP50-95: 0.5649\n"
     ]
    }
   ],
   "source": [
    "results = model.val(data='/kaggle/working/data_Total.yaml', imgsz=640)  # Đảm bảo rằng file data.yaml đúng với cấu trúc dữ liệu của bạn\n",
    "\n",
    "# Lấy các chỉ số từ kết quả\n",
    "precision = results.results_dict['metrics/precision(B)']\n",
    "recall = results.results_dict['metrics/recall(B)']\n",
    "mAP50 = results.results_dict['metrics/mAP50(B)']\n",
    "mAP50_95 = results.results_dict['metrics/mAP50-95(B)']\n",
    "\n",
    "# Tính F1-Score\n",
    "f1_score = 2 * (precision * recall) / (precision + recall) if (precision + recall) != 0 else 0\n",
    "\n",
    "# Hiển thị các chỉ số\n",
    "print(\"Overall Metrics:\")\n",
    "print(f\"Average Precision: {precision:.4f}\")\n",
    "print(f\"Average Recall: {recall:.4f}\")\n",
    "print(f\"Average F1-Score: {f1_score:.4f}\")\n",
    "print(f\"mAP50: {mAP50:.4f}\")\n",
    "print(f\"mAP50-95: {mAP50_95:.4f}\")"
   ]
  },
  {
   "cell_type": "markdown",
   "id": "65ea6dcb",
   "metadata": {
    "papermill": {
     "duration": 0.018147,
     "end_time": "2025-01-05T02:50:51.856088",
     "exception": false,
     "start_time": "2025-01-05T02:50:51.837941",
     "status": "completed"
    },
    "tags": []
   },
   "source": [
    "# Train lai - Step 1 - SGD ver 3\n"
   ]
  },
  {
   "cell_type": "code",
   "execution_count": 21,
   "id": "3aa32520",
   "metadata": {
    "execution": {
     "iopub.execute_input": "2025-01-05T02:50:51.894316Z",
     "iopub.status.busy": "2025-01-05T02:50:51.893976Z",
     "iopub.status.idle": "2025-01-05T02:51:04.457555Z",
     "shell.execute_reply": "2025-01-05T02:51:04.456597Z"
    },
    "papermill": {
     "duration": 12.584829,
     "end_time": "2025-01-05T02:51:04.459069",
     "exception": false,
     "start_time": "2025-01-05T02:50:51.874240",
     "status": "completed"
    },
    "tags": []
   },
   "outputs": [
    {
     "name": "stdout",
     "output_type": "stream",
     "text": [
      "Ultralytics 8.3.57 🚀 Python-3.10.12 torch-2.4.1+cu121 CUDA:0 (Tesla P100-PCIE-16GB, 16269MiB)\n",
      "Model summary (fused): 268 layers, 68,124,531 parameters, 0 gradients, 257.4 GFLOPs\n"
     ]
    },
    {
     "name": "stderr",
     "output_type": "stream",
     "text": [
      "\u001b[34m\u001b[1mval: \u001b[0mScanning /kaggle/working/test/labels.cache... 300 images, 0 backgrounds, 1 corrupt: 100%|██████████| 300/300 [00:00<?, ?it/s]"
     ]
    },
    {
     "name": "stdout",
     "output_type": "stream",
     "text": [
      "\u001b[34m\u001b[1mval: \u001b[0mWARNING ⚠️ /kaggle/working/test/images/img_238.jpg: ignoring corrupt image/label: non-normalized or out of bounds coordinates [     1.1983]\n"
     ]
    },
    {
     "name": "stderr",
     "output_type": "stream",
     "text": [
      "\n",
      "                 Class     Images  Instances      Box(P          R      mAP50  mAP50-95): 100%|██████████| 19/19 [00:06<00:00,  3.02it/s]\n"
     ]
    },
    {
     "name": "stdout",
     "output_type": "stream",
     "text": [
      "                   all        299        866      0.834      0.711      0.799      0.431\n",
      "Speed: 0.7ms preprocess, 16.3ms inference, 0.0ms loss, 1.0ms postprocess per image\n",
      "Results saved to \u001b[1mruns/detect/val7\u001b[0m\n",
      "Overall Metrics:\n",
      "Average Precision: 0.8335\n",
      "Average Recall: 0.7110\n",
      "Average F1-Score: 0.7674\n",
      "mAP50: 0.7995\n",
      "mAP50-95: 0.4307\n"
     ]
    }
   ],
   "source": [
    "from ultralytics import YOLO\n",
    "import os\n",
    "import cv2\n",
    "\n",
    "# Đường dẫn thư mục chứa các ảnh và mô hình YOLOv8\n",
    "image_path = '/kaggle/input/test-bkai/private_test_imgs'\n",
    "model_path = '/kaggle/input/step-1-vinhx-ver-3/pytorch/default/1/best.pt'\n",
    "\n",
    "# Load mô hình YOLOv8 từ đường dẫn\n",
    "model = YOLO(model_path)\n",
    "results = model.val(data='/kaggle/working/data_BKAI.yaml', imgsz=640)  # Đảm bảo rằng file data.yaml đúng với cấu trúc dữ liệu của bạn\n",
    "\n",
    "# Lấy các chỉ số từ kết quả\n",
    "precision = results.results_dict['metrics/precision(B)']\n",
    "recall = results.results_dict['metrics/recall(B)']\n",
    "mAP50 = results.results_dict['metrics/mAP50(B)']\n",
    "mAP50_95 = results.results_dict['metrics/mAP50-95(B)']\n",
    "\n",
    "# Tính F1-Score\n",
    "f1_score = 2 * (precision * recall) / (precision + recall) if (precision + recall) != 0 else 0\n",
    "\n",
    "# Hiển thị các chỉ số\n",
    "print(\"Overall Metrics:\")\n",
    "print(f\"Average Precision: {precision:.4f}\")\n",
    "print(f\"Average Recall: {recall:.4f}\")\n",
    "print(f\"Average F1-Score: {f1_score:.4f}\")\n",
    "print(f\"mAP50: {mAP50:.4f}\")\n",
    "print(f\"mAP50-95: {mAP50_95:.4f}\")"
   ]
  },
  {
   "cell_type": "code",
   "execution_count": 22,
   "id": "794d7278",
   "metadata": {
    "execution": {
     "iopub.execute_input": "2025-01-05T02:51:04.499859Z",
     "iopub.status.busy": "2025-01-05T02:51:04.499494Z",
     "iopub.status.idle": "2025-01-05T02:51:19.565223Z",
     "shell.execute_reply": "2025-01-05T02:51:19.564094Z"
    },
    "papermill": {
     "duration": 15.088008,
     "end_time": "2025-01-05T02:51:19.566686",
     "exception": false,
     "start_time": "2025-01-05T02:51:04.478678",
     "status": "completed"
    },
    "tags": []
   },
   "outputs": [
    {
     "name": "stdout",
     "output_type": "stream",
     "text": [
      "Ultralytics 8.3.57 🚀 Python-3.10.12 torch-2.4.1+cu121 CUDA:0 (Tesla P100-PCIE-16GB, 16269MiB)\n"
     ]
    },
    {
     "name": "stderr",
     "output_type": "stream",
     "text": [
      "\u001b[34m\u001b[1mval: \u001b[0mScanning /kaggle/working/test_icdar2015/labels.cache... 500 images, 0 backgrounds, 0 corrupt: 100%|██████████| 500/500 [00:00<?, ?it/s]\n",
      "                 Class     Images  Instances      Box(P          R      mAP50  mAP50-95): 100%|██████████| 32/32 [00:11<00:00,  2.76it/s]\n"
     ]
    },
    {
     "name": "stdout",
     "output_type": "stream",
     "text": [
      "                   all        500       5230      0.682      0.559       0.61      0.334\n",
      "Speed: 0.5ms preprocess, 15.8ms inference, 0.0ms loss, 2.2ms postprocess per image\n",
      "Results saved to \u001b[1mruns/detect/val8\u001b[0m\n",
      "Overall Metrics:\n",
      "Average Precision: 0.6816\n",
      "Average Recall: 0.5591\n",
      "Average F1-Score: 0.6143\n",
      "mAP50: 0.6104\n",
      "mAP50-95: 0.3345\n"
     ]
    }
   ],
   "source": [
    "results = model.val(data='/kaggle/working/data_Icdar2015.yaml', imgsz=640)  # Đảm bảo rằng file data.yaml đúng với cấu trúc dữ liệu của bạn\n",
    "\n",
    "# Lấy các chỉ số từ kết quả\n",
    "precision = results.results_dict['metrics/precision(B)']\n",
    "recall = results.results_dict['metrics/recall(B)']\n",
    "mAP50 = results.results_dict['metrics/mAP50(B)']\n",
    "mAP50_95 = results.results_dict['metrics/mAP50-95(B)']\n",
    "\n",
    "# Tính F1-Score\n",
    "f1_score = 2 * (precision * recall) / (precision + recall) if (precision + recall) != 0 else 0\n",
    "\n",
    "# Hiển thị các chỉ số\n",
    "print(\"Overall Metrics:\")\n",
    "print(f\"Average Precision: {precision:.4f}\")\n",
    "print(f\"Average Recall: {recall:.4f}\")\n",
    "print(f\"Average F1-Score: {f1_score:.4f}\")\n",
    "print(f\"mAP50: {mAP50:.4f}\")\n",
    "print(f\"mAP50-95: {mAP50_95:.4f}\")"
   ]
  },
  {
   "cell_type": "code",
   "execution_count": 23,
   "id": "251c5d48",
   "metadata": {
    "execution": {
     "iopub.execute_input": "2025-01-05T02:51:19.612448Z",
     "iopub.status.busy": "2025-01-05T02:51:19.612012Z",
     "iopub.status.idle": "2025-01-05T02:53:12.753157Z",
     "shell.execute_reply": "2025-01-05T02:53:12.752163Z"
    },
    "papermill": {
     "duration": 113.165782,
     "end_time": "2025-01-05T02:53:12.754549",
     "exception": false,
     "start_time": "2025-01-05T02:51:19.588767",
     "status": "completed"
    },
    "tags": []
   },
   "outputs": [
    {
     "name": "stdout",
     "output_type": "stream",
     "text": [
      "Ultralytics 8.3.57 🚀 Python-3.10.12 torch-2.4.1+cu121 CUDA:0 (Tesla P100-PCIE-16GB, 16269MiB)\n"
     ]
    },
    {
     "name": "stderr",
     "output_type": "stream",
     "text": [
      "\u001b[34m\u001b[1mval: \u001b[0mScanning /kaggle/working/test_total/labels.cache... 300 images, 0 backgrounds, 0 corrupt: 100%|██████████| 300/300 [00:00<?, ?it/s]\n",
      "                 Class     Images  Instances      Box(P          R      mAP50  mAP50-95): 100%|██████████| 19/19 [00:09<00:00,  2.08it/s]\n"
     ]
    },
    {
     "name": "stdout",
     "output_type": "stream",
     "text": [
      "                   all        300       2540       0.82      0.752      0.816      0.555\n",
      "Speed: 0.8ms preprocess, 21.4ms inference, 0.0ms loss, 3.3ms postprocess per image\n",
      "Results saved to \u001b[1mruns/detect/val9\u001b[0m\n",
      "Overall Metrics:\n",
      "Average Precision: 0.8197\n",
      "Average Recall: 0.7519\n",
      "Average F1-Score: 0.7844\n",
      "mAP50: 0.8157\n",
      "mAP50-95: 0.5546\n"
     ]
    }
   ],
   "source": [
    "results = model.val(data='/kaggle/working/data_Total.yaml', imgsz=640)  # Đảm bảo rằng file data.yaml đúng với cấu trúc dữ liệu của bạn\n",
    "\n",
    "# Lấy các chỉ số từ kết quả\n",
    "precision = results.results_dict['metrics/precision(B)']\n",
    "recall = results.results_dict['metrics/recall(B)']\n",
    "mAP50 = results.results_dict['metrics/mAP50(B)']\n",
    "mAP50_95 = results.results_dict['metrics/mAP50-95(B)']\n",
    "\n",
    "# Tính F1-Score\n",
    "f1_score = 2 * (precision * recall) / (precision + recall) if (precision + recall) != 0 else 0\n",
    "\n",
    "# Hiển thị các chỉ số\n",
    "print(\"Overall Metrics:\")\n",
    "print(f\"Average Precision: {precision:.4f}\")\n",
    "print(f\"Average Recall: {recall:.4f}\")\n",
    "print(f\"Average F1-Score: {f1_score:.4f}\")\n",
    "print(f\"mAP50: {mAP50:.4f}\")\n",
    "print(f\"mAP50-95: {mAP50_95:.4f}\")"
   ]
  },
  {
   "cell_type": "markdown",
   "id": "a5d19d80",
   "metadata": {
    "papermill": {
     "duration": 0.023735,
     "end_time": "2025-01-05T02:53:12.801882",
     "exception": false,
     "start_time": "2025-01-05T02:53:12.778147",
     "status": "completed"
    },
    "tags": []
   },
   "source": [
    "# Train lai - Step 1 - SGD ver 4\n"
   ]
  },
  {
   "cell_type": "code",
   "execution_count": 24,
   "id": "458bf234",
   "metadata": {
    "execution": {
     "iopub.execute_input": "2025-01-05T02:53:12.851349Z",
     "iopub.status.busy": "2025-01-05T02:53:12.851008Z",
     "iopub.status.idle": "2025-01-05T02:53:25.436840Z",
     "shell.execute_reply": "2025-01-05T02:53:25.435137Z"
    },
    "papermill": {
     "duration": 12.613358,
     "end_time": "2025-01-05T02:53:25.439197",
     "exception": false,
     "start_time": "2025-01-05T02:53:12.825839",
     "status": "completed"
    },
    "tags": []
   },
   "outputs": [
    {
     "name": "stdout",
     "output_type": "stream",
     "text": [
      "Ultralytics 8.3.57 🚀 Python-3.10.12 torch-2.4.1+cu121 CUDA:0 (Tesla P100-PCIE-16GB, 16269MiB)\n",
      "Model summary (fused): 268 layers, 68,124,531 parameters, 0 gradients, 257.4 GFLOPs\n"
     ]
    },
    {
     "name": "stderr",
     "output_type": "stream",
     "text": [
      "\u001b[34m\u001b[1mval: \u001b[0mScanning /kaggle/working/test/labels.cache... 300 images, 0 backgrounds, 1 corrupt: 100%|██████████| 300/300 [00:00<?, ?it/s]"
     ]
    },
    {
     "name": "stdout",
     "output_type": "stream",
     "text": [
      "\u001b[34m\u001b[1mval: \u001b[0mWARNING ⚠️ /kaggle/working/test/images/img_238.jpg: ignoring corrupt image/label: non-normalized or out of bounds coordinates [     1.1983]\n"
     ]
    },
    {
     "name": "stderr",
     "output_type": "stream",
     "text": [
      "\n",
      "                 Class     Images  Instances      Box(P          R      mAP50  mAP50-95): 100%|██████████| 19/19 [00:06<00:00,  3.05it/s]\n"
     ]
    },
    {
     "name": "stdout",
     "output_type": "stream",
     "text": [
      "                   all        299        866      0.868      0.706      0.792      0.419\n",
      "Speed: 0.4ms preprocess, 15.6ms inference, 0.0ms loss, 1.7ms postprocess per image\n",
      "Results saved to \u001b[1mruns/detect/val10\u001b[0m\n",
      "Overall Metrics:\n",
      "Average Precision: 0.8679\n",
      "Average Recall: 0.7056\n",
      "Average F1-Score: 0.7784\n",
      "mAP50: 0.7922\n",
      "mAP50-95: 0.4193\n"
     ]
    }
   ],
   "source": [
    "from ultralytics import YOLO\n",
    "import os\n",
    "import cv2\n",
    "\n",
    "# Đường dẫn thư mục chứa các ảnh và mô hình YOLOv8\n",
    "image_path = '/kaggle/input/test-bkai/private_test_imgs'\n",
    "model_path = '/kaggle/input/train-lai-step-1-vinhx-ver-4/pytorch/default/1/best (1).pt'\n",
    "\n",
    "# Load mô hình YOLOv8 từ đường dẫn\n",
    "model = YOLO(model_path)\n",
    "results = model.val(data='/kaggle/working/data_BKAI.yaml', imgsz=640)  # Đảm bảo rằng file data.yaml đúng với cấu trúc dữ liệu của bạn\n",
    "\n",
    "# Lấy các chỉ số từ kết quả\n",
    "precision = results.results_dict['metrics/precision(B)']\n",
    "recall = results.results_dict['metrics/recall(B)']\n",
    "mAP50 = results.results_dict['metrics/mAP50(B)']\n",
    "mAP50_95 = results.results_dict['metrics/mAP50-95(B)']\n",
    "\n",
    "# Tính F1-Score\n",
    "f1_score = 2 * (precision * recall) / (precision + recall) if (precision + recall) != 0 else 0\n",
    "\n",
    "# Hiển thị các chỉ số\n",
    "print(\"Overall Metrics:\")\n",
    "print(f\"Average Precision: {precision:.4f}\")\n",
    "print(f\"Average Recall: {recall:.4f}\")\n",
    "print(f\"Average F1-Score: {f1_score:.4f}\")\n",
    "print(f\"mAP50: {mAP50:.4f}\")\n",
    "print(f\"mAP50-95: {mAP50_95:.4f}\")"
   ]
  },
  {
   "cell_type": "code",
   "execution_count": 25,
   "id": "0d46bd01",
   "metadata": {
    "execution": {
     "iopub.execute_input": "2025-01-05T02:53:25.513585Z",
     "iopub.status.busy": "2025-01-05T02:53:25.513163Z",
     "iopub.status.idle": "2025-01-05T02:53:40.328672Z",
     "shell.execute_reply": "2025-01-05T02:53:40.327234Z"
    },
    "papermill": {
     "duration": 14.849358,
     "end_time": "2025-01-05T02:53:40.330585",
     "exception": false,
     "start_time": "2025-01-05T02:53:25.481227",
     "status": "completed"
    },
    "tags": []
   },
   "outputs": [
    {
     "name": "stdout",
     "output_type": "stream",
     "text": [
      "Ultralytics 8.3.57 🚀 Python-3.10.12 torch-2.4.1+cu121 CUDA:0 (Tesla P100-PCIE-16GB, 16269MiB)\n"
     ]
    },
    {
     "name": "stderr",
     "output_type": "stream",
     "text": [
      "\u001b[34m\u001b[1mval: \u001b[0mScanning /kaggle/working/test_icdar2015/labels.cache... 500 images, 0 backgrounds, 0 corrupt: 100%|██████████| 500/500 [00:00<?, ?it/s]\n",
      "                 Class     Images  Instances      Box(P          R      mAP50  mAP50-95): 100%|██████████| 32/32 [00:11<00:00,  2.81it/s]\n"
     ]
    },
    {
     "name": "stdout",
     "output_type": "stream",
     "text": [
      "                   all        500       5230      0.689      0.543      0.598      0.327\n",
      "Speed: 0.4ms preprocess, 16.2ms inference, 0.0ms loss, 1.8ms postprocess per image\n",
      "Results saved to \u001b[1mruns/detect/val11\u001b[0m\n",
      "Overall Metrics:\n",
      "Average Precision: 0.6887\n",
      "Average Recall: 0.5427\n",
      "Average F1-Score: 0.6070\n",
      "mAP50: 0.5982\n",
      "mAP50-95: 0.3272\n"
     ]
    }
   ],
   "source": [
    "results = model.val(data='/kaggle/working/data_Icdar2015.yaml', imgsz=640)  # Đảm bảo rằng file data.yaml đúng với cấu trúc dữ liệu của bạn\n",
    "\n",
    "# Lấy các chỉ số từ kết quả\n",
    "precision = results.results_dict['metrics/precision(B)']\n",
    "recall = results.results_dict['metrics/recall(B)']\n",
    "mAP50 = results.results_dict['metrics/mAP50(B)']\n",
    "mAP50_95 = results.results_dict['metrics/mAP50-95(B)']\n",
    "\n",
    "# Tính F1-Score\n",
    "f1_score = 2 * (precision * recall) / (precision + recall) if (precision + recall) != 0 else 0\n",
    "\n",
    "# Hiển thị các chỉ số\n",
    "print(\"Overall Metrics:\")\n",
    "print(f\"Average Precision: {precision:.4f}\")\n",
    "print(f\"Average Recall: {recall:.4f}\")\n",
    "print(f\"Average F1-Score: {f1_score:.4f}\")\n",
    "print(f\"mAP50: {mAP50:.4f}\")\n",
    "print(f\"mAP50-95: {mAP50_95:.4f}\")"
   ]
  },
  {
   "cell_type": "code",
   "execution_count": 26,
   "id": "4b6480f9",
   "metadata": {
    "execution": {
     "iopub.execute_input": "2025-01-05T02:53:40.385355Z",
     "iopub.status.busy": "2025-01-05T02:53:40.384975Z",
     "iopub.status.idle": "2025-01-05T02:53:52.816300Z",
     "shell.execute_reply": "2025-01-05T02:53:52.815227Z"
    },
    "papermill": {
     "duration": 12.460856,
     "end_time": "2025-01-05T02:53:52.818096",
     "exception": false,
     "start_time": "2025-01-05T02:53:40.357240",
     "status": "completed"
    },
    "tags": []
   },
   "outputs": [
    {
     "name": "stdout",
     "output_type": "stream",
     "text": [
      "Ultralytics 8.3.57 🚀 Python-3.10.12 torch-2.4.1+cu121 CUDA:0 (Tesla P100-PCIE-16GB, 16269MiB)\n"
     ]
    },
    {
     "name": "stderr",
     "output_type": "stream",
     "text": [
      "\u001b[34m\u001b[1mval: \u001b[0mScanning /kaggle/working/test_total/labels.cache... 300 images, 0 backgrounds, 0 corrupt: 100%|██████████| 300/300 [00:00<?, ?it/s]\n",
      "                 Class     Images  Instances      Box(P          R      mAP50  mAP50-95): 100%|██████████| 19/19 [00:09<00:00,  2.08it/s]\n"
     ]
    },
    {
     "name": "stdout",
     "output_type": "stream",
     "text": [
      "                   all        300       2540      0.825      0.728      0.804       0.54\n",
      "Speed: 0.7ms preprocess, 20.2ms inference, 0.0ms loss, 3.3ms postprocess per image\n",
      "Results saved to \u001b[1mruns/detect/val12\u001b[0m\n",
      "Overall Metrics:\n",
      "Average Precision: 0.8250\n",
      "Average Recall: 0.7277\n",
      "Average F1-Score: 0.7733\n",
      "mAP50: 0.8043\n",
      "mAP50-95: 0.5399\n"
     ]
    }
   ],
   "source": [
    "results = model.val(data='/kaggle/working/data_Total.yaml', imgsz=640)  # Đảm bảo rằng file data.yaml đúng với cấu trúc dữ liệu của bạn\n",
    "\n",
    "# Lấy các chỉ số từ kết quả\n",
    "precision = results.results_dict['metrics/precision(B)']\n",
    "recall = results.results_dict['metrics/recall(B)']\n",
    "mAP50 = results.results_dict['metrics/mAP50(B)']\n",
    "mAP50_95 = results.results_dict['metrics/mAP50-95(B)']\n",
    "\n",
    "# Tính F1-Score\n",
    "f1_score = 2 * (precision * recall) / (precision + recall) if (precision + recall) != 0 else 0\n",
    "\n",
    "# Hiển thị các chỉ số\n",
    "print(\"Overall Metrics:\")\n",
    "print(f\"Average Precision: {precision:.4f}\")\n",
    "print(f\"Average Recall: {recall:.4f}\")\n",
    "print(f\"Average F1-Score: {f1_score:.4f}\")\n",
    "print(f\"mAP50: {mAP50:.4f}\")\n",
    "print(f\"mAP50-95: {mAP50_95:.4f}\")"
   ]
  },
  {
   "cell_type": "markdown",
   "id": "d696b6b7",
   "metadata": {
    "papermill": {
     "duration": 0.027947,
     "end_time": "2025-01-05T02:53:52.874762",
     "exception": false,
     "start_time": "2025-01-05T02:53:52.846815",
     "status": "completed"
    },
    "tags": []
   },
   "source": [
    "# Train lai - Step 1 - AdamW ver 1\n"
   ]
  },
  {
   "cell_type": "code",
   "execution_count": 27,
   "id": "2bcfabc9",
   "metadata": {
    "execution": {
     "iopub.execute_input": "2025-01-05T02:53:52.931836Z",
     "iopub.status.busy": "2025-01-05T02:53:52.931467Z",
     "iopub.status.idle": "2025-01-05T02:55:25.284111Z",
     "shell.execute_reply": "2025-01-05T02:55:25.283252Z"
    },
    "papermill": {
     "duration": 92.382905,
     "end_time": "2025-01-05T02:55:25.285490",
     "exception": false,
     "start_time": "2025-01-05T02:53:52.902585",
     "status": "completed"
    },
    "tags": []
   },
   "outputs": [
    {
     "name": "stdout",
     "output_type": "stream",
     "text": [
      "Ultralytics 8.3.57 🚀 Python-3.10.12 torch-2.4.1+cu121 CUDA:0 (Tesla P100-PCIE-16GB, 16269MiB)\n",
      "Model summary (fused): 268 layers, 68,124,531 parameters, 0 gradients, 257.4 GFLOPs\n"
     ]
    },
    {
     "name": "stderr",
     "output_type": "stream",
     "text": [
      "\u001b[34m\u001b[1mval: \u001b[0mScanning /kaggle/working/test/labels.cache... 300 images, 0 backgrounds, 1 corrupt: 100%|██████████| 300/300 [00:00<?, ?it/s]"
     ]
    },
    {
     "name": "stdout",
     "output_type": "stream",
     "text": [
      "\u001b[34m\u001b[1mval: \u001b[0mWARNING ⚠️ /kaggle/working/test/images/img_238.jpg: ignoring corrupt image/label: non-normalized or out of bounds coordinates [     1.1983]\n"
     ]
    },
    {
     "name": "stderr",
     "output_type": "stream",
     "text": [
      "\n",
      "                 Class     Images  Instances      Box(P          R      mAP50  mAP50-95): 100%|██████████| 19/19 [00:06<00:00,  3.09it/s]\n"
     ]
    },
    {
     "name": "stdout",
     "output_type": "stream",
     "text": [
      "                   all        299        866      0.788      0.594      0.677       0.33\n",
      "Speed: 0.8ms preprocess, 15.7ms inference, 0.0ms loss, 1.0ms postprocess per image\n",
      "Results saved to \u001b[1mruns/detect/val13\u001b[0m\n",
      "Overall Metrics:\n",
      "Average Precision: 0.7883\n",
      "Average Recall: 0.5935\n",
      "Average F1-Score: 0.6772\n",
      "mAP50: 0.6766\n",
      "mAP50-95: 0.3298\n"
     ]
    }
   ],
   "source": [
    "from ultralytics import YOLO\n",
    "import os\n",
    "import cv2\n",
    "\n",
    "# Đường dẫn thư mục chứa các ảnh và mô hình YOLOv8\n",
    "image_path = '/kaggle/input/test-bkai/private_test_imgs'\n",
    "model_path = '/kaggle/input/train-again-step-1-uit-ver-1/pytorch/default/1/best (9).pt'\n",
    "\n",
    "# Load mô hình YOLOv8 từ đường dẫn\n",
    "model = YOLO(model_path)\n",
    "results = model.val(data='/kaggle/working/data_BKAI.yaml', imgsz=640)  # Đảm bảo rằng file data.yaml đúng với cấu trúc dữ liệu của bạn\n",
    "\n",
    "# Lấy các chỉ số từ kết quả\n",
    "precision = results.results_dict['metrics/precision(B)']\n",
    "recall = results.results_dict['metrics/recall(B)']\n",
    "mAP50 = results.results_dict['metrics/mAP50(B)']\n",
    "mAP50_95 = results.results_dict['metrics/mAP50-95(B)']\n",
    "\n",
    "# Tính F1-Score\n",
    "f1_score = 2 * (precision * recall) / (precision + recall) if (precision + recall) != 0 else 0\n",
    "\n",
    "# Hiển thị các chỉ số\n",
    "print(\"Overall Metrics:\")\n",
    "print(f\"Average Precision: {precision:.4f}\")\n",
    "print(f\"Average Recall: {recall:.4f}\")\n",
    "print(f\"Average F1-Score: {f1_score:.4f}\")\n",
    "print(f\"mAP50: {mAP50:.4f}\")\n",
    "print(f\"mAP50-95: {mAP50_95:.4f}\")"
   ]
  },
  {
   "cell_type": "code",
   "execution_count": 28,
   "id": "963007ca",
   "metadata": {
    "execution": {
     "iopub.execute_input": "2025-01-05T02:55:25.406233Z",
     "iopub.status.busy": "2025-01-05T02:55:25.405732Z",
     "iopub.status.idle": "2025-01-05T02:55:40.421758Z",
     "shell.execute_reply": "2025-01-05T02:55:40.420678Z"
    },
    "papermill": {
     "duration": 15.056562,
     "end_time": "2025-01-05T02:55:40.423290",
     "exception": false,
     "start_time": "2025-01-05T02:55:25.366728",
     "status": "completed"
    },
    "tags": []
   },
   "outputs": [
    {
     "name": "stdout",
     "output_type": "stream",
     "text": [
      "Ultralytics 8.3.57 🚀 Python-3.10.12 torch-2.4.1+cu121 CUDA:0 (Tesla P100-PCIE-16GB, 16269MiB)\n"
     ]
    },
    {
     "name": "stderr",
     "output_type": "stream",
     "text": [
      "\u001b[34m\u001b[1mval: \u001b[0mScanning /kaggle/working/test_icdar2015/labels.cache... 500 images, 0 backgrounds, 0 corrupt: 100%|██████████| 500/500 [00:00<?, ?it/s]\n",
      "                 Class     Images  Instances      Box(P          R      mAP50  mAP50-95): 100%|██████████| 32/32 [00:11<00:00,  2.79it/s]\n"
     ]
    },
    {
     "name": "stdout",
     "output_type": "stream",
     "text": [
      "                   all        500       5230      0.701      0.533      0.592      0.321\n",
      "Speed: 0.7ms preprocess, 16.8ms inference, 0.0ms loss, 1.2ms postprocess per image\n",
      "Results saved to \u001b[1mruns/detect/val14\u001b[0m\n",
      "Overall Metrics:\n",
      "Average Precision: 0.7005\n",
      "Average Recall: 0.5327\n",
      "Average F1-Score: 0.6052\n",
      "mAP50: 0.5918\n",
      "mAP50-95: 0.3213\n"
     ]
    }
   ],
   "source": [
    "results = model.val(data='/kaggle/working/data_Icdar2015.yaml', imgsz=640)  # Đảm bảo rằng file data.yaml đúng với cấu trúc dữ liệu của bạn\n",
    "\n",
    "# Lấy các chỉ số từ kết quả\n",
    "precision = results.results_dict['metrics/precision(B)']\n",
    "recall = results.results_dict['metrics/recall(B)']\n",
    "mAP50 = results.results_dict['metrics/mAP50(B)']\n",
    "mAP50_95 = results.results_dict['metrics/mAP50-95(B)']\n",
    "\n",
    "# Tính F1-Score\n",
    "f1_score = 2 * (precision * recall) / (precision + recall) if (precision + recall) != 0 else 0\n",
    "\n",
    "# Hiển thị các chỉ số\n",
    "print(\"Overall Metrics:\")\n",
    "print(f\"Average Precision: {precision:.4f}\")\n",
    "print(f\"Average Recall: {recall:.4f}\")\n",
    "print(f\"Average F1-Score: {f1_score:.4f}\")\n",
    "print(f\"mAP50: {mAP50:.4f}\")\n",
    "print(f\"mAP50-95: {mAP50_95:.4f}\")"
   ]
  },
  {
   "cell_type": "code",
   "execution_count": 29,
   "id": "a1019fe5",
   "metadata": {
    "execution": {
     "iopub.execute_input": "2025-01-05T02:55:40.492343Z",
     "iopub.status.busy": "2025-01-05T02:55:40.492006Z",
     "iopub.status.idle": "2025-01-05T02:55:52.647750Z",
     "shell.execute_reply": "2025-01-05T02:55:52.646698Z"
    },
    "papermill": {
     "duration": 12.192527,
     "end_time": "2025-01-05T02:55:52.649144",
     "exception": false,
     "start_time": "2025-01-05T02:55:40.456617",
     "status": "completed"
    },
    "tags": []
   },
   "outputs": [
    {
     "name": "stdout",
     "output_type": "stream",
     "text": [
      "Ultralytics 8.3.57 🚀 Python-3.10.12 torch-2.4.1+cu121 CUDA:0 (Tesla P100-PCIE-16GB, 16269MiB)\n"
     ]
    },
    {
     "name": "stderr",
     "output_type": "stream",
     "text": [
      "\u001b[34m\u001b[1mval: \u001b[0mScanning /kaggle/working/test_total/labels.cache... 300 images, 0 backgrounds, 0 corrupt: 100%|██████████| 300/300 [00:00<?, ?it/s]\n",
      "                 Class     Images  Instances      Box(P          R      mAP50  mAP50-95): 100%|██████████| 19/19 [00:09<00:00,  2.07it/s]\n"
     ]
    },
    {
     "name": "stdout",
     "output_type": "stream",
     "text": [
      "                   all        300       2540      0.823      0.726        0.8      0.522\n",
      "Speed: 1.2ms preprocess, 20.9ms inference, 0.0ms loss, 0.9ms postprocess per image\n",
      "Results saved to \u001b[1mruns/detect/val15\u001b[0m\n",
      "Overall Metrics:\n",
      "Average Precision: 0.8234\n",
      "Average Recall: 0.7256\n",
      "Average F1-Score: 0.7714\n",
      "mAP50: 0.8001\n",
      "mAP50-95: 0.5222\n"
     ]
    }
   ],
   "source": [
    "results = model.val(data='/kaggle/working/data_Total.yaml', imgsz=640)  # Đảm bảo rằng file data.yaml đúng với cấu trúc dữ liệu của bạn\n",
    "\n",
    "# Lấy các chỉ số từ kết quả\n",
    "precision = results.results_dict['metrics/precision(B)']\n",
    "recall = results.results_dict['metrics/recall(B)']\n",
    "mAP50 = results.results_dict['metrics/mAP50(B)']\n",
    "mAP50_95 = results.results_dict['metrics/mAP50-95(B)']\n",
    "\n",
    "# Tính F1-Score\n",
    "f1_score = 2 * (precision * recall) / (precision + recall) if (precision + recall) != 0 else 0\n",
    "\n",
    "# Hiển thị các chỉ số\n",
    "print(\"Overall Metrics:\")\n",
    "print(f\"Average Precision: {precision:.4f}\")\n",
    "print(f\"Average Recall: {recall:.4f}\")\n",
    "print(f\"Average F1-Score: {f1_score:.4f}\")\n",
    "print(f\"mAP50: {mAP50:.4f}\")\n",
    "print(f\"mAP50-95: {mAP50_95:.4f}\")"
   ]
  },
  {
   "cell_type": "markdown",
   "id": "cf72c47f",
   "metadata": {
    "papermill": {
     "duration": 0.032173,
     "end_time": "2025-01-05T02:55:52.714402",
     "exception": false,
     "start_time": "2025-01-05T02:55:52.682229",
     "status": "completed"
    },
    "tags": []
   },
   "source": [
    "# Train lai - Step 1 - AdamW ver 2\n"
   ]
  },
  {
   "cell_type": "code",
   "execution_count": 30,
   "id": "1e166fb1",
   "metadata": {
    "execution": {
     "iopub.execute_input": "2025-01-05T02:55:52.780192Z",
     "iopub.status.busy": "2025-01-05T02:55:52.779841Z",
     "iopub.status.idle": "2025-01-05T02:56:04.903364Z",
     "shell.execute_reply": "2025-01-05T02:56:04.902248Z"
    },
    "papermill": {
     "duration": 12.159038,
     "end_time": "2025-01-05T02:56:04.905276",
     "exception": false,
     "start_time": "2025-01-05T02:55:52.746238",
     "status": "completed"
    },
    "tags": []
   },
   "outputs": [
    {
     "name": "stdout",
     "output_type": "stream",
     "text": [
      "Ultralytics 8.3.57 🚀 Python-3.10.12 torch-2.4.1+cu121 CUDA:0 (Tesla P100-PCIE-16GB, 16269MiB)\n",
      "Model summary (fused): 268 layers, 68,124,531 parameters, 0 gradients, 257.4 GFLOPs\n"
     ]
    },
    {
     "name": "stderr",
     "output_type": "stream",
     "text": [
      "\u001b[34m\u001b[1mval: \u001b[0mScanning /kaggle/working/test/labels.cache... 300 images, 0 backgrounds, 1 corrupt: 100%|██████████| 300/300 [00:00<?, ?it/s]"
     ]
    },
    {
     "name": "stdout",
     "output_type": "stream",
     "text": [
      "\u001b[34m\u001b[1mval: \u001b[0mWARNING ⚠️ /kaggle/working/test/images/img_238.jpg: ignoring corrupt image/label: non-normalized or out of bounds coordinates [     1.1983]\n"
     ]
    },
    {
     "name": "stderr",
     "output_type": "stream",
     "text": [
      "\n",
      "                 Class     Images  Instances      Box(P          R      mAP50  mAP50-95): 100%|██████████| 19/19 [00:06<00:00,  3.12it/s]\n"
     ]
    },
    {
     "name": "stdout",
     "output_type": "stream",
     "text": [
      "                   all        299        866      0.863      0.694      0.769      0.423\n",
      "Speed: 0.4ms preprocess, 15.9ms inference, 0.0ms loss, 1.0ms postprocess per image\n",
      "Results saved to \u001b[1mruns/detect/val16\u001b[0m\n",
      "Overall Metrics:\n",
      "Average Precision: 0.8635\n",
      "Average Recall: 0.6939\n",
      "Average F1-Score: 0.7695\n",
      "mAP50: 0.7690\n",
      "mAP50-95: 0.4231\n"
     ]
    }
   ],
   "source": [
    "from ultralytics import YOLO\n",
    "import os\n",
    "import cv2\n",
    "\n",
    "# Đường dẫn thư mục chứa các ảnh và mô hình YOLOv8\n",
    "image_path = '/kaggle/input/test-bkai/private_test_imgs'\n",
    "model_path = '/kaggle/input/train-lai-uit-ver-2/pytorch/default/1/best.pt'\n",
    "\n",
    "# Load mô hình YOLOv8 từ đường dẫn\n",
    "model = YOLO(model_path)\n",
    "results = model.val(data='/kaggle/working/data_BKAI.yaml', imgsz=640)  # Đảm bảo rằng file data.yaml đúng với cấu trúc dữ liệu của bạn\n",
    "\n",
    "# Lấy các chỉ số từ kết quả\n",
    "precision = results.results_dict['metrics/precision(B)']\n",
    "recall = results.results_dict['metrics/recall(B)']\n",
    "mAP50 = results.results_dict['metrics/mAP50(B)']\n",
    "mAP50_95 = results.results_dict['metrics/mAP50-95(B)']\n",
    "\n",
    "# Tính F1-Score\n",
    "f1_score = 2 * (precision * recall) / (precision + recall) if (precision + recall) != 0 else 0\n",
    "\n",
    "# Hiển thị các chỉ số\n",
    "print(\"Overall Metrics:\")\n",
    "print(f\"Average Precision: {precision:.4f}\")\n",
    "print(f\"Average Recall: {recall:.4f}\")\n",
    "print(f\"Average F1-Score: {f1_score:.4f}\")\n",
    "print(f\"mAP50: {mAP50:.4f}\")\n",
    "print(f\"mAP50-95: {mAP50_95:.4f}\")"
   ]
  },
  {
   "cell_type": "code",
   "execution_count": 31,
   "id": "17d5e2ed",
   "metadata": {
    "execution": {
     "iopub.execute_input": "2025-01-05T02:56:04.976981Z",
     "iopub.status.busy": "2025-01-05T02:56:04.976614Z",
     "iopub.status.idle": "2025-01-05T02:57:40.340532Z",
     "shell.execute_reply": "2025-01-05T02:57:40.339624Z"
    },
    "papermill": {
     "duration": 95.439042,
     "end_time": "2025-01-05T02:57:40.379676",
     "exception": false,
     "start_time": "2025-01-05T02:56:04.940634",
     "status": "completed"
    },
    "tags": []
   },
   "outputs": [
    {
     "name": "stdout",
     "output_type": "stream",
     "text": [
      "Ultralytics 8.3.57 🚀 Python-3.10.12 torch-2.4.1+cu121 CUDA:0 (Tesla P100-PCIE-16GB, 16269MiB)\n"
     ]
    },
    {
     "name": "stderr",
     "output_type": "stream",
     "text": [
      "\u001b[34m\u001b[1mval: \u001b[0mScanning /kaggle/working/test_icdar2015/labels.cache... 500 images, 0 backgrounds, 0 corrupt: 100%|██████████| 500/500 [00:00<?, ?it/s]\n",
      "                 Class     Images  Instances      Box(P          R      mAP50  mAP50-95): 100%|██████████| 32/32 [00:11<00:00,  2.77it/s]\n"
     ]
    },
    {
     "name": "stdout",
     "output_type": "stream",
     "text": [
      "                   all        500       5230      0.699      0.561      0.607      0.334\n",
      "Speed: 0.5ms preprocess, 15.6ms inference, 0.0ms loss, 2.6ms postprocess per image\n",
      "Results saved to \u001b[1mruns/detect/val17\u001b[0m\n",
      "Overall Metrics:\n",
      "Average Precision: 0.6990\n",
      "Average Recall: 0.5614\n",
      "Average F1-Score: 0.6227\n",
      "mAP50: 0.6074\n",
      "mAP50-95: 0.3340\n"
     ]
    }
   ],
   "source": [
    "results = model.val(data='/kaggle/working/data_Icdar2015.yaml', imgsz=640)  # Đảm bảo rằng file data.yaml đúng với cấu trúc dữ liệu của bạn\n",
    "\n",
    "# Lấy các chỉ số từ kết quả\n",
    "precision = results.results_dict['metrics/precision(B)']\n",
    "recall = results.results_dict['metrics/recall(B)']\n",
    "mAP50 = results.results_dict['metrics/mAP50(B)']\n",
    "mAP50_95 = results.results_dict['metrics/mAP50-95(B)']\n",
    "\n",
    "# Tính F1-Score\n",
    "f1_score = 2 * (precision * recall) / (precision + recall) if (precision + recall) != 0 else 0\n",
    "\n",
    "# Hiển thị các chỉ số\n",
    "print(\"Overall Metrics:\")\n",
    "print(f\"Average Precision: {precision:.4f}\")\n",
    "print(f\"Average Recall: {recall:.4f}\")\n",
    "print(f\"Average F1-Score: {f1_score:.4f}\")\n",
    "print(f\"mAP50: {mAP50:.4f}\")\n",
    "print(f\"mAP50-95: {mAP50_95:.4f}\")"
   ]
  },
  {
   "cell_type": "code",
   "execution_count": 32,
   "id": "b2d1caf8",
   "metadata": {
    "execution": {
     "iopub.execute_input": "2025-01-05T02:57:40.453459Z",
     "iopub.status.busy": "2025-01-05T02:57:40.453097Z",
     "iopub.status.idle": "2025-01-05T02:57:52.193897Z",
     "shell.execute_reply": "2025-01-05T02:57:52.192816Z"
    },
    "papermill": {
     "duration": 11.780167,
     "end_time": "2025-01-05T02:57:52.195626",
     "exception": false,
     "start_time": "2025-01-05T02:57:40.415459",
     "status": "completed"
    },
    "tags": []
   },
   "outputs": [
    {
     "name": "stdout",
     "output_type": "stream",
     "text": [
      "Ultralytics 8.3.57 🚀 Python-3.10.12 torch-2.4.1+cu121 CUDA:0 (Tesla P100-PCIE-16GB, 16269MiB)\n"
     ]
    },
    {
     "name": "stderr",
     "output_type": "stream",
     "text": [
      "\u001b[34m\u001b[1mval: \u001b[0mScanning /kaggle/working/test_total/labels.cache... 300 images, 0 backgrounds, 0 corrupt: 100%|██████████| 300/300 [00:00<?, ?it/s]\n",
      "                 Class     Images  Instances      Box(P          R      mAP50  mAP50-95): 100%|██████████| 19/19 [00:08<00:00,  2.14it/s]\n"
     ]
    },
    {
     "name": "stdout",
     "output_type": "stream",
     "text": [
      "                   all        300       2540       0.84      0.755      0.814      0.545\n",
      "Speed: 1.0ms preprocess, 21.4ms inference, 0.0ms loss, 1.2ms postprocess per image\n",
      "Results saved to \u001b[1mruns/detect/val18\u001b[0m\n",
      "Overall Metrics:\n",
      "Average Precision: 0.8405\n",
      "Average Recall: 0.7547\n",
      "Average F1-Score: 0.7953\n",
      "mAP50: 0.8141\n",
      "mAP50-95: 0.5451\n"
     ]
    }
   ],
   "source": [
    "results = model.val(data='/kaggle/working/data_Total.yaml', imgsz=640)  # Đảm bảo rằng file data.yaml đúng với cấu trúc dữ liệu của bạn\n",
    "\n",
    "# Lấy các chỉ số từ kết quả\n",
    "precision = results.results_dict['metrics/precision(B)']\n",
    "recall = results.results_dict['metrics/recall(B)']\n",
    "mAP50 = results.results_dict['metrics/mAP50(B)']\n",
    "mAP50_95 = results.results_dict['metrics/mAP50-95(B)']\n",
    "\n",
    "# Tính F1-Score\n",
    "f1_score = 2 * (precision * recall) / (precision + recall) if (precision + recall) != 0 else 0\n",
    "\n",
    "# Hiển thị các chỉ số\n",
    "print(\"Overall Metrics:\")\n",
    "print(f\"Average Precision: {precision:.4f}\")\n",
    "print(f\"Average Recall: {recall:.4f}\")\n",
    "print(f\"Average F1-Score: {f1_score:.4f}\")\n",
    "print(f\"mAP50: {mAP50:.4f}\")\n",
    "print(f\"mAP50-95: {mAP50_95:.4f}\")"
   ]
  },
  {
   "cell_type": "markdown",
   "id": "081fe0f3",
   "metadata": {
    "papermill": {
     "duration": 0.03771,
     "end_time": "2025-01-05T02:57:52.271751",
     "exception": false,
     "start_time": "2025-01-05T02:57:52.234041",
     "status": "completed"
    },
    "tags": []
   },
   "source": [
    "# Train lai - Step 1 - AdamW ver 3\n"
   ]
  },
  {
   "cell_type": "code",
   "execution_count": 33,
   "id": "037e3dcb",
   "metadata": {
    "execution": {
     "iopub.execute_input": "2025-01-05T02:57:52.349639Z",
     "iopub.status.busy": "2025-01-05T02:57:52.349224Z",
     "iopub.status.idle": "2025-01-05T02:58:04.791233Z",
     "shell.execute_reply": "2025-01-05T02:58:04.790164Z"
    },
    "papermill": {
     "duration": 12.483173,
     "end_time": "2025-01-05T02:58:04.792950",
     "exception": false,
     "start_time": "2025-01-05T02:57:52.309777",
     "status": "completed"
    },
    "tags": []
   },
   "outputs": [
    {
     "name": "stdout",
     "output_type": "stream",
     "text": [
      "Ultralytics 8.3.57 🚀 Python-3.10.12 torch-2.4.1+cu121 CUDA:0 (Tesla P100-PCIE-16GB, 16269MiB)\n",
      "Model summary (fused): 268 layers, 68,124,531 parameters, 0 gradients, 257.4 GFLOPs\n"
     ]
    },
    {
     "name": "stderr",
     "output_type": "stream",
     "text": [
      "\u001b[34m\u001b[1mval: \u001b[0mScanning /kaggle/working/test/labels.cache... 300 images, 0 backgrounds, 1 corrupt: 100%|██████████| 300/300 [00:00<?, ?it/s]"
     ]
    },
    {
     "name": "stdout",
     "output_type": "stream",
     "text": [
      "\u001b[34m\u001b[1mval: \u001b[0mWARNING ⚠️ /kaggle/working/test/images/img_238.jpg: ignoring corrupt image/label: non-normalized or out of bounds coordinates [     1.1983]\n"
     ]
    },
    {
     "name": "stderr",
     "output_type": "stream",
     "text": [
      "\n",
      "                 Class     Images  Instances      Box(P          R      mAP50  mAP50-95): 100%|██████████| 19/19 [00:06<00:00,  2.98it/s]\n"
     ]
    },
    {
     "name": "stdout",
     "output_type": "stream",
     "text": [
      "                   all        299        866      0.826      0.617      0.715      0.358\n",
      "Speed: 0.3ms preprocess, 15.8ms inference, 0.0ms loss, 1.8ms postprocess per image\n",
      "Results saved to \u001b[1mruns/detect/val19\u001b[0m\n",
      "Overall Metrics:\n",
      "Average Precision: 0.8261\n",
      "Average Recall: 0.6166\n",
      "Average F1-Score: 0.7061\n",
      "mAP50: 0.7150\n",
      "mAP50-95: 0.3580\n"
     ]
    }
   ],
   "source": [
    "from ultralytics import YOLO\n",
    "import os\n",
    "import cv2\n",
    "\n",
    "# Đường dẫn thư mục chứa các ảnh và mô hình YOLOv8\n",
    "image_path = '/kaggle/input/test-bkai/private_test_imgs'\n",
    "model_path = '/kaggle/input/step-1-uit-ver-3/pytorch/default/1/best.pt'\n",
    "\n",
    "# Load mô hình YOLOv8 từ đường dẫn\n",
    "model = YOLO(model_path)\n",
    "results = model.val(data='/kaggle/working/data_BKAI.yaml', imgsz=640)  # Đảm bảo rằng file data.yaml đúng với cấu trúc dữ liệu của bạn\n",
    "\n",
    "# Lấy các chỉ số từ kết quả\n",
    "precision = results.results_dict['metrics/precision(B)']\n",
    "recall = results.results_dict['metrics/recall(B)']\n",
    "mAP50 = results.results_dict['metrics/mAP50(B)']\n",
    "mAP50_95 = results.results_dict['metrics/mAP50-95(B)']\n",
    "\n",
    "# Tính F1-Score\n",
    "f1_score = 2 * (precision * recall) / (precision + recall) if (precision + recall) != 0 else 0\n",
    "\n",
    "# Hiển thị các chỉ số\n",
    "print(\"Overall Metrics:\")\n",
    "print(f\"Average Precision: {precision:.4f}\")\n",
    "print(f\"Average Recall: {recall:.4f}\")\n",
    "print(f\"Average F1-Score: {f1_score:.4f}\")\n",
    "print(f\"mAP50: {mAP50:.4f}\")\n",
    "print(f\"mAP50-95: {mAP50_95:.4f}\")"
   ]
  },
  {
   "cell_type": "code",
   "execution_count": 34,
   "id": "aec9eb70",
   "metadata": {
    "execution": {
     "iopub.execute_input": "2025-01-05T02:58:04.875762Z",
     "iopub.status.busy": "2025-01-05T02:58:04.875346Z",
     "iopub.status.idle": "2025-01-05T02:58:20.471717Z",
     "shell.execute_reply": "2025-01-05T02:58:20.470800Z"
    },
    "papermill": {
     "duration": 15.640781,
     "end_time": "2025-01-05T02:58:20.473181",
     "exception": false,
     "start_time": "2025-01-05T02:58:04.832400",
     "status": "completed"
    },
    "tags": []
   },
   "outputs": [
    {
     "name": "stdout",
     "output_type": "stream",
     "text": [
      "Ultralytics 8.3.57 🚀 Python-3.10.12 torch-2.4.1+cu121 CUDA:0 (Tesla P100-PCIE-16GB, 16269MiB)\n"
     ]
    },
    {
     "name": "stderr",
     "output_type": "stream",
     "text": [
      "\u001b[34m\u001b[1mval: \u001b[0mScanning /kaggle/working/test_icdar2015/labels.cache... 500 images, 0 backgrounds, 0 corrupt: 100%|██████████| 500/500 [00:00<?, ?it/s]\n",
      "                 Class     Images  Instances      Box(P          R      mAP50  mAP50-95): 100%|██████████| 32/32 [00:11<00:00,  2.67it/s]\n"
     ]
    },
    {
     "name": "stdout",
     "output_type": "stream",
     "text": [
      "                   all        500       5230      0.704      0.541      0.608      0.332\n",
      "Speed: 0.5ms preprocess, 15.7ms inference, 0.0ms loss, 3.1ms postprocess per image\n",
      "Results saved to \u001b[1mruns/detect/val20\u001b[0m\n",
      "Overall Metrics:\n",
      "Average Precision: 0.7045\n",
      "Average Recall: 0.5405\n",
      "Average F1-Score: 0.6117\n",
      "mAP50: 0.6082\n",
      "mAP50-95: 0.3323\n"
     ]
    }
   ],
   "source": [
    "results = model.val(data='/kaggle/working/data_Icdar2015.yaml', imgsz=640)  # Đảm bảo rằng file data.yaml đúng với cấu trúc dữ liệu của bạn\n",
    "\n",
    "# Lấy các chỉ số từ kết quả\n",
    "precision = results.results_dict['metrics/precision(B)']\n",
    "recall = results.results_dict['metrics/recall(B)']\n",
    "mAP50 = results.results_dict['metrics/mAP50(B)']\n",
    "mAP50_95 = results.results_dict['metrics/mAP50-95(B)']\n",
    "\n",
    "# Tính F1-Score\n",
    "f1_score = 2 * (precision * recall) / (precision + recall) if (precision + recall) != 0 else 0\n",
    "\n",
    "# Hiển thị các chỉ số\n",
    "print(\"Overall Metrics:\")\n",
    "print(f\"Average Precision: {precision:.4f}\")\n",
    "print(f\"Average Recall: {recall:.4f}\")\n",
    "print(f\"Average F1-Score: {f1_score:.4f}\")\n",
    "print(f\"mAP50: {mAP50:.4f}\")\n",
    "print(f\"mAP50-95: {mAP50_95:.4f}\")"
   ]
  },
  {
   "cell_type": "code",
   "execution_count": 35,
   "id": "c04907aa",
   "metadata": {
    "execution": {
     "iopub.execute_input": "2025-01-05T02:58:20.561697Z",
     "iopub.status.busy": "2025-01-05T02:58:20.561274Z",
     "iopub.status.idle": "2025-01-05T02:58:33.095255Z",
     "shell.execute_reply": "2025-01-05T02:58:33.094151Z"
    },
    "papermill": {
     "duration": 12.580761,
     "end_time": "2025-01-05T02:58:33.096891",
     "exception": false,
     "start_time": "2025-01-05T02:58:20.516130",
     "status": "completed"
    },
    "tags": []
   },
   "outputs": [
    {
     "name": "stdout",
     "output_type": "stream",
     "text": [
      "Ultralytics 8.3.57 🚀 Python-3.10.12 torch-2.4.1+cu121 CUDA:0 (Tesla P100-PCIE-16GB, 16269MiB)\n"
     ]
    },
    {
     "name": "stderr",
     "output_type": "stream",
     "text": [
      "\u001b[34m\u001b[1mval: \u001b[0mScanning /kaggle/working/test_total/labels.cache... 300 images, 0 backgrounds, 0 corrupt: 100%|██████████| 300/300 [00:00<?, ?it/s]\n",
      "                 Class     Images  Instances      Box(P          R      mAP50  mAP50-95): 100%|██████████| 19/19 [00:09<00:00,  2.10it/s]\n"
     ]
    },
    {
     "name": "stdout",
     "output_type": "stream",
     "text": [
      "                   all        300       2540      0.829      0.744      0.816      0.539\n",
      "Speed: 0.9ms preprocess, 21.2ms inference, 0.0ms loss, 1.8ms postprocess per image\n",
      "Results saved to \u001b[1mruns/detect/val21\u001b[0m\n",
      "Overall Metrics:\n",
      "Average Precision: 0.8286\n",
      "Average Recall: 0.7441\n",
      "Average F1-Score: 0.7841\n",
      "mAP50: 0.8157\n",
      "mAP50-95: 0.5389\n"
     ]
    }
   ],
   "source": [
    "results = model.val(data='/kaggle/working/data_Total.yaml', imgsz=640)  # Đảm bảo rằng file data.yaml đúng với cấu trúc dữ liệu của bạn\n",
    "\n",
    "# Lấy các chỉ số từ kết quả\n",
    "precision = results.results_dict['metrics/precision(B)']\n",
    "recall = results.results_dict['metrics/recall(B)']\n",
    "mAP50 = results.results_dict['metrics/mAP50(B)']\n",
    "mAP50_95 = results.results_dict['metrics/mAP50-95(B)']\n",
    "\n",
    "# Tính F1-Score\n",
    "f1_score = 2 * (precision * recall) / (precision + recall) if (precision + recall) != 0 else 0\n",
    "\n",
    "# Hiển thị các chỉ số\n",
    "print(\"Overall Metrics:\")\n",
    "print(f\"Average Precision: {precision:.4f}\")\n",
    "print(f\"Average Recall: {recall:.4f}\")\n",
    "print(f\"Average F1-Score: {f1_score:.4f}\")\n",
    "print(f\"mAP50: {mAP50:.4f}\")\n",
    "print(f\"mAP50-95: {mAP50_95:.4f}\")"
   ]
  },
  {
   "cell_type": "markdown",
   "id": "95bae24e",
   "metadata": {
    "papermill": {
     "duration": 0.042843,
     "end_time": "2025-01-05T02:58:33.182844",
     "exception": false,
     "start_time": "2025-01-05T02:58:33.140001",
     "status": "completed"
    },
    "tags": []
   },
   "source": [
    "# Train lai - Step 1 - AdamW ver 4\n"
   ]
  },
  {
   "cell_type": "code",
   "execution_count": 36,
   "id": "419b3221",
   "metadata": {
    "execution": {
     "iopub.execute_input": "2025-01-05T02:58:33.270503Z",
     "iopub.status.busy": "2025-01-05T02:58:33.270093Z",
     "iopub.status.idle": "2025-01-05T03:00:26.492053Z",
     "shell.execute_reply": "2025-01-05T03:00:26.490955Z"
    },
    "papermill": {
     "duration": 113.268583,
     "end_time": "2025-01-05T03:00:26.493990",
     "exception": false,
     "start_time": "2025-01-05T02:58:33.225407",
     "status": "completed"
    },
    "tags": []
   },
   "outputs": [
    {
     "name": "stdout",
     "output_type": "stream",
     "text": [
      "Ultralytics 8.3.57 🚀 Python-3.10.12 torch-2.4.1+cu121 CUDA:0 (Tesla P100-PCIE-16GB, 16269MiB)\n",
      "Model summary (fused): 268 layers, 68,124,531 parameters, 0 gradients, 257.4 GFLOPs\n"
     ]
    },
    {
     "name": "stderr",
     "output_type": "stream",
     "text": [
      "\u001b[34m\u001b[1mval: \u001b[0mScanning /kaggle/working/test/labels.cache... 300 images, 0 backgrounds, 1 corrupt: 100%|██████████| 300/300 [00:00<?, ?it/s]"
     ]
    },
    {
     "name": "stdout",
     "output_type": "stream",
     "text": [
      "\u001b[34m\u001b[1mval: \u001b[0mWARNING ⚠️ /kaggle/working/test/images/img_238.jpg: ignoring corrupt image/label: non-normalized or out of bounds coordinates [     1.1983]\n"
     ]
    },
    {
     "name": "stderr",
     "output_type": "stream",
     "text": [
      "\n",
      "                 Class     Images  Instances      Box(P          R      mAP50  mAP50-95): 100%|██████████| 19/19 [00:06<00:00,  3.06it/s]\n"
     ]
    },
    {
     "name": "stdout",
     "output_type": "stream",
     "text": [
      "                   all        299        866      0.824      0.663      0.724      0.361\n",
      "Speed: 0.5ms preprocess, 15.6ms inference, 0.0ms loss, 1.5ms postprocess per image\n",
      "Results saved to \u001b[1mruns/detect/val22\u001b[0m\n",
      "Overall Metrics:\n",
      "Average Precision: 0.8237\n",
      "Average Recall: 0.6628\n",
      "Average F1-Score: 0.7346\n",
      "mAP50: 0.7239\n",
      "mAP50-95: 0.3610\n"
     ]
    }
   ],
   "source": [
    "from ultralytics import YOLO\n",
    "import os\n",
    "import cv2\n",
    "\n",
    "# Đường dẫn thư mục chứa các ảnh và mô hình YOLOv8\n",
    "image_path = '/kaggle/input/test-bkai/private_test_imgs'\n",
    "model_path = '/kaggle/input/train-lai-step-1-uit-ver-4/pytorch/default/1/best.pt'\n",
    "\n",
    "# Load mô hình YOLOv8 từ đường dẫn\n",
    "model = YOLO(model_path)\n",
    "results = model.val(data='/kaggle/working/data_BKAI.yaml', imgsz=640)  # Đảm bảo rằng file data.yaml đúng với cấu trúc dữ liệu của bạn\n",
    "\n",
    "# Lấy các chỉ số từ kết quả\n",
    "precision = results.results_dict['metrics/precision(B)']\n",
    "recall = results.results_dict['metrics/recall(B)']\n",
    "mAP50 = results.results_dict['metrics/mAP50(B)']\n",
    "mAP50_95 = results.results_dict['metrics/mAP50-95(B)']\n",
    "\n",
    "# Tính F1-Score\n",
    "f1_score = 2 * (precision * recall) / (precision + recall) if (precision + recall) != 0 else 0\n",
    "\n",
    "# Hiển thị các chỉ số\n",
    "print(\"Overall Metrics:\")\n",
    "print(f\"Average Precision: {precision:.4f}\")\n",
    "print(f\"Average Recall: {recall:.4f}\")\n",
    "print(f\"Average F1-Score: {f1_score:.4f}\")\n",
    "print(f\"mAP50: {mAP50:.4f}\")\n",
    "print(f\"mAP50-95: {mAP50_95:.4f}\")"
   ]
  },
  {
   "cell_type": "code",
   "execution_count": 37,
   "id": "eb8dd1d3",
   "metadata": {
    "execution": {
     "iopub.execute_input": "2025-01-05T03:00:26.583914Z",
     "iopub.status.busy": "2025-01-05T03:00:26.583556Z",
     "iopub.status.idle": "2025-01-05T03:00:41.506579Z",
     "shell.execute_reply": "2025-01-05T03:00:41.505565Z"
    },
    "papermill": {
     "duration": 14.969328,
     "end_time": "2025-01-05T03:00:41.508067",
     "exception": false,
     "start_time": "2025-01-05T03:00:26.538739",
     "status": "completed"
    },
    "tags": []
   },
   "outputs": [
    {
     "name": "stdout",
     "output_type": "stream",
     "text": [
      "Ultralytics 8.3.57 🚀 Python-3.10.12 torch-2.4.1+cu121 CUDA:0 (Tesla P100-PCIE-16GB, 16269MiB)\n"
     ]
    },
    {
     "name": "stderr",
     "output_type": "stream",
     "text": [
      "\u001b[34m\u001b[1mval: \u001b[0mScanning /kaggle/working/test_icdar2015/labels.cache... 500 images, 0 backgrounds, 0 corrupt: 100%|██████████| 500/500 [00:00<?, ?it/s]\n",
      "                 Class     Images  Instances      Box(P          R      mAP50  mAP50-95): 100%|██████████| 32/32 [00:11<00:00,  2.79it/s]\n"
     ]
    },
    {
     "name": "stdout",
     "output_type": "stream",
     "text": [
      "                   all        500       5230       0.71      0.554      0.615      0.339\n",
      "Speed: 0.6ms preprocess, 16.4ms inference, 0.0ms loss, 1.7ms postprocess per image\n",
      "Results saved to \u001b[1mruns/detect/val23\u001b[0m\n",
      "Overall Metrics:\n",
      "Average Precision: 0.7101\n",
      "Average Recall: 0.5545\n",
      "Average F1-Score: 0.6227\n",
      "mAP50: 0.6150\n",
      "mAP50-95: 0.3392\n"
     ]
    }
   ],
   "source": [
    "results = model.val(data='/kaggle/working/data_Icdar2015.yaml', imgsz=640)  # Đảm bảo rằng file data.yaml đúng với cấu trúc dữ liệu của bạn\n",
    "\n",
    "# Lấy các chỉ số từ kết quả\n",
    "precision = results.results_dict['metrics/precision(B)']\n",
    "recall = results.results_dict['metrics/recall(B)']\n",
    "mAP50 = results.results_dict['metrics/mAP50(B)']\n",
    "mAP50_95 = results.results_dict['metrics/mAP50-95(B)']\n",
    "\n",
    "# Tính F1-Score\n",
    "f1_score = 2 * (precision * recall) / (precision + recall) if (precision + recall) != 0 else 0\n",
    "\n",
    "# Hiển thị các chỉ số\n",
    "print(\"Overall Metrics:\")\n",
    "print(f\"Average Precision: {precision:.4f}\")\n",
    "print(f\"Average Recall: {recall:.4f}\")\n",
    "print(f\"Average F1-Score: {f1_score:.4f}\")\n",
    "print(f\"mAP50: {mAP50:.4f}\")\n",
    "print(f\"mAP50-95: {mAP50_95:.4f}\")"
   ]
  },
  {
   "cell_type": "code",
   "execution_count": 38,
   "id": "5a488661",
   "metadata": {
    "execution": {
     "iopub.execute_input": "2025-01-05T03:00:41.601394Z",
     "iopub.status.busy": "2025-01-05T03:00:41.601006Z",
     "iopub.status.idle": "2025-01-05T03:00:54.489147Z",
     "shell.execute_reply": "2025-01-05T03:00:54.487984Z"
    },
    "papermill": {
     "duration": 12.936357,
     "end_time": "2025-01-05T03:00:54.490572",
     "exception": false,
     "start_time": "2025-01-05T03:00:41.554215",
     "status": "completed"
    },
    "tags": []
   },
   "outputs": [
    {
     "name": "stdout",
     "output_type": "stream",
     "text": [
      "Ultralytics 8.3.57 🚀 Python-3.10.12 torch-2.4.1+cu121 CUDA:0 (Tesla P100-PCIE-16GB, 16269MiB)\n"
     ]
    },
    {
     "name": "stderr",
     "output_type": "stream",
     "text": [
      "\u001b[34m\u001b[1mval: \u001b[0mScanning /kaggle/working/test_total/labels.cache... 300 images, 0 backgrounds, 0 corrupt: 100%|██████████| 300/300 [00:00<?, ?it/s]\n",
      "                 Class     Images  Instances      Box(P          R      mAP50  mAP50-95): 100%|██████████| 19/19 [00:09<00:00,  2.03it/s]\n"
     ]
    },
    {
     "name": "stdout",
     "output_type": "stream",
     "text": [
      "                   all        300       2540       0.83      0.757      0.816      0.546\n",
      "Speed: 0.8ms preprocess, 20.4ms inference, 0.0ms loss, 3.5ms postprocess per image\n",
      "Results saved to \u001b[1mruns/detect/val24\u001b[0m\n",
      "Overall Metrics:\n",
      "Average Precision: 0.8298\n",
      "Average Recall: 0.7567\n",
      "Average F1-Score: 0.7916\n",
      "mAP50: 0.8160\n",
      "mAP50-95: 0.5458\n"
     ]
    }
   ],
   "source": [
    "results = model.val(data='/kaggle/working/data_Total.yaml', imgsz=640)  # Đảm bảo rằng file data.yaml đúng với cấu trúc dữ liệu của bạn\n",
    "\n",
    "# Lấy các chỉ số từ kết quả\n",
    "precision = results.results_dict['metrics/precision(B)']\n",
    "recall = results.results_dict['metrics/recall(B)']\n",
    "mAP50 = results.results_dict['metrics/mAP50(B)']\n",
    "mAP50_95 = results.results_dict['metrics/mAP50-95(B)']\n",
    "\n",
    "# Tính F1-Score\n",
    "f1_score = 2 * (precision * recall) / (precision + recall) if (precision + recall) != 0 else 0\n",
    "\n",
    "# Hiển thị các chỉ số\n",
    "print(\"Overall Metrics:\")\n",
    "print(f\"Average Precision: {precision:.4f}\")\n",
    "print(f\"Average Recall: {recall:.4f}\")\n",
    "print(f\"Average F1-Score: {f1_score:.4f}\")\n",
    "print(f\"mAP50: {mAP50:.4f}\")\n",
    "print(f\"mAP50-95: {mAP50_95:.4f}\")"
   ]
  }
 ],
 "metadata": {
  "kaggle": {
   "accelerator": "gpu",
   "dataSources": [
    {
     "datasetId": 726627,
     "sourceId": 1262344,
     "sourceType": "datasetVersion"
    },
    {
     "datasetId": 1150310,
     "sourceId": 1928836,
     "sourceType": "datasetVersion"
    },
    {
     "datasetId": 6216816,
     "sourceId": 10083722,
     "sourceType": "datasetVersion"
    },
    {
     "isSourceIdPinned": true,
     "modelId": 198519,
     "modelInstanceId": 176193,
     "sourceId": 206669,
     "sourceType": "modelInstanceVersion"
    },
    {
     "isSourceIdPinned": true,
     "modelId": 198522,
     "modelInstanceId": 176196,
     "sourceId": 206672,
     "sourceType": "modelInstanceVersion"
    },
    {
     "isSourceIdPinned": true,
     "modelId": 198524,
     "modelInstanceId": 176198,
     "sourceId": 206674,
     "sourceType": "modelInstanceVersion"
    },
    {
     "isSourceIdPinned": true,
     "modelId": 198525,
     "modelInstanceId": 176199,
     "sourceId": 206675,
     "sourceType": "modelInstanceVersion"
    },
    {
     "isSourceIdPinned": true,
     "modelId": 198527,
     "modelInstanceId": 176201,
     "sourceId": 206677,
     "sourceType": "modelInstanceVersion"
    },
    {
     "isSourceIdPinned": true,
     "modelId": 198746,
     "modelInstanceId": 176422,
     "sourceId": 206940,
     "sourceType": "modelInstanceVersion"
    },
    {
     "isSourceIdPinned": true,
     "modelId": 199172,
     "modelInstanceId": 176875,
     "sourceId": 207477,
     "sourceType": "modelInstanceVersion"
    },
    {
     "isSourceIdPinned": true,
     "modelId": 199173,
     "modelInstanceId": 176876,
     "sourceId": 207478,
     "sourceType": "modelInstanceVersion"
    },
    {
     "isSourceIdPinned": true,
     "modelId": 199176,
     "modelInstanceId": 176879,
     "sourceId": 207481,
     "sourceType": "modelInstanceVersion"
    },
    {
     "isSourceIdPinned": true,
     "modelId": 202758,
     "modelInstanceId": 180500,
     "sourceId": 211720,
     "sourceType": "modelInstanceVersion"
    },
    {
     "isSourceIdPinned": true,
     "modelId": 205950,
     "modelInstanceId": 183762,
     "sourceId": 215538,
     "sourceType": "modelInstanceVersion"
    },
    {
     "isSourceIdPinned": true,
     "modelId": 205953,
     "modelInstanceId": 183765,
     "sourceId": 215541,
     "sourceType": "modelInstanceVersion"
    },
    {
     "isSourceIdPinned": true,
     "modelId": 206657,
     "modelInstanceId": 184498,
     "sourceId": 216402,
     "sourceType": "modelInstanceVersion"
    },
    {
     "isSourceIdPinned": true,
     "modelId": 206746,
     "modelInstanceId": 184588,
     "sourceId": 216507,
     "sourceType": "modelInstanceVersion"
    },
    {
     "isSourceIdPinned": true,
     "modelId": 206965,
     "modelInstanceId": 184818,
     "sourceId": 216765,
     "sourceType": "modelInstanceVersion"
    },
    {
     "isSourceIdPinned": true,
     "modelId": 207077,
     "modelInstanceId": 184929,
     "sourceId": 216894,
     "sourceType": "modelInstanceVersion"
    },
    {
     "isSourceIdPinned": true,
     "modelId": 207207,
     "modelInstanceId": 185060,
     "sourceId": 217041,
     "sourceType": "modelInstanceVersion"
    },
    {
     "isSourceIdPinned": true,
     "modelId": 207236,
     "modelInstanceId": 185090,
     "sourceId": 217073,
     "sourceType": "modelInstanceVersion"
    },
    {
     "isSourceIdPinned": true,
     "modelId": 207334,
     "modelInstanceId": 185193,
     "sourceId": 217193,
     "sourceType": "modelInstanceVersion"
    },
    {
     "isSourceIdPinned": true,
     "modelId": 207341,
     "modelInstanceId": 185201,
     "sourceId": 217202,
     "sourceType": "modelInstanceVersion"
    },
    {
     "isSourceIdPinned": true,
     "modelId": 207430,
     "modelInstanceId": 185292,
     "sourceId": 217304,
     "sourceType": "modelInstanceVersion"
    },
    {
     "isSourceIdPinned": true,
     "modelId": 207432,
     "modelInstanceId": 185294,
     "sourceId": 217306,
     "sourceType": "modelInstanceVersion"
    },
    {
     "isSourceIdPinned": true,
     "modelId": 207587,
     "modelInstanceId": 185454,
     "sourceId": 217484,
     "sourceType": "modelInstanceVersion"
    },
    {
     "isSourceIdPinned": true,
     "modelId": 208520,
     "modelInstanceId": 186405,
     "sourceId": 218581,
     "sourceType": "modelInstanceVersion"
    },
    {
     "isSourceIdPinned": true,
     "modelId": 208524,
     "modelInstanceId": 186409,
     "sourceId": 218585,
     "sourceType": "modelInstanceVersion"
    },
    {
     "isSourceIdPinned": true,
     "modelId": 208727,
     "modelInstanceId": 186622,
     "sourceId": 218826,
     "sourceType": "modelInstanceVersion"
    }
   ],
   "dockerImageVersionId": 30823,
   "isGpuEnabled": true,
   "isInternetEnabled": true,
   "language": "python",
   "sourceType": "notebook"
  },
  "kernelspec": {
   "display_name": "Python 3",
   "language": "python",
   "name": "python3"
  },
  "language_info": {
   "codemirror_mode": {
    "name": "ipython",
    "version": 3
   },
   "file_extension": ".py",
   "mimetype": "text/x-python",
   "name": "python",
   "nbconvert_exporter": "python",
   "pygments_lexer": "ipython3",
   "version": "3.10.12"
  },
  "papermill": {
   "default_parameters": {},
   "duration": 769.196641,
   "end_time": "2025-01-05T03:00:57.767463",
   "environment_variables": {},
   "exception": null,
   "input_path": "__notebook__.ipynb",
   "output_path": "__notebook__.ipynb",
   "parameters": {},
   "start_time": "2025-01-05T02:48:08.570822",
   "version": "2.6.0"
  }
 },
 "nbformat": 4,
 "nbformat_minor": 5
}
