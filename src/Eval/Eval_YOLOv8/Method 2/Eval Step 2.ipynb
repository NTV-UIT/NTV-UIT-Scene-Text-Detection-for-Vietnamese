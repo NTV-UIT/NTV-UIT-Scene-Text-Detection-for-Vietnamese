{
 "cells": [
  {
   "cell_type": "code",
   "execution_count": 1,
   "id": "46b1d789",
   "metadata": {
    "_cell_guid": "b1076dfc-b9ad-4769-8c92-a6c4dae69d19",
    "_uuid": "8f2839f25d086af736a60e9eeb907d3b93b6e0e5",
    "execution": {
     "iopub.execute_input": "2025-01-05T04:47:52.722385Z",
     "iopub.status.busy": "2025-01-05T04:47:52.722008Z",
     "iopub.status.idle": "2025-01-05T04:47:58.303351Z",
     "shell.execute_reply": "2025-01-05T04:47:58.302341Z"
    },
    "papermill": {
     "duration": 5.59246,
     "end_time": "2025-01-05T04:47:58.304956",
     "exception": false,
     "start_time": "2025-01-05T04:47:52.712496",
     "status": "completed"
    },
    "tags": []
   },
   "outputs": [
    {
     "name": "stdout",
     "output_type": "stream",
     "text": [
      "Collecting ultralytics\r\n",
      "  Downloading ultralytics-8.3.57-py3-none-any.whl.metadata (35 kB)\r\n",
      "Requirement already satisfied: numpy>=1.23.0 in /usr/local/lib/python3.10/dist-packages (from ultralytics) (1.26.4)\r\n",
      "Requirement already satisfied: matplotlib>=3.3.0 in /usr/local/lib/python3.10/dist-packages (from ultralytics) (3.7.1)\r\n",
      "Requirement already satisfied: opencv-python>=4.6.0 in /usr/local/lib/python3.10/dist-packages (from ultralytics) (4.10.0.84)\r\n",
      "Requirement already satisfied: pillow>=7.1.2 in /usr/local/lib/python3.10/dist-packages (from ultralytics) (10.4.0)\r\n",
      "Requirement already satisfied: pyyaml>=5.3.1 in /usr/local/lib/python3.10/dist-packages (from ultralytics) (6.0.2)\r\n",
      "Requirement already satisfied: requests>=2.23.0 in /usr/local/lib/python3.10/dist-packages (from ultralytics) (2.32.3)\r\n",
      "Requirement already satisfied: scipy>=1.4.1 in /usr/local/lib/python3.10/dist-packages (from ultralytics) (1.13.1)\r\n",
      "Requirement already satisfied: torch>=1.8.0 in /usr/local/lib/python3.10/dist-packages (from ultralytics) (2.4.1+cu121)\r\n",
      "Requirement already satisfied: torchvision>=0.9.0 in /usr/local/lib/python3.10/dist-packages (from ultralytics) (0.19.1+cu121)\r\n",
      "Requirement already satisfied: tqdm>=4.64.0 in /usr/local/lib/python3.10/dist-packages (from ultralytics) (4.66.5)\r\n",
      "Requirement already satisfied: psutil in /usr/local/lib/python3.10/dist-packages (from ultralytics) (5.9.5)\r\n",
      "Requirement already satisfied: py-cpuinfo in /usr/local/lib/python3.10/dist-packages (from ultralytics) (9.0.0)\r\n",
      "Requirement already satisfied: pandas>=1.1.4 in /usr/local/lib/python3.10/dist-packages (from ultralytics) (2.1.4)\r\n",
      "Requirement already satisfied: seaborn>=0.11.0 in /usr/local/lib/python3.10/dist-packages (from ultralytics) (0.12.2)\r\n",
      "Collecting ultralytics-thop>=2.0.0 (from ultralytics)\r\n",
      "  Downloading ultralytics_thop-2.0.13-py3-none-any.whl.metadata (9.4 kB)\r\n",
      "Requirement already satisfied: contourpy>=1.0.1 in /usr/local/lib/python3.10/dist-packages (from matplotlib>=3.3.0->ultralytics) (1.3.0)\r\n",
      "Requirement already satisfied: cycler>=0.10 in /usr/local/lib/python3.10/dist-packages (from matplotlib>=3.3.0->ultralytics) (0.12.1)\r\n",
      "Requirement already satisfied: fonttools>=4.22.0 in /usr/local/lib/python3.10/dist-packages (from matplotlib>=3.3.0->ultralytics) (4.53.1)\r\n",
      "Requirement already satisfied: kiwisolver>=1.0.1 in /usr/local/lib/python3.10/dist-packages (from matplotlib>=3.3.0->ultralytics) (1.4.7)\r\n",
      "Requirement already satisfied: packaging>=20.0 in /usr/local/lib/python3.10/dist-packages (from matplotlib>=3.3.0->ultralytics) (24.1)\r\n",
      "Requirement already satisfied: pyparsing>=2.3.1 in /usr/local/lib/python3.10/dist-packages (from matplotlib>=3.3.0->ultralytics) (3.1.4)\r\n",
      "Requirement already satisfied: python-dateutil>=2.7 in /usr/local/lib/python3.10/dist-packages (from matplotlib>=3.3.0->ultralytics) (2.8.2)\r\n",
      "Requirement already satisfied: pytz>=2020.1 in /usr/local/lib/python3.10/dist-packages (from pandas>=1.1.4->ultralytics) (2024.2)\r\n",
      "Requirement already satisfied: tzdata>=2022.1 in /usr/local/lib/python3.10/dist-packages (from pandas>=1.1.4->ultralytics) (2024.1)\r\n",
      "Requirement already satisfied: charset-normalizer<4,>=2 in /usr/local/lib/python3.10/dist-packages (from requests>=2.23.0->ultralytics) (3.3.2)\r\n",
      "Requirement already satisfied: idna<4,>=2.5 in /usr/local/lib/python3.10/dist-packages (from requests>=2.23.0->ultralytics) (3.10)\r\n",
      "Requirement already satisfied: urllib3<3,>=1.21.1 in /usr/local/lib/python3.10/dist-packages (from requests>=2.23.0->ultralytics) (2.2.3)\r\n",
      "Requirement already satisfied: certifi>=2017.4.17 in /usr/local/lib/python3.10/dist-packages (from requests>=2.23.0->ultralytics) (2024.8.30)\r\n",
      "Requirement already satisfied: filelock in /usr/local/lib/python3.10/dist-packages (from torch>=1.8.0->ultralytics) (3.16.1)\r\n",
      "Requirement already satisfied: typing-extensions>=4.8.0 in /usr/local/lib/python3.10/dist-packages (from torch>=1.8.0->ultralytics) (4.12.2)\r\n",
      "Requirement already satisfied: sympy in /usr/local/lib/python3.10/dist-packages (from torch>=1.8.0->ultralytics) (1.13.3)\r\n",
      "Requirement already satisfied: networkx in /usr/local/lib/python3.10/dist-packages (from torch>=1.8.0->ultralytics) (3.3)\r\n",
      "Requirement already satisfied: jinja2 in /usr/local/lib/python3.10/dist-packages (from torch>=1.8.0->ultralytics) (3.1.4)\r\n",
      "Requirement already satisfied: fsspec in /usr/local/lib/python3.10/dist-packages (from torch>=1.8.0->ultralytics) (2024.6.1)\r\n",
      "Requirement already satisfied: six>=1.5 in /usr/local/lib/python3.10/dist-packages (from python-dateutil>=2.7->matplotlib>=3.3.0->ultralytics) (1.16.0)\r\n",
      "Requirement already satisfied: MarkupSafe>=2.0 in /usr/local/lib/python3.10/dist-packages (from jinja2->torch>=1.8.0->ultralytics) (2.1.5)\r\n",
      "Requirement already satisfied: mpmath<1.4,>=1.1.0 in /usr/local/lib/python3.10/dist-packages (from sympy->torch>=1.8.0->ultralytics) (1.3.0)\r\n",
      "Downloading ultralytics-8.3.57-py3-none-any.whl (905 kB)\r\n",
      "\u001b[2K   \u001b[90m━━━━━━━━━━━━━━━━━━━━━━━━━━━━━━━━━━━━━━━━\u001b[0m \u001b[32m905.3/905.3 kB\u001b[0m \u001b[31m20.0 MB/s\u001b[0m eta \u001b[36m0:00:00\u001b[0m\r\n",
      "\u001b[?25hDownloading ultralytics_thop-2.0.13-py3-none-any.whl (26 kB)\r\n",
      "Installing collected packages: ultralytics-thop, ultralytics\r\n",
      "Successfully installed ultralytics-8.3.57 ultralytics-thop-2.0.13\r\n"
     ]
    }
   ],
   "source": [
    "!pip install ultralytics"
   ]
  },
  {
   "cell_type": "code",
   "execution_count": 2,
   "id": "8f88381c",
   "metadata": {
    "execution": {
     "iopub.execute_input": "2025-01-05T04:47:58.321948Z",
     "iopub.status.busy": "2025-01-05T04:47:58.321624Z",
     "iopub.status.idle": "2025-01-05T04:48:02.565145Z",
     "shell.execute_reply": "2025-01-05T04:48:02.564175Z"
    },
    "papermill": {
     "duration": 4.253608,
     "end_time": "2025-01-05T04:48:02.566836",
     "exception": false,
     "start_time": "2025-01-05T04:47:58.313228",
     "status": "completed"
    },
    "tags": []
   },
   "outputs": [
    {
     "name": "stdout",
     "output_type": "stream",
     "text": [
      "Creating new Ultralytics Settings v0.0.6 file ✅ \n",
      "View Ultralytics Settings with 'yolo settings' or at '/root/.config/Ultralytics/settings.json'\n",
      "Update Settings with 'yolo settings key=value', i.e. 'yolo settings runs_dir=path/to/dir'. For help see https://docs.ultralytics.com/quickstart/#ultralytics-settings.\n"
     ]
    }
   ],
   "source": [
    "import torch\n",
    "import os\n",
    "import glob\n",
    "from PIL import Image\n",
    "from ultralytics import YOLO"
   ]
  },
  {
   "cell_type": "code",
   "execution_count": 3,
   "id": "3dd8db9c",
   "metadata": {
    "execution": {
     "iopub.execute_input": "2025-01-05T04:48:02.583335Z",
     "iopub.status.busy": "2025-01-05T04:48:02.582911Z",
     "iopub.status.idle": "2025-01-05T04:48:02.587481Z",
     "shell.execute_reply": "2025-01-05T04:48:02.586628Z"
    },
    "papermill": {
     "duration": 0.013969,
     "end_time": "2025-01-05T04:48:02.588731",
     "exception": false,
     "start_time": "2025-01-05T04:48:02.574762",
     "status": "completed"
    },
    "tags": []
   },
   "outputs": [],
   "source": [
    "# Example usage:\n",
    "BKAI_train_images_folder = '/kaggle/input/bkai-dataset2/vietnamese/train_images'\n",
    "BKAI_labels_folder = '/kaggle/input/bkai-dataset2/vietnamese/labels'\n",
    "\n",
    "BKAI_val_images_folder = '/kaggle/input/bkai-dataset2/vietnamese/test_image'\n",
    "\n",
    "BKAI_test_images_folder = '/kaggle/input/bkai-dataset2/vietnamese/unseen_test_images'\n",
    "\n",
    "BKAI_train_output_images_folder = \"/kaggle/working/train/images\"\n",
    "BKAI_train_output_labels_folder = \"/kaggle/working/train/labels\"\n",
    "\n",
    "BKAI_val_output_images_folder = \"/kaggle/working/val/images\"\n",
    "BKAI_val_output_labels_folder = \"/kaggle/working/val/labels\"\n",
    "\n",
    "BKAI_test_output_images_folder = \"/kaggle/working/test/images\"\n",
    "BKAI_test_output_labels_folder = \"/kaggle/working/test/labels\"\n",
    "\n",
    "# Define paths\n",
    "BKAI1_train_images_folder = '/kaggle/input/bkai-dataset-1/train_imgs/training_img'\n",
    "BKAI1_train_labels_folder = '/kaggle/input/bkai-dataset-1/train_gt/training_gt'\n",
    "BKAI1_train_output_images_folder = \"/kaggle/working/train/images\"\n",
    "BKAI1_train_output_labels_folder = \"/kaggle/working/train/labels\""
   ]
  },
  {
   "cell_type": "code",
   "execution_count": 4,
   "id": "30c425bc",
   "metadata": {
    "execution": {
     "iopub.execute_input": "2025-01-05T04:48:02.605086Z",
     "iopub.status.busy": "2025-01-05T04:48:02.604760Z",
     "iopub.status.idle": "2025-01-05T04:48:02.608289Z",
     "shell.execute_reply": "2025-01-05T04:48:02.607479Z"
    },
    "papermill": {
     "duration": 0.013154,
     "end_time": "2025-01-05T04:48:02.609640",
     "exception": false,
     "start_time": "2025-01-05T04:48:02.596486",
     "status": "completed"
    },
    "tags": []
   },
   "outputs": [],
   "source": [
    "# Total\n",
    "\n",
    "\n",
    "total_test_images_folder = \"/kaggle/input/totaltextstr/Total-Text/Test\"\n",
    "total_test_labels_folder = \"/kaggle/input/totaltextstr/Total-Text/Annotation/groundtruth_polygonal_annotation/Test\"\n",
    "\n",
    "total_test_output_images_folder = \"/kaggle/working/test_total/images\"\n",
    "total_test_output_labels_folder = \"/kaggle/working/test_total/labels\""
   ]
  },
  {
   "cell_type": "code",
   "execution_count": 5,
   "id": "022193a3",
   "metadata": {
    "execution": {
     "iopub.execute_input": "2025-01-05T04:48:02.625226Z",
     "iopub.status.busy": "2025-01-05T04:48:02.624991Z",
     "iopub.status.idle": "2025-01-05T04:48:02.628014Z",
     "shell.execute_reply": "2025-01-05T04:48:02.627405Z"
    },
    "papermill": {
     "duration": 0.012182,
     "end_time": "2025-01-05T04:48:02.629302",
     "exception": false,
     "start_time": "2025-01-05T04:48:02.617120",
     "status": "completed"
    },
    "tags": []
   },
   "outputs": [],
   "source": [
    "# ICDAR2015\n",
    "icdar2015_test_images_folder = \"/kaggle/input/icdar2015/ch4_test_images\"\n",
    "icdar2015_test_labels_folder = \"/kaggle/input/icdar2015/ch4_test_localization_transcription_gt\"\n",
    "\n",
    "icdar2015_test_output_images_folder = \"/kaggle/working/test_icdar2015/images\"\n",
    "icdar2015_test_output_labels_folder = \"/kaggle/working/test_icdar2015/labels\""
   ]
  },
  {
   "cell_type": "markdown",
   "id": "40464b8e",
   "metadata": {
    "papermill": {
     "duration": 0.006877,
     "end_time": "2025-01-05T04:48:02.644051",
     "exception": false,
     "start_time": "2025-01-05T04:48:02.637174",
     "status": "completed"
    },
    "tags": []
   },
   "source": [
    "# Icdar2015 Dataset Test\n"
   ]
  },
  {
   "cell_type": "code",
   "execution_count": 6,
   "id": "08ed6033",
   "metadata": {
    "execution": {
     "iopub.execute_input": "2025-01-05T04:48:02.659243Z",
     "iopub.status.busy": "2025-01-05T04:48:02.659000Z",
     "iopub.status.idle": "2025-01-05T04:48:02.668425Z",
     "shell.execute_reply": "2025-01-05T04:48:02.667768Z"
    },
    "papermill": {
     "duration": 0.018455,
     "end_time": "2025-01-05T04:48:02.669608",
     "exception": false,
     "start_time": "2025-01-05T04:48:02.651153",
     "status": "completed"
    },
    "tags": []
   },
   "outputs": [],
   "source": [
    "def Icidar2015_process_annotations(train_images_folder, train_labels_folder, train_output_images_folder, train_output_labels_folder):\n",
    "    # Tạo các thư mục đầu ra nếu chưa tồn tại\n",
    "    os.makedirs(train_output_images_folder, exist_ok=True)\n",
    "    os.makedirs(train_output_labels_folder, exist_ok=True)\n",
    "\n",
    "    # Hàm chuyển đổi tọa độ polygon sang YOLO bounding box\n",
    "    def polygon_to_yolo_bbox(x, y, width_img, height_img):\n",
    "        x_min, x_max = min(x), max(x)\n",
    "        y_min, y_max = min(y), max(y)\n",
    "        x_center = (x_min + x_max) / 2 / width_img\n",
    "        y_center = (y_min + y_max) / 2 / height_img\n",
    "        bbox_width = (x_max - x_min) / width_img\n",
    "        bbox_height = (y_max - y_min) / height_img\n",
    "        return x_center, y_center, bbox_width, bbox_height\n",
    "\n",
    "    # Duyệt qua các file annotation\n",
    "    annotation_files = glob.glob(os.path.join(train_labels_folder, \"*.txt\"))\n",
    "\n",
    "    for anno_file in annotation_files:\n",
    "        base_name = os.path.basename(anno_file).replace(\"gt_\", \"\").replace(\".txt\", \"\")\n",
    "        image_path = os.path.join(train_images_folder, f\"{base_name}.jpg\")\n",
    "        \n",
    "        try:\n",
    "            # Mở ảnh để lấy kích thước\n",
    "            img = Image.open(image_path)\n",
    "            width_img, height_img = img.size\n",
    "\n",
    "            # Lưu ảnh vào thư mục đầu ra\n",
    "            output_image_path = os.path.join(train_output_images_folder, f\"{base_name}.jpg\")\n",
    "            \n",
    "            # Biến kiểm tra xem có bounding box hợp lệ không\n",
    "            valid_boxes = False\n",
    "            \n",
    "            # Lưu file annotation mới vào thư mục đầu ra\n",
    "            output_label_file = os.path.join(train_output_labels_folder, f\"{base_name}.txt\")\n",
    "            \n",
    "            with open(anno_file, \"r\", encoding=\"utf-8-sig\") as f, open(output_label_file, \"w\") as out_f:\n",
    "                for line in f:\n",
    "                    try:\n",
    "                        # Loại bỏ ký tự BOM nếu có\n",
    "                        line = line.lstrip('\\ufeff')\n",
    "\n",
    "                        # Tách các phần tử trong dòng annotation\n",
    "                        parts = line.strip().split(',')\n",
    "                        if len(parts) < 8:  # Nếu số phần tử không đủ, bỏ qua\n",
    "                            continue\n",
    "\n",
    "                        # Tách tọa độ x, y và văn bản\n",
    "                        x = list(map(int, parts[:8:2]))  # Tọa độ x\n",
    "                        y = list(map(int, parts[1:8:2]))  # Tọa độ y\n",
    "                        transcription = parts[8]  # Văn bản\n",
    "\n",
    "                        # # Nếu văn bản là '###', bỏ qua\n",
    "                        # if transcription == '###':\n",
    "                        #     continue\n",
    "                        \n",
    "                        # Tính toán bounding box YOLO\n",
    "                        x_center, y_center, bbox_width, bbox_height = polygon_to_yolo_bbox(x, y, width_img, height_img)\n",
    "                        \n",
    "                        # Nếu bounding box hợp lệ, đánh dấu\n",
    "                        if bbox_width > 0 and bbox_height > 0:\n",
    "                            valid_boxes = True\n",
    "                        \n",
    "                        # Gán class_id (ví dụ: 0 cho tất cả các lớp trong OCR)\n",
    "                        class_id = 0\n",
    "                        \n",
    "                        # Ghi vào file annotation\n",
    "                        out_f.write(f\"{class_id} {x_center} {y_center} {bbox_width} {bbox_height}\\n\")\n",
    "                    except Exception as e:\n",
    "                        print(f\"Lỗi xử lý dòng trong file {anno_file}: {line}\\nChi tiết lỗi: {e}\")\n",
    "            \n",
    "            # Chỉ lưu ảnh và file annotation nếu có ít nhất một bounding box hợp lệ\n",
    "            if valid_boxes:\n",
    "                img.save(output_image_path)  # Lưu ảnh vào thư mục output\n",
    "            else:\n",
    "                os.remove(output_label_file)  # Xóa file label nếu không có bounding box hợp lệ\n",
    "                print(f\"Không có bounding box hợp lệ cho ảnh {base_name}.jpg, file annotation không được lưu.\")\n",
    "                \n",
    "        except Exception as e:\n",
    "            print(f\"Lỗi xử lý file: {anno_file}\\nChi tiết lỗi: {e}\")"
   ]
  },
  {
   "cell_type": "code",
   "execution_count": 7,
   "id": "29e86bf1",
   "metadata": {
    "execution": {
     "iopub.execute_input": "2025-01-05T04:48:02.685266Z",
     "iopub.status.busy": "2025-01-05T04:48:02.685045Z",
     "iopub.status.idle": "2025-01-05T04:48:15.245255Z",
     "shell.execute_reply": "2025-01-05T04:48:15.244494Z"
    },
    "papermill": {
     "duration": 12.569541,
     "end_time": "2025-01-05T04:48:15.246855",
     "exception": false,
     "start_time": "2025-01-05T04:48:02.677314",
     "status": "completed"
    },
    "tags": []
   },
   "outputs": [],
   "source": [
    "Icidar2015_process_annotations(icdar2015_test_images_folder, icdar2015_test_labels_folder, icdar2015_test_output_images_folder, icdar2015_test_output_labels_folder)"
   ]
  },
  {
   "cell_type": "markdown",
   "id": "7a99ddd6",
   "metadata": {
    "papermill": {
     "duration": 0.007598,
     "end_time": "2025-01-05T04:48:15.262249",
     "exception": false,
     "start_time": "2025-01-05T04:48:15.254651",
     "status": "completed"
    },
    "tags": []
   },
   "source": [
    "# Total Dataset test\n"
   ]
  },
  {
   "cell_type": "code",
   "execution_count": 8,
   "id": "a73dfb6b",
   "metadata": {
    "execution": {
     "iopub.execute_input": "2025-01-05T04:48:15.278266Z",
     "iopub.status.busy": "2025-01-05T04:48:15.277962Z",
     "iopub.status.idle": "2025-01-05T04:48:15.287508Z",
     "shell.execute_reply": "2025-01-05T04:48:15.286689Z"
    },
    "papermill": {
     "duration": 0.018756,
     "end_time": "2025-01-05T04:48:15.288768",
     "exception": false,
     "start_time": "2025-01-05T04:48:15.270012",
     "status": "completed"
    },
    "tags": []
   },
   "outputs": [],
   "source": [
    "def Total_process_annotations(train_images_folder, train_labels_folder, train_output_images_folder, train_output_labels_folder):\n",
    "    # Tạo các thư mục đầu ra nếu chưa tồn tại\n",
    "    os.makedirs(train_output_images_folder, exist_ok=True)\n",
    "    os.makedirs(train_output_labels_folder, exist_ok=True)\n",
    "\n",
    "    # Hàm chuyển đổi tọa độ polygon sang YOLO bounding box\n",
    "    def polygon_to_yolo_bbox(x, y, width_img, height_img):\n",
    "        x_min, x_max = min(x), max(x)\n",
    "        y_min, y_max = min(y), max(y)\n",
    "        x_center = (x_min + x_max) / 2 / width_img\n",
    "        y_center = (y_min + y_max) / 2 / height_img\n",
    "        bbox_width = (x_max - x_min) / width_img\n",
    "        bbox_height = (y_max - y_min) / height_img\n",
    "        return x_center, y_center, bbox_width, bbox_height\n",
    "\n",
    "    # Duyệt qua các file annotation\n",
    "    annotation_files = glob.glob(os.path.join(train_labels_folder, \"*.txt\"))\n",
    "\n",
    "    for anno_file in annotation_files:\n",
    "        base_name = os.path.basename(anno_file).replace(\"poly_gt_\", \"\").replace(\".txt\", \"\")\n",
    "        image_path = os.path.join(train_images_folder, f\"{base_name}.jpg\")\n",
    "        \n",
    "        try:\n",
    "            # Mở ảnh để lấy kích thước\n",
    "            img = Image.open(image_path)\n",
    "            width_img, height_img = img.size\n",
    "\n",
    "            # Lưu ảnh vào thư mục đầu ra\n",
    "            output_image_path = os.path.join(train_output_images_folder, f\"{base_name}.jpg\")\n",
    "            \n",
    "            # Biến kiểm tra xem có bounding box hợp lệ không\n",
    "            valid_boxes = False\n",
    "            \n",
    "            # Lưu file annotation mới vào thư mục đầu ra\n",
    "            output_label_file = os.path.join(train_output_labels_folder, f\"{base_name}.txt\")\n",
    "            \n",
    "            with open(anno_file, \"r\") as f, open(output_label_file, \"w\") as out_f:\n",
    "                for line in f:\n",
    "                    try:\n",
    "                        # Tách các phần tử trong dòng annotation và bỏ qua các phần không cần thiết\n",
    "                        line = line.strip()\n",
    "                        if \"x: [[\" not in line or \"y: [[\" not in line:\n",
    "                            continue\n",
    "\n",
    "                        # Lấy phần tọa độ x và y\n",
    "                        x_part = line[line.index(\"x: [[\") + 5: line.index(\"]], y:\")]\n",
    "                        y_part = line[line.index(\"y: [[\") + 5: line.index(\"]], ornt:\")]\n",
    "\n",
    "                        # Chuyển đổi tọa độ x và y thành danh sách số\n",
    "                        x = list(map(int, x_part.split()))\n",
    "                        y = list(map(int, y_part.split()))\n",
    "\n",
    "                        # Bỏ qua nếu số điểm không đủ\n",
    "                        if len(x) < 4 or len(y) < 4:\n",
    "                            continue\n",
    "                        \n",
    "                        # Tính toán bounding box YOLO\n",
    "                        x_center, y_center, bbox_width, bbox_height = polygon_to_yolo_bbox(x, y, width_img, height_img)\n",
    "                        \n",
    "                        # Nếu bounding box hợp lệ, đánh dấu\n",
    "                        if bbox_width > 0 and bbox_height > 0:\n",
    "                            valid_boxes = True\n",
    "                        \n",
    "                        # Gán class_id (ví dụ: 0 cho tất cả các lớp trong OCR)\n",
    "                        class_id = 0\n",
    "                        \n",
    "                        # Ghi vào file annotation\n",
    "                        out_f.write(f\"{class_id} {x_center} {y_center} {bbox_width} {bbox_height}\\n\")\n",
    "                    except Exception as e:\n",
    "                        print(f\"Lỗi xử lý dòng trong file {anno_file}: {line}\\nChi tiết lỗi: {e}\")\n",
    "            \n",
    "            # Chỉ lưu ảnh và file annotation nếu có ít nhất một bounding box hợp lệ\n",
    "            if valid_boxes:\n",
    "                img.save(output_image_path)  # Lưu ảnh vào thư mục output\n",
    "            else:\n",
    "                os.remove(output_label_file)  # Xóa file label nếu không có bounding box hợp lệ\n",
    "                print(f\"Không có bounding box hợp lệ cho ảnh {base_name}.jpg, file annotation không được lưu.\")\n",
    "                \n",
    "        except Exception as e:\n",
    "            print(f\"Lỗi xử lý file: {anno_file}\\nChi tiết lỗi: {e}\")"
   ]
  },
  {
   "cell_type": "code",
   "execution_count": 9,
   "id": "1a09ad66",
   "metadata": {
    "execution": {
     "iopub.execute_input": "2025-01-05T04:48:15.303838Z",
     "iopub.status.busy": "2025-01-05T04:48:15.303567Z",
     "iopub.status.idle": "2025-01-05T04:48:26.092125Z",
     "shell.execute_reply": "2025-01-05T04:48:26.091102Z"
    },
    "papermill": {
     "duration": 10.797727,
     "end_time": "2025-01-05T04:48:26.093708",
     "exception": false,
     "start_time": "2025-01-05T04:48:15.295981",
     "status": "completed"
    },
    "tags": []
   },
   "outputs": [],
   "source": [
    "Total_process_annotations(total_test_images_folder, total_test_labels_folder, total_test_output_images_folder, total_test_output_labels_folder)\n"
   ]
  },
  {
   "cell_type": "markdown",
   "id": "b3aa1f26",
   "metadata": {
    "papermill": {
     "duration": 0.007009,
     "end_time": "2025-01-05T04:48:26.108663",
     "exception": false,
     "start_time": "2025-01-05T04:48:26.101654",
     "status": "completed"
    },
    "tags": []
   },
   "source": [
    "# BKAI DATASET TEST\n"
   ]
  },
  {
   "cell_type": "code",
   "execution_count": 10,
   "id": "a07d61b4",
   "metadata": {
    "execution": {
     "iopub.execute_input": "2025-01-05T04:48:26.124537Z",
     "iopub.status.busy": "2025-01-05T04:48:26.124195Z",
     "iopub.status.idle": "2025-01-05T04:48:26.134346Z",
     "shell.execute_reply": "2025-01-05T04:48:26.133451Z"
    },
    "papermill": {
     "duration": 0.019663,
     "end_time": "2025-01-05T04:48:26.135746",
     "exception": false,
     "start_time": "2025-01-05T04:48:26.116083",
     "status": "completed"
    },
    "tags": []
   },
   "outputs": [],
   "source": [
    "import os\n",
    "import glob\n",
    "from PIL import Image\n",
    "\n",
    "def test_process_annotations(train_images_folder, train_labels_folder, train_output_images_folder, train_output_labels_folder):\n",
    "    # Tạo các thư mục đầu ra nếu chưa tồn tại\n",
    "    os.makedirs(train_output_images_folder, exist_ok=True)\n",
    "    os.makedirs(train_output_labels_folder, exist_ok=True)\n",
    "\n",
    "    # Hàm chuyển đổi tọa độ polygon sang YOLO bounding box\n",
    "    def polygon_to_yolo_bbox(x, y, width_img, height_img):\n",
    "        x_min, x_max = min(x), max(x)\n",
    "        y_min, y_max = min(y), max(y)\n",
    "        x_center = (x_min + x_max) / 2 / width_img\n",
    "        y_center = (y_min + y_max) / 2 / height_img\n",
    "        bbox_width = (x_max - x_min) / width_img\n",
    "        bbox_height = (y_max - y_min) / height_img\n",
    "        return x_center, y_center, bbox_width, bbox_height\n",
    "\n",
    "    # Duyệt qua các file annotation\n",
    "    annotation_files = glob.glob(os.path.join(train_labels_folder, \"*.txt\"))\n",
    "\n",
    "    for anno_file in annotation_files:\n",
    "        base_name = os.path.basename(anno_file).replace(\"gt_\", \"\").replace(\".txt\", \"\")\n",
    "        image_path = os.path.join(train_images_folder, f\"{base_name}.jpg\")\n",
    "        \n",
    "        try:\n",
    "            # Mở ảnh để lấy kích thước\n",
    "            img = Image.open(image_path)\n",
    "            width_img, height_img = img.size\n",
    "\n",
    "            # Lưu ảnh vào thư mục đầu ra\n",
    "            output_image_path = os.path.join(train_output_images_folder, f\"{base_name}.jpg\")\n",
    "            \n",
    "            # Biến kiểm tra xem có bounding box hợp lệ không\n",
    "            valid_boxes = False\n",
    "            \n",
    "            # Lưu file annotation mới vào thư mục đầu ra\n",
    "            output_label_file = os.path.join(train_output_labels_folder, f\"{base_name}.txt\")\n",
    "            \n",
    "            with open(anno_file, \"r\", encoding=\"utf-8-sig\") as f, open(output_label_file, \"w\") as out_f:\n",
    "                for line in f:\n",
    "                    try:\n",
    "                        # Loại bỏ ký tự BOM nếu có\n",
    "                        line = line.lstrip('\\ufeff')\n",
    "\n",
    "                        # Tách các phần tử trong dòng annotation\n",
    "                        parts = line.strip().split(',')\n",
    "                        if len(parts) < 8:  # Nếu số phần tử không đủ, bỏ qua\n",
    "                            continue\n",
    "\n",
    "                        # Tách tọa độ x, y và văn bản\n",
    "                        x = list(map(int, parts[:8:2]))  # Tọa độ x\n",
    "                        y = list(map(int, parts[1:8:2]))  # Tọa độ y\n",
    "                        transcription = parts[8]  # Văn bản\n",
    "\n",
    "                        # Nếu bounding box không hợp lệ, bỏ qua\n",
    "                        x_center, y_center, bbox_width, bbox_height = polygon_to_yolo_bbox(x, y, width_img, height_img)\n",
    "                        if bbox_width > 0 and bbox_height > 0:\n",
    "                            valid_boxes = True\n",
    "                        \n",
    "                        # Gán class_id (ví dụ: 0 cho tất cả các lớp trong OCR)\n",
    "                        class_id = 0\n",
    "                        \n",
    "                        # Ghi vào file annotation\n",
    "                        out_f.write(f\"{class_id} {x_center} {y_center} {bbox_width} {bbox_height}\\n\")\n",
    "                    except Exception as e:\n",
    "                        print(f\"Lỗi xử lý dòng trong file {anno_file}: {line}\\nChi tiết lỗi: {e}\")\n",
    "            \n",
    "            # Chỉ lưu ảnh và file annotation nếu có ít nhất một bounding box hợp lệ\n",
    "            if valid_boxes:\n",
    "                # Chuyển đổi chế độ ảnh nếu cần thiết\n",
    "                if img.mode == \"RGBA\" or img.mode == \"P\":\n",
    "                    img = img.convert(\"RGB\")\n",
    "                img.save(output_image_path, \"JPEG\",quality=95)  # Lưu ảnh vào thư mục output\n",
    "            else:\n",
    "                os.remove(output_label_file)  # Xóa file label nếu không có bounding box hợp lệ\n",
    "                print(f\"Không có bounding box hợp lệ cho ảnh {base_name}.jpg, file annotation không được lưu.\")\n",
    "                \n",
    "        except Exception as e:\n",
    "            print(f\"Lỗi xử lý file: {anno_file}\\nChi tiết lỗi: {e}\")"
   ]
  },
  {
   "cell_type": "code",
   "execution_count": 11,
   "id": "32677b3c",
   "metadata": {
    "execution": {
     "iopub.execute_input": "2025-01-05T04:48:26.151469Z",
     "iopub.status.busy": "2025-01-05T04:48:26.151190Z",
     "iopub.status.idle": "2025-01-05T04:48:30.686866Z",
     "shell.execute_reply": "2025-01-05T04:48:30.685870Z"
    },
    "papermill": {
     "duration": 4.545356,
     "end_time": "2025-01-05T04:48:30.688584",
     "exception": false,
     "start_time": "2025-01-05T04:48:26.143228",
     "status": "completed"
    },
    "tags": []
   },
   "outputs": [],
   "source": [
    "test_images_folder = \"/kaggle/input/test-bkai/private_test_imgs\"\n",
    "test_labels_folder = \"/kaggle/input/test-bkai/groundtruth\"\n",
    "test_output_images_folder = \"/kaggle/working/test/images\"\n",
    "test_output_labels_folder = \"/kaggle/working/test/labels\"\n",
    "\n",
    "test_process_annotations(test_images_folder, test_labels_folder, test_output_images_folder, test_output_labels_folder)"
   ]
  },
  {
   "cell_type": "markdown",
   "id": "a990529a",
   "metadata": {
    "papermill": {
     "duration": 0.007074,
     "end_time": "2025-01-05T04:48:30.703554",
     "exception": false,
     "start_time": "2025-01-05T04:48:30.696480",
     "status": "completed"
    },
    "tags": []
   },
   "source": [
    "# Data yaml"
   ]
  },
  {
   "cell_type": "code",
   "execution_count": 12,
   "id": "f64d382b",
   "metadata": {
    "execution": {
     "iopub.execute_input": "2025-01-05T04:48:30.719211Z",
     "iopub.status.busy": "2025-01-05T04:48:30.718889Z",
     "iopub.status.idle": "2025-01-05T04:48:30.724544Z",
     "shell.execute_reply": "2025-01-05T04:48:30.723795Z"
    },
    "papermill": {
     "duration": 0.014733,
     "end_time": "2025-01-05T04:48:30.725721",
     "exception": false,
     "start_time": "2025-01-05T04:48:30.710988",
     "status": "completed"
    },
    "tags": []
   },
   "outputs": [
    {
     "name": "stdout",
     "output_type": "stream",
     "text": [
      "File 'data_BKAI.yaml' đã được tạo tại: /kaggle/working/data_BKAI.yaml\n"
     ]
    }
   ],
   "source": [
    "# Tạo đường dẫn tới file YAML\n",
    "dataset_dir = \"/kaggle/working\"\n",
    "os.makedirs(dataset_dir, exist_ok=True)\n",
    "yaml_file = os.path.join(dataset_dir, \"data_BKAI.yaml\")\n",
    "\n",
    "# Nội dung file YAML\n",
    "yaml_content = \"\"\"\n",
    "train: /kaggle/input/yolov8x-ocr/train/images\n",
    "val: /kaggle/working/test/images\n",
    "nc: 1\n",
    "names: ['text']  # Cập nhật nếu bạn có nhiều lớp\n",
    "\n",
    "\"\"\"\n",
    "\n",
    "# Ghi nội dung vào file YAML\n",
    "with open(yaml_file, \"w\") as f:\n",
    "    f.write(yaml_content.strip())\n",
    "\n",
    "print(f\"File 'data_BKAI.yaml' đã được tạo tại: {yaml_file}\")"
   ]
  },
  {
   "cell_type": "code",
   "execution_count": 13,
   "id": "81897789",
   "metadata": {
    "execution": {
     "iopub.execute_input": "2025-01-05T04:48:30.741256Z",
     "iopub.status.busy": "2025-01-05T04:48:30.741012Z",
     "iopub.status.idle": "2025-01-05T04:48:30.746123Z",
     "shell.execute_reply": "2025-01-05T04:48:30.745320Z"
    },
    "papermill": {
     "duration": 0.01416,
     "end_time": "2025-01-05T04:48:30.747289",
     "exception": false,
     "start_time": "2025-01-05T04:48:30.733129",
     "status": "completed"
    },
    "tags": []
   },
   "outputs": [
    {
     "name": "stdout",
     "output_type": "stream",
     "text": [
      "File 'data_Total.yaml' đã được tạo tại: /kaggle/working/data_Total.yaml\n"
     ]
    }
   ],
   "source": [
    "# Tạo đường dẫn tới file YAML\n",
    "dataset_dir = \"/kaggle/working\"\n",
    "os.makedirs(dataset_dir, exist_ok=True)\n",
    "yaml_file = os.path.join(dataset_dir, \"data_Total.yaml\")\n",
    "\n",
    "# Nội dung file YAML\n",
    "yaml_content = \"\"\"\n",
    "train: /kaggle/input/yolov8x-ocr/train/images\n",
    "val: /kaggle/working/test_total/images\n",
    "nc: 1\n",
    "names: ['text']  # Cập nhật nếu bạn có nhiều lớp\n",
    "\n",
    "\"\"\"\n",
    "\n",
    "# Ghi nội dung vào file YAML\n",
    "with open(yaml_file, \"w\") as f:\n",
    "    f.write(yaml_content.strip())\n",
    "\n",
    "print(f\"File 'data_Total.yaml' đã được tạo tại: {yaml_file}\")"
   ]
  },
  {
   "cell_type": "code",
   "execution_count": 14,
   "id": "a618e9c8",
   "metadata": {
    "execution": {
     "iopub.execute_input": "2025-01-05T04:48:30.762948Z",
     "iopub.status.busy": "2025-01-05T04:48:30.762677Z",
     "iopub.status.idle": "2025-01-05T04:48:30.767634Z",
     "shell.execute_reply": "2025-01-05T04:48:30.766906Z"
    },
    "papermill": {
     "duration": 0.01408,
     "end_time": "2025-01-05T04:48:30.768911",
     "exception": false,
     "start_time": "2025-01-05T04:48:30.754831",
     "status": "completed"
    },
    "tags": []
   },
   "outputs": [
    {
     "name": "stdout",
     "output_type": "stream",
     "text": [
      "File 'data_Icdar2015.yaml' đã được tạo tại: /kaggle/working/data_Icdar2015.yaml\n"
     ]
    }
   ],
   "source": [
    "# Tạo đường dẫn tới file YAML\n",
    "dataset_dir = \"/kaggle/working\"\n",
    "os.makedirs(dataset_dir, exist_ok=True)\n",
    "yaml_file = os.path.join(dataset_dir, \"data_Icdar2015.yaml\")\n",
    "\n",
    "# Nội dung file YAML\n",
    "yaml_content = \"\"\"\n",
    "train: /kaggle/input/yolov8x-ocr/train/images\n",
    "val: /kaggle/working/test_icdar2015/images\n",
    "nc: 1\n",
    "names: ['text']  # Cập nhật nếu bạn có nhiều lớp\n",
    "\n",
    "\"\"\"\n",
    "\n",
    "# Ghi nội dung vào file YAML\n",
    "with open(yaml_file, \"w\") as f:\n",
    "    f.write(yaml_content.strip())\n",
    "\n",
    "print(f\"File 'data_Icdar2015.yaml' đã được tạo tại: {yaml_file}\")"
   ]
  },
  {
   "cell_type": "markdown",
   "id": "19966992",
   "metadata": {
    "papermill": {
     "duration": 0.007102,
     "end_time": "2025-01-05T04:48:30.783505",
     "exception": false,
     "start_time": "2025-01-05T04:48:30.776403",
     "status": "completed"
    },
    "tags": []
   },
   "source": [
    "# Train lai - Step 2 - SGD ver 1\n",
    "\n"
   ]
  },
  {
   "cell_type": "code",
   "execution_count": 15,
   "id": "4e54f6c8",
   "metadata": {
    "execution": {
     "iopub.execute_input": "2025-01-05T04:48:30.798983Z",
     "iopub.status.busy": "2025-01-05T04:48:30.798710Z",
     "iopub.status.idle": "2025-01-05T04:48:49.143077Z",
     "shell.execute_reply": "2025-01-05T04:48:49.142248Z"
    },
    "papermill": {
     "duration": 18.353544,
     "end_time": "2025-01-05T04:48:49.144391",
     "exception": false,
     "start_time": "2025-01-05T04:48:30.790847",
     "status": "completed"
    },
    "tags": []
   },
   "outputs": [
    {
     "name": "stdout",
     "output_type": "stream",
     "text": [
      "Ultralytics 8.3.57 🚀 Python-3.10.12 torch-2.4.1+cu121 CUDA:0 (Tesla P100-PCIE-16GB, 16269MiB)\n",
      "Model summary (fused): 268 layers, 68,124,531 parameters, 0 gradients, 257.4 GFLOPs\n",
      "Downloading https://ultralytics.com/assets/Arial.ttf to '/root/.config/Ultralytics/Arial.ttf'...\n"
     ]
    },
    {
     "name": "stderr",
     "output_type": "stream",
     "text": [
      "100%|██████████| 755k/755k [00:00<00:00, 25.4MB/s]\n",
      "\u001b[34m\u001b[1mval: \u001b[0mScanning /kaggle/working/test/labels... 300 images, 0 backgrounds, 1 corrupt: 100%|██████████| 300/300 [00:00<00:00, 1191.98it/s]"
     ]
    },
    {
     "name": "stdout",
     "output_type": "stream",
     "text": [
      "\u001b[34m\u001b[1mval: \u001b[0mWARNING ⚠️ /kaggle/working/test/images/img_238.jpg: ignoring corrupt image/label: non-normalized or out of bounds coordinates [     1.1983]\n",
      "\u001b[34m\u001b[1mval: \u001b[0mNew cache created: /kaggle/working/test/labels.cache\n"
     ]
    },
    {
     "name": "stderr",
     "output_type": "stream",
     "text": [
      "\n",
      "                 Class     Images  Instances      Box(P          R      mAP50  mAP50-95): 100%|██████████| 19/19 [00:07<00:00,  2.46it/s]\n"
     ]
    },
    {
     "name": "stdout",
     "output_type": "stream",
     "text": [
      "                   all        299        866      0.899      0.857      0.907      0.622\n",
      "Speed: 0.5ms preprocess, 16.6ms inference, 0.0ms loss, 1.5ms postprocess per image\n",
      "Results saved to \u001b[1mruns/detect/val\u001b[0m\n",
      "Overall Metrics:\n",
      "Average Precision: 0.8994\n",
      "Average Recall: 0.8570\n",
      "Average F1-Score: 0.8777\n",
      "mAP50: 0.9071\n",
      "mAP50-95: 0.6221\n"
     ]
    }
   ],
   "source": [
    "from ultralytics import YOLO\n",
    "import os\n",
    "import cv2\n",
    "\n",
    "# Đường dẫn thư mục chứa các ảnh và mô hình YOLOv8\n",
    "image_path = '/kaggle/input/test-bkai/private_test_imgs'\n",
    "model_path = '/kaggle/input/optimizer-sgd/pytorch/default/1/Step 2/Step 2 Vinhx Ver 1/best.pt'\n",
    "\n",
    "# Load mô hình YOLOv8 từ đường dẫn\n",
    "model = YOLO(model_path)\n",
    "results = model.val(data='/kaggle/working/data_BKAI.yaml', imgsz=640)  # Đảm bảo rằng file data.yaml đúng với cấu trúc dữ liệu của bạn\n",
    "\n",
    "# Lấy các chỉ số từ kết quả\n",
    "precision = results.results_dict['metrics/precision(B)']\n",
    "recall = results.results_dict['metrics/recall(B)']\n",
    "mAP50 = results.results_dict['metrics/mAP50(B)']\n",
    "mAP50_95 = results.results_dict['metrics/mAP50-95(B)']\n",
    "\n",
    "# Tính F1-Score\n",
    "f1_score = 2 * (precision * recall) / (precision + recall) if (precision + recall) != 0 else 0\n",
    "\n",
    "# Hiển thị các chỉ số\n",
    "print(\"Overall Metrics:\")\n",
    "print(f\"Average Precision: {precision:.4f}\")\n",
    "print(f\"Average Recall: {recall:.4f}\")\n",
    "print(f\"Average F1-Score: {f1_score:.4f}\")\n",
    "print(f\"mAP50: {mAP50:.4f}\")\n",
    "print(f\"mAP50-95: {mAP50_95:.4f}\")"
   ]
  },
  {
   "cell_type": "code",
   "execution_count": 16,
   "id": "cba09763",
   "metadata": {
    "execution": {
     "iopub.execute_input": "2025-01-05T04:48:49.165842Z",
     "iopub.status.busy": "2025-01-05T04:48:49.165400Z",
     "iopub.status.idle": "2025-01-05T04:49:03.941530Z",
     "shell.execute_reply": "2025-01-05T04:49:03.940302Z"
    },
    "papermill": {
     "duration": 14.787981,
     "end_time": "2025-01-05T04:49:03.943306",
     "exception": false,
     "start_time": "2025-01-05T04:48:49.155325",
     "status": "completed"
    },
    "tags": []
   },
   "outputs": [
    {
     "name": "stdout",
     "output_type": "stream",
     "text": [
      "Ultralytics 8.3.57 🚀 Python-3.10.12 torch-2.4.1+cu121 CUDA:0 (Tesla P100-PCIE-16GB, 16269MiB)\n"
     ]
    },
    {
     "name": "stderr",
     "output_type": "stream",
     "text": [
      "\u001b[34m\u001b[1mval: \u001b[0mScanning /kaggle/working/test_icdar2015/labels... 500 images, 0 backgrounds, 0 corrupt: 100%|██████████| 500/500 [00:00<00:00, 1151.15it/s]"
     ]
    },
    {
     "name": "stdout",
     "output_type": "stream",
     "text": [
      "\u001b[34m\u001b[1mval: \u001b[0mNew cache created: /kaggle/working/test_icdar2015/labels.cache\n"
     ]
    },
    {
     "name": "stderr",
     "output_type": "stream",
     "text": [
      "\n",
      "                 Class     Images  Instances      Box(P          R      mAP50  mAP50-95): 100%|██████████| 32/32 [00:11<00:00,  2.77it/s]\n"
     ]
    },
    {
     "name": "stdout",
     "output_type": "stream",
     "text": [
      "                   all        500       5230      0.613      0.456      0.487      0.243\n",
      "Speed: 0.5ms preprocess, 16.4ms inference, 0.0ms loss, 1.7ms postprocess per image\n",
      "Results saved to \u001b[1mruns/detect/val2\u001b[0m\n",
      "Overall Metrics:\n",
      "Average Precision: 0.6130\n",
      "Average Recall: 0.4556\n",
      "Average F1-Score: 0.5227\n",
      "mAP50: 0.4870\n",
      "mAP50-95: 0.2430\n"
     ]
    }
   ],
   "source": [
    "results = model.val(data='/kaggle/working/data_Icdar2015.yaml', imgsz=640)  # Đảm bảo rằng file data.yaml đúng với cấu trúc dữ liệu của bạn\n",
    "\n",
    "# Lấy các chỉ số từ kết quả\n",
    "precision = results.results_dict['metrics/precision(B)']\n",
    "recall = results.results_dict['metrics/recall(B)']\n",
    "mAP50 = results.results_dict['metrics/mAP50(B)']\n",
    "mAP50_95 = results.results_dict['metrics/mAP50-95(B)']\n",
    "\n",
    "# Tính F1-Score\n",
    "f1_score = 2 * (precision * recall) / (precision + recall) if (precision + recall) != 0 else 0\n",
    "\n",
    "# Hiển thị các chỉ số\n",
    "print(\"Overall Metrics:\")\n",
    "print(f\"Average Precision: {precision:.4f}\")\n",
    "print(f\"Average Recall: {recall:.4f}\")\n",
    "print(f\"Average F1-Score: {f1_score:.4f}\")\n",
    "print(f\"mAP50: {mAP50:.4f}\")\n",
    "print(f\"mAP50-95: {mAP50_95:.4f}\")"
   ]
  },
  {
   "cell_type": "code",
   "execution_count": 17,
   "id": "98a02c26",
   "metadata": {
    "execution": {
     "iopub.execute_input": "2025-01-05T04:49:03.967514Z",
     "iopub.status.busy": "2025-01-05T04:49:03.967225Z",
     "iopub.status.idle": "2025-01-05T04:49:16.581861Z",
     "shell.execute_reply": "2025-01-05T04:49:16.580701Z"
    },
    "papermill": {
     "duration": 12.628503,
     "end_time": "2025-01-05T04:49:16.583617",
     "exception": false,
     "start_time": "2025-01-05T04:49:03.955114",
     "status": "completed"
    },
    "tags": []
   },
   "outputs": [
    {
     "name": "stdout",
     "output_type": "stream",
     "text": [
      "Ultralytics 8.3.57 🚀 Python-3.10.12 torch-2.4.1+cu121 CUDA:0 (Tesla P100-PCIE-16GB, 16269MiB)\n"
     ]
    },
    {
     "name": "stderr",
     "output_type": "stream",
     "text": [
      "\u001b[34m\u001b[1mval: \u001b[0mScanning /kaggle/working/test_total/labels... 300 images, 0 backgrounds, 0 corrupt: 100%|██████████| 300/300 [00:00<00:00, 1154.36it/s]"
     ]
    },
    {
     "name": "stdout",
     "output_type": "stream",
     "text": [
      "\u001b[34m\u001b[1mval: \u001b[0mNew cache created: /kaggle/working/test_total/labels.cache\n"
     ]
    },
    {
     "name": "stderr",
     "output_type": "stream",
     "text": [
      "\n",
      "                 Class     Images  Instances      Box(P          R      mAP50  mAP50-95): 100%|██████████| 19/19 [00:09<00:00,  2.10it/s]\n"
     ]
    },
    {
     "name": "stdout",
     "output_type": "stream",
     "text": [
      "                   all        300       2540      0.715      0.607      0.647        0.4\n",
      "Speed: 1.0ms preprocess, 22.2ms inference, 0.0ms loss, 2.2ms postprocess per image\n",
      "Results saved to \u001b[1mruns/detect/val3\u001b[0m\n",
      "Overall Metrics:\n",
      "Average Precision: 0.7146\n",
      "Average Recall: 0.6067\n",
      "Average F1-Score: 0.6562\n",
      "mAP50: 0.6472\n",
      "mAP50-95: 0.3997\n"
     ]
    }
   ],
   "source": [
    "results = model.val(data='/kaggle/working/data_Total.yaml', imgsz=640)  # Đảm bảo rằng file data.yaml đúng với cấu trúc dữ liệu của bạn\n",
    "\n",
    "# Lấy các chỉ số từ kết quả\n",
    "precision = results.results_dict['metrics/precision(B)']\n",
    "recall = results.results_dict['metrics/recall(B)']\n",
    "mAP50 = results.results_dict['metrics/mAP50(B)']\n",
    "mAP50_95 = results.results_dict['metrics/mAP50-95(B)']\n",
    "\n",
    "# Tính F1-Score\n",
    "f1_score = 2 * (precision * recall) / (precision + recall) if (precision + recall) != 0 else 0\n",
    "\n",
    "# Hiển thị các chỉ số\n",
    "print(\"Overall Metrics:\")\n",
    "print(f\"Average Precision: {precision:.4f}\")\n",
    "print(f\"Average Recall: {recall:.4f}\")\n",
    "print(f\"Average F1-Score: {f1_score:.4f}\")\n",
    "print(f\"mAP50: {mAP50:.4f}\")\n",
    "print(f\"mAP50-95: {mAP50_95:.4f}\")"
   ]
  },
  {
   "cell_type": "markdown",
   "id": "5804651c",
   "metadata": {
    "papermill": {
     "duration": 0.01387,
     "end_time": "2025-01-05T04:49:16.612191",
     "exception": false,
     "start_time": "2025-01-05T04:49:16.598321",
     "status": "completed"
    },
    "tags": []
   },
   "source": [
    "# Train lai - Step 2 - SGD ver 2\n",
    "\n"
   ]
  },
  {
   "cell_type": "code",
   "execution_count": 18,
   "id": "074083c4",
   "metadata": {
    "execution": {
     "iopub.execute_input": "2025-01-05T04:49:16.645378Z",
     "iopub.status.busy": "2025-01-05T04:49:16.644905Z",
     "iopub.status.idle": "2025-01-05T04:49:49.466599Z",
     "shell.execute_reply": "2025-01-05T04:49:49.465672Z"
    },
    "papermill": {
     "duration": 32.843018,
     "end_time": "2025-01-05T04:49:49.468203",
     "exception": false,
     "start_time": "2025-01-05T04:49:16.625185",
     "status": "completed"
    },
    "tags": []
   },
   "outputs": [
    {
     "name": "stdout",
     "output_type": "stream",
     "text": [
      "Ultralytics 8.3.57 🚀 Python-3.10.12 torch-2.4.1+cu121 CUDA:0 (Tesla P100-PCIE-16GB, 16269MiB)\n",
      "Model summary (fused): 268 layers, 68,124,531 parameters, 0 gradients, 257.4 GFLOPs\n"
     ]
    },
    {
     "name": "stderr",
     "output_type": "stream",
     "text": [
      "\u001b[34m\u001b[1mval: \u001b[0mScanning /kaggle/working/test/labels.cache... 300 images, 0 backgrounds, 1 corrupt: 100%|██████████| 300/300 [00:00<?, ?it/s]"
     ]
    },
    {
     "name": "stdout",
     "output_type": "stream",
     "text": [
      "\u001b[34m\u001b[1mval: \u001b[0mWARNING ⚠️ /kaggle/working/test/images/img_238.jpg: ignoring corrupt image/label: non-normalized or out of bounds coordinates [     1.1983]\n"
     ]
    },
    {
     "name": "stderr",
     "output_type": "stream",
     "text": [
      "\n",
      "                 Class     Images  Instances      Box(P          R      mAP50  mAP50-95): 100%|██████████| 19/19 [00:06<00:00,  2.99it/s]\n"
     ]
    },
    {
     "name": "stdout",
     "output_type": "stream",
     "text": [
      "                   all        299        866      0.915      0.851      0.915      0.639\n",
      "Speed: 0.3ms preprocess, 15.9ms inference, 0.0ms loss, 1.6ms postprocess per image\n",
      "Results saved to \u001b[1mruns/detect/val4\u001b[0m\n",
      "Overall Metrics:\n",
      "Average Precision: 0.9152\n",
      "Average Recall: 0.8510\n",
      "Average F1-Score: 0.8820\n",
      "mAP50: 0.9151\n",
      "mAP50-95: 0.6387\n"
     ]
    }
   ],
   "source": [
    "from ultralytics import YOLO\n",
    "import os\n",
    "import cv2\n",
    "\n",
    "# Đường dẫn thư mục chứa các ảnh và mô hình YOLOv8\n",
    "image_path = '/kaggle/input/test-bkai/private_test_imgs'\n",
    "model_path = '/kaggle/input/optimizer-sgd/pytorch/default/1/Step 2/Step 2 Vinhx Ver 2/best (1).pt'\n",
    "\n",
    "# Load mô hình YOLOv8 từ đường dẫn\n",
    "model = YOLO(model_path)\n",
    "results = model.val(data='/kaggle/working/data_BKAI.yaml', imgsz=640)  # Đảm bảo rằng file data.yaml đúng với cấu trúc dữ liệu của bạn\n",
    "\n",
    "# Lấy các chỉ số từ kết quả\n",
    "precision = results.results_dict['metrics/precision(B)']\n",
    "recall = results.results_dict['metrics/recall(B)']\n",
    "mAP50 = results.results_dict['metrics/mAP50(B)']\n",
    "mAP50_95 = results.results_dict['metrics/mAP50-95(B)']\n",
    "\n",
    "# Tính F1-Score\n",
    "f1_score = 2 * (precision * recall) / (precision + recall) if (precision + recall) != 0 else 0\n",
    "\n",
    "# Hiển thị các chỉ số\n",
    "print(\"Overall Metrics:\")\n",
    "print(f\"Average Precision: {precision:.4f}\")\n",
    "print(f\"Average Recall: {recall:.4f}\")\n",
    "print(f\"Average F1-Score: {f1_score:.4f}\")\n",
    "print(f\"mAP50: {mAP50:.4f}\")\n",
    "print(f\"mAP50-95: {mAP50_95:.4f}\")"
   ]
  },
  {
   "cell_type": "code",
   "execution_count": 19,
   "id": "f8161b71",
   "metadata": {
    "execution": {
     "iopub.execute_input": "2025-01-05T04:49:49.507447Z",
     "iopub.status.busy": "2025-01-05T04:49:49.507139Z",
     "iopub.status.idle": "2025-01-05T04:50:04.441514Z",
     "shell.execute_reply": "2025-01-05T04:50:04.440632Z"
    },
    "papermill": {
     "duration": 14.952758,
     "end_time": "2025-01-05T04:50:04.443025",
     "exception": false,
     "start_time": "2025-01-05T04:49:49.490267",
     "status": "completed"
    },
    "tags": []
   },
   "outputs": [
    {
     "name": "stdout",
     "output_type": "stream",
     "text": [
      "Ultralytics 8.3.57 🚀 Python-3.10.12 torch-2.4.1+cu121 CUDA:0 (Tesla P100-PCIE-16GB, 16269MiB)\n"
     ]
    },
    {
     "name": "stderr",
     "output_type": "stream",
     "text": [
      "\u001b[34m\u001b[1mval: \u001b[0mScanning /kaggle/working/test_icdar2015/labels.cache... 500 images, 0 backgrounds, 0 corrupt: 100%|██████████| 500/500 [00:00<?, ?it/s]\n",
      "                 Class     Images  Instances      Box(P          R      mAP50  mAP50-95): 100%|██████████| 32/32 [00:11<00:00,  2.76it/s]\n"
     ]
    },
    {
     "name": "stdout",
     "output_type": "stream",
     "text": [
      "                   all        500       5230      0.657      0.542      0.589      0.312\n",
      "Speed: 0.6ms preprocess, 16.0ms inference, 0.0ms loss, 2.2ms postprocess per image\n",
      "Results saved to \u001b[1mruns/detect/val5\u001b[0m\n",
      "Overall Metrics:\n",
      "Average Precision: 0.6571\n",
      "Average Recall: 0.5419\n",
      "Average F1-Score: 0.5940\n",
      "mAP50: 0.5894\n",
      "mAP50-95: 0.3117\n"
     ]
    }
   ],
   "source": [
    "results = model.val(data='/kaggle/working/data_Icdar2015.yaml', imgsz=640)  # Đảm bảo rằng file data.yaml đúng với cấu trúc dữ liệu của bạn\n",
    "\n",
    "# Lấy các chỉ số từ kết quả\n",
    "precision = results.results_dict['metrics/precision(B)']\n",
    "recall = results.results_dict['metrics/recall(B)']\n",
    "mAP50 = results.results_dict['metrics/mAP50(B)']\n",
    "mAP50_95 = results.results_dict['metrics/mAP50-95(B)']\n",
    "\n",
    "# Tính F1-Score\n",
    "f1_score = 2 * (precision * recall) / (precision + recall) if (precision + recall) != 0 else 0\n",
    "\n",
    "# Hiển thị các chỉ số\n",
    "print(\"Overall Metrics:\")\n",
    "print(f\"Average Precision: {precision:.4f}\")\n",
    "print(f\"Average Recall: {recall:.4f}\")\n",
    "print(f\"Average F1-Score: {f1_score:.4f}\")\n",
    "print(f\"mAP50: {mAP50:.4f}\")\n",
    "print(f\"mAP50-95: {mAP50_95:.4f}\")"
   ]
  },
  {
   "cell_type": "code",
   "execution_count": 20,
   "id": "17922cd7",
   "metadata": {
    "execution": {
     "iopub.execute_input": "2025-01-05T04:50:04.479010Z",
     "iopub.status.busy": "2025-01-05T04:50:04.478643Z",
     "iopub.status.idle": "2025-01-05T04:50:17.215597Z",
     "shell.execute_reply": "2025-01-05T04:50:17.214673Z"
    },
    "papermill": {
     "duration": 12.756081,
     "end_time": "2025-01-05T04:50:17.216990",
     "exception": false,
     "start_time": "2025-01-05T04:50:04.460909",
     "status": "completed"
    },
    "tags": []
   },
   "outputs": [
    {
     "name": "stdout",
     "output_type": "stream",
     "text": [
      "Ultralytics 8.3.57 🚀 Python-3.10.12 torch-2.4.1+cu121 CUDA:0 (Tesla P100-PCIE-16GB, 16269MiB)\n"
     ]
    },
    {
     "name": "stderr",
     "output_type": "stream",
     "text": [
      "\u001b[34m\u001b[1mval: \u001b[0mScanning /kaggle/working/test_total/labels.cache... 300 images, 0 backgrounds, 0 corrupt: 100%|██████████| 300/300 [00:00<?, ?it/s]\n",
      "                 Class     Images  Instances      Box(P          R      mAP50  mAP50-95): 100%|██████████| 19/19 [00:09<00:00,  2.01it/s]\n"
     ]
    },
    {
     "name": "stdout",
     "output_type": "stream",
     "text": [
      "                   all        300       2540      0.753      0.672       0.74      0.481\n",
      "Speed: 1.2ms preprocess, 20.5ms inference, 0.0ms loss, 4.2ms postprocess per image\n",
      "Results saved to \u001b[1mruns/detect/val6\u001b[0m\n",
      "Overall Metrics:\n",
      "Average Precision: 0.7531\n",
      "Average Recall: 0.6724\n",
      "Average F1-Score: 0.7105\n",
      "mAP50: 0.7400\n",
      "mAP50-95: 0.4812\n"
     ]
    }
   ],
   "source": [
    "results = model.val(data='/kaggle/working/data_Total.yaml', imgsz=640)  # Đảm bảo rằng file data.yaml đúng với cấu trúc dữ liệu của bạn\n",
    "\n",
    "# Lấy các chỉ số từ kết quả\n",
    "precision = results.results_dict['metrics/precision(B)']\n",
    "recall = results.results_dict['metrics/recall(B)']\n",
    "mAP50 = results.results_dict['metrics/mAP50(B)']\n",
    "mAP50_95 = results.results_dict['metrics/mAP50-95(B)']\n",
    "\n",
    "# Tính F1-Score\n",
    "f1_score = 2 * (precision * recall) / (precision + recall) if (precision + recall) != 0 else 0\n",
    "\n",
    "# Hiển thị các chỉ số\n",
    "print(\"Overall Metrics:\")\n",
    "print(f\"Average Precision: {precision:.4f}\")\n",
    "print(f\"Average Recall: {recall:.4f}\")\n",
    "print(f\"Average F1-Score: {f1_score:.4f}\")\n",
    "print(f\"mAP50: {mAP50:.4f}\")\n",
    "print(f\"mAP50-95: {mAP50_95:.4f}\")"
   ]
  },
  {
   "cell_type": "markdown",
   "id": "4ef0131b",
   "metadata": {
    "papermill": {
     "duration": 0.016896,
     "end_time": "2025-01-05T04:50:17.251415",
     "exception": false,
     "start_time": "2025-01-05T04:50:17.234519",
     "status": "completed"
    },
    "tags": []
   },
   "source": [
    "# Train lai - Step 2 - SGD ver 3\n"
   ]
  },
  {
   "cell_type": "code",
   "execution_count": 21,
   "id": "723e5495",
   "metadata": {
    "execution": {
     "iopub.execute_input": "2025-01-05T04:50:17.286845Z",
     "iopub.status.busy": "2025-01-05T04:50:17.286493Z",
     "iopub.status.idle": "2025-01-05T04:50:29.544020Z",
     "shell.execute_reply": "2025-01-05T04:50:29.543035Z"
    },
    "papermill": {
     "duration": 12.277062,
     "end_time": "2025-01-05T04:50:29.545374",
     "exception": false,
     "start_time": "2025-01-05T04:50:17.268312",
     "status": "completed"
    },
    "tags": []
   },
   "outputs": [
    {
     "name": "stdout",
     "output_type": "stream",
     "text": [
      "Ultralytics 8.3.57 🚀 Python-3.10.12 torch-2.4.1+cu121 CUDA:0 (Tesla P100-PCIE-16GB, 16269MiB)\n",
      "Model summary (fused): 268 layers, 68,124,531 parameters, 0 gradients, 257.4 GFLOPs\n"
     ]
    },
    {
     "name": "stderr",
     "output_type": "stream",
     "text": [
      "\u001b[34m\u001b[1mval: \u001b[0mScanning /kaggle/working/test/labels.cache... 300 images, 0 backgrounds, 1 corrupt: 100%|██████████| 300/300 [00:00<?, ?it/s]"
     ]
    },
    {
     "name": "stdout",
     "output_type": "stream",
     "text": [
      "\u001b[34m\u001b[1mval: \u001b[0mWARNING ⚠️ /kaggle/working/test/images/img_238.jpg: ignoring corrupt image/label: non-normalized or out of bounds coordinates [     1.1983]\n"
     ]
    },
    {
     "name": "stderr",
     "output_type": "stream",
     "text": [
      "\n",
      "                 Class     Images  Instances      Box(P          R      mAP50  mAP50-95): 100%|██████████| 19/19 [00:06<00:00,  2.98it/s]\n"
     ]
    },
    {
     "name": "stdout",
     "output_type": "stream",
     "text": [
      "                   all        299        866      0.924      0.843      0.915      0.631\n",
      "Speed: 0.6ms preprocess, 16.0ms inference, 0.0ms loss, 1.2ms postprocess per image\n",
      "Results saved to \u001b[1mruns/detect/val7\u001b[0m\n",
      "Overall Metrics:\n",
      "Average Precision: 0.9240\n",
      "Average Recall: 0.8429\n",
      "Average F1-Score: 0.8816\n",
      "mAP50: 0.9151\n",
      "mAP50-95: 0.6314\n"
     ]
    }
   ],
   "source": [
    "from ultralytics import YOLO\n",
    "import os\n",
    "import cv2\n",
    "\n",
    "# Đường dẫn thư mục chứa các ảnh và mô hình YOLOv8\n",
    "image_path = '/kaggle/input/test-bkai/private_test_imgs'\n",
    "model_path = '/kaggle/input/optimizer-sgd/pytorch/default/1/Step 2/Step 2 Vinhx Ver 3/best.pt'\n",
    "\n",
    "# Load mô hình YOLOv8 từ đường dẫn\n",
    "model = YOLO(model_path)\n",
    "results = model.val(data='/kaggle/working/data_BKAI.yaml', imgsz=640)  # Đảm bảo rằng file data.yaml đúng với cấu trúc dữ liệu của bạn\n",
    "\n",
    "# Lấy các chỉ số từ kết quả\n",
    "precision = results.results_dict['metrics/precision(B)']\n",
    "recall = results.results_dict['metrics/recall(B)']\n",
    "mAP50 = results.results_dict['metrics/mAP50(B)']\n",
    "mAP50_95 = results.results_dict['metrics/mAP50-95(B)']\n",
    "\n",
    "# Tính F1-Score\n",
    "f1_score = 2 * (precision * recall) / (precision + recall) if (precision + recall) != 0 else 0\n",
    "\n",
    "# Hiển thị các chỉ số\n",
    "print(\"Overall Metrics:\")\n",
    "print(f\"Average Precision: {precision:.4f}\")\n",
    "print(f\"Average Recall: {recall:.4f}\")\n",
    "print(f\"Average F1-Score: {f1_score:.4f}\")\n",
    "print(f\"mAP50: {mAP50:.4f}\")\n",
    "print(f\"mAP50-95: {mAP50_95:.4f}\")"
   ]
  },
  {
   "cell_type": "code",
   "execution_count": 22,
   "id": "db472a25",
   "metadata": {
    "execution": {
     "iopub.execute_input": "2025-01-05T04:50:29.584924Z",
     "iopub.status.busy": "2025-01-05T04:50:29.584575Z",
     "iopub.status.idle": "2025-01-05T04:50:44.374322Z",
     "shell.execute_reply": "2025-01-05T04:50:44.373357Z"
    },
    "papermill": {
     "duration": 14.811878,
     "end_time": "2025-01-05T04:50:44.376589",
     "exception": false,
     "start_time": "2025-01-05T04:50:29.564711",
     "status": "completed"
    },
    "tags": []
   },
   "outputs": [
    {
     "name": "stdout",
     "output_type": "stream",
     "text": [
      "Ultralytics 8.3.57 🚀 Python-3.10.12 torch-2.4.1+cu121 CUDA:0 (Tesla P100-PCIE-16GB, 16269MiB)\n"
     ]
    },
    {
     "name": "stderr",
     "output_type": "stream",
     "text": [
      "\u001b[34m\u001b[1mval: \u001b[0mScanning /kaggle/working/test_icdar2015/labels.cache... 500 images, 0 backgrounds, 0 corrupt: 100%|██████████| 500/500 [00:00<?, ?it/s]\n",
      "                 Class     Images  Instances      Box(P          R      mAP50  mAP50-95): 100%|██████████| 32/32 [00:11<00:00,  2.73it/s]\n"
     ]
    },
    {
     "name": "stdout",
     "output_type": "stream",
     "text": [
      "                   all        500       5230      0.663      0.532      0.583      0.307\n",
      "Speed: 0.6ms preprocess, 15.8ms inference, 0.0ms loss, 2.6ms postprocess per image\n",
      "Results saved to \u001b[1mruns/detect/val8\u001b[0m\n",
      "Overall Metrics:\n",
      "Average Precision: 0.6627\n",
      "Average Recall: 0.5320\n",
      "Average F1-Score: 0.5902\n",
      "mAP50: 0.5835\n",
      "mAP50-95: 0.3070\n"
     ]
    }
   ],
   "source": [
    "results = model.val(data='/kaggle/working/data_Icdar2015.yaml', imgsz=640)  # Đảm bảo rằng file data.yaml đúng với cấu trúc dữ liệu của bạn\n",
    "\n",
    "# Lấy các chỉ số từ kết quả\n",
    "precision = results.results_dict['metrics/precision(B)']\n",
    "recall = results.results_dict['metrics/recall(B)']\n",
    "mAP50 = results.results_dict['metrics/mAP50(B)']\n",
    "mAP50_95 = results.results_dict['metrics/mAP50-95(B)']\n",
    "\n",
    "# Tính F1-Score\n",
    "f1_score = 2 * (precision * recall) / (precision + recall) if (precision + recall) != 0 else 0\n",
    "\n",
    "# Hiển thị các chỉ số\n",
    "print(\"Overall Metrics:\")\n",
    "print(f\"Average Precision: {precision:.4f}\")\n",
    "print(f\"Average Recall: {recall:.4f}\")\n",
    "print(f\"Average F1-Score: {f1_score:.4f}\")\n",
    "print(f\"mAP50: {mAP50:.4f}\")\n",
    "print(f\"mAP50-95: {mAP50_95:.4f}\")"
   ]
  },
  {
   "cell_type": "code",
   "execution_count": 23,
   "id": "6cdd89d9",
   "metadata": {
    "execution": {
     "iopub.execute_input": "2025-01-05T04:50:44.420289Z",
     "iopub.status.busy": "2025-01-05T04:50:44.419975Z",
     "iopub.status.idle": "2025-01-05T04:52:37.577929Z",
     "shell.execute_reply": "2025-01-05T04:52:37.576944Z"
    },
    "papermill": {
     "duration": 113.181277,
     "end_time": "2025-01-05T04:52:37.579333",
     "exception": false,
     "start_time": "2025-01-05T04:50:44.398056",
     "status": "completed"
    },
    "tags": []
   },
   "outputs": [
    {
     "name": "stdout",
     "output_type": "stream",
     "text": [
      "Ultralytics 8.3.57 🚀 Python-3.10.12 torch-2.4.1+cu121 CUDA:0 (Tesla P100-PCIE-16GB, 16269MiB)\n"
     ]
    },
    {
     "name": "stderr",
     "output_type": "stream",
     "text": [
      "\u001b[34m\u001b[1mval: \u001b[0mScanning /kaggle/working/test_total/labels.cache... 300 images, 0 backgrounds, 0 corrupt: 100%|██████████| 300/300 [00:00<?, ?it/s]\n",
      "                 Class     Images  Instances      Box(P          R      mAP50  mAP50-95): 100%|██████████| 19/19 [00:09<00:00,  1.99it/s]\n"
     ]
    },
    {
     "name": "stdout",
     "output_type": "stream",
     "text": [
      "                   all        300       2540      0.743      0.681      0.736      0.474\n",
      "Speed: 0.8ms preprocess, 21.9ms inference, 0.0ms loss, 3.4ms postprocess per image\n",
      "Results saved to \u001b[1mruns/detect/val9\u001b[0m\n",
      "Overall Metrics:\n",
      "Average Precision: 0.7427\n",
      "Average Recall: 0.6807\n",
      "Average F1-Score: 0.7104\n",
      "mAP50: 0.7361\n",
      "mAP50-95: 0.4742\n"
     ]
    }
   ],
   "source": [
    "results = model.val(data='/kaggle/working/data_Total.yaml', imgsz=640)  # Đảm bảo rằng file data.yaml đúng với cấu trúc dữ liệu của bạn\n",
    "\n",
    "# Lấy các chỉ số từ kết quả\n",
    "precision = results.results_dict['metrics/precision(B)']\n",
    "recall = results.results_dict['metrics/recall(B)']\n",
    "mAP50 = results.results_dict['metrics/mAP50(B)']\n",
    "mAP50_95 = results.results_dict['metrics/mAP50-95(B)']\n",
    "\n",
    "# Tính F1-Score\n",
    "f1_score = 2 * (precision * recall) / (precision + recall) if (precision + recall) != 0 else 0\n",
    "\n",
    "# Hiển thị các chỉ số\n",
    "print(\"Overall Metrics:\")\n",
    "print(f\"Average Precision: {precision:.4f}\")\n",
    "print(f\"Average Recall: {recall:.4f}\")\n",
    "print(f\"Average F1-Score: {f1_score:.4f}\")\n",
    "print(f\"mAP50: {mAP50:.4f}\")\n",
    "print(f\"mAP50-95: {mAP50_95:.4f}\")"
   ]
  },
  {
   "cell_type": "markdown",
   "id": "1665617d",
   "metadata": {
    "papermill": {
     "duration": 0.02149,
     "end_time": "2025-01-05T04:52:37.623086",
     "exception": false,
     "start_time": "2025-01-05T04:52:37.601596",
     "status": "completed"
    },
    "tags": []
   },
   "source": [
    "# Train lai - Step 2 - AdamW ver 1\n"
   ]
  },
  {
   "cell_type": "code",
   "execution_count": 24,
   "id": "5f2154c1",
   "metadata": {
    "execution": {
     "iopub.execute_input": "2025-01-05T04:52:37.682842Z",
     "iopub.status.busy": "2025-01-05T04:52:37.682360Z",
     "iopub.status.idle": "2025-01-05T04:52:49.883187Z",
     "shell.execute_reply": "2025-01-05T04:52:49.882049Z"
    },
    "papermill": {
     "duration": 12.233637,
     "end_time": "2025-01-05T04:52:49.884538",
     "exception": false,
     "start_time": "2025-01-05T04:52:37.650901",
     "status": "completed"
    },
    "tags": []
   },
   "outputs": [
    {
     "name": "stdout",
     "output_type": "stream",
     "text": [
      "Ultralytics 8.3.57 🚀 Python-3.10.12 torch-2.4.1+cu121 CUDA:0 (Tesla P100-PCIE-16GB, 16269MiB)\n",
      "Model summary (fused): 268 layers, 68,124,531 parameters, 0 gradients, 257.4 GFLOPs\n"
     ]
    },
    {
     "name": "stderr",
     "output_type": "stream",
     "text": [
      "\u001b[34m\u001b[1mval: \u001b[0mScanning /kaggle/working/test/labels.cache... 300 images, 0 backgrounds, 1 corrupt: 100%|██████████| 300/300 [00:00<?, ?it/s]"
     ]
    },
    {
     "name": "stdout",
     "output_type": "stream",
     "text": [
      "\u001b[34m\u001b[1mval: \u001b[0mWARNING ⚠️ /kaggle/working/test/images/img_238.jpg: ignoring corrupt image/label: non-normalized or out of bounds coordinates [     1.1983]\n"
     ]
    },
    {
     "name": "stderr",
     "output_type": "stream",
     "text": [
      "\n",
      "                 Class     Images  Instances      Box(P          R      mAP50  mAP50-95): 100%|██████████| 19/19 [00:06<00:00,  3.05it/s]\n"
     ]
    },
    {
     "name": "stdout",
     "output_type": "stream",
     "text": [
      "                   all        299        866      0.884        0.8      0.875      0.582\n",
      "Speed: 0.3ms preprocess, 15.5ms inference, 0.0ms loss, 1.8ms postprocess per image\n",
      "Results saved to \u001b[1mruns/detect/val10\u001b[0m\n",
      "Overall Metrics:\n",
      "Average Precision: 0.8839\n",
      "Average Recall: 0.8000\n",
      "Average F1-Score: 0.8399\n",
      "mAP50: 0.8748\n",
      "mAP50-95: 0.5819\n"
     ]
    }
   ],
   "source": [
    "from ultralytics import YOLO\n",
    "import os\n",
    "import cv2\n",
    "\n",
    "# Đường dẫn thư mục chứa các ảnh và mô hình YOLOv8\n",
    "image_path = '/kaggle/input/test-bkai/private_test_imgs'\n",
    "model_path = '/kaggle/input/optimizer-adamw/pytorch/default/1/Step 2/Step 2 UIT ver 1/best (1).pt'\n",
    "\n",
    "# Load mô hình YOLOv8 từ đường dẫn\n",
    "model = YOLO(model_path)\n",
    "results = model.val(data='/kaggle/working/data_BKAI.yaml', imgsz=640)  # Đảm bảo rằng file data.yaml đúng với cấu trúc dữ liệu của bạn\n",
    "\n",
    "# Lấy các chỉ số từ kết quả\n",
    "precision = results.results_dict['metrics/precision(B)']\n",
    "recall = results.results_dict['metrics/recall(B)']\n",
    "mAP50 = results.results_dict['metrics/mAP50(B)']\n",
    "mAP50_95 = results.results_dict['metrics/mAP50-95(B)']\n",
    "\n",
    "# Tính F1-Score\n",
    "f1_score = 2 * (precision * recall) / (precision + recall) if (precision + recall) != 0 else 0\n",
    "\n",
    "# Hiển thị các chỉ số\n",
    "print(\"Overall Metrics:\")\n",
    "print(f\"Average Precision: {precision:.4f}\")\n",
    "print(f\"Average Recall: {recall:.4f}\")\n",
    "print(f\"Average F1-Score: {f1_score:.4f}\")\n",
    "print(f\"mAP50: {mAP50:.4f}\")\n",
    "print(f\"mAP50-95: {mAP50_95:.4f}\")"
   ]
  },
  {
   "cell_type": "code",
   "execution_count": 25,
   "id": "20cd39f9",
   "metadata": {
    "execution": {
     "iopub.execute_input": "2025-01-05T04:52:49.932515Z",
     "iopub.status.busy": "2025-01-05T04:52:49.932179Z",
     "iopub.status.idle": "2025-01-05T04:53:05.409824Z",
     "shell.execute_reply": "2025-01-05T04:53:05.408672Z"
    },
    "papermill": {
     "duration": 15.503122,
     "end_time": "2025-01-05T04:53:05.411385",
     "exception": false,
     "start_time": "2025-01-05T04:52:49.908263",
     "status": "completed"
    },
    "tags": []
   },
   "outputs": [
    {
     "name": "stdout",
     "output_type": "stream",
     "text": [
      "Ultralytics 8.3.57 🚀 Python-3.10.12 torch-2.4.1+cu121 CUDA:0 (Tesla P100-PCIE-16GB, 16269MiB)\n"
     ]
    },
    {
     "name": "stderr",
     "output_type": "stream",
     "text": [
      "\u001b[34m\u001b[1mval: \u001b[0mScanning /kaggle/working/test_icdar2015/labels.cache... 500 images, 0 backgrounds, 0 corrupt: 100%|██████████| 500/500 [00:00<?, ?it/s]\n",
      "                 Class     Images  Instances      Box(P          R      mAP50  mAP50-95): 100%|██████████| 32/32 [00:12<00:00,  2.66it/s]\n"
     ]
    },
    {
     "name": "stdout",
     "output_type": "stream",
     "text": [
      "                   all        500       5230      0.666       0.51      0.559      0.291\n",
      "Speed: 0.5ms preprocess, 16.1ms inference, 0.0ms loss, 2.7ms postprocess per image\n",
      "Results saved to \u001b[1mruns/detect/val11\u001b[0m\n",
      "Overall Metrics:\n",
      "Average Precision: 0.6656\n",
      "Average Recall: 0.5101\n",
      "Average F1-Score: 0.5776\n",
      "mAP50: 0.5591\n",
      "mAP50-95: 0.2915\n"
     ]
    }
   ],
   "source": [
    "results = model.val(data='/kaggle/working/data_Icdar2015.yaml', imgsz=640)  # Đảm bảo rằng file data.yaml đúng với cấu trúc dữ liệu của bạn\n",
    "\n",
    "# Lấy các chỉ số từ kết quả\n",
    "precision = results.results_dict['metrics/precision(B)']\n",
    "recall = results.results_dict['metrics/recall(B)']\n",
    "mAP50 = results.results_dict['metrics/mAP50(B)']\n",
    "mAP50_95 = results.results_dict['metrics/mAP50-95(B)']\n",
    "\n",
    "# Tính F1-Score\n",
    "f1_score = 2 * (precision * recall) / (precision + recall) if (precision + recall) != 0 else 0\n",
    "\n",
    "# Hiển thị các chỉ số\n",
    "print(\"Overall Metrics:\")\n",
    "print(f\"Average Precision: {precision:.4f}\")\n",
    "print(f\"Average Recall: {recall:.4f}\")\n",
    "print(f\"Average F1-Score: {f1_score:.4f}\")\n",
    "print(f\"mAP50: {mAP50:.4f}\")\n",
    "print(f\"mAP50-95: {mAP50_95:.4f}\")"
   ]
  },
  {
   "cell_type": "code",
   "execution_count": 26,
   "id": "22ef6b40",
   "metadata": {
    "execution": {
     "iopub.execute_input": "2025-01-05T04:53:05.464508Z",
     "iopub.status.busy": "2025-01-05T04:53:05.464137Z",
     "iopub.status.idle": "2025-01-05T04:53:18.063829Z",
     "shell.execute_reply": "2025-01-05T04:53:18.062928Z"
    },
    "papermill": {
     "duration": 12.627167,
     "end_time": "2025-01-05T04:53:18.065201",
     "exception": false,
     "start_time": "2025-01-05T04:53:05.438034",
     "status": "completed"
    },
    "tags": []
   },
   "outputs": [
    {
     "name": "stdout",
     "output_type": "stream",
     "text": [
      "Ultralytics 8.3.57 🚀 Python-3.10.12 torch-2.4.1+cu121 CUDA:0 (Tesla P100-PCIE-16GB, 16269MiB)\n"
     ]
    },
    {
     "name": "stderr",
     "output_type": "stream",
     "text": [
      "\u001b[34m\u001b[1mval: \u001b[0mScanning /kaggle/working/test_total/labels.cache... 300 images, 0 backgrounds, 0 corrupt: 100%|██████████| 300/300 [00:00<?, ?it/s]\n",
      "                 Class     Images  Instances      Box(P          R      mAP50  mAP50-95): 100%|██████████| 19/19 [00:09<00:00,  2.06it/s]\n"
     ]
    },
    {
     "name": "stdout",
     "output_type": "stream",
     "text": [
      "                   all        300       2540      0.751      0.652      0.711       0.45\n",
      "Speed: 1.0ms preprocess, 21.1ms inference, 0.0ms loss, 2.3ms postprocess per image\n",
      "Results saved to \u001b[1mruns/detect/val12\u001b[0m\n",
      "Overall Metrics:\n",
      "Average Precision: 0.7508\n",
      "Average Recall: 0.6516\n",
      "Average F1-Score: 0.6977\n",
      "mAP50: 0.7111\n",
      "mAP50-95: 0.4502\n"
     ]
    }
   ],
   "source": [
    "results = model.val(data='/kaggle/working/data_Total.yaml', imgsz=640)  # Đảm bảo rằng file data.yaml đúng với cấu trúc dữ liệu của bạn\n",
    "\n",
    "# Lấy các chỉ số từ kết quả\n",
    "precision = results.results_dict['metrics/precision(B)']\n",
    "recall = results.results_dict['metrics/recall(B)']\n",
    "mAP50 = results.results_dict['metrics/mAP50(B)']\n",
    "mAP50_95 = results.results_dict['metrics/mAP50-95(B)']\n",
    "\n",
    "# Tính F1-Score\n",
    "f1_score = 2 * (precision * recall) / (precision + recall) if (precision + recall) != 0 else 0\n",
    "\n",
    "# Hiển thị các chỉ số\n",
    "print(\"Overall Metrics:\")\n",
    "print(f\"Average Precision: {precision:.4f}\")\n",
    "print(f\"Average Recall: {recall:.4f}\")\n",
    "print(f\"Average F1-Score: {f1_score:.4f}\")\n",
    "print(f\"mAP50: {mAP50:.4f}\")\n",
    "print(f\"mAP50-95: {mAP50_95:.4f}\")"
   ]
  },
  {
   "cell_type": "markdown",
   "id": "c73797bb",
   "metadata": {
    "papermill": {
     "duration": 0.026802,
     "end_time": "2025-01-05T04:53:18.119358",
     "exception": false,
     "start_time": "2025-01-05T04:53:18.092556",
     "status": "completed"
    },
    "tags": []
   },
   "source": [
    "# Train lai - Step 2 - AdamW ver 2\n"
   ]
  },
  {
   "cell_type": "code",
   "execution_count": 27,
   "id": "438b2347",
   "metadata": {
    "execution": {
     "iopub.execute_input": "2025-01-05T04:53:18.173629Z",
     "iopub.status.busy": "2025-01-05T04:53:18.173302Z",
     "iopub.status.idle": "2025-01-05T04:54:50.787638Z",
     "shell.execute_reply": "2025-01-05T04:54:50.786870Z"
    },
    "papermill": {
     "duration": 92.643251,
     "end_time": "2025-01-05T04:54:50.789083",
     "exception": false,
     "start_time": "2025-01-05T04:53:18.145832",
     "status": "completed"
    },
    "tags": []
   },
   "outputs": [
    {
     "name": "stdout",
     "output_type": "stream",
     "text": [
      "Ultralytics 8.3.57 🚀 Python-3.10.12 torch-2.4.1+cu121 CUDA:0 (Tesla P100-PCIE-16GB, 16269MiB)\n",
      "Model summary (fused): 268 layers, 68,124,531 parameters, 0 gradients, 257.4 GFLOPs\n"
     ]
    },
    {
     "name": "stderr",
     "output_type": "stream",
     "text": [
      "\u001b[34m\u001b[1mval: \u001b[0mScanning /kaggle/working/test/labels.cache... 300 images, 0 backgrounds, 1 corrupt: 100%|██████████| 300/300 [00:00<?, ?it/s]"
     ]
    },
    {
     "name": "stdout",
     "output_type": "stream",
     "text": [
      "\u001b[34m\u001b[1mval: \u001b[0mWARNING ⚠️ /kaggle/working/test/images/img_238.jpg: ignoring corrupt image/label: non-normalized or out of bounds coordinates [     1.1983]\n"
     ]
    },
    {
     "name": "stderr",
     "output_type": "stream",
     "text": [
      "\n",
      "                 Class     Images  Instances      Box(P          R      mAP50  mAP50-95): 100%|██████████| 19/19 [00:06<00:00,  3.04it/s]\n"
     ]
    },
    {
     "name": "stdout",
     "output_type": "stream",
     "text": [
      "                   all        299        866      0.883      0.738       0.83      0.541\n",
      "Speed: 0.6ms preprocess, 16.2ms inference, 0.0ms loss, 0.9ms postprocess per image\n",
      "Results saved to \u001b[1mruns/detect/val13\u001b[0m\n",
      "Overall Metrics:\n",
      "Average Precision: 0.8825\n",
      "Average Recall: 0.7375\n",
      "Average F1-Score: 0.8035\n",
      "mAP50: 0.8304\n",
      "mAP50-95: 0.5410\n"
     ]
    }
   ],
   "source": [
    "from ultralytics import YOLO\n",
    "import os\n",
    "import cv2\n",
    "\n",
    "# Đường dẫn thư mục chứa các ảnh và mô hình YOLOv8\n",
    "image_path = '/kaggle/input/test-bkai/private_test_imgs'\n",
    "model_path = '/kaggle/input/optimizer-adamw/pytorch/default/1/Step 2/Step 2 UIT Ver 2/best.pt'\n",
    "\n",
    "# Load mô hình YOLOv8 từ đường dẫn\n",
    "model = YOLO(model_path)\n",
    "results = model.val(data='/kaggle/working/data_BKAI.yaml', imgsz=640)  # Đảm bảo rằng file data.yaml đúng với cấu trúc dữ liệu của bạn\n",
    "\n",
    "# Lấy các chỉ số từ kết quả\n",
    "precision = results.results_dict['metrics/precision(B)']\n",
    "recall = results.results_dict['metrics/recall(B)']\n",
    "mAP50 = results.results_dict['metrics/mAP50(B)']\n",
    "mAP50_95 = results.results_dict['metrics/mAP50-95(B)']\n",
    "\n",
    "# Tính F1-Score\n",
    "f1_score = 2 * (precision * recall) / (precision + recall) if (precision + recall) != 0 else 0\n",
    "\n",
    "# Hiển thị các chỉ số\n",
    "print(\"Overall Metrics:\")\n",
    "print(f\"Average Precision: {precision:.4f}\")\n",
    "print(f\"Average Recall: {recall:.4f}\")\n",
    "print(f\"Average F1-Score: {f1_score:.4f}\")\n",
    "print(f\"mAP50: {mAP50:.4f}\")\n",
    "print(f\"mAP50-95: {mAP50_95:.4f}\")"
   ]
  },
  {
   "cell_type": "code",
   "execution_count": 28,
   "id": "a25266e1",
   "metadata": {
    "execution": {
     "iopub.execute_input": "2025-01-05T04:54:50.847375Z",
     "iopub.status.busy": "2025-01-05T04:54:50.847051Z",
     "iopub.status.idle": "2025-01-05T04:55:05.920566Z",
     "shell.execute_reply": "2025-01-05T04:55:05.919643Z"
    },
    "papermill": {
     "duration": 15.103794,
     "end_time": "2025-01-05T04:55:05.921980",
     "exception": false,
     "start_time": "2025-01-05T04:54:50.818186",
     "status": "completed"
    },
    "tags": []
   },
   "outputs": [
    {
     "name": "stdout",
     "output_type": "stream",
     "text": [
      "Ultralytics 8.3.57 🚀 Python-3.10.12 torch-2.4.1+cu121 CUDA:0 (Tesla P100-PCIE-16GB, 16269MiB)\n"
     ]
    },
    {
     "name": "stderr",
     "output_type": "stream",
     "text": [
      "\u001b[34m\u001b[1mval: \u001b[0mScanning /kaggle/working/test_icdar2015/labels.cache... 500 images, 0 backgrounds, 0 corrupt: 100%|██████████| 500/500 [00:00<?, ?it/s]\n",
      "                 Class     Images  Instances      Box(P          R      mAP50  mAP50-95): 100%|██████████| 32/32 [00:11<00:00,  2.75it/s]\n"
     ]
    },
    {
     "name": "stdout",
     "output_type": "stream",
     "text": [
      "                   all        500       5230      0.653      0.508      0.546      0.282\n",
      "Speed: 0.4ms preprocess, 15.5ms inference, 0.0ms loss, 3.0ms postprocess per image\n",
      "Results saved to \u001b[1mruns/detect/val14\u001b[0m\n",
      "Overall Metrics:\n",
      "Average Precision: 0.6535\n",
      "Average Recall: 0.5077\n",
      "Average F1-Score: 0.5714\n",
      "mAP50: 0.5464\n",
      "mAP50-95: 0.2820\n"
     ]
    }
   ],
   "source": [
    "results = model.val(data='/kaggle/working/data_Icdar2015.yaml', imgsz=640)  # Đảm bảo rằng file data.yaml đúng với cấu trúc dữ liệu của bạn\n",
    "\n",
    "# Lấy các chỉ số từ kết quả\n",
    "precision = results.results_dict['metrics/precision(B)']\n",
    "recall = results.results_dict['metrics/recall(B)']\n",
    "mAP50 = results.results_dict['metrics/mAP50(B)']\n",
    "mAP50_95 = results.results_dict['metrics/mAP50-95(B)']\n",
    "\n",
    "# Tính F1-Score\n",
    "f1_score = 2 * (precision * recall) / (precision + recall) if (precision + recall) != 0 else 0\n",
    "\n",
    "# Hiển thị các chỉ số\n",
    "print(\"Overall Metrics:\")\n",
    "print(f\"Average Precision: {precision:.4f}\")\n",
    "print(f\"Average Recall: {recall:.4f}\")\n",
    "print(f\"Average F1-Score: {f1_score:.4f}\")\n",
    "print(f\"mAP50: {mAP50:.4f}\")\n",
    "print(f\"mAP50-95: {mAP50_95:.4f}\")"
   ]
  },
  {
   "cell_type": "code",
   "execution_count": 29,
   "id": "fdd79e24",
   "metadata": {
    "execution": {
     "iopub.execute_input": "2025-01-05T04:55:05.983554Z",
     "iopub.status.busy": "2025-01-05T04:55:05.983219Z",
     "iopub.status.idle": "2025-01-05T04:55:18.319617Z",
     "shell.execute_reply": "2025-01-05T04:55:18.318659Z"
    },
    "papermill": {
     "duration": 12.36867,
     "end_time": "2025-01-05T04:55:18.321101",
     "exception": false,
     "start_time": "2025-01-05T04:55:05.952431",
     "status": "completed"
    },
    "tags": []
   },
   "outputs": [
    {
     "name": "stdout",
     "output_type": "stream",
     "text": [
      "Ultralytics 8.3.57 🚀 Python-3.10.12 torch-2.4.1+cu121 CUDA:0 (Tesla P100-PCIE-16GB, 16269MiB)\n"
     ]
    },
    {
     "name": "stderr",
     "output_type": "stream",
     "text": [
      "\u001b[34m\u001b[1mval: \u001b[0mScanning /kaggle/working/test_total/labels.cache... 300 images, 0 backgrounds, 0 corrupt: 100%|██████████| 300/300 [00:00<?, ?it/s]\n",
      "                 Class     Images  Instances      Box(P          R      mAP50  mAP50-95): 100%|██████████| 19/19 [00:09<00:00,  2.06it/s]\n"
     ]
    },
    {
     "name": "stdout",
     "output_type": "stream",
     "text": [
      "                   all        300       2540       0.66      0.596      0.627      0.376\n",
      "Speed: 0.7ms preprocess, 21.4ms inference, 0.0ms loss, 2.9ms postprocess per image\n",
      "Results saved to \u001b[1mruns/detect/val15\u001b[0m\n",
      "Overall Metrics:\n",
      "Average Precision: 0.6596\n",
      "Average Recall: 0.5964\n",
      "Average F1-Score: 0.6264\n",
      "mAP50: 0.6269\n",
      "mAP50-95: 0.3764\n"
     ]
    }
   ],
   "source": [
    "results = model.val(data='/kaggle/working/data_Total.yaml', imgsz=640)  # Đảm bảo rằng file data.yaml đúng với cấu trúc dữ liệu của bạn\n",
    "\n",
    "# Lấy các chỉ số từ kết quả\n",
    "precision = results.results_dict['metrics/precision(B)']\n",
    "recall = results.results_dict['metrics/recall(B)']\n",
    "mAP50 = results.results_dict['metrics/mAP50(B)']\n",
    "mAP50_95 = results.results_dict['metrics/mAP50-95(B)']\n",
    "\n",
    "# Tính F1-Score\n",
    "f1_score = 2 * (precision * recall) / (precision + recall) if (precision + recall) != 0 else 0\n",
    "\n",
    "# Hiển thị các chỉ số\n",
    "print(\"Overall Metrics:\")\n",
    "print(f\"Average Precision: {precision:.4f}\")\n",
    "print(f\"Average Recall: {recall:.4f}\")\n",
    "print(f\"Average F1-Score: {f1_score:.4f}\")\n",
    "print(f\"mAP50: {mAP50:.4f}\")\n",
    "print(f\"mAP50-95: {mAP50_95:.4f}\")"
   ]
  },
  {
   "cell_type": "markdown",
   "id": "6ab65dd7",
   "metadata": {
    "papermill": {
     "duration": 0.030693,
     "end_time": "2025-01-05T04:55:18.384304",
     "exception": false,
     "start_time": "2025-01-05T04:55:18.353611",
     "status": "completed"
    },
    "tags": []
   },
   "source": [
    "# Train lai - Step 2 - AdamW ver 3\n"
   ]
  },
  {
   "cell_type": "code",
   "execution_count": 30,
   "id": "aed0c471",
   "metadata": {
    "execution": {
     "iopub.execute_input": "2025-01-05T04:55:18.449993Z",
     "iopub.status.busy": "2025-01-05T04:55:18.449530Z",
     "iopub.status.idle": "2025-01-05T04:55:30.842605Z",
     "shell.execute_reply": "2025-01-05T04:55:30.841457Z"
    },
    "papermill": {
     "duration": 12.428697,
     "end_time": "2025-01-05T04:55:30.844046",
     "exception": false,
     "start_time": "2025-01-05T04:55:18.415349",
     "status": "completed"
    },
    "tags": []
   },
   "outputs": [
    {
     "name": "stdout",
     "output_type": "stream",
     "text": [
      "Ultralytics 8.3.57 🚀 Python-3.10.12 torch-2.4.1+cu121 CUDA:0 (Tesla P100-PCIE-16GB, 16269MiB)\n",
      "Model summary (fused): 268 layers, 68,124,531 parameters, 0 gradients, 257.4 GFLOPs\n"
     ]
    },
    {
     "name": "stderr",
     "output_type": "stream",
     "text": [
      "\u001b[34m\u001b[1mval: \u001b[0mScanning /kaggle/working/test/labels.cache... 300 images, 0 backgrounds, 1 corrupt: 100%|██████████| 300/300 [00:00<?, ?it/s]"
     ]
    },
    {
     "name": "stdout",
     "output_type": "stream",
     "text": [
      "\u001b[34m\u001b[1mval: \u001b[0mWARNING ⚠️ /kaggle/working/test/images/img_238.jpg: ignoring corrupt image/label: non-normalized or out of bounds coordinates [     1.1983]\n"
     ]
    },
    {
     "name": "stderr",
     "output_type": "stream",
     "text": [
      "\n",
      "                 Class     Images  Instances      Box(P          R      mAP50  mAP50-95): 100%|██████████| 19/19 [00:06<00:00,  3.10it/s]\n"
     ]
    },
    {
     "name": "stdout",
     "output_type": "stream",
     "text": [
      "                   all        299        866      0.894      0.809      0.888      0.592\n",
      "Speed: 0.5ms preprocess, 16.0ms inference, 0.0ms loss, 0.8ms postprocess per image\n",
      "Results saved to \u001b[1mruns/detect/val16\u001b[0m\n",
      "Overall Metrics:\n",
      "Average Precision: 0.8941\n",
      "Average Recall: 0.8091\n",
      "Average F1-Score: 0.8495\n",
      "mAP50: 0.8880\n",
      "mAP50-95: 0.5919\n"
     ]
    }
   ],
   "source": [
    "from ultralytics import YOLO\n",
    "import os\n",
    "import cv2\n",
    "\n",
    "# Đường dẫn thư mục chứa các ảnh và mô hình YOLOv8\n",
    "image_path = '/kaggle/input/test-bkai/private_test_imgs'\n",
    "model_path = '/kaggle/input/optimizer-adamw/pytorch/default/1/Step 2/Step 2 UIT Ver 3/best.pt'\n",
    "\n",
    "# Load mô hình YOLOv8 từ đường dẫn\n",
    "model = YOLO(model_path)\n",
    "results = model.val(data='/kaggle/working/data_BKAI.yaml', imgsz=640)  # Đảm bảo rằng file data.yaml đúng với cấu trúc dữ liệu của bạn\n",
    "\n",
    "# Lấy các chỉ số từ kết quả\n",
    "precision = results.results_dict['metrics/precision(B)']\n",
    "recall = results.results_dict['metrics/recall(B)']\n",
    "mAP50 = results.results_dict['metrics/mAP50(B)']\n",
    "mAP50_95 = results.results_dict['metrics/mAP50-95(B)']\n",
    "\n",
    "# Tính F1-Score\n",
    "f1_score = 2 * (precision * recall) / (precision + recall) if (precision + recall) != 0 else 0\n",
    "\n",
    "# Hiển thị các chỉ số\n",
    "print(\"Overall Metrics:\")\n",
    "print(f\"Average Precision: {precision:.4f}\")\n",
    "print(f\"Average Recall: {recall:.4f}\")\n",
    "print(f\"Average F1-Score: {f1_score:.4f}\")\n",
    "print(f\"mAP50: {mAP50:.4f}\")\n",
    "print(f\"mAP50-95: {mAP50_95:.4f}\")"
   ]
  },
  {
   "cell_type": "code",
   "execution_count": 31,
   "id": "0e820e5e",
   "metadata": {
    "execution": {
     "iopub.execute_input": "2025-01-05T04:55:30.911140Z",
     "iopub.status.busy": "2025-01-05T04:55:30.910722Z",
     "iopub.status.idle": "2025-01-05T04:55:46.203825Z",
     "shell.execute_reply": "2025-01-05T04:55:46.202875Z"
    },
    "papermill": {
     "duration": 15.328323,
     "end_time": "2025-01-05T04:55:46.205472",
     "exception": false,
     "start_time": "2025-01-05T04:55:30.877149",
     "status": "completed"
    },
    "tags": []
   },
   "outputs": [
    {
     "name": "stdout",
     "output_type": "stream",
     "text": [
      "Ultralytics 8.3.57 🚀 Python-3.10.12 torch-2.4.1+cu121 CUDA:0 (Tesla P100-PCIE-16GB, 16269MiB)\n"
     ]
    },
    {
     "name": "stderr",
     "output_type": "stream",
     "text": [
      "\u001b[34m\u001b[1mval: \u001b[0mScanning /kaggle/working/test_icdar2015/labels.cache... 500 images, 0 backgrounds, 0 corrupt: 100%|██████████| 500/500 [00:00<?, ?it/s]\n",
      "                 Class     Images  Instances      Box(P          R      mAP50  mAP50-95): 100%|██████████| 32/32 [00:11<00:00,  2.70it/s]\n"
     ]
    },
    {
     "name": "stdout",
     "output_type": "stream",
     "text": [
      "                   all        500       5230      0.651      0.537      0.576      0.305\n",
      "Speed: 0.5ms preprocess, 16.0ms inference, 0.0ms loss, 2.8ms postprocess per image\n",
      "Results saved to \u001b[1mruns/detect/val17\u001b[0m\n",
      "Overall Metrics:\n",
      "Average Precision: 0.6511\n",
      "Average Recall: 0.5373\n",
      "Average F1-Score: 0.5887\n",
      "mAP50: 0.5761\n",
      "mAP50-95: 0.3054\n"
     ]
    }
   ],
   "source": [
    "results = model.val(data='/kaggle/working/data_Icdar2015.yaml', imgsz=640)  # Đảm bảo rằng file data.yaml đúng với cấu trúc dữ liệu của bạn\n",
    "\n",
    "# Lấy các chỉ số từ kết quả\n",
    "precision = results.results_dict['metrics/precision(B)']\n",
    "recall = results.results_dict['metrics/recall(B)']\n",
    "mAP50 = results.results_dict['metrics/mAP50(B)']\n",
    "mAP50_95 = results.results_dict['metrics/mAP50-95(B)']\n",
    "\n",
    "# Tính F1-Score\n",
    "f1_score = 2 * (precision * recall) / (precision + recall) if (precision + recall) != 0 else 0\n",
    "\n",
    "# Hiển thị các chỉ số\n",
    "print(\"Overall Metrics:\")\n",
    "print(f\"Average Precision: {precision:.4f}\")\n",
    "print(f\"Average Recall: {recall:.4f}\")\n",
    "print(f\"Average F1-Score: {f1_score:.4f}\")\n",
    "print(f\"mAP50: {mAP50:.4f}\")\n",
    "print(f\"mAP50-95: {mAP50_95:.4f}\")"
   ]
  },
  {
   "cell_type": "code",
   "execution_count": 32,
   "id": "c991a4b4",
   "metadata": {
    "execution": {
     "iopub.execute_input": "2025-01-05T04:55:46.280521Z",
     "iopub.status.busy": "2025-01-05T04:55:46.280165Z",
     "iopub.status.idle": "2025-01-05T04:57:39.313707Z",
     "shell.execute_reply": "2025-01-05T04:57:39.312884Z"
    },
    "papermill": {
     "duration": 113.072969,
     "end_time": "2025-01-05T04:57:39.315079",
     "exception": false,
     "start_time": "2025-01-05T04:55:46.242110",
     "status": "completed"
    },
    "tags": []
   },
   "outputs": [
    {
     "name": "stdout",
     "output_type": "stream",
     "text": [
      "Ultralytics 8.3.57 🚀 Python-3.10.12 torch-2.4.1+cu121 CUDA:0 (Tesla P100-PCIE-16GB, 16269MiB)\n"
     ]
    },
    {
     "name": "stderr",
     "output_type": "stream",
     "text": [
      "\u001b[34m\u001b[1mval: \u001b[0mScanning /kaggle/working/test_total/labels.cache... 300 images, 0 backgrounds, 0 corrupt: 100%|██████████| 300/300 [00:00<?, ?it/s]\n",
      "                 Class     Images  Instances      Box(P          R      mAP50  mAP50-95): 100%|██████████| 19/19 [00:09<00:00,  2.07it/s]\n"
     ]
    },
    {
     "name": "stdout",
     "output_type": "stream",
     "text": [
      "                   all        300       2540       0.74      0.643      0.705      0.444\n",
      "Speed: 0.8ms preprocess, 21.2ms inference, 0.0ms loss, 2.9ms postprocess per image\n",
      "Results saved to \u001b[1mruns/detect/val18\u001b[0m\n",
      "Overall Metrics:\n",
      "Average Precision: 0.7402\n",
      "Average Recall: 0.6425\n",
      "Average F1-Score: 0.6879\n",
      "mAP50: 0.7046\n",
      "mAP50-95: 0.4442\n"
     ]
    }
   ],
   "source": [
    "results = model.val(data='/kaggle/working/data_Total.yaml', imgsz=640)  # Đảm bảo rằng file data.yaml đúng với cấu trúc dữ liệu của bạn\n",
    "\n",
    "# Lấy các chỉ số từ kết quả\n",
    "precision = results.results_dict['metrics/precision(B)']\n",
    "recall = results.results_dict['metrics/recall(B)']\n",
    "mAP50 = results.results_dict['metrics/mAP50(B)']\n",
    "mAP50_95 = results.results_dict['metrics/mAP50-95(B)']\n",
    "\n",
    "# Tính F1-Score\n",
    "f1_score = 2 * (precision * recall) / (precision + recall) if (precision + recall) != 0 else 0\n",
    "\n",
    "# Hiển thị các chỉ số\n",
    "print(\"Overall Metrics:\")\n",
    "print(f\"Average Precision: {precision:.4f}\")\n",
    "print(f\"Average Recall: {recall:.4f}\")\n",
    "print(f\"Average F1-Score: {f1_score:.4f}\")\n",
    "print(f\"mAP50: {mAP50:.4f}\")\n",
    "print(f\"mAP50-95: {mAP50_95:.4f}\")"
   ]
  },
  {
   "cell_type": "markdown",
   "id": "dc0868c4",
   "metadata": {
    "papermill": {
     "duration": 0.035461,
     "end_time": "2025-01-05T04:57:39.387001",
     "exception": false,
     "start_time": "2025-01-05T04:57:39.351540",
     "status": "completed"
    },
    "tags": []
   },
   "source": [
    "# Train lai - Step 2 - AdamW ver 4\n"
   ]
  },
  {
   "cell_type": "code",
   "execution_count": 33,
   "id": "5651b6d9",
   "metadata": {
    "execution": {
     "iopub.execute_input": "2025-01-05T04:57:39.460171Z",
     "iopub.status.busy": "2025-01-05T04:57:39.459810Z",
     "iopub.status.idle": "2025-01-05T04:57:51.479008Z",
     "shell.execute_reply": "2025-01-05T04:57:51.478000Z"
    },
    "papermill": {
     "duration": 12.057384,
     "end_time": "2025-01-05T04:57:51.480564",
     "exception": false,
     "start_time": "2025-01-05T04:57:39.423180",
     "status": "completed"
    },
    "tags": []
   },
   "outputs": [
    {
     "name": "stdout",
     "output_type": "stream",
     "text": [
      "Ultralytics 8.3.57 🚀 Python-3.10.12 torch-2.4.1+cu121 CUDA:0 (Tesla P100-PCIE-16GB, 16269MiB)\n",
      "Model summary (fused): 268 layers, 68,124,531 parameters, 0 gradients, 257.4 GFLOPs\n"
     ]
    },
    {
     "name": "stderr",
     "output_type": "stream",
     "text": [
      "\u001b[34m\u001b[1mval: \u001b[0mScanning /kaggle/working/test/labels.cache... 300 images, 0 backgrounds, 1 corrupt: 100%|██████████| 300/300 [00:00<?, ?it/s]"
     ]
    },
    {
     "name": "stdout",
     "output_type": "stream",
     "text": [
      "\u001b[34m\u001b[1mval: \u001b[0mWARNING ⚠️ /kaggle/working/test/images/img_238.jpg: ignoring corrupt image/label: non-normalized or out of bounds coordinates [     1.1983]\n"
     ]
    },
    {
     "name": "stderr",
     "output_type": "stream",
     "text": [
      "\n",
      "                 Class     Images  Instances      Box(P          R      mAP50  mAP50-95): 100%|██████████| 19/19 [00:06<00:00,  3.03it/s]\n"
     ]
    },
    {
     "name": "stdout",
     "output_type": "stream",
     "text": [
      "                   all        299        866      0.898      0.813      0.887      0.589\n",
      "Speed: 0.3ms preprocess, 15.8ms inference, 0.0ms loss, 0.8ms postprocess per image\n",
      "Results saved to \u001b[1mruns/detect/val19\u001b[0m\n",
      "Overall Metrics:\n",
      "Average Precision: 0.8979\n",
      "Average Recall: 0.8129\n",
      "Average F1-Score: 0.8533\n",
      "mAP50: 0.8867\n",
      "mAP50-95: 0.5887\n"
     ]
    }
   ],
   "source": [
    "from ultralytics import YOLO\n",
    "import os\n",
    "import cv2\n",
    "\n",
    "# Đường dẫn thư mục chứa các ảnh và mô hình YOLOv8\n",
    "image_path = '/kaggle/input/test-bkai/private_test_imgs'\n",
    "model_path = '/kaggle/input/optimizer-adamw/pytorch/default/1/Step 2/Step 2 UIT Ver 4/best.pt'\n",
    "\n",
    "# Load mô hình YOLOv8 từ đường dẫn\n",
    "model = YOLO(model_path)\n",
    "results = model.val(data='/kaggle/working/data_BKAI.yaml', imgsz=640)  # Đảm bảo rằng file data.yaml đúng với cấu trúc dữ liệu của bạn\n",
    "\n",
    "# Lấy các chỉ số từ kết quả\n",
    "precision = results.results_dict['metrics/precision(B)']\n",
    "recall = results.results_dict['metrics/recall(B)']\n",
    "mAP50 = results.results_dict['metrics/mAP50(B)']\n",
    "mAP50_95 = results.results_dict['metrics/mAP50-95(B)']\n",
    "\n",
    "# Tính F1-Score\n",
    "f1_score = 2 * (precision * recall) / (precision + recall) if (precision + recall) != 0 else 0\n",
    "\n",
    "# Hiển thị các chỉ số\n",
    "print(\"Overall Metrics:\")\n",
    "print(f\"Average Precision: {precision:.4f}\")\n",
    "print(f\"Average Recall: {recall:.4f}\")\n",
    "print(f\"Average F1-Score: {f1_score:.4f}\")\n",
    "print(f\"mAP50: {mAP50:.4f}\")\n",
    "print(f\"mAP50-95: {mAP50_95:.4f}\")"
   ]
  },
  {
   "cell_type": "code",
   "execution_count": 34,
   "id": "4f0753d9",
   "metadata": {
    "execution": {
     "iopub.execute_input": "2025-01-05T04:57:51.559505Z",
     "iopub.status.busy": "2025-01-05T04:57:51.559113Z",
     "iopub.status.idle": "2025-01-05T04:58:06.721722Z",
     "shell.execute_reply": "2025-01-05T04:58:06.720821Z"
    },
    "papermill": {
     "duration": 15.202349,
     "end_time": "2025-01-05T04:58:06.723057",
     "exception": false,
     "start_time": "2025-01-05T04:57:51.520708",
     "status": "completed"
    },
    "tags": []
   },
   "outputs": [
    {
     "name": "stdout",
     "output_type": "stream",
     "text": [
      "Ultralytics 8.3.57 🚀 Python-3.10.12 torch-2.4.1+cu121 CUDA:0 (Tesla P100-PCIE-16GB, 16269MiB)\n"
     ]
    },
    {
     "name": "stderr",
     "output_type": "stream",
     "text": [
      "\u001b[34m\u001b[1mval: \u001b[0mScanning /kaggle/working/test_icdar2015/labels.cache... 500 images, 0 backgrounds, 0 corrupt: 100%|██████████| 500/500 [00:00<?, ?it/s]\n",
      "                 Class     Images  Instances      Box(P          R      mAP50  mAP50-95): 100%|██████████| 32/32 [00:11<00:00,  2.72it/s]\n"
     ]
    },
    {
     "name": "stdout",
     "output_type": "stream",
     "text": [
      "                   all        500       5230      0.665      0.523      0.572      0.301\n",
      "Speed: 0.6ms preprocess, 17.0ms inference, 0.0ms loss, 1.5ms postprocess per image\n",
      "Results saved to \u001b[1mruns/detect/val20\u001b[0m\n",
      "Overall Metrics:\n",
      "Average Precision: 0.6649\n",
      "Average Recall: 0.5231\n",
      "Average F1-Score: 0.5856\n",
      "mAP50: 0.5721\n",
      "mAP50-95: 0.3012\n"
     ]
    }
   ],
   "source": [
    "results = model.val(data='/kaggle/working/data_Icdar2015.yaml', imgsz=640)  # Đảm bảo rằng file data.yaml đúng với cấu trúc dữ liệu của bạn\n",
    "\n",
    "# Lấy các chỉ số từ kết quả\n",
    "precision = results.results_dict['metrics/precision(B)']\n",
    "recall = results.results_dict['metrics/recall(B)']\n",
    "mAP50 = results.results_dict['metrics/mAP50(B)']\n",
    "mAP50_95 = results.results_dict['metrics/mAP50-95(B)']\n",
    "\n",
    "# Tính F1-Score\n",
    "f1_score = 2 * (precision * recall) / (precision + recall) if (precision + recall) != 0 else 0\n",
    "\n",
    "# Hiển thị các chỉ số\n",
    "print(\"Overall Metrics:\")\n",
    "print(f\"Average Precision: {precision:.4f}\")\n",
    "print(f\"Average Recall: {recall:.4f}\")\n",
    "print(f\"Average F1-Score: {f1_score:.4f}\")\n",
    "print(f\"mAP50: {mAP50:.4f}\")\n",
    "print(f\"mAP50-95: {mAP50_95:.4f}\")"
   ]
  },
  {
   "cell_type": "code",
   "execution_count": 35,
   "id": "859d7159",
   "metadata": {
    "execution": {
     "iopub.execute_input": "2025-01-05T04:58:06.804610Z",
     "iopub.status.busy": "2025-01-05T04:58:06.804261Z",
     "iopub.status.idle": "2025-01-05T04:58:19.613565Z",
     "shell.execute_reply": "2025-01-05T04:58:19.612585Z"
    },
    "papermill": {
     "duration": 12.851492,
     "end_time": "2025-01-05T04:58:19.614876",
     "exception": false,
     "start_time": "2025-01-05T04:58:06.763384",
     "status": "completed"
    },
    "tags": []
   },
   "outputs": [
    {
     "name": "stdout",
     "output_type": "stream",
     "text": [
      "Ultralytics 8.3.57 🚀 Python-3.10.12 torch-2.4.1+cu121 CUDA:0 (Tesla P100-PCIE-16GB, 16269MiB)\n"
     ]
    },
    {
     "name": "stderr",
     "output_type": "stream",
     "text": [
      "\u001b[34m\u001b[1mval: \u001b[0mScanning /kaggle/working/test_total/labels.cache... 300 images, 0 backgrounds, 0 corrupt: 100%|██████████| 300/300 [00:00<?, ?it/s]\n",
      "                 Class     Images  Instances      Box(P          R      mAP50  mAP50-95): 100%|██████████| 19/19 [00:09<00:00,  2.01it/s]\n"
     ]
    },
    {
     "name": "stdout",
     "output_type": "stream",
     "text": [
      "                   all        300       2540      0.739      0.634      0.702      0.443\n",
      "Speed: 0.8ms preprocess, 20.2ms inference, 0.0ms loss, 1.9ms postprocess per image\n",
      "Results saved to \u001b[1mruns/detect/val21\u001b[0m\n",
      "Overall Metrics:\n",
      "Average Precision: 0.7387\n",
      "Average Recall: 0.6339\n",
      "Average F1-Score: 0.6823\n",
      "mAP50: 0.7022\n",
      "mAP50-95: 0.4433\n"
     ]
    }
   ],
   "source": [
    "results = model.val(data='/kaggle/working/data_Total.yaml', imgsz=640)  # Đảm bảo rằng file data.yaml đúng với cấu trúc dữ liệu của bạn\n",
    "\n",
    "# Lấy các chỉ số từ kết quả\n",
    "precision = results.results_dict['metrics/precision(B)']\n",
    "recall = results.results_dict['metrics/recall(B)']\n",
    "mAP50 = results.results_dict['metrics/mAP50(B)']\n",
    "mAP50_95 = results.results_dict['metrics/mAP50-95(B)']\n",
    "\n",
    "# Tính F1-Score\n",
    "f1_score = 2 * (precision * recall) / (precision + recall) if (precision + recall) != 0 else 0\n",
    "\n",
    "# Hiển thị các chỉ số\n",
    "print(\"Overall Metrics:\")\n",
    "print(f\"Average Precision: {precision:.4f}\")\n",
    "print(f\"Average Recall: {recall:.4f}\")\n",
    "print(f\"Average F1-Score: {f1_score:.4f}\")\n",
    "print(f\"mAP50: {mAP50:.4f}\")\n",
    "print(f\"mAP50-95: {mAP50_95:.4f}\")"
   ]
  }
 ],
 "metadata": {
  "kaggle": {
   "accelerator": "gpu",
   "dataSources": [
    {
     "datasetId": 726627,
     "sourceId": 1262344,
     "sourceType": "datasetVersion"
    },
    {
     "datasetId": 1150310,
     "sourceId": 1928836,
     "sourceType": "datasetVersion"
    },
    {
     "datasetId": 6216816,
     "sourceId": 10083722,
     "sourceType": "datasetVersion"
    },
    {
     "modelId": 205950,
     "modelInstanceId": 183762,
     "sourceId": 215538,
     "sourceType": "modelInstanceVersion"
    },
    {
     "modelId": 205953,
     "modelInstanceId": 183765,
     "sourceId": 215541,
     "sourceType": "modelInstanceVersion"
    },
    {
     "modelId": 206657,
     "modelInstanceId": 184498,
     "sourceId": 216402,
     "sourceType": "modelInstanceVersion"
    },
    {
     "modelId": 206746,
     "modelInstanceId": 184588,
     "sourceId": 216507,
     "sourceType": "modelInstanceVersion"
    },
    {
     "modelId": 206965,
     "modelInstanceId": 184818,
     "sourceId": 216765,
     "sourceType": "modelInstanceVersion"
    },
    {
     "modelId": 207077,
     "modelInstanceId": 184929,
     "sourceId": 216894,
     "sourceType": "modelInstanceVersion"
    },
    {
     "modelId": 207207,
     "modelInstanceId": 185060,
     "sourceId": 217041,
     "sourceType": "modelInstanceVersion"
    },
    {
     "modelId": 207236,
     "modelInstanceId": 185090,
     "sourceId": 217073,
     "sourceType": "modelInstanceVersion"
    },
    {
     "modelId": 207334,
     "modelInstanceId": 185193,
     "sourceId": 217193,
     "sourceType": "modelInstanceVersion"
    },
    {
     "modelId": 207432,
     "modelInstanceId": 185294,
     "sourceId": 217306,
     "sourceType": "modelInstanceVersion"
    },
    {
     "modelId": 207587,
     "modelInstanceId": 185454,
     "sourceId": 217484,
     "sourceType": "modelInstanceVersion"
    },
    {
     "modelId": 208520,
     "modelInstanceId": 186405,
     "sourceId": 218581,
     "sourceType": "modelInstanceVersion"
    },
    {
     "modelId": 208524,
     "modelInstanceId": 186409,
     "sourceId": 218585,
     "sourceType": "modelInstanceVersion"
    },
    {
     "modelId": 208727,
     "modelInstanceId": 186622,
     "sourceId": 218826,
     "sourceType": "modelInstanceVersion"
    },
    {
     "isSourceIdPinned": true,
     "modelId": 209107,
     "modelInstanceId": 187016,
     "sourceId": 219302,
     "sourceType": "modelInstanceVersion"
    },
    {
     "isSourceIdPinned": true,
     "modelId": 209111,
     "modelInstanceId": 187020,
     "sourceId": 219306,
     "sourceType": "modelInstanceVersion"
    }
   ],
   "dockerImageVersionId": 30823,
   "isGpuEnabled": true,
   "isInternetEnabled": true,
   "language": "python",
   "sourceType": "notebook"
  },
  "kernelspec": {
   "display_name": "Python 3",
   "language": "python",
   "name": "python3"
  },
  "language_info": {
   "codemirror_mode": {
    "name": "ipython",
    "version": 3
   },
   "file_extension": ".py",
   "mimetype": "text/x-python",
   "name": "python",
   "nbconvert_exporter": "python",
   "pygments_lexer": "ipython3",
   "version": "3.10.12"
  },
  "papermill": {
   "default_parameters": {},
   "duration": 632.072797,
   "end_time": "2025-01-05T04:58:22.590028",
   "environment_variables": {},
   "exception": null,
   "input_path": "__notebook__.ipynb",
   "output_path": "__notebook__.ipynb",
   "parameters": {},
   "start_time": "2025-01-05T04:47:50.517231",
   "version": "2.6.0"
  }
 },
 "nbformat": 4,
 "nbformat_minor": 5
}
