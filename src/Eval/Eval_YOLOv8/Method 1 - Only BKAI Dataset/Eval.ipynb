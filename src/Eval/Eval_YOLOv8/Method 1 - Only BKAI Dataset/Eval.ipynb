{
 "cells": [
  {
   "cell_type": "code",
   "execution_count": 1,
   "id": "75aa5ed7",
   "metadata": {
    "_cell_guid": "b1076dfc-b9ad-4769-8c92-a6c4dae69d19",
    "_uuid": "8f2839f25d086af736a60e9eeb907d3b93b6e0e5",
    "execution": {
     "iopub.execute_input": "2025-01-04T14:33:21.875322Z",
     "iopub.status.busy": "2025-01-04T14:33:21.875026Z",
     "iopub.status.idle": "2025-01-04T14:33:27.526259Z",
     "shell.execute_reply": "2025-01-04T14:33:27.525316Z"
    },
    "papermill": {
     "duration": 5.659548,
     "end_time": "2025-01-04T14:33:27.527949",
     "exception": false,
     "start_time": "2025-01-04T14:33:21.868401",
     "status": "completed"
    },
    "tags": []
   },
   "outputs": [
    {
     "name": "stdout",
     "output_type": "stream",
     "text": [
      "Collecting ultralytics\r\n",
      "  Downloading ultralytics-8.3.57-py3-none-any.whl.metadata (35 kB)\r\n",
      "Requirement already satisfied: numpy>=1.23.0 in /usr/local/lib/python3.10/dist-packages (from ultralytics) (1.26.4)\r\n",
      "Requirement already satisfied: matplotlib>=3.3.0 in /usr/local/lib/python3.10/dist-packages (from ultralytics) (3.7.1)\r\n",
      "Requirement already satisfied: opencv-python>=4.6.0 in /usr/local/lib/python3.10/dist-packages (from ultralytics) (4.10.0.84)\r\n",
      "Requirement already satisfied: pillow>=7.1.2 in /usr/local/lib/python3.10/dist-packages (from ultralytics) (10.4.0)\r\n",
      "Requirement already satisfied: pyyaml>=5.3.1 in /usr/local/lib/python3.10/dist-packages (from ultralytics) (6.0.2)\r\n",
      "Requirement already satisfied: requests>=2.23.0 in /usr/local/lib/python3.10/dist-packages (from ultralytics) (2.32.3)\r\n",
      "Requirement already satisfied: scipy>=1.4.1 in /usr/local/lib/python3.10/dist-packages (from ultralytics) (1.13.1)\r\n",
      "Requirement already satisfied: torch>=1.8.0 in /usr/local/lib/python3.10/dist-packages (from ultralytics) (2.4.1+cu121)\r\n",
      "Requirement already satisfied: torchvision>=0.9.0 in /usr/local/lib/python3.10/dist-packages (from ultralytics) (0.19.1+cu121)\r\n",
      "Requirement already satisfied: tqdm>=4.64.0 in /usr/local/lib/python3.10/dist-packages (from ultralytics) (4.66.5)\r\n",
      "Requirement already satisfied: psutil in /usr/local/lib/python3.10/dist-packages (from ultralytics) (5.9.5)\r\n",
      "Requirement already satisfied: py-cpuinfo in /usr/local/lib/python3.10/dist-packages (from ultralytics) (9.0.0)\r\n",
      "Requirement already satisfied: pandas>=1.1.4 in /usr/local/lib/python3.10/dist-packages (from ultralytics) (2.1.4)\r\n",
      "Requirement already satisfied: seaborn>=0.11.0 in /usr/local/lib/python3.10/dist-packages (from ultralytics) (0.12.2)\r\n",
      "Collecting ultralytics-thop>=2.0.0 (from ultralytics)\r\n",
      "  Downloading ultralytics_thop-2.0.13-py3-none-any.whl.metadata (9.4 kB)\r\n",
      "Requirement already satisfied: contourpy>=1.0.1 in /usr/local/lib/python3.10/dist-packages (from matplotlib>=3.3.0->ultralytics) (1.3.0)\r\n",
      "Requirement already satisfied: cycler>=0.10 in /usr/local/lib/python3.10/dist-packages (from matplotlib>=3.3.0->ultralytics) (0.12.1)\r\n",
      "Requirement already satisfied: fonttools>=4.22.0 in /usr/local/lib/python3.10/dist-packages (from matplotlib>=3.3.0->ultralytics) (4.53.1)\r\n",
      "Requirement already satisfied: kiwisolver>=1.0.1 in /usr/local/lib/python3.10/dist-packages (from matplotlib>=3.3.0->ultralytics) (1.4.7)\r\n",
      "Requirement already satisfied: packaging>=20.0 in /usr/local/lib/python3.10/dist-packages (from matplotlib>=3.3.0->ultralytics) (24.1)\r\n",
      "Requirement already satisfied: pyparsing>=2.3.1 in /usr/local/lib/python3.10/dist-packages (from matplotlib>=3.3.0->ultralytics) (3.1.4)\r\n",
      "Requirement already satisfied: python-dateutil>=2.7 in /usr/local/lib/python3.10/dist-packages (from matplotlib>=3.3.0->ultralytics) (2.8.2)\r\n",
      "Requirement already satisfied: pytz>=2020.1 in /usr/local/lib/python3.10/dist-packages (from pandas>=1.1.4->ultralytics) (2024.2)\r\n",
      "Requirement already satisfied: tzdata>=2022.1 in /usr/local/lib/python3.10/dist-packages (from pandas>=1.1.4->ultralytics) (2024.1)\r\n",
      "Requirement already satisfied: charset-normalizer<4,>=2 in /usr/local/lib/python3.10/dist-packages (from requests>=2.23.0->ultralytics) (3.3.2)\r\n",
      "Requirement already satisfied: idna<4,>=2.5 in /usr/local/lib/python3.10/dist-packages (from requests>=2.23.0->ultralytics) (3.10)\r\n",
      "Requirement already satisfied: urllib3<3,>=1.21.1 in /usr/local/lib/python3.10/dist-packages (from requests>=2.23.0->ultralytics) (2.2.3)\r\n",
      "Requirement already satisfied: certifi>=2017.4.17 in /usr/local/lib/python3.10/dist-packages (from requests>=2.23.0->ultralytics) (2024.8.30)\r\n",
      "Requirement already satisfied: filelock in /usr/local/lib/python3.10/dist-packages (from torch>=1.8.0->ultralytics) (3.16.1)\r\n",
      "Requirement already satisfied: typing-extensions>=4.8.0 in /usr/local/lib/python3.10/dist-packages (from torch>=1.8.0->ultralytics) (4.12.2)\r\n",
      "Requirement already satisfied: sympy in /usr/local/lib/python3.10/dist-packages (from torch>=1.8.0->ultralytics) (1.13.3)\r\n",
      "Requirement already satisfied: networkx in /usr/local/lib/python3.10/dist-packages (from torch>=1.8.0->ultralytics) (3.3)\r\n",
      "Requirement already satisfied: jinja2 in /usr/local/lib/python3.10/dist-packages (from torch>=1.8.0->ultralytics) (3.1.4)\r\n",
      "Requirement already satisfied: fsspec in /usr/local/lib/python3.10/dist-packages (from torch>=1.8.0->ultralytics) (2024.6.1)\r\n",
      "Requirement already satisfied: six>=1.5 in /usr/local/lib/python3.10/dist-packages (from python-dateutil>=2.7->matplotlib>=3.3.0->ultralytics) (1.16.0)\r\n",
      "Requirement already satisfied: MarkupSafe>=2.0 in /usr/local/lib/python3.10/dist-packages (from jinja2->torch>=1.8.0->ultralytics) (2.1.5)\r\n",
      "Requirement already satisfied: mpmath<1.4,>=1.1.0 in /usr/local/lib/python3.10/dist-packages (from sympy->torch>=1.8.0->ultralytics) (1.3.0)\r\n",
      "Downloading ultralytics-8.3.57-py3-none-any.whl (905 kB)\r\n",
      "\u001b[2K   \u001b[90m━━━━━━━━━━━━━━━━━━━━━━━━━━━━━━━━━━━━━━━━\u001b[0m \u001b[32m905.3/905.3 kB\u001b[0m \u001b[31m16.6 MB/s\u001b[0m eta \u001b[36m0:00:00\u001b[0m\r\n",
      "\u001b[?25hDownloading ultralytics_thop-2.0.13-py3-none-any.whl (26 kB)\r\n",
      "Installing collected packages: ultralytics-thop, ultralytics\r\n",
      "Successfully installed ultralytics-8.3.57 ultralytics-thop-2.0.13\r\n"
     ]
    }
   ],
   "source": [
    "!pip install ultralytics"
   ]
  },
  {
   "cell_type": "code",
   "execution_count": 2,
   "id": "8dac9581",
   "metadata": {
    "execution": {
     "iopub.execute_input": "2025-01-04T14:33:27.541225Z",
     "iopub.status.busy": "2025-01-04T14:33:27.540935Z",
     "iopub.status.idle": "2025-01-04T14:33:31.873168Z",
     "shell.execute_reply": "2025-01-04T14:33:31.872118Z"
    },
    "papermill": {
     "duration": 4.340423,
     "end_time": "2025-01-04T14:33:31.874950",
     "exception": false,
     "start_time": "2025-01-04T14:33:27.534527",
     "status": "completed"
    },
    "tags": []
   },
   "outputs": [
    {
     "name": "stdout",
     "output_type": "stream",
     "text": [
      "Creating new Ultralytics Settings v0.0.6 file ✅ \n",
      "View Ultralytics Settings with 'yolo settings' or at '/root/.config/Ultralytics/settings.json'\n",
      "Update Settings with 'yolo settings key=value', i.e. 'yolo settings runs_dir=path/to/dir'. For help see https://docs.ultralytics.com/quickstart/#ultralytics-settings.\n"
     ]
    }
   ],
   "source": [
    "import torch\n",
    "import os\n",
    "import glob\n",
    "from PIL import Image\n",
    "from ultralytics import YOLO"
   ]
  },
  {
   "cell_type": "code",
   "execution_count": 3,
   "id": "0b68ced6",
   "metadata": {
    "execution": {
     "iopub.execute_input": "2025-01-04T14:33:31.887783Z",
     "iopub.status.busy": "2025-01-04T14:33:31.887452Z",
     "iopub.status.idle": "2025-01-04T14:33:31.891492Z",
     "shell.execute_reply": "2025-01-04T14:33:31.890833Z"
    },
    "papermill": {
     "duration": 0.011385,
     "end_time": "2025-01-04T14:33:31.892723",
     "exception": false,
     "start_time": "2025-01-04T14:33:31.881338",
     "status": "completed"
    },
    "tags": []
   },
   "outputs": [],
   "source": [
    "# Example usage:\n",
    "BKAI_train_images_folder = '/kaggle/input/bkai-dataset2/vietnamese/train_images'\n",
    "BKAI_labels_folder = '/kaggle/input/bkai-dataset2/vietnamese/labels'\n",
    "\n",
    "BKAI_val_images_folder = '/kaggle/input/bkai-dataset2/vietnamese/test_image'\n",
    "\n",
    "BKAI_test_images_folder = '/kaggle/input/bkai-dataset2/vietnamese/unseen_test_images'\n",
    "\n",
    "BKAI_train_output_images_folder = \"/kaggle/working/train/images\"\n",
    "BKAI_train_output_labels_folder = \"/kaggle/working/train/labels\"\n",
    "\n",
    "BKAI_val_output_images_folder = \"/kaggle/working/val/images\"\n",
    "BKAI_val_output_labels_folder = \"/kaggle/working/val/labels\"\n",
    "\n",
    "BKAI_test_output_images_folder = \"/kaggle/working/test/images\"\n",
    "BKAI_test_output_labels_folder = \"/kaggle/working/test/labels\"\n",
    "\n",
    "# Define paths\n",
    "BKAI1_train_images_folder = '/kaggle/input/bkai-dataset-1/train_imgs/training_img'\n",
    "BKAI1_train_labels_folder = '/kaggle/input/bkai-dataset-1/train_gt/training_gt'\n",
    "BKAI1_train_output_images_folder = \"/kaggle/working/train/images\"\n",
    "BKAI1_train_output_labels_folder = \"/kaggle/working/train/labels\""
   ]
  },
  {
   "cell_type": "code",
   "execution_count": 4,
   "id": "b2084420",
   "metadata": {
    "execution": {
     "iopub.execute_input": "2025-01-04T14:33:31.904549Z",
     "iopub.status.busy": "2025-01-04T14:33:31.904324Z",
     "iopub.status.idle": "2025-01-04T14:33:31.907254Z",
     "shell.execute_reply": "2025-01-04T14:33:31.906655Z"
    },
    "papermill": {
     "duration": 0.010025,
     "end_time": "2025-01-04T14:33:31.908460",
     "exception": false,
     "start_time": "2025-01-04T14:33:31.898435",
     "status": "completed"
    },
    "tags": []
   },
   "outputs": [],
   "source": [
    "# Total\n",
    "\n",
    "\n",
    "total_test_images_folder = \"/kaggle/input/totaltextstr/Total-Text/Test\"\n",
    "total_test_labels_folder = \"/kaggle/input/totaltextstr/Total-Text/Annotation/groundtruth_polygonal_annotation/Test\"\n",
    "\n",
    "total_test_output_images_folder = \"/kaggle/working/test_total/images\"\n",
    "total_test_output_labels_folder = \"/kaggle/working/test_total/labels\""
   ]
  },
  {
   "cell_type": "code",
   "execution_count": 5,
   "id": "385a71cc",
   "metadata": {
    "execution": {
     "iopub.execute_input": "2025-01-04T14:33:31.920282Z",
     "iopub.status.busy": "2025-01-04T14:33:31.920067Z",
     "iopub.status.idle": "2025-01-04T14:33:31.922980Z",
     "shell.execute_reply": "2025-01-04T14:33:31.922395Z"
    },
    "papermill": {
     "duration": 0.010188,
     "end_time": "2025-01-04T14:33:31.924105",
     "exception": false,
     "start_time": "2025-01-04T14:33:31.913917",
     "status": "completed"
    },
    "tags": []
   },
   "outputs": [],
   "source": [
    "# ICDAR2015\n",
    "icdar2015_test_images_folder = \"/kaggle/input/icdar2015/ch4_test_images\"\n",
    "icdar2015_test_labels_folder = \"/kaggle/input/icdar2015/ch4_test_localization_transcription_gt\"\n",
    "\n",
    "icdar2015_test_output_images_folder = \"/kaggle/working/test_icdar2015/images\"\n",
    "icdar2015_test_output_labels_folder = \"/kaggle/working/test_icdar2015/labels\""
   ]
  },
  {
   "cell_type": "markdown",
   "id": "81ad46c0",
   "metadata": {
    "papermill": {
     "duration": 0.005083,
     "end_time": "2025-01-04T14:33:31.934574",
     "exception": false,
     "start_time": "2025-01-04T14:33:31.929491",
     "status": "completed"
    },
    "tags": []
   },
   "source": [
    "# Icdar2015 Dataset Test\n"
   ]
  },
  {
   "cell_type": "code",
   "execution_count": 6,
   "id": "016bbd4f",
   "metadata": {
    "execution": {
     "iopub.execute_input": "2025-01-04T14:33:31.945946Z",
     "iopub.status.busy": "2025-01-04T14:33:31.945740Z",
     "iopub.status.idle": "2025-01-04T14:33:31.954910Z",
     "shell.execute_reply": "2025-01-04T14:33:31.954283Z"
    },
    "papermill": {
     "duration": 0.016239,
     "end_time": "2025-01-04T14:33:31.956145",
     "exception": false,
     "start_time": "2025-01-04T14:33:31.939906",
     "status": "completed"
    },
    "tags": []
   },
   "outputs": [],
   "source": [
    "def Icidar2015_process_annotations(train_images_folder, train_labels_folder, train_output_images_folder, train_output_labels_folder):\n",
    "    # Tạo các thư mục đầu ra nếu chưa tồn tại\n",
    "    os.makedirs(train_output_images_folder, exist_ok=True)\n",
    "    os.makedirs(train_output_labels_folder, exist_ok=True)\n",
    "\n",
    "    # Hàm chuyển đổi tọa độ polygon sang YOLO bounding box\n",
    "    def polygon_to_yolo_bbox(x, y, width_img, height_img):\n",
    "        x_min, x_max = min(x), max(x)\n",
    "        y_min, y_max = min(y), max(y)\n",
    "        x_center = (x_min + x_max) / 2 / width_img\n",
    "        y_center = (y_min + y_max) / 2 / height_img\n",
    "        bbox_width = (x_max - x_min) / width_img\n",
    "        bbox_height = (y_max - y_min) / height_img\n",
    "        return x_center, y_center, bbox_width, bbox_height\n",
    "\n",
    "    # Duyệt qua các file annotation\n",
    "    annotation_files = glob.glob(os.path.join(train_labels_folder, \"*.txt\"))\n",
    "\n",
    "    for anno_file in annotation_files:\n",
    "        base_name = os.path.basename(anno_file).replace(\"gt_\", \"\").replace(\".txt\", \"\")\n",
    "        image_path = os.path.join(train_images_folder, f\"{base_name}.jpg\")\n",
    "        \n",
    "        try:\n",
    "            # Mở ảnh để lấy kích thước\n",
    "            img = Image.open(image_path)\n",
    "            width_img, height_img = img.size\n",
    "\n",
    "            # Lưu ảnh vào thư mục đầu ra\n",
    "            output_image_path = os.path.join(train_output_images_folder, f\"{base_name}.jpg\")\n",
    "            \n",
    "            # Biến kiểm tra xem có bounding box hợp lệ không\n",
    "            valid_boxes = False\n",
    "            \n",
    "            # Lưu file annotation mới vào thư mục đầu ra\n",
    "            output_label_file = os.path.join(train_output_labels_folder, f\"{base_name}.txt\")\n",
    "            \n",
    "            with open(anno_file, \"r\", encoding=\"utf-8-sig\") as f, open(output_label_file, \"w\") as out_f:\n",
    "                for line in f:\n",
    "                    try:\n",
    "                        # Loại bỏ ký tự BOM nếu có\n",
    "                        line = line.lstrip('\\ufeff')\n",
    "\n",
    "                        # Tách các phần tử trong dòng annotation\n",
    "                        parts = line.strip().split(',')\n",
    "                        if len(parts) < 8:  # Nếu số phần tử không đủ, bỏ qua\n",
    "                            continue\n",
    "\n",
    "                        # Tách tọa độ x, y và văn bản\n",
    "                        x = list(map(int, parts[:8:2]))  # Tọa độ x\n",
    "                        y = list(map(int, parts[1:8:2]))  # Tọa độ y\n",
    "                        transcription = parts[8]  # Văn bản\n",
    "\n",
    "                        # # Nếu văn bản là '###', bỏ qua\n",
    "                        # if transcription == '###':\n",
    "                        #     continue\n",
    "                        \n",
    "                        # Tính toán bounding box YOLO\n",
    "                        x_center, y_center, bbox_width, bbox_height = polygon_to_yolo_bbox(x, y, width_img, height_img)\n",
    "                        \n",
    "                        # Nếu bounding box hợp lệ, đánh dấu\n",
    "                        if bbox_width > 0 and bbox_height > 0:\n",
    "                            valid_boxes = True\n",
    "                        \n",
    "                        # Gán class_id (ví dụ: 0 cho tất cả các lớp trong OCR)\n",
    "                        class_id = 0\n",
    "                        \n",
    "                        # Ghi vào file annotation\n",
    "                        out_f.write(f\"{class_id} {x_center} {y_center} {bbox_width} {bbox_height}\\n\")\n",
    "                    except Exception as e:\n",
    "                        print(f\"Lỗi xử lý dòng trong file {anno_file}: {line}\\nChi tiết lỗi: {e}\")\n",
    "            \n",
    "            # Chỉ lưu ảnh và file annotation nếu có ít nhất một bounding box hợp lệ\n",
    "            if valid_boxes:\n",
    "                img.save(output_image_path)  # Lưu ảnh vào thư mục output\n",
    "            else:\n",
    "                os.remove(output_label_file)  # Xóa file label nếu không có bounding box hợp lệ\n",
    "                print(f\"Không có bounding box hợp lệ cho ảnh {base_name}.jpg, file annotation không được lưu.\")\n",
    "                \n",
    "        except Exception as e:\n",
    "            print(f\"Lỗi xử lý file: {anno_file}\\nChi tiết lỗi: {e}\")"
   ]
  },
  {
   "cell_type": "code",
   "execution_count": 7,
   "id": "f807c94d",
   "metadata": {
    "execution": {
     "iopub.execute_input": "2025-01-04T14:33:31.967519Z",
     "iopub.status.busy": "2025-01-04T14:33:31.967314Z",
     "iopub.status.idle": "2025-01-04T14:33:43.542748Z",
     "shell.execute_reply": "2025-01-04T14:33:43.542075Z"
    },
    "papermill": {
     "duration": 11.582652,
     "end_time": "2025-01-04T14:33:43.544243",
     "exception": false,
     "start_time": "2025-01-04T14:33:31.961591",
     "status": "completed"
    },
    "tags": []
   },
   "outputs": [],
   "source": [
    "Icidar2015_process_annotations(icdar2015_test_images_folder, icdar2015_test_labels_folder, icdar2015_test_output_images_folder, icdar2015_test_output_labels_folder)"
   ]
  },
  {
   "cell_type": "markdown",
   "id": "9775e894",
   "metadata": {
    "papermill": {
     "duration": 0.005347,
     "end_time": "2025-01-04T14:33:43.555537",
     "exception": false,
     "start_time": "2025-01-04T14:33:43.550190",
     "status": "completed"
    },
    "tags": []
   },
   "source": [
    "# Total Dataset test\n"
   ]
  },
  {
   "cell_type": "code",
   "execution_count": 8,
   "id": "06807368",
   "metadata": {
    "execution": {
     "iopub.execute_input": "2025-01-04T14:33:43.567443Z",
     "iopub.status.busy": "2025-01-04T14:33:43.567186Z",
     "iopub.status.idle": "2025-01-04T14:33:43.576022Z",
     "shell.execute_reply": "2025-01-04T14:33:43.575364Z"
    },
    "papermill": {
     "duration": 0.016182,
     "end_time": "2025-01-04T14:33:43.577221",
     "exception": false,
     "start_time": "2025-01-04T14:33:43.561039",
     "status": "completed"
    },
    "tags": []
   },
   "outputs": [],
   "source": [
    "def Total_process_annotations(train_images_folder, train_labels_folder, train_output_images_folder, train_output_labels_folder):\n",
    "    # Tạo các thư mục đầu ra nếu chưa tồn tại\n",
    "    os.makedirs(train_output_images_folder, exist_ok=True)\n",
    "    os.makedirs(train_output_labels_folder, exist_ok=True)\n",
    "\n",
    "    # Hàm chuyển đổi tọa độ polygon sang YOLO bounding box\n",
    "    def polygon_to_yolo_bbox(x, y, width_img, height_img):\n",
    "        x_min, x_max = min(x), max(x)\n",
    "        y_min, y_max = min(y), max(y)\n",
    "        x_center = (x_min + x_max) / 2 / width_img\n",
    "        y_center = (y_min + y_max) / 2 / height_img\n",
    "        bbox_width = (x_max - x_min) / width_img\n",
    "        bbox_height = (y_max - y_min) / height_img\n",
    "        return x_center, y_center, bbox_width, bbox_height\n",
    "\n",
    "    # Duyệt qua các file annotation\n",
    "    annotation_files = glob.glob(os.path.join(train_labels_folder, \"*.txt\"))\n",
    "\n",
    "    for anno_file in annotation_files:\n",
    "        base_name = os.path.basename(anno_file).replace(\"poly_gt_\", \"\").replace(\".txt\", \"\")\n",
    "        image_path = os.path.join(train_images_folder, f\"{base_name}.jpg\")\n",
    "        \n",
    "        try:\n",
    "            # Mở ảnh để lấy kích thước\n",
    "            img = Image.open(image_path)\n",
    "            width_img, height_img = img.size\n",
    "\n",
    "            # Lưu ảnh vào thư mục đầu ra\n",
    "            output_image_path = os.path.join(train_output_images_folder, f\"{base_name}.jpg\")\n",
    "            \n",
    "            # Biến kiểm tra xem có bounding box hợp lệ không\n",
    "            valid_boxes = False\n",
    "            \n",
    "            # Lưu file annotation mới vào thư mục đầu ra\n",
    "            output_label_file = os.path.join(train_output_labels_folder, f\"{base_name}.txt\")\n",
    "            \n",
    "            with open(anno_file, \"r\") as f, open(output_label_file, \"w\") as out_f:\n",
    "                for line in f:\n",
    "                    try:\n",
    "                        # Tách các phần tử trong dòng annotation và bỏ qua các phần không cần thiết\n",
    "                        line = line.strip()\n",
    "                        if \"x: [[\" not in line or \"y: [[\" not in line:\n",
    "                            continue\n",
    "\n",
    "                        # Lấy phần tọa độ x và y\n",
    "                        x_part = line[line.index(\"x: [[\") + 5: line.index(\"]], y:\")]\n",
    "                        y_part = line[line.index(\"y: [[\") + 5: line.index(\"]], ornt:\")]\n",
    "\n",
    "                        # Chuyển đổi tọa độ x và y thành danh sách số\n",
    "                        x = list(map(int, x_part.split()))\n",
    "                        y = list(map(int, y_part.split()))\n",
    "\n",
    "                        # Bỏ qua nếu số điểm không đủ\n",
    "                        if len(x) < 4 or len(y) < 4:\n",
    "                            continue\n",
    "                        \n",
    "                        # Tính toán bounding box YOLO\n",
    "                        x_center, y_center, bbox_width, bbox_height = polygon_to_yolo_bbox(x, y, width_img, height_img)\n",
    "                        \n",
    "                        # Nếu bounding box hợp lệ, đánh dấu\n",
    "                        if bbox_width > 0 and bbox_height > 0:\n",
    "                            valid_boxes = True\n",
    "                        \n",
    "                        # Gán class_id (ví dụ: 0 cho tất cả các lớp trong OCR)\n",
    "                        class_id = 0\n",
    "                        \n",
    "                        # Ghi vào file annotation\n",
    "                        out_f.write(f\"{class_id} {x_center} {y_center} {bbox_width} {bbox_height}\\n\")\n",
    "                    except Exception as e:\n",
    "                        print(f\"Lỗi xử lý dòng trong file {anno_file}: {line}\\nChi tiết lỗi: {e}\")\n",
    "            \n",
    "            # Chỉ lưu ảnh và file annotation nếu có ít nhất một bounding box hợp lệ\n",
    "            if valid_boxes:\n",
    "                img.save(output_image_path)  # Lưu ảnh vào thư mục output\n",
    "            else:\n",
    "                os.remove(output_label_file)  # Xóa file label nếu không có bounding box hợp lệ\n",
    "                print(f\"Không có bounding box hợp lệ cho ảnh {base_name}.jpg, file annotation không được lưu.\")\n",
    "                \n",
    "        except Exception as e:\n",
    "            print(f\"Lỗi xử lý file: {anno_file}\\nChi tiết lỗi: {e}\")"
   ]
  },
  {
   "cell_type": "code",
   "execution_count": 9,
   "id": "e36b7fa9",
   "metadata": {
    "execution": {
     "iopub.execute_input": "2025-01-04T14:33:43.588570Z",
     "iopub.status.busy": "2025-01-04T14:33:43.588367Z",
     "iopub.status.idle": "2025-01-04T14:33:53.631058Z",
     "shell.execute_reply": "2025-01-04T14:33:53.630090Z"
    },
    "papermill": {
     "duration": 10.050196,
     "end_time": "2025-01-04T14:33:53.632758",
     "exception": false,
     "start_time": "2025-01-04T14:33:43.582562",
     "status": "completed"
    },
    "tags": []
   },
   "outputs": [],
   "source": [
    "Total_process_annotations(total_test_images_folder, total_test_labels_folder, total_test_output_images_folder, total_test_output_labels_folder)\n"
   ]
  },
  {
   "cell_type": "markdown",
   "id": "6f763cc8",
   "metadata": {
    "papermill": {
     "duration": 0.005385,
     "end_time": "2025-01-04T14:33:53.644153",
     "exception": false,
     "start_time": "2025-01-04T14:33:53.638768",
     "status": "completed"
    },
    "tags": []
   },
   "source": [
    "# BKAI DATASET TEST\n"
   ]
  },
  {
   "cell_type": "code",
   "execution_count": 10,
   "id": "40566141",
   "metadata": {
    "execution": {
     "iopub.execute_input": "2025-01-04T14:33:53.656680Z",
     "iopub.status.busy": "2025-01-04T14:33:53.656397Z",
     "iopub.status.idle": "2025-01-04T14:33:53.666706Z",
     "shell.execute_reply": "2025-01-04T14:33:53.665887Z"
    },
    "papermill": {
     "duration": 0.017923,
     "end_time": "2025-01-04T14:33:53.667952",
     "exception": false,
     "start_time": "2025-01-04T14:33:53.650029",
     "status": "completed"
    },
    "tags": []
   },
   "outputs": [],
   "source": [
    "import os\n",
    "import glob\n",
    "from PIL import Image\n",
    "\n",
    "def test_process_annotations(train_images_folder, train_labels_folder, train_output_images_folder, train_output_labels_folder):\n",
    "    # Tạo các thư mục đầu ra nếu chưa tồn tại\n",
    "    os.makedirs(train_output_images_folder, exist_ok=True)\n",
    "    os.makedirs(train_output_labels_folder, exist_ok=True)\n",
    "\n",
    "    # Hàm chuyển đổi tọa độ polygon sang YOLO bounding box\n",
    "    def polygon_to_yolo_bbox(x, y, width_img, height_img):\n",
    "        x_min, x_max = min(x), max(x)\n",
    "        y_min, y_max = min(y), max(y)\n",
    "        x_center = (x_min + x_max) / 2 / width_img\n",
    "        y_center = (y_min + y_max) / 2 / height_img\n",
    "        bbox_width = (x_max - x_min) / width_img\n",
    "        bbox_height = (y_max - y_min) / height_img\n",
    "        return x_center, y_center, bbox_width, bbox_height\n",
    "\n",
    "    # Duyệt qua các file annotation\n",
    "    annotation_files = glob.glob(os.path.join(train_labels_folder, \"*.txt\"))\n",
    "\n",
    "    for anno_file in annotation_files:\n",
    "        base_name = os.path.basename(anno_file).replace(\"gt_\", \"\").replace(\".txt\", \"\")\n",
    "        image_path = os.path.join(train_images_folder, f\"{base_name}.jpg\")\n",
    "        \n",
    "        try:\n",
    "            # Mở ảnh để lấy kích thước\n",
    "            img = Image.open(image_path)\n",
    "            width_img, height_img = img.size\n",
    "\n",
    "            # Lưu ảnh vào thư mục đầu ra\n",
    "            output_image_path = os.path.join(train_output_images_folder, f\"{base_name}.jpg\")\n",
    "            \n",
    "            # Biến kiểm tra xem có bounding box hợp lệ không\n",
    "            valid_boxes = False\n",
    "            \n",
    "            # Lưu file annotation mới vào thư mục đầu ra\n",
    "            output_label_file = os.path.join(train_output_labels_folder, f\"{base_name}.txt\")\n",
    "            \n",
    "            with open(anno_file, \"r\", encoding=\"utf-8-sig\") as f, open(output_label_file, \"w\") as out_f:\n",
    "                for line in f:\n",
    "                    try:\n",
    "                        # Loại bỏ ký tự BOM nếu có\n",
    "                        line = line.lstrip('\\ufeff')\n",
    "\n",
    "                        # Tách các phần tử trong dòng annotation\n",
    "                        parts = line.strip().split(',')\n",
    "                        if len(parts) < 8:  # Nếu số phần tử không đủ, bỏ qua\n",
    "                            continue\n",
    "\n",
    "                        # Tách tọa độ x, y và văn bản\n",
    "                        x = list(map(int, parts[:8:2]))  # Tọa độ x\n",
    "                        y = list(map(int, parts[1:8:2]))  # Tọa độ y\n",
    "                        transcription = parts[8]  # Văn bản\n",
    "\n",
    "                        # Nếu bounding box không hợp lệ, bỏ qua\n",
    "                        x_center, y_center, bbox_width, bbox_height = polygon_to_yolo_bbox(x, y, width_img, height_img)\n",
    "                        if bbox_width > 0 and bbox_height > 0:\n",
    "                            valid_boxes = True\n",
    "                        \n",
    "                        # Gán class_id (ví dụ: 0 cho tất cả các lớp trong OCR)\n",
    "                        class_id = 0\n",
    "                        \n",
    "                        # Ghi vào file annotation\n",
    "                        out_f.write(f\"{class_id} {x_center} {y_center} {bbox_width} {bbox_height}\\n\")\n",
    "                    except Exception as e:\n",
    "                        print(f\"Lỗi xử lý dòng trong file {anno_file}: {line}\\nChi tiết lỗi: {e}\")\n",
    "            \n",
    "            # Chỉ lưu ảnh và file annotation nếu có ít nhất một bounding box hợp lệ\n",
    "            if valid_boxes:\n",
    "                # Chuyển đổi chế độ ảnh nếu cần thiết\n",
    "                if img.mode == \"RGBA\" or img.mode == \"P\":\n",
    "                    img = img.convert(\"RGB\")\n",
    "                img.save(output_image_path, \"JPEG\",quality=95)  # Lưu ảnh vào thư mục output\n",
    "            else:\n",
    "                os.remove(output_label_file)  # Xóa file label nếu không có bounding box hợp lệ\n",
    "                print(f\"Không có bounding box hợp lệ cho ảnh {base_name}.jpg, file annotation không được lưu.\")\n",
    "                \n",
    "        except Exception as e:\n",
    "            print(f\"Lỗi xử lý file: {anno_file}\\nChi tiết lỗi: {e}\")"
   ]
  },
  {
   "cell_type": "code",
   "execution_count": 11,
   "id": "a0d9148a",
   "metadata": {
    "execution": {
     "iopub.execute_input": "2025-01-04T14:33:53.679620Z",
     "iopub.status.busy": "2025-01-04T14:33:53.679359Z",
     "iopub.status.idle": "2025-01-04T14:33:57.523155Z",
     "shell.execute_reply": "2025-01-04T14:33:57.522222Z"
    },
    "papermill": {
     "duration": 3.851247,
     "end_time": "2025-01-04T14:33:57.524716",
     "exception": false,
     "start_time": "2025-01-04T14:33:53.673469",
     "status": "completed"
    },
    "tags": []
   },
   "outputs": [],
   "source": [
    "test_images_folder = \"/kaggle/input/test-bkai/private_test_imgs\"\n",
    "test_labels_folder = \"/kaggle/input/test-bkai/groundtruth\"\n",
    "test_output_images_folder = \"/kaggle/working/test/images\"\n",
    "test_output_labels_folder = \"/kaggle/working/test/labels\"\n",
    "\n",
    "test_process_annotations(test_images_folder, test_labels_folder, test_output_images_folder, test_output_labels_folder)"
   ]
  },
  {
   "cell_type": "markdown",
   "id": "a304f39b",
   "metadata": {
    "papermill": {
     "duration": 0.00548,
     "end_time": "2025-01-04T14:33:57.536183",
     "exception": false,
     "start_time": "2025-01-04T14:33:57.530703",
     "status": "completed"
    },
    "tags": []
   },
   "source": [
    "# Data yaml"
   ]
  },
  {
   "cell_type": "code",
   "execution_count": 12,
   "id": "c4a2867e",
   "metadata": {
    "execution": {
     "iopub.execute_input": "2025-01-04T14:33:57.547786Z",
     "iopub.status.busy": "2025-01-04T14:33:57.547506Z",
     "iopub.status.idle": "2025-01-04T14:33:57.552912Z",
     "shell.execute_reply": "2025-01-04T14:33:57.552234Z"
    },
    "papermill": {
     "duration": 0.012681,
     "end_time": "2025-01-04T14:33:57.554202",
     "exception": false,
     "start_time": "2025-01-04T14:33:57.541521",
     "status": "completed"
    },
    "tags": []
   },
   "outputs": [
    {
     "name": "stdout",
     "output_type": "stream",
     "text": [
      "File 'data_BKAI.yaml' đã được tạo tại: /kaggle/working/data_BKAI.yaml\n"
     ]
    }
   ],
   "source": [
    "# Tạo đường dẫn tới file YAML\n",
    "dataset_dir = \"/kaggle/working\"\n",
    "os.makedirs(dataset_dir, exist_ok=True)\n",
    "yaml_file = os.path.join(dataset_dir, \"data_BKAI.yaml\")\n",
    "\n",
    "# Nội dung file YAML\n",
    "yaml_content = \"\"\"\n",
    "train: /kaggle/input/yolov8x-ocr/train/images\n",
    "val: /kaggle/working/test/images\n",
    "nc: 1\n",
    "names: ['text']  # Cập nhật nếu bạn có nhiều lớp\n",
    "\n",
    "\"\"\"\n",
    "\n",
    "# Ghi nội dung vào file YAML\n",
    "with open(yaml_file, \"w\") as f:\n",
    "    f.write(yaml_content.strip())\n",
    "\n",
    "print(f\"File 'data_BKAI.yaml' đã được tạo tại: {yaml_file}\")"
   ]
  },
  {
   "cell_type": "code",
   "execution_count": 13,
   "id": "27815fae",
   "metadata": {
    "execution": {
     "iopub.execute_input": "2025-01-04T14:33:57.565850Z",
     "iopub.status.busy": "2025-01-04T14:33:57.565616Z",
     "iopub.status.idle": "2025-01-04T14:33:57.570541Z",
     "shell.execute_reply": "2025-01-04T14:33:57.569894Z"
    },
    "papermill": {
     "duration": 0.011951,
     "end_time": "2025-01-04T14:33:57.571748",
     "exception": false,
     "start_time": "2025-01-04T14:33:57.559797",
     "status": "completed"
    },
    "tags": []
   },
   "outputs": [
    {
     "name": "stdout",
     "output_type": "stream",
     "text": [
      "File 'data_Total.yaml' đã được tạo tại: /kaggle/working/data_Total.yaml\n"
     ]
    }
   ],
   "source": [
    "# Tạo đường dẫn tới file YAML\n",
    "dataset_dir = \"/kaggle/working\"\n",
    "os.makedirs(dataset_dir, exist_ok=True)\n",
    "yaml_file = os.path.join(dataset_dir, \"data_Total.yaml\")\n",
    "\n",
    "# Nội dung file YAML\n",
    "yaml_content = \"\"\"\n",
    "train: /kaggle/input/yolov8x-ocr/train/images\n",
    "val: /kaggle/working/test_total/images\n",
    "nc: 1\n",
    "names: ['text']  # Cập nhật nếu bạn có nhiều lớp\n",
    "\n",
    "\"\"\"\n",
    "\n",
    "# Ghi nội dung vào file YAML\n",
    "with open(yaml_file, \"w\") as f:\n",
    "    f.write(yaml_content.strip())\n",
    "\n",
    "print(f\"File 'data_Total.yaml' đã được tạo tại: {yaml_file}\")"
   ]
  },
  {
   "cell_type": "code",
   "execution_count": 14,
   "id": "78eecd0f",
   "metadata": {
    "execution": {
     "iopub.execute_input": "2025-01-04T14:33:57.583780Z",
     "iopub.status.busy": "2025-01-04T14:33:57.583542Z",
     "iopub.status.idle": "2025-01-04T14:33:57.588779Z",
     "shell.execute_reply": "2025-01-04T14:33:57.588106Z"
    },
    "papermill": {
     "duration": 0.012638,
     "end_time": "2025-01-04T14:33:57.589975",
     "exception": false,
     "start_time": "2025-01-04T14:33:57.577337",
     "status": "completed"
    },
    "tags": []
   },
   "outputs": [
    {
     "name": "stdout",
     "output_type": "stream",
     "text": [
      "File 'data_Icdar2015.yaml' đã được tạo tại: /kaggle/working/data_Icdar2015.yaml\n"
     ]
    }
   ],
   "source": [
    "# Tạo đường dẫn tới file YAML\n",
    "dataset_dir = \"/kaggle/working\"\n",
    "os.makedirs(dataset_dir, exist_ok=True)\n",
    "yaml_file = os.path.join(dataset_dir, \"data_Icdar2015.yaml\")\n",
    "\n",
    "# Nội dung file YAML\n",
    "yaml_content = \"\"\"\n",
    "train: /kaggle/input/yolov8x-ocr/train/images\n",
    "val: /kaggle/working/test_icdar2015/images\n",
    "nc: 1\n",
    "names: ['text']  # Cập nhật nếu bạn có nhiều lớp\n",
    "\n",
    "\"\"\"\n",
    "\n",
    "# Ghi nội dung vào file YAML\n",
    "with open(yaml_file, \"w\") as f:\n",
    "    f.write(yaml_content.strip())\n",
    "\n",
    "print(f\"File 'data_Icdar2015.yaml' đã được tạo tại: {yaml_file}\")"
   ]
  },
  {
   "cell_type": "markdown",
   "id": "08b42b61",
   "metadata": {
    "papermill": {
     "duration": 0.005594,
     "end_time": "2025-01-04T14:33:57.601279",
     "exception": false,
     "start_time": "2025-01-04T14:33:57.595685",
     "status": "completed"
    },
    "tags": []
   },
   "source": [
    "# only-bkai-with-sgd-base\n",
    "\n"
   ]
  },
  {
   "cell_type": "code",
   "execution_count": 15,
   "id": "527c4cc6",
   "metadata": {
    "execution": {
     "iopub.execute_input": "2025-01-04T14:33:57.613267Z",
     "iopub.status.busy": "2025-01-04T14:33:57.613045Z",
     "iopub.status.idle": "2025-01-04T14:34:15.342357Z",
     "shell.execute_reply": "2025-01-04T14:34:15.341225Z"
    },
    "papermill": {
     "duration": 17.736908,
     "end_time": "2025-01-04T14:34:15.343732",
     "exception": false,
     "start_time": "2025-01-04T14:33:57.606824",
     "status": "completed"
    },
    "tags": []
   },
   "outputs": [
    {
     "name": "stdout",
     "output_type": "stream",
     "text": [
      "Ultralytics 8.3.57 🚀 Python-3.10.12 torch-2.4.1+cu121 CUDA:0 (Tesla P100-PCIE-16GB, 16269MiB)\n",
      "Model summary (fused): 268 layers, 68,124,531 parameters, 0 gradients, 257.4 GFLOPs\n",
      "Downloading https://ultralytics.com/assets/Arial.ttf to '/root/.config/Ultralytics/Arial.ttf'...\n"
     ]
    },
    {
     "name": "stderr",
     "output_type": "stream",
     "text": [
      "100%|██████████| 755k/755k [00:00<00:00, 18.9MB/s]\n",
      "\u001b[34m\u001b[1mval: \u001b[0mScanning /kaggle/working/test/labels... 300 images, 0 backgrounds, 1 corrupt: 100%|██████████| 300/300 [00:00<00:00, 1207.28it/s]"
     ]
    },
    {
     "name": "stdout",
     "output_type": "stream",
     "text": [
      "\u001b[34m\u001b[1mval: \u001b[0mWARNING ⚠️ /kaggle/working/test/images/img_238.jpg: ignoring corrupt image/label: non-normalized or out of bounds coordinates [     1.1983]\n",
      "\u001b[34m\u001b[1mval: \u001b[0mNew cache created: /kaggle/working/test/labels.cache\n"
     ]
    },
    {
     "name": "stderr",
     "output_type": "stream",
     "text": [
      "\n",
      "                 Class     Images  Instances      Box(P          R      mAP50  mAP50-95): 100%|██████████| 19/19 [00:07<00:00,  2.47it/s]\n"
     ]
    },
    {
     "name": "stdout",
     "output_type": "stream",
     "text": [
      "                   all        299        866      0.858      0.812      0.874      0.582\n",
      "Speed: 0.5ms preprocess, 16.6ms inference, 0.0ms loss, 1.5ms postprocess per image\n",
      "Results saved to \u001b[1mruns/detect/val\u001b[0m\n",
      "Overall Metrics:\n",
      "Average Precision: 0.8584\n",
      "Average Recall: 0.8122\n",
      "Average F1-Score: 0.8347\n",
      "mAP50: 0.8741\n",
      "mAP50-95: 0.5818\n"
     ]
    }
   ],
   "source": [
    "from ultralytics import YOLO\n",
    "import os\n",
    "import cv2\n",
    "\n",
    "# Đường dẫn thư mục chứa các ảnh và mô hình YOLOv8\n",
    "image_path = '/kaggle/input/test-bkai/private_test_imgs'\n",
    "model_path = '/kaggle/input/only-bkai-with-sgd-base/pytorch/default/1/best (1).pt'\n",
    "\n",
    "# Load mô hình YOLOv8 từ đường dẫn\n",
    "model = YOLO(model_path)\n",
    "results = model.val(data='/kaggle/working/data_BKAI.yaml', imgsz=640)  # Đảm bảo rằng file data.yaml đúng với cấu trúc dữ liệu của bạn\n",
    "\n",
    "# Lấy các chỉ số từ kết quả\n",
    "precision = results.results_dict['metrics/precision(B)']\n",
    "recall = results.results_dict['metrics/recall(B)']\n",
    "mAP50 = results.results_dict['metrics/mAP50(B)']\n",
    "mAP50_95 = results.results_dict['metrics/mAP50-95(B)']\n",
    "\n",
    "# Tính F1-Score\n",
    "f1_score = 2 * (precision * recall) / (precision + recall) if (precision + recall) != 0 else 0\n",
    "\n",
    "# Hiển thị các chỉ số\n",
    "print(\"Overall Metrics:\")\n",
    "print(f\"Average Precision: {precision:.4f}\")\n",
    "print(f\"Average Recall: {recall:.4f}\")\n",
    "print(f\"Average F1-Score: {f1_score:.4f}\")\n",
    "print(f\"mAP50: {mAP50:.4f}\")\n",
    "print(f\"mAP50-95: {mAP50_95:.4f}\")"
   ]
  },
  {
   "cell_type": "markdown",
   "id": "64ee3627",
   "metadata": {
    "papermill": {
     "duration": 0.007297,
     "end_time": "2025-01-04T14:34:15.358979",
     "exception": false,
     "start_time": "2025-01-04T14:34:15.351682",
     "status": "completed"
    },
    "tags": []
   },
   "source": [
    "# only-bkai-with-adamw-base"
   ]
  },
  {
   "cell_type": "code",
   "execution_count": 16,
   "id": "99d79ca2",
   "metadata": {
    "execution": {
     "iopub.execute_input": "2025-01-04T14:34:15.374887Z",
     "iopub.status.busy": "2025-01-04T14:34:15.374472Z",
     "iopub.status.idle": "2025-01-04T14:34:27.576072Z",
     "shell.execute_reply": "2025-01-04T14:34:27.575271Z"
    },
    "papermill": {
     "duration": 12.211242,
     "end_time": "2025-01-04T14:34:27.577585",
     "exception": false,
     "start_time": "2025-01-04T14:34:15.366343",
     "status": "completed"
    },
    "tags": []
   },
   "outputs": [
    {
     "name": "stdout",
     "output_type": "stream",
     "text": [
      "Ultralytics 8.3.57 🚀 Python-3.10.12 torch-2.4.1+cu121 CUDA:0 (Tesla P100-PCIE-16GB, 16269MiB)\n",
      "Model summary (fused): 268 layers, 68,124,531 parameters, 0 gradients, 257.4 GFLOPs\n"
     ]
    },
    {
     "name": "stderr",
     "output_type": "stream",
     "text": [
      "\u001b[34m\u001b[1mval: \u001b[0mScanning /kaggle/working/test/labels.cache... 300 images, 0 backgrounds, 1 corrupt: 100%|██████████| 300/300 [00:00<?, ?it/s]"
     ]
    },
    {
     "name": "stdout",
     "output_type": "stream",
     "text": [
      "\u001b[34m\u001b[1mval: \u001b[0mWARNING ⚠️ /kaggle/working/test/images/img_238.jpg: ignoring corrupt image/label: non-normalized or out of bounds coordinates [     1.1983]\n"
     ]
    },
    {
     "name": "stderr",
     "output_type": "stream",
     "text": [
      "\n",
      "                 Class     Images  Instances      Box(P          R      mAP50  mAP50-95): 100%|██████████| 19/19 [00:06<00:00,  2.90it/s]\n"
     ]
    },
    {
     "name": "stdout",
     "output_type": "stream",
     "text": [
      "                   all        299        866      0.792      0.712       0.78      0.471\n",
      "Speed: 0.2ms preprocess, 16.4ms inference, 0.0ms loss, 1.8ms postprocess per image\n",
      "Results saved to \u001b[1mruns/detect/val2\u001b[0m\n",
      "Overall Metrics:\n",
      "Average Precision: 0.7923\n",
      "Average Recall: 0.7125\n",
      "Average F1-Score: 0.7503\n",
      "mAP50: 0.7799\n",
      "mAP50-95: 0.4712\n"
     ]
    }
   ],
   "source": [
    "from ultralytics import YOLO\n",
    "import os\n",
    "import cv2\n",
    "\n",
    "# Đường dẫn thư mục chứa các ảnh và mô hình YOLOv8\n",
    "image_path = '/kaggle/input/test-bkai/private_test_imgs'\n",
    "model_path = '/kaggle/input/only-bkai-with-adamw-base/pytorch/default/1/best (1).pt'\n",
    "\n",
    "# Load mô hình YOLOv8 từ đường dẫn\n",
    "model = YOLO(model_path)\n",
    "results = model.val(data='/kaggle/working/data_BKAI.yaml', imgsz=640)  # Đảm bảo rằng file data.yaml đúng với cấu trúc dữ liệu của bạn\n",
    "\n",
    "# Lấy các chỉ số từ kết quả\n",
    "precision = results.results_dict['metrics/precision(B)']\n",
    "recall = results.results_dict['metrics/recall(B)']\n",
    "mAP50 = results.results_dict['metrics/mAP50(B)']\n",
    "mAP50_95 = results.results_dict['metrics/mAP50-95(B)']\n",
    "\n",
    "# Tính F1-Score\n",
    "f1_score = 2 * (precision * recall) / (precision + recall) if (precision + recall) != 0 else 0\n",
    "\n",
    "# Hiển thị các chỉ số\n",
    "print(\"Overall Metrics:\")\n",
    "print(f\"Average Precision: {precision:.4f}\")\n",
    "print(f\"Average Recall: {recall:.4f}\")\n",
    "print(f\"Average F1-Score: {f1_score:.4f}\")\n",
    "print(f\"mAP50: {mAP50:.4f}\")\n",
    "print(f\"mAP50-95: {mAP50_95:.4f}\")"
   ]
  },
  {
   "cell_type": "markdown",
   "id": "8830f6f3",
   "metadata": {
    "papermill": {
     "duration": 0.008867,
     "end_time": "2025-01-04T14:34:27.595756",
     "exception": false,
     "start_time": "2025-01-04T14:34:27.586889",
     "status": "completed"
    },
    "tags": []
   },
   "source": [
    "# Only BKAI SGD CONF 1"
   ]
  },
  {
   "cell_type": "code",
   "execution_count": 17,
   "id": "418e77de",
   "metadata": {
    "execution": {
     "iopub.execute_input": "2025-01-04T14:34:27.613930Z",
     "iopub.status.busy": "2025-01-04T14:34:27.613644Z",
     "iopub.status.idle": "2025-01-04T14:34:39.667004Z",
     "shell.execute_reply": "2025-01-04T14:34:39.665904Z"
    },
    "papermill": {
     "duration": 12.064309,
     "end_time": "2025-01-04T14:34:39.668634",
     "exception": false,
     "start_time": "2025-01-04T14:34:27.604325",
     "status": "completed"
    },
    "tags": []
   },
   "outputs": [
    {
     "name": "stdout",
     "output_type": "stream",
     "text": [
      "Ultralytics 8.3.57 🚀 Python-3.10.12 torch-2.4.1+cu121 CUDA:0 (Tesla P100-PCIE-16GB, 16269MiB)\n",
      "Model summary (fused): 268 layers, 68,124,531 parameters, 0 gradients, 257.4 GFLOPs\n"
     ]
    },
    {
     "name": "stderr",
     "output_type": "stream",
     "text": [
      "\u001b[34m\u001b[1mval: \u001b[0mScanning /kaggle/working/test/labels.cache... 300 images, 0 backgrounds, 1 corrupt: 100%|██████████| 300/300 [00:00<?, ?it/s]"
     ]
    },
    {
     "name": "stdout",
     "output_type": "stream",
     "text": [
      "\u001b[34m\u001b[1mval: \u001b[0mWARNING ⚠️ /kaggle/working/test/images/img_238.jpg: ignoring corrupt image/label: non-normalized or out of bounds coordinates [     1.1983]\n"
     ]
    },
    {
     "name": "stderr",
     "output_type": "stream",
     "text": [
      "\n",
      "                 Class     Images  Instances      Box(P          R      mAP50  mAP50-95): 100%|██████████| 19/19 [00:06<00:00,  3.03it/s]\n"
     ]
    },
    {
     "name": "stdout",
     "output_type": "stream",
     "text": [
      "                   all        299        866      0.887      0.845      0.906      0.629\n",
      "Speed: 0.4ms preprocess, 15.8ms inference, 0.0ms loss, 1.5ms postprocess per image\n",
      "Results saved to \u001b[1mruns/detect/val3\u001b[0m\n",
      "Overall Metrics:\n",
      "Average Precision: 0.8870\n",
      "Average Recall: 0.8453\n",
      "Average F1-Score: 0.8656\n",
      "mAP50: 0.9058\n",
      "mAP50-95: 0.6290\n"
     ]
    }
   ],
   "source": [
    "from ultralytics import YOLO\n",
    "import os\n",
    "import cv2\n",
    "\n",
    "# Đường dẫn thư mục chứa các ảnh và mô hình YOLOv8\n",
    "image_path = '/kaggle/input/test-bkai/private_test_imgs'\n",
    "model_path = '/kaggle/input/only-bkai-with-sgd-conf-1/pytorch/default/1/Con f 1.pt'\n",
    "\n",
    "# Load mô hình YOLOv8 từ đường dẫn\n",
    "model = YOLO(model_path)\n",
    "results = model.val(data='/kaggle/working/data_BKAI.yaml', imgsz=640)  # Đảm bảo rằng file data.yaml đúng với cấu trúc dữ liệu của bạn\n",
    "\n",
    "# Lấy các chỉ số từ kết quả\n",
    "precision = results.results_dict['metrics/precision(B)']\n",
    "recall = results.results_dict['metrics/recall(B)']\n",
    "mAP50 = results.results_dict['metrics/mAP50(B)']\n",
    "mAP50_95 = results.results_dict['metrics/mAP50-95(B)']\n",
    "\n",
    "# Tính F1-Score\n",
    "f1_score = 2 * (precision * recall) / (precision + recall) if (precision + recall) != 0 else 0\n",
    "\n",
    "# Hiển thị các chỉ số\n",
    "print(\"Overall Metrics:\")\n",
    "print(f\"Average Precision: {precision:.4f}\")\n",
    "print(f\"Average Recall: {recall:.4f}\")\n",
    "print(f\"Average F1-Score: {f1_score:.4f}\")\n",
    "print(f\"mAP50: {mAP50:.4f}\")\n",
    "print(f\"mAP50-95: {mAP50_95:.4f}\")"
   ]
  }
 ],
 "metadata": {
  "kaggle": {
   "accelerator": "gpu",
   "dataSources": [
    {
     "datasetId": 726627,
     "sourceId": 1262344,
     "sourceType": "datasetVersion"
    },
    {
     "datasetId": 1150310,
     "sourceId": 1928836,
     "sourceType": "datasetVersion"
    },
    {
     "datasetId": 6216816,
     "sourceId": 10083722,
     "sourceType": "datasetVersion"
    },
    {
     "isSourceIdPinned": true,
     "modelId": 198519,
     "modelInstanceId": 176193,
     "sourceId": 206669,
     "sourceType": "modelInstanceVersion"
    },
    {
     "isSourceIdPinned": true,
     "modelId": 198522,
     "modelInstanceId": 176196,
     "sourceId": 206672,
     "sourceType": "modelInstanceVersion"
    },
    {
     "isSourceIdPinned": true,
     "modelId": 198524,
     "modelInstanceId": 176198,
     "sourceId": 206674,
     "sourceType": "modelInstanceVersion"
    },
    {
     "isSourceIdPinned": true,
     "modelId": 198525,
     "modelInstanceId": 176199,
     "sourceId": 206675,
     "sourceType": "modelInstanceVersion"
    },
    {
     "isSourceIdPinned": true,
     "modelId": 198527,
     "modelInstanceId": 176201,
     "sourceId": 206677,
     "sourceType": "modelInstanceVersion"
    },
    {
     "isSourceIdPinned": true,
     "modelId": 198746,
     "modelInstanceId": 176422,
     "sourceId": 206940,
     "sourceType": "modelInstanceVersion"
    },
    {
     "isSourceIdPinned": true,
     "modelId": 199172,
     "modelInstanceId": 176875,
     "sourceId": 207477,
     "sourceType": "modelInstanceVersion"
    },
    {
     "isSourceIdPinned": true,
     "modelId": 199173,
     "modelInstanceId": 176876,
     "sourceId": 207478,
     "sourceType": "modelInstanceVersion"
    },
    {
     "isSourceIdPinned": true,
     "modelId": 199176,
     "modelInstanceId": 176879,
     "sourceId": 207481,
     "sourceType": "modelInstanceVersion"
    },
    {
     "isSourceIdPinned": true,
     "modelId": 202758,
     "modelInstanceId": 180500,
     "sourceId": 211720,
     "sourceType": "modelInstanceVersion"
    },
    {
     "isSourceIdPinned": true,
     "modelId": 205950,
     "modelInstanceId": 183762,
     "sourceId": 215538,
     "sourceType": "modelInstanceVersion"
    },
    {
     "isSourceIdPinned": true,
     "modelId": 205953,
     "modelInstanceId": 183765,
     "sourceId": 215541,
     "sourceType": "modelInstanceVersion"
    },
    {
     "isSourceIdPinned": true,
     "modelId": 206657,
     "modelInstanceId": 184498,
     "sourceId": 216402,
     "sourceType": "modelInstanceVersion"
    },
    {
     "isSourceIdPinned": true,
     "modelId": 206746,
     "modelInstanceId": 184588,
     "sourceId": 216507,
     "sourceType": "modelInstanceVersion"
    },
    {
     "isSourceIdPinned": true,
     "modelId": 206965,
     "modelInstanceId": 184818,
     "sourceId": 216765,
     "sourceType": "modelInstanceVersion"
    },
    {
     "isSourceIdPinned": true,
     "modelId": 207077,
     "modelInstanceId": 184929,
     "sourceId": 216894,
     "sourceType": "modelInstanceVersion"
    },
    {
     "isSourceIdPinned": true,
     "modelId": 207207,
     "modelInstanceId": 185060,
     "sourceId": 217041,
     "sourceType": "modelInstanceVersion"
    },
    {
     "isSourceIdPinned": true,
     "modelId": 207236,
     "modelInstanceId": 185090,
     "sourceId": 217073,
     "sourceType": "modelInstanceVersion"
    },
    {
     "isSourceIdPinned": true,
     "modelId": 207334,
     "modelInstanceId": 185193,
     "sourceId": 217193,
     "sourceType": "modelInstanceVersion"
    },
    {
     "isSourceIdPinned": true,
     "modelId": 207341,
     "modelInstanceId": 185201,
     "sourceId": 217202,
     "sourceType": "modelInstanceVersion"
    },
    {
     "isSourceIdPinned": true,
     "modelId": 207430,
     "modelInstanceId": 185292,
     "sourceId": 217304,
     "sourceType": "modelInstanceVersion"
    },
    {
     "isSourceIdPinned": true,
     "modelId": 207432,
     "modelInstanceId": 185294,
     "sourceId": 217306,
     "sourceType": "modelInstanceVersion"
    },
    {
     "isSourceIdPinned": true,
     "modelId": 207587,
     "modelInstanceId": 185454,
     "sourceId": 217484,
     "sourceType": "modelInstanceVersion"
    },
    {
     "isSourceIdPinned": true,
     "modelId": 208520,
     "modelInstanceId": 186405,
     "sourceId": 218581,
     "sourceType": "modelInstanceVersion"
    },
    {
     "isSourceIdPinned": true,
     "modelId": 208524,
     "modelInstanceId": 186409,
     "sourceId": 218585,
     "sourceType": "modelInstanceVersion"
    },
    {
     "isSourceIdPinned": true,
     "modelId": 208727,
     "modelInstanceId": 186622,
     "sourceId": 218826,
     "sourceType": "modelInstanceVersion"
    }
   ],
   "dockerImageVersionId": 30823,
   "isGpuEnabled": true,
   "isInternetEnabled": true,
   "language": "python",
   "sourceType": "notebook"
  },
  "kernelspec": {
   "display_name": "Python 3",
   "language": "python",
   "name": "python3"
  },
  "language_info": {
   "codemirror_mode": {
    "name": "ipython",
    "version": 3
   },
   "file_extension": ".py",
   "mimetype": "text/x-python",
   "name": "python",
   "nbconvert_exporter": "python",
   "pygments_lexer": "ipython3",
   "version": "3.10.12"
  },
  "papermill": {
   "default_parameters": {},
   "duration": 82.78846,
   "end_time": "2025-01-04T14:34:42.433119",
   "environment_variables": {},
   "exception": null,
   "input_path": "__notebook__.ipynb",
   "output_path": "__notebook__.ipynb",
   "parameters": {},
   "start_time": "2025-01-04T14:33:19.644659",
   "version": "2.6.0"
  }
 },
 "nbformat": 4,
 "nbformat_minor": 5
}
